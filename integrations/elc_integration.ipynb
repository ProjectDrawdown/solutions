{
 "cells": [
  {
   "cell_type": "code",
   "execution_count": 1,
   "metadata": {
    "ExecuteTime": {
     "end_time": "2021-08-28T06:05:43.996155Z",
     "start_time": "2021-08-28T06:05:43.121418Z"
    }
   },
   "outputs": [],
   "source": [
    "import sys\n",
    "sys.path.append('../')   # If you move this notebook to another location, change this path to point to the root directory of the solutions project\n",
    "\n",
    "from pathlib import Path\n",
    "import warnings\n",
    "from integrations import elc_integration\n",
    "\n",
    "warnings.simplefilter(\"ignore\")"
   ]
  },
  {
   "cell_type": "code",
   "execution_count": 3,
   "metadata": {
    "ExecuteTime": {
     "end_time": "2021-08-27T05:29:44.391062Z",
     "start_time": "2021-08-27T05:29:44.366031Z"
    }
   },
   "outputs": [
    {
     "data": {
      "text/plain": [
       "<module 'integrations.elc_integration' from 'C:\\\\Working\\\\solutions\\\\integrations\\\\..\\\\integrations\\\\elc_integration.py'>"
      ]
     },
     "execution_count": 3,
     "metadata": {},
     "output_type": "execute_result"
    }
   ],
   "source": [
    "import importlib\n",
    "importlib.reload(elc_integration)"
   ]
  },
  {
   "cell_type": "code",
   "execution_count": 4,
   "metadata": {
    "ExecuteTime": {
     "end_time": "2021-08-27T05:29:48.507896Z",
     "start_time": "2021-08-27T05:29:48.355589Z"
    },
    "scrolled": true
   },
   "outputs": [
    {
     "data": {
      "text/plain": [
       "{'coal': <model.vma.VMA at 0x1eb7335f580>,\n",
       " 'natural gas': <model.vma.VMA at 0x1eb7335f130>,\n",
       " 'hydro': <model.vma.VMA at 0x1eb7088a0d0>,\n",
       " 'oil products': <model.vma.VMA at 0x1eb7088f040>,\n",
       " 'onshorewind': <model.vma.VMA at 0x1eb7337b7f0>,\n",
       " 'offshorewind': <model.vma.VMA at 0x1eb7337bfd0>,\n",
       " 'solarpvutil': <model.vma.VMA at 0x1eb73386880>,\n",
       " 'solarpvroof': <model.vma.VMA at 0x1eb73386d60>,\n",
       " 'concentratedsolar': <model.vma.VMA at 0x1eb733937c0>,\n",
       " 'geothermal': <model.vma.VMA at 0x1eb73393850>,\n",
       " 'waveandtidal': <model.vma.VMA at 0x1eb733a2760>,\n",
       " 'biomass': <model.vma.VMA at 0x1eb733a2b80>,\n",
       " 'microwind': <model.vma.VMA at 0x1eb733ad6a0>,\n",
       " 'instreamhydro': <model.vma.VMA at 0x1eb733adcd0>,\n",
       " 'nuclear': <model.vma.VMA at 0x1eb733ad430>,\n",
       " 'wastetoenergy': <model.vma.VMA at 0x1eb733bab50>,\n",
       " 'landfillmethane': <model.vma.VMA at 0x1eb733ba670>,\n",
       " 'biogas': <model.vma.VMA at 0x1eb733c89a0>}"
      ]
     },
     "execution_count": 4,
     "metadata": {},
     "output_type": "execute_result"
    }
   ],
   "source": [
    "elc_integration.gather_emissions_factors_vmas()"
   ]
  },
  {
   "cell_type": "markdown",
   "metadata": {},
   "source": [
    "# One-time Code Used to Construct Original "
   ]
  },
  {
   "cell_type": "code",
   "execution_count": 2,
   "metadata": {
    "ExecuteTime": {
     "end_time": "2021-08-28T06:05:50.321924Z",
     "start_time": "2021-08-28T06:05:50.202738Z"
    }
   },
   "outputs": [],
   "source": [
    "from tools.vma_xls_extract import VMAReader\n",
    "from tools import util\n",
    "from model import sma\n",
    "from tools import sma_xls_extract\n",
    "import openpyxl"
   ]
  },
  {
   "cell_type": "code",
   "execution_count": 3,
   "metadata": {
    "ExecuteTime": {
     "end_time": "2021-08-28T06:06:06.791133Z",
     "start_time": "2021-08-28T06:05:54.860157Z"
    }
   },
   "outputs": [],
   "source": [
    "excel_file = Path(r'C:\\Working\\Integrations\\2020_Project Drawdown_ELC Sector_Integration Model (August2020)_v11.xlsx')\n",
    "wb = openpyxl.load_workbook(excel_file, data_only=True, keep_links=False)"
   ]
  },
  {
   "cell_type": "code",
   "execution_count": 3,
   "metadata": {
    "ExecuteTime": {
     "end_time": "2021-08-27T04:35:15.079531Z",
     "start_time": "2021-08-27T04:35:14.249467Z"
    }
   },
   "outputs": [],
   "source": [
    "# save the first five VMAs on tab 2A, for the conventional technologies.\n",
    "# Note: I had to manually add the \"Exclude Data?\"  header to column Q to get this to work.\n",
    "\n",
    "vmar = VMAReader(wb)\n",
    "dfdict = vmar.xls_df_dict(sheetname='2A - Emissions Factors_VMA', fixed_summary=True, start_row=13, max_tables=5)"
   ]
  },
  {
   "cell_type": "code",
   "execution_count": 4,
   "metadata": {
    "ExecuteTime": {
     "end_time": "2021-08-27T04:35:19.378748Z",
     "start_time": "2021-08-27T04:35:19.356750Z"
    }
   },
   "outputs": [
    {
     "name": "stdout",
     "output_type": "stream",
     "text": [
      "| OIL Emissions Factor| data\\elc\\OIL_Emissions_Factor.csv | False | (828.22, 1047.5515152913504, 608.8884847086497) \n",
      "| COAL_Emissions Factor| data\\elc\\COAL_Emissions_Factor.csv | False | (1028.25, 1250.948609519274, 805.551390480726) \n",
      "| NATURAL GAS_Emissions Factor| data\\elc\\NATURAL_GAS_Emissions_Factor.csv | False | (574.0743333333334, 746.9153177801815, 401.23334888648526) \n",
      "| NUCLEAR_Indirect CO2 Emissions| data\\elc\\NUCLEAR_Indirect_CO2_Emissions.csv | False | (18.459400000000002, 45.196413177241766, 0.8) \n",
      "| HYDRO_Indirect CO2 Emissions| data\\elc\\HYDRO_Indirect_CO2_Emissions.csv | False | (202.26478260869567, 703.9449847283984, 0.0) \n"
     ]
    }
   ],
   "source": [
    "for title in dfdict.keys():\n",
    "    path_friendly_title = util.to_filename(title) + '.csv'\n",
    "    fullpath = Path(\"data/elc\") / path_friendly_title\n",
    "    (df,use_weights,stats) = dfdict[title]\n",
    "    df.to_csv(fullpath)\n",
    "    print(f\"| {title}| {fullpath} | {use_weights} | {stats} \")"
   ]
  },
  {
   "cell_type": "code",
   "execution_count": 5,
   "metadata": {
    "ExecuteTime": {
     "end_time": "2021-08-27T05:22:48.239900Z",
     "start_time": "2021-08-27T05:22:48.230899Z"
    }
   },
   "outputs": [],
   "source": [
    "wb.close()"
   ]
  },
  {
   "cell_type": "code",
   "execution_count": 4,
   "metadata": {
    "ExecuteTime": {
     "end_time": "2021-08-28T06:06:18.726528Z",
     "start_time": "2021-08-28T06:06:18.246334Z"
    },
    "scrolled": true
   },
   "outputs": [],
   "source": [
    "# Read the conventional adoption SMA from tabl 5A, columns AG-AW\n",
    "\n",
    "adoption = sma_xls_extract.extract_sma(wb, sheet_name='5A- ADOPTION_Conventional+Hydro', year_col='AF')"
   ]
  },
  {
   "cell_type": "code",
   "execution_count": 9,
   "metadata": {
    "ExecuteTime": {
     "end_time": "2021-08-27T06:21:13.515456Z",
     "start_time": "2021-08-27T06:21:13.506443Z"
    },
    "scrolled": true
   },
   "outputs": [
    {
     "data": {
      "text/plain": [
       "{'Not found 15': {'Baseline Cases': ['S1', 'S2', 'S3', 'S4', 'S5'],\n",
       "  'Conservative Cases': ['S6', 'S7', 'S8'],\n",
       "  'Ambitious Cases': ['S9', 'S10', 'S11', 'S12', 'S13'],\n",
       "  '100% RES2050 Cases': ['S14', 'S15']},\n",
       " 'Not found 74': {'Baseline Cases': ['S1', 'S2', 'S3', 'S4', 'S5'],\n",
       "  'Conservative Cases': ['S6', 'S7', 'S8'],\n",
       "  'Ambitious Cases': ['S9', 'S10', 'S11', 'S12', 'S13'],\n",
       "  '100% RES2050 Cases': ['S14', 'S15']},\n",
       " 'Not found 130': {'Baseline Cases\\t\\t\\t': ['S1', 'S2', 'S3', 'S4', 'S5'],\n",
       "  'Conservative Cases': ['S6', 'S7', 'S8'],\n",
       "  'Ambitious Cases': ['S9', 'S10', 'S11', 'S12', 'S13', 'S16'],\n",
       "  '100% RES2050 Cases': ['S14', 'S15', 'S16']},\n",
       " 'Not found 187': {'Baseline Cases\\t\\t\\t': ['S1', 'S2', 'S3', 'S4', 'S5'],\n",
       "  'Conservative Cases': ['S6', 'S7', 'S8'],\n",
       "  'Ambitious Cases': ['S9', 'S10', 'S11', 'S12', 'S13'],\n",
       "  '100% RES2050 Cases': ['S14']}}"
      ]
     },
     "execution_count": 9,
     "metadata": {},
     "output_type": "execute_result"
    }
   ],
   "source": [
    "adoption.region_cases"
   ]
  },
  {
   "cell_type": "code",
   "execution_count": 5,
   "metadata": {
    "ExecuteTime": {
     "end_time": "2021-08-28T06:06:23.318771Z",
     "start_time": "2021-08-28T06:06:23.295724Z"
    }
   },
   "outputs": [],
   "source": [
    "adoption.rename_region('Not found 15','coal')\n",
    "adoption.rename_region('Not found 74','natural gas')\n",
    "adoption.rename_region('Not found 130','hydro')\n",
    "adoption.rename_region('Not found 187','oil products')"
   ]
  },
  {
   "cell_type": "code",
   "execution_count": 6,
   "metadata": {
    "ExecuteTime": {
     "end_time": "2021-08-28T06:06:36.234506Z",
     "start_time": "2021-08-28T06:06:36.210470Z"
    }
   },
   "outputs": [
    {
     "data": {
      "text/html": [
       "<div>\n",
       "<style scoped>\n",
       "    .dataframe tbody tr th:only-of-type {\n",
       "        vertical-align: middle;\n",
       "    }\n",
       "\n",
       "    .dataframe tbody tr th {\n",
       "        vertical-align: top;\n",
       "    }\n",
       "\n",
       "    .dataframe thead th {\n",
       "        text-align: right;\n",
       "    }\n",
       "</style>\n",
       "<table border=\"1\" class=\"dataframe\">\n",
       "  <thead>\n",
       "    <tr style=\"text-align: right;\">\n",
       "      <th></th>\n",
       "      <th>coal</th>\n",
       "      <th>natural gas</th>\n",
       "      <th>hydro</th>\n",
       "      <th>oil products</th>\n",
       "    </tr>\n",
       "    <tr>\n",
       "      <th>Year</th>\n",
       "      <th></th>\n",
       "      <th></th>\n",
       "      <th></th>\n",
       "      <th></th>\n",
       "    </tr>\n",
       "  </thead>\n",
       "  <tbody>\n",
       "    <tr>\n",
       "      <th>2012</th>\n",
       "      <td>10416.857143</td>\n",
       "      <td>6458.0</td>\n",
       "      <td>3683.0</td>\n",
       "      <td>1260.0</td>\n",
       "    </tr>\n",
       "    <tr>\n",
       "      <th>2013</th>\n",
       "      <td>10692.095238</td>\n",
       "      <td>6675.0</td>\n",
       "      <td>3787.0</td>\n",
       "      <td>1240.0</td>\n",
       "    </tr>\n",
       "    <tr>\n",
       "      <th>2014</th>\n",
       "      <td>10953.142857</td>\n",
       "      <td>6892.0</td>\n",
       "      <td>3904.0</td>\n",
       "      <td>1220.0</td>\n",
       "    </tr>\n",
       "    <tr>\n",
       "      <th>2015</th>\n",
       "      <td>11200.000000</td>\n",
       "      <td>7097.0</td>\n",
       "      <td>3897.0</td>\n",
       "      <td>1200.0</td>\n",
       "    </tr>\n",
       "    <tr>\n",
       "      <th>2016</th>\n",
       "      <td>11432.666667</td>\n",
       "      <td>7302.0</td>\n",
       "      <td>4049.0</td>\n",
       "      <td>1180.0</td>\n",
       "    </tr>\n",
       "  </tbody>\n",
       "</table>\n",
       "</div>"
      ],
      "text/plain": [
       "              coal  natural gas   hydro  oil products\n",
       "Year                                                 \n",
       "2012  10416.857143       6458.0  3683.0        1260.0\n",
       "2013  10692.095238       6675.0  3787.0        1240.0\n",
       "2014  10953.142857       6892.0  3904.0        1220.0\n",
       "2015  11200.000000       7097.0  3897.0        1200.0\n",
       "2016  11432.666667       7302.0  4049.0        1180.0"
      ]
     },
     "execution_count": 6,
     "metadata": {},
     "output_type": "execute_result"
    }
   ],
   "source": [
    "adoption.sources['S1'].data.head()"
   ]
  },
  {
   "cell_type": "code",
   "execution_count": 7,
   "metadata": {
    "ExecuteTime": {
     "end_time": "2021-08-28T06:08:01.668064Z",
     "start_time": "2021-08-28T06:08:01.621071Z"
    }
   },
   "outputs": [],
   "source": [
    "adoption.write(r'data\\elc','conventional_adoption')"
   ]
  },
  {
   "cell_type": "code",
   "execution_count": null,
   "metadata": {},
   "outputs": [],
   "source": []
  }
 ],
 "metadata": {
  "interpreter": {
   "hash": "641170e26b916086f6ab8a8498639d254e86adadac2c3bbb49fa49caa88ce61e"
  },
  "kernelspec": {
   "display_name": "Python 3 (ipykernel)",
   "language": "python",
   "name": "python3"
  },
  "language_info": {
   "codemirror_mode": {
    "name": "ipython",
    "version": 3
   },
   "file_extension": ".py",
   "mimetype": "text/x-python",
   "name": "python",
   "nbconvert_exporter": "python",
   "pygments_lexer": "ipython3",
   "version": "3.9.6"
  }
 },
 "nbformat": 4,
 "nbformat_minor": 2
}

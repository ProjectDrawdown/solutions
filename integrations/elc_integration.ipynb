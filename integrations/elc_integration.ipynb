{
 "cells": [
  {
   "cell_type": "code",
   "execution_count": 1,
   "metadata": {
    "ExecuteTime": {
     "end_time": "2021-09-27T21:37:44.462808Z",
     "start_time": "2021-09-27T21:37:43.490654Z"
    }
   },
   "outputs": [],
   "source": [
    "import sys\n",
    "sys.path.append('../')   # If you move this notebook to another location, change this path to point to the root directory of the solutions project\n",
    "import pandas as pd\n",
    "from pathlib import Path\n",
    "from integrations import integration_base as base\n",
    "from integrations import elc_integration as elc\n",
    "\n",
    "# This is an optional step to make floating point numbers display more compactly.\n",
    "# If you prefer other options, you can change or delete this without harm.\n",
    "pd.set_option('display.float_format', lambda x: f\"{x:03.5f}\".rstrip('0'))"
   ]
  },
  {
   "cell_type": "code",
   "execution_count": 2,
   "metadata": {
    "ExecuteTime": {
     "end_time": "2021-09-27T21:37:48.071983Z",
     "start_time": "2021-09-27T21:37:48.062967Z"
    }
   },
   "outputs": [],
   "source": [
    "# If you are beginning a *new* integration, or starting over\n",
    "\n",
    "#base.integration_clean()\n",
    "base.integration_start()"
   ]
  },
  {
   "cell_type": "code",
   "execution_count": 3,
   "metadata": {
    "ExecuteTime": {
     "end_time": "2021-09-27T21:37:51.951983Z",
     "start_time": "2021-09-27T21:37:51.928983Z"
    }
   },
   "outputs": [
    {
     "name": "stdout",
     "output_type": "stream",
     "text": [
      "Integration year set to 2018\n",
      "Previously defined grid mix loaded for year 2018\n"
     ]
    }
   ],
   "source": [
    "elc.setup(2018)"
   ]
  },
  {
   "cell_type": "markdown",
   "metadata": {},
   "source": [
    "# Developer Section"
   ]
  },
  {
   "cell_type": "code",
   "execution_count": 32,
   "metadata": {
    "ExecuteTime": {
     "end_time": "2021-09-26T04:34:29.652240Z",
     "start_time": "2021-09-26T04:34:29.628242Z"
    }
   },
   "outputs": [
    {
     "data": {
      "text/plain": [
       "<module 'integrations.elc_integration' from 'C:\\\\Working\\\\solutions\\\\integrations\\\\..\\\\integrations\\\\elc_integration.py'>"
      ]
     },
     "execution_count": 32,
     "metadata": {},
     "output_type": "execute_result"
    }
   ],
   "source": [
    "import importlib\n",
    "importlib.reload(elc)"
   ]
  },
  {
   "cell_type": "code",
   "execution_count": 4,
   "metadata": {
    "ExecuteTime": {
     "end_time": "2021-09-27T21:40:11.751641Z",
     "start_time": "2021-09-27T21:37:59.332717Z"
    }
   },
   "outputs": [
    {
     "name": "stderr",
     "output_type": "stream",
     "text": [
      "C:\\Working\\solutions\\integrations\\..\\model\\unitadoption.py:627: RuntimeWarning: invalid value encountered in subtract\n",
      "  growth_array = np.max([growth.values[1:] - growth.values[:-1], np.full(growth.values[1:].shape, 0.)], axis=0)\n",
      "C:\\ProgramData\\Miniconda3\\envs\\foo\\lib\\site-packages\\pandas\\core\\arraylike.py:358: RuntimeWarning: invalid value encountered in minimum\n",
      "  result = getattr(ufunc, method)(*inputs, **kwargs)\n",
      "C:\\ProgramData\\Miniconda3\\envs\\foo\\lib\\site-packages\\numpy\\core\\fromnumeric.py:86: RuntimeWarning: invalid value encountered in reduce\n",
      "  return ufunc.reduce(obj, axis, dtype, out, **passkwargs)\n",
      "C:\\ProgramData\\Miniconda3\\envs\\foo\\lib\\site-packages\\pandas\\core\\arraylike.py:358: RuntimeWarning: invalid value encountered in minimum\n",
      "  result = getattr(ufunc, method)(*inputs, **kwargs)\n",
      "C:\\ProgramData\\Miniconda3\\envs\\foo\\lib\\site-packages\\numpy\\core\\fromnumeric.py:86: RuntimeWarning: invalid value encountered in reduce\n",
      "  return ufunc.reduce(obj, axis, dtype, out, **passkwargs)\n",
      "C:\\ProgramData\\Miniconda3\\envs\\foo\\lib\\site-packages\\pandas\\core\\arraylike.py:358: RuntimeWarning: invalid value encountered in minimum\n",
      "  result = getattr(ufunc, method)(*inputs, **kwargs)\n",
      "C:\\ProgramData\\Miniconda3\\envs\\foo\\lib\\site-packages\\numpy\\core\\fromnumeric.py:86: RuntimeWarning: invalid value encountered in reduce\n",
      "  return ufunc.reduce(obj, axis, dtype, out, **passkwargs)\n",
      "C:\\ProgramData\\Miniconda3\\envs\\foo\\lib\\site-packages\\pandas\\core\\arraylike.py:358: RuntimeWarning: invalid value encountered in minimum\n",
      "  result = getattr(ufunc, method)(*inputs, **kwargs)\n",
      "C:\\ProgramData\\Miniconda3\\envs\\foo\\lib\\site-packages\\numpy\\core\\fromnumeric.py:86: RuntimeWarning: invalid value encountered in reduce\n",
      "  return ufunc.reduce(obj, axis, dtype, out, **passkwargs)\n",
      "C:\\ProgramData\\Miniconda3\\envs\\foo\\lib\\site-packages\\pandas\\core\\arraylike.py:358: RuntimeWarning: invalid value encountered in minimum\n",
      "  result = getattr(ufunc, method)(*inputs, **kwargs)\n",
      "C:\\ProgramData\\Miniconda3\\envs\\foo\\lib\\site-packages\\numpy\\core\\fromnumeric.py:86: RuntimeWarning: invalid value encountered in reduce\n",
      "  return ufunc.reduce(obj, axis, dtype, out, **passkwargs)\n"
     ]
    }
   ],
   "source": [
    "elc.step1_calculate_tams()"
   ]
  },
  {
   "cell_type": "code",
   "execution_count": 5,
   "metadata": {
    "ExecuteTime": {
     "end_time": "2021-09-27T21:41:01.857989Z",
     "start_time": "2021-09-27T21:40:53.535802Z"
    }
   },
   "outputs": [],
   "source": [
    "elc.step2_calculate_adoptions()"
   ]
  },
  {
   "cell_type": "code",
   "execution_count": 7,
   "metadata": {
    "ExecuteTime": {
     "end_time": "2021-09-27T21:41:43.631956Z",
     "start_time": "2021-09-27T21:41:43.606732Z"
    }
   },
   "outputs": [
    {
     "data": {
      "text/html": [
       "<div>\n",
       "<style scoped>\n",
       "    .dataframe tbody tr th:only-of-type {\n",
       "        vertical-align: middle;\n",
       "    }\n",
       "\n",
       "    .dataframe tbody tr th {\n",
       "        vertical-align: top;\n",
       "    }\n",
       "\n",
       "    .dataframe thead th {\n",
       "        text-align: right;\n",
       "    }\n",
       "</style>\n",
       "<table border=\"1\" class=\"dataframe\">\n",
       "  <thead>\n",
       "    <tr style=\"text-align: right;\">\n",
       "      <th>Year</th>\n",
       "      <th>other biomass</th>\n",
       "      <th>coal</th>\n",
       "      <th>natural gas</th>\n",
       "      <th>oil products</th>\n",
       "      <th>large hydro</th>\n",
       "      <th>onshorewind</th>\n",
       "      <th>offshorewind</th>\n",
       "      <th>solarpvutil</th>\n",
       "      <th>solarpvroof</th>\n",
       "      <th>concentratedsolar</th>\n",
       "      <th>geothermal</th>\n",
       "      <th>waveandtidal</th>\n",
       "      <th>biomass</th>\n",
       "      <th>microwind</th>\n",
       "      <th>instreamhydro</th>\n",
       "      <th>nuclear</th>\n",
       "      <th>wastetoenergy</th>\n",
       "      <th>landfillmethane</th>\n",
       "      <th>biogas</th>\n",
       "    </tr>\n",
       "  </thead>\n",
       "  <tbody>\n",
       "    <tr>\n",
       "      <th>2014</th>\n",
       "      <td>0.00802</td>\n",
       "      <td>0.44238</td>\n",
       "      <td>0.21878</td>\n",
       "      <td>0.04277</td>\n",
       "      <td>0.17314</td>\n",
       "      <td>0.03047</td>\n",
       "      <td>0.00109</td>\n",
       "      <td>0.005</td>\n",
       "      <td>0.00333</td>\n",
       "      <td>0.0004</td>\n",
       "      <td>0.00337</td>\n",
       "      <td>0.00004</td>\n",
       "      <td>0.00277</td>\n",
       "      <td>0.00005</td>\n",
       "      <td>0.02429</td>\n",
       "      <td>0.10719</td>\n",
       "      <td>0.00389</td>\n",
       "      <td>0.00106</td>\n",
       "      <td>0.00248</td>\n",
       "    </tr>\n",
       "    <tr>\n",
       "      <th>2015</th>\n",
       "      <td>0.00852</td>\n",
       "      <td>0.40619</td>\n",
       "      <td>0.23467</td>\n",
       "      <td>0.03817</td>\n",
       "      <td>0.16075</td>\n",
       "      <td>0.03559</td>\n",
       "      <td>0.00099</td>\n",
       "      <td>0.0068</td>\n",
       "      <td>0.00453</td>\n",
       "      <td>0.00036</td>\n",
       "      <td>0.00324</td>\n",
       "      <td>0.00009</td>\n",
       "      <td>0.00306</td>\n",
       "      <td>0.00007</td>\n",
       "      <td>0.02429</td>\n",
       "      <td>0.10696</td>\n",
       "      <td>0.00382</td>\n",
       "      <td>0.0012</td>\n",
       "      <td>0.00306</td>\n",
       "    </tr>\n",
       "    <tr>\n",
       "      <th>2016</th>\n",
       "      <td>0.00797</td>\n",
       "      <td>0.40075</td>\n",
       "      <td>0.23207</td>\n",
       "      <td>0.03664</td>\n",
       "      <td>0.16258</td>\n",
       "      <td>0.04119</td>\n",
       "      <td>0.00131</td>\n",
       "      <td>0.00916</td>\n",
       "      <td>0.0061</td>\n",
       "      <td>0.00032</td>\n",
       "      <td>0.00346</td>\n",
       "      <td>0.00012</td>\n",
       "      <td>0.00341</td>\n",
       "      <td>0.00008</td>\n",
       "      <td>0.02448</td>\n",
       "      <td>0.10725</td>\n",
       "      <td>0.00384</td>\n",
       "      <td>0.00129</td>\n",
       "      <td>0.00346</td>\n",
       "    </tr>\n",
       "    <tr>\n",
       "      <th>2017</th>\n",
       "      <td>0.00727</td>\n",
       "      <td>0.39583</td>\n",
       "      <td>0.22763</td>\n",
       "      <td>0.03528</td>\n",
       "      <td>0.15625</td>\n",
       "      <td>0.04667</td>\n",
       "      <td>0.00172</td>\n",
       "      <td>0.0115</td>\n",
       "      <td>0.00765</td>\n",
       "      <td>0.0004</td>\n",
       "      <td>0.00377</td>\n",
       "      <td>0.00014</td>\n",
       "      <td>0.00375</td>\n",
       "      <td>0.00009</td>\n",
       "      <td>0.02463</td>\n",
       "      <td>0.10771</td>\n",
       "      <td>0.00386</td>\n",
       "      <td>0.00138</td>\n",
       "      <td>0.00383</td>\n",
       "    </tr>\n",
       "    <tr>\n",
       "      <th>2018</th>\n",
       "      <td>0.00648</td>\n",
       "      <td>0.39277</td>\n",
       "      <td>0.22731</td>\n",
       "      <td>0.03413</td>\n",
       "      <td>0.15953</td>\n",
       "      <td>0.05204</td>\n",
       "      <td>0.00237</td>\n",
       "      <td>0.01384</td>\n",
       "      <td>0.00921</td>\n",
       "      <td>0.00059</td>\n",
       "      <td>0.00416</td>\n",
       "      <td>0.00014</td>\n",
       "      <td>0.0041</td>\n",
       "      <td>0.0001</td>\n",
       "      <td>0.02593</td>\n",
       "      <td>0.10831</td>\n",
       "      <td>0.00389</td>\n",
       "      <td>0.00145</td>\n",
       "      <td>0.0042</td>\n",
       "    </tr>\n",
       "    <tr>\n",
       "      <th>2019</th>\n",
       "      <td>0.00648</td>\n",
       "      <td>0.31641</td>\n",
       "      <td>0.24707</td>\n",
       "      <td>0.03048</td>\n",
       "      <td>0.16</td>\n",
       "      <td>0.0573</td>\n",
       "      <td>0.0028</td>\n",
       "      <td>0.01622</td>\n",
       "      <td>0.0108</td>\n",
       "      <td>0.00088</td>\n",
       "      <td>0.00463</td>\n",
       "      <td>0.00014</td>\n",
       "      <td>0.00443</td>\n",
       "      <td>0.00011</td>\n",
       "      <td>0.02483</td>\n",
       "      <td>0.10899</td>\n",
       "      <td>0.00391</td>\n",
       "      <td>0.00152</td>\n",
       "      <td>0.00454</td>\n",
       "    </tr>\n",
       "    <tr>\n",
       "      <th>2020</th>\n",
       "      <td>0.00648</td>\n",
       "      <td>0.29659</td>\n",
       "      <td>0.25689</td>\n",
       "      <td>0.02812</td>\n",
       "      <td>0.15954</td>\n",
       "      <td>0.0625</td>\n",
       "      <td>0.00344</td>\n",
       "      <td>0.01868</td>\n",
       "      <td>0.01244</td>\n",
       "      <td>0.00128</td>\n",
       "      <td>0.00516</td>\n",
       "      <td>0.00014</td>\n",
       "      <td>0.00476</td>\n",
       "      <td>0.00012</td>\n",
       "      <td>0.02489</td>\n",
       "      <td>0.10979</td>\n",
       "      <td>0.00394</td>\n",
       "      <td>0.00159</td>\n",
       "      <td>0.00488</td>\n",
       "    </tr>\n",
       "    <tr>\n",
       "      <th>2021</th>\n",
       "      <td>0.00648</td>\n",
       "      <td>0.27798</td>\n",
       "      <td>0.26476</td>\n",
       "      <td>0.0259</td>\n",
       "      <td>0.15912</td>\n",
       "      <td>0.06769</td>\n",
       "      <td>0.00416</td>\n",
       "      <td>0.02127</td>\n",
       "      <td>0.01416</td>\n",
       "      <td>0.00178</td>\n",
       "      <td>0.00575</td>\n",
       "      <td>0.00014</td>\n",
       "      <td>0.0051</td>\n",
       "      <td>0.00013</td>\n",
       "      <td>0.02494</td>\n",
       "      <td>0.11078</td>\n",
       "      <td>0.00397</td>\n",
       "      <td>0.00165</td>\n",
       "      <td>0.00522</td>\n",
       "    </tr>\n",
       "    <tr>\n",
       "      <th>2022</th>\n",
       "      <td>0.00648</td>\n",
       "      <td>0.26002</td>\n",
       "      <td>0.27205</td>\n",
       "      <td>0.02377</td>\n",
       "      <td>0.15847</td>\n",
       "      <td>0.07276</td>\n",
       "      <td>0.00494</td>\n",
       "      <td>0.02395</td>\n",
       "      <td>0.01595</td>\n",
       "      <td>0.00237</td>\n",
       "      <td>0.00639</td>\n",
       "      <td>0.00014</td>\n",
       "      <td>0.00542</td>\n",
       "      <td>0.00014</td>\n",
       "      <td>0.02495</td>\n",
       "      <td>0.11172</td>\n",
       "      <td>0.004</td>\n",
       "      <td>0.0017</td>\n",
       "      <td>0.00554</td>\n",
       "    </tr>\n",
       "    <tr>\n",
       "      <th>2023</th>\n",
       "      <td>0.00648</td>\n",
       "      <td>0.24289</td>\n",
       "      <td>0.27808</td>\n",
       "      <td>0.02173</td>\n",
       "      <td>0.15774</td>\n",
       "      <td>0.07778</td>\n",
       "      <td>0.00577</td>\n",
       "      <td>0.02679</td>\n",
       "      <td>0.01784</td>\n",
       "      <td>0.00307</td>\n",
       "      <td>0.00708</td>\n",
       "      <td>0.00014</td>\n",
       "      <td>0.00574</td>\n",
       "      <td>0.00015</td>\n",
       "      <td>0.02494</td>\n",
       "      <td>0.11272</td>\n",
       "      <td>0.00403</td>\n",
       "      <td>0.00176</td>\n",
       "      <td>0.00587</td>\n",
       "    </tr>\n",
       "  </tbody>\n",
       "</table>\n",
       "</div>"
      ],
      "text/plain": [
       "Year  other biomass    coal  natural gas  oil products  large hydro  onshorewind  offshorewind  solarpvutil  solarpvroof  concentratedsolar  geothermal  waveandtidal  biomass  microwind  instreamhydro  nuclear  wastetoenergy  landfillmethane  biogas\n",
       "2014        0.00802 0.44238      0.21878       0.04277      0.17314      0.03047       0.00109        0.005      0.00333             0.0004     0.00337       0.00004  0.00277    0.00005        0.02429  0.10719        0.00389          0.00106 0.00248\n",
       "2015        0.00852 0.40619      0.23467       0.03817      0.16075      0.03559       0.00099       0.0068      0.00453            0.00036     0.00324       0.00009  0.00306    0.00007        0.02429  0.10696        0.00382           0.0012 0.00306\n",
       "2016        0.00797 0.40075      0.23207       0.03664      0.16258      0.04119       0.00131      0.00916       0.0061            0.00032     0.00346       0.00012  0.00341    0.00008        0.02448  0.10725        0.00384          0.00129 0.00346\n",
       "2017        0.00727 0.39583      0.22763       0.03528      0.15625      0.04667       0.00172       0.0115      0.00765             0.0004     0.00377       0.00014  0.00375    0.00009        0.02463  0.10771        0.00386          0.00138 0.00383\n",
       "2018        0.00648 0.39277      0.22731       0.03413      0.15953      0.05204       0.00237      0.01384      0.00921            0.00059     0.00416       0.00014   0.0041     0.0001        0.02593  0.10831        0.00389          0.00145  0.0042\n",
       "2019        0.00648 0.31641      0.24707       0.03048         0.16       0.0573        0.0028      0.01622       0.0108            0.00088     0.00463       0.00014  0.00443    0.00011        0.02483  0.10899        0.00391          0.00152 0.00454\n",
       "2020        0.00648 0.29659      0.25689       0.02812      0.15954       0.0625       0.00344      0.01868      0.01244            0.00128     0.00516       0.00014  0.00476    0.00012        0.02489  0.10979        0.00394          0.00159 0.00488\n",
       "2021        0.00648 0.27798      0.26476        0.0259      0.15912      0.06769       0.00416      0.02127      0.01416            0.00178     0.00575       0.00014   0.0051    0.00013        0.02494  0.11078        0.00397          0.00165 0.00522\n",
       "2022        0.00648 0.26002      0.27205       0.02377      0.15847      0.07276       0.00494      0.02395      0.01595            0.00237     0.00639       0.00014  0.00542    0.00014        0.02495  0.11172          0.004           0.0017 0.00554\n",
       "2023        0.00648 0.24289      0.27808       0.02173      0.15774      0.07778       0.00577      0.02679      0.01784            0.00307     0.00708       0.00014  0.00574    0.00015        0.02494  0.11272        0.00403          0.00176 0.00587"
      ]
     },
     "execution_count": 7,
     "metadata": {},
     "output_type": "execute_result"
    }
   ],
   "source": [
    "elc.es.pds_adoption['PDS1'].head(10)"
   ]
  },
  {
   "cell_type": "code",
   "execution_count": 8,
   "metadata": {
    "ExecuteTime": {
     "end_time": "2021-09-27T21:42:12.637176Z",
     "start_time": "2021-09-27T21:42:12.623152Z"
    }
   },
   "outputs": [
    {
     "data": {
      "text/plain": [
       "2014   1.07053\n",
       "2015   1.04237\n",
       "2016   1.04549\n",
       "2017   1.03937\n",
       "2018   1.05055\n",
       "2019   1.00156\n",
       "2020   1.00124\n",
       "2021   1.00097\n",
       "2022   1.00077\n",
       "2023   1.00059\n",
       "2024   1.00043\n",
       "2025   0.99988\n",
       "2026   1.00026\n",
       "2027   1.00018\n",
       "2028   1.00012\n",
       "2029   1.00007\n",
       "2030   0.99966\n",
       "2031   1.00022\n",
       "2032   1.00042\n",
       "2033   1.00063\n",
       "2034   1.00087\n",
       "2035   1.00121\n",
       "2036   1.00138\n",
       "2037   1.00161\n",
       "2038   1.00181\n",
       "2039   1.00197\n",
       "2040   1.00276\n",
       "2041   1.00197\n",
       "2042   1.00146\n",
       "2043   1.00076\n",
       "2044   0.99992\n",
       "2045   0.99947\n",
       "2046   0.99778\n",
       "2047   0.99646\n",
       "2048   0.99506\n",
       "2049   0.99349\n",
       "2050   0.99289\n",
       "2051   0.99352\n",
       "2052   0.99357\n",
       "2053   0.99372\n",
       "2054   0.99405\n",
       "2055   0.99455\n",
       "2056   1.02098\n",
       "2057    1.0487\n",
       "2058   1.07648\n",
       "2059   1.10466\n",
       "2060   1.13284\n",
       "dtype: float64"
      ]
     },
     "execution_count": 8,
     "metadata": {},
     "output_type": "execute_result"
    }
   ],
   "source": [
    "elc.es.pds_adoption['PDS1'].sum(axis=1)"
   ]
  },
  {
   "cell_type": "code",
   "execution_count": null,
   "metadata": {},
   "outputs": [],
   "source": []
  }
 ],
 "metadata": {
  "interpreter": {
   "hash": "641170e26b916086f6ab8a8498639d254e86adadac2c3bbb49fa49caa88ce61e"
  },
  "kernelspec": {
   "display_name": "Python 3 (ipykernel)",
   "language": "python",
   "name": "python3"
  },
  "language_info": {
   "codemirror_mode": {
    "name": "ipython",
    "version": 3
   },
   "file_extension": ".py",
   "mimetype": "text/x-python",
   "name": "python",
   "nbconvert_exporter": "python",
   "pygments_lexer": "ipython3",
   "version": "3.9.6"
  }
 },
 "nbformat": 4,
 "nbformat_minor": 2
}

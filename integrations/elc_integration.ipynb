{
 "cells": [
  {
   "cell_type": "code",
   "execution_count": 1,
   "metadata": {
    "ExecuteTime": {
     "end_time": "2021-09-19T04:40:35.060649Z",
     "start_time": "2021-09-19T04:40:34.125966Z"
    }
   },
   "outputs": [],
   "source": [
    "import sys\n",
    "sys.path.append('../')   # If you move this notebook to another location, change this path to point to the root directory of the solutions project\n",
    "import pandas as pd\n",
    "from pathlib import Path\n",
    "from integrations import integration_base as base\n",
    "from integrations import elc_integration as elc\n",
    "\n",
    "# This is an optional step to make floating point numbers display more compactly.\n",
    "# If you prefer other options, you can change or delete this without harm.\n",
    "pd.set_option('display.float_format', lambda x: f\"{x:03.5f}\".rstrip('0'))"
   ]
  },
  {
   "cell_type": "code",
   "execution_count": null,
   "metadata": {},
   "outputs": [],
   "source": [
    "# If you are beginning a *new* integration, or starting over\n",
    "\n",
    "base.integration_clean()\n",
    "base.integration_start()"
   ]
  },
  {
   "cell_type": "markdown",
   "metadata": {},
   "source": [
    "# Developer Section"
   ]
  },
  {
   "cell_type": "code",
   "execution_count": 3,
   "metadata": {
    "ExecuteTime": {
     "end_time": "2021-08-27T05:29:44.391062Z",
     "start_time": "2021-08-27T05:29:44.366031Z"
    }
   },
   "outputs": [
    {
     "data": {
      "text/plain": [
       "<module 'integrations.elc_integration' from 'C:\\\\Working\\\\solutions\\\\integrations\\\\..\\\\integrations\\\\elc_integration.py'>"
      ]
     },
     "execution_count": 3,
     "metadata": {},
     "output_type": "execute_result"
    }
   ],
   "source": [
    "import importlib\n",
    "importlib.reload(elc)"
   ]
  },
  {
   "cell_type": "code",
   "execution_count": 6,
   "metadata": {
    "ExecuteTime": {
     "end_time": "2021-09-19T04:43:54.603850Z",
     "start_time": "2021-09-19T04:43:54.415455Z"
    },
    "scrolled": true
   },
   "outputs": [
    {
     "data": {
      "text/plain": [
       "{'coal': (996.7857142857143, 1170.4989653791245, 823.0724631923041),\n",
       " 'natural gas': (574.0743333333334, 746.9153177801813, 401.2333488864854),\n",
       " 'large hydro': (202.26478260869567, 703.9449847283984, -299.41541951100703),\n",
       " 'oil products': (828.22, 1047.5515152913508, 608.8884847086493),\n",
       " 'onshorewind': (22466.896551724138, 43918.21032926238, 1015.5827741858993),\n",
       " 'offshorewind': (14251.818181818182, 22389.449977351167, 6114.186386285197),\n",
       " 'solarpvutil': (46913.333333333336, 74865.25584721818, 18961.410819448494),\n",
       " 'solarpvroof': (50378.181818181816, 79429.10351164396, 21327.260124719673),\n",
       " 'concentratedsolar': (41941.666666666664,\n",
       "  94027.36285306915,\n",
       "  -10144.029519735828),\n",
       " 'geothermal': (102997.61904761905, 298525.6315555036, -92530.39346026548),\n",
       " 'waveandtidal': (20590.0, 36689.98654243744, 4490.013457562562),\n",
       " 'biomass': (112225.79365079364, 237774.8437984424, -13323.25649685513),\n",
       " 'microwind': (71048.5, 172090.28587470631, -29993.285874706315),\n",
       " 'instreamhydro': (24688.8, 65572.5387057495, -16194.9387057495),\n",
       " 'nuclear': (18459.4, 45196.41317724176, -8277.613177241761),\n",
       " 'wastetoenergy': (1600.0, 1600.0, 1600.0),\n",
       " 'landfillmethane': (226418.20060717437,\n",
       "  226418.20060717437,\n",
       "  226418.20060717437),\n",
       " 'biogas': (65729.83815126443, 135439.84761572877, -3980.171313199913)}"
      ]
     },
     "execution_count": 6,
     "metadata": {},
     "output_type": "execute_result"
    }
   ],
   "source": [
    "elc.get_emissions_factors()"
   ]
  },
  {
   "cell_type": "code",
   "execution_count": 7,
   "metadata": {
    "ExecuteTime": {
     "end_time": "2021-08-28T06:08:01.668064Z",
     "start_time": "2021-08-28T06:08:01.621071Z"
    }
   },
   "outputs": [],
   "source": [
    "adoption.write(r'data\\elc','conventional_adoption')"
   ]
  },
  {
   "cell_type": "code",
   "execution_count": 5,
   "metadata": {
    "ExecuteTime": {
     "end_time": "2021-09-19T04:43:49.974599Z",
     "start_time": "2021-09-19T04:43:49.958457Z"
    }
   },
   "outputs": [],
   "source": [
    "elc.testmode = True"
   ]
  },
  {
   "cell_type": "code",
   "execution_count": null,
   "metadata": {},
   "outputs": [],
   "source": []
  }
 ],
 "metadata": {
  "interpreter": {
   "hash": "641170e26b916086f6ab8a8498639d254e86adadac2c3bbb49fa49caa88ce61e"
  },
  "kernelspec": {
   "display_name": "Python 3 (ipykernel)",
   "language": "python",
   "name": "python3"
  },
  "language_info": {
   "codemirror_mode": {
    "name": "ipython",
    "version": 3
   },
   "file_extension": ".py",
   "mimetype": "text/x-python",
   "name": "python",
   "nbconvert_exporter": "python",
   "pygments_lexer": "ipython3",
   "version": "3.9.6"
  }
 },
 "nbformat": 4,
 "nbformat_minor": 2
}

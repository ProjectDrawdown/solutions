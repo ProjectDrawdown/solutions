{
 "cells": [
  {
   "cell_type": "code",
   "execution_count": 1,
   "metadata": {
    "ExecuteTime": {
     "end_time": "2021-10-03T15:15:30.296949Z",
     "start_time": "2021-10-03T15:15:29.173879Z"
    }
   },
   "outputs": [],
   "source": [
    "import sys\n",
    "sys.path.append('../')   # If you move this notebook to another location, change this path to point to the root directory of the solutions project\n",
    "import pandas as pd\n",
    "from pathlib import Path\n",
    "from solution import factory\n",
    "from integrations import integration_base as base\n",
    "from integrations import elc_integration as elc\n",
    "pd.set_option('display.float_format', lambda x: f\"{x:03.5f}\".rstrip('0'))"
   ]
  },
  {
   "cell_type": "markdown",
   "metadata": {},
   "source": [
    "# Preparation\n",
    "\n",
    "There are several important manual steps that must take place before the Electricity Generation integration can be completed:\n",
    " \n",
    " 1. If the reference TAM sources need to be updated, that should be done first.\n",
    " 1. The current grid mix (percentage use of each technology in the integration year) must be set.\n",
    " 1. For each of the PDS1, PDS2 and PDS3 scenarios, the choice of which corresponding scenario to use for each energy-generating solution must be made.  This will set the adoption of those energy sources within that scenario.\n",
    " 1. Similarly, for each of the PDS1, PDS2 and PDS3 scenarios, the overall adoption profile for the conventional (+ \"large hydro\" and \"other biomass\") energy producing technologies must be set.\n",
    " \n",
    "Note it is generally feasible to start with an approximate value to assess the impact on the results, then refine and try again.\n",
    "\n",
    "### Initialize the Integration"
   ]
  },
  {
   "cell_type": "code",
   "execution_count": 2,
   "metadata": {
    "ExecuteTime": {
     "end_time": "2021-10-03T15:15:39.869605Z",
     "start_time": "2021-10-03T15:15:39.735022Z"
    }
   },
   "outputs": [],
   "source": [
    "# This box must be executed every time.\n",
    "base.integration_clean()   # Uncomment this to remove the results of previous integration attempts\n",
    "base.integration_start()\n",
    "elc.setup(2018)             # Define the year we are integrating for"
   ]
  },
  {
   "cell_type": "markdown",
   "metadata": {},
   "source": [
    "### Reference TAM\n",
    "\n",
    "If the data sources for the refrence TAM need to be updated, do that directly in the data/elc directory."
   ]
  },
  {
   "cell_type": "markdown",
   "metadata": {},
   "source": [
    "### Grid Mix"
   ]
  },
  {
   "cell_type": "code",
   "execution_count": 3,
   "metadata": {
    "ExecuteTime": {
     "end_time": "2021-10-03T15:15:50.898368Z",
     "start_time": "2021-10-03T15:15:50.859331Z"
    }
   },
   "outputs": [
    {
     "data": {
      "text/html": [
       "<div>\n",
       "<style scoped>\n",
       "    .dataframe tbody tr th:only-of-type {\n",
       "        vertical-align: middle;\n",
       "    }\n",
       "\n",
       "    .dataframe tbody tr th {\n",
       "        vertical-align: top;\n",
       "    }\n",
       "\n",
       "    .dataframe thead tr th {\n",
       "        text-align: left;\n",
       "    }\n",
       "</style>\n",
       "<table border=\"1\" class=\"dataframe\">\n",
       "  <thead>\n",
       "    <tr>\n",
       "      <th></th>\n",
       "      <th colspan=\"4\" halign=\"left\">total</th>\n",
       "      <th colspan=\"4\" halign=\"left\">percent</th>\n",
       "    </tr>\n",
       "    <tr>\n",
       "      <th></th>\n",
       "      <th>2015</th>\n",
       "      <th>2016</th>\n",
       "      <th>2017</th>\n",
       "      <th>2018</th>\n",
       "      <th>2015</th>\n",
       "      <th>2016</th>\n",
       "      <th>2017</th>\n",
       "      <th>2018</th>\n",
       "    </tr>\n",
       "  </thead>\n",
       "  <tbody>\n",
       "    <tr>\n",
       "      <th>coal</th>\n",
       "      <td>10075.05021</td>\n",
       "      <td>10169.4961</td>\n",
       "      <td>10259.45005</td>\n",
       "      <td>10345.49107</td>\n",
       "      <td>0.40619</td>\n",
       "      <td>0.40075</td>\n",
       "      <td>0.39583</td>\n",
       "      <td>0.39338</td>\n",
       "    </tr>\n",
       "    <tr>\n",
       "      <th>oil products</th>\n",
       "      <td>946.83753</td>\n",
       "      <td>5779.71825</td>\n",
       "      <td>5881.19618</td>\n",
       "      <td>5985.02963</td>\n",
       "      <td>0.03817</td>\n",
       "      <td>0.22776</td>\n",
       "      <td>0.22691</td>\n",
       "      <td>0.22757</td>\n",
       "    </tr>\n",
       "    <tr>\n",
       "      <th>natural gas</th>\n",
       "      <td>5688.98001</td>\n",
       "      <td>2606.</td>\n",
       "      <td>2679.3</td>\n",
       "      <td>2715.</td>\n",
       "      <td>0.22936</td>\n",
       "      <td>0.1027</td>\n",
       "      <td>0.10337</td>\n",
       "      <td>0.10323</td>\n",
       "    </tr>\n",
       "    <tr>\n",
       "      <th>nuclear</th>\n",
       "      <td>2571.</td>\n",
       "      <td>929.6524</td>\n",
       "      <td>914.46731</td>\n",
       "      <td>899.08431</td>\n",
       "      <td>0.10365</td>\n",
       "      <td>0.03664</td>\n",
       "      <td>0.03528</td>\n",
       "      <td>0.03419</td>\n",
       "    </tr>\n",
       "    <tr>\n",
       "      <th>large hydro</th>\n",
       "      <td>3897.</td>\n",
       "      <td>4049.</td>\n",
       "      <td>4037.</td>\n",
       "      <td>4087.0696</td>\n",
       "      <td>0.15711</td>\n",
       "      <td>0.15956</td>\n",
       "      <td>0.15575</td>\n",
       "      <td>0.15541</td>\n",
       "    </tr>\n",
       "  </tbody>\n",
       "</table>\n",
       "</div>"
      ],
      "text/plain": [
       "                   total                                    percent                        \n",
       "                    2015       2016        2017        2018    2015    2016    2017    2018\n",
       "coal         10075.05021 10169.4961 10259.45005 10345.49107 0.40619 0.40075 0.39583 0.39338\n",
       "oil products   946.83753 5779.71825  5881.19618  5985.02963 0.03817 0.22776 0.22691 0.22757\n",
       "natural gas   5688.98001      2606.      2679.3       2715. 0.22936  0.1027 0.10337 0.10323\n",
       "nuclear            2571.   929.6524   914.46731   899.08431 0.10365 0.03664 0.03528 0.03419\n",
       "large hydro        3897.      4049.       4037.   4087.0696 0.15711 0.15956 0.15575 0.15541"
      ]
     },
     "execution_count": 3,
     "metadata": {},
     "output_type": "execute_result"
    }
   ],
   "source": [
    "# elc.load_historical_grid_mix()  retrieves the existing grid mixes.\n",
    "# and once you have an updated version, you can save it (permanently) with elc.set_as_current_grid_mix(newmix)\n",
    "# (You don't need to computee the percentages; that will be done automatically.)\n",
    "\n",
    "elc.load_historical_grid_mix().head()\n",
    "\n",
    "# elc.grid_mix_for_year(2018)                                  # look at the grid mix for a particular year\n",
    "# elc.set_as_current_grid_mix( elc.grid_mix_for_year(2018) )   # re-use the previous grid mix"
   ]
  },
  {
   "cell_type": "markdown",
   "metadata": {},
   "source": [
    "### Scenario Choices"
   ]
  },
  {
   "cell_type": "code",
   "execution_count": null,
   "metadata": {},
   "outputs": [],
   "source": [
    "# Customize the choices of scenario as needed.  If you have customizations here, you will need\n",
    "# to execute this box every time.   (Alternatively, you can put the assignments in integration_base.py\n",
    "# to make them permanent.)\n",
    "\n",
    "# example assignment\n",
    "# base.scenario_names['landfillmethane'] = ['scen_name1','scen_name2','scen_name3']   # etc."
   ]
  },
  {
   "cell_type": "code",
   "execution_count": 4,
   "metadata": {
    "ExecuteTime": {
     "end_time": "2021-10-03T15:16:11.744314Z",
     "start_time": "2021-10-03T15:16:08.421590Z"
    }
   },
   "outputs": [
    {
     "name": "stdout",
     "output_type": "stream",
     "text": [
      "onshorewind: ['PDS-20p2050-Plausible2020', 'PDS-27p2050-Drawdown2020', 'PDS-27p2050-Optimum2020']\n",
      "offshorewind: ['PDS-4p2050-Plausible2020.', 'PDS-3p2050-Drawdown2020', 'PDS-6p2050-Optimum2020']\n",
      "solarpvutil: ['PDS-20p2050-Plausible2020', 'PDS-25p2050-Drawdown2020', 'PDS-25p2050-Optimum2020']\n",
      "solarpvroof: ['PDS-14p2050-Plausible2020', 'PDS-14p2050-Drawdown2020', 'PDS-14p2050-Optimum2020']\n",
      "concentratedsolar: ['PDS-4p2050-Plausible (Book Ed. 1)', 'PDS-8p2050-Drawdown (Book Ed.1)', 'PDS-8p2050-Optimum (Book Ed.1)']\n",
      "geothermal: ['PDS-3p2050-Plausible2020', 'PDS-3p2050-Drawdown2020', 'PDS-6p2050-Optimum2020']\n",
      "waveandtidal: ['PDS-1p2050-Plausible2020', 'PDS-1p2050-Drawdown2020', 'PDS-2p2050-Optimum2020']\n",
      "biomass: ['PDS-1p2050-Plausible2020', 'PDS-1p2050-Drawdown2020', 'PDS-1p2050-Optimum2020']\n",
      "microwind: ['PDS-0p2050-Plausible2020', 'PDS-0p2050-Drawdown2020', 'PDS-0p2050-Optimum2020']\n",
      "instreamhydro: ['PDS-2p2050-Plausible2020', 'PDS-2p2050-Drawdown2020', 'PDS-2p2050-Optimum2020']\n",
      "nuclear: ['PDS-13p2050-Plausible2020', 'PDS-9p2050-Drawdown2020', 'PDS-0p2050-Optimum2020']\n",
      "wastetoenergy: ['PDS-1p2050-Plausible (Book Ed.1)', 'PDS-0p2050-Drawdown (Book Ed.1)', 'PDS-0p2050-Optimum (Book Ed.1)']\n",
      "landfillmethane: ['PDS-0p2050-Plausible2020', 'PDS-0p2050-Drawdown2020', 'PDS-0p2050-Optimum2020']\n",
      "biogas: ['PDS-2p2050-Plausible2020', 'PDS-1p2050-Drawdown2020', 'PDS-1p2050-Optimum2020']\n"
     ]
    }
   ],
   "source": [
    "#  Including any alterations you have made above, this is the current set of chosen scenarios\n",
    "\n",
    "for s in elc.energy_solutions:\n",
    "    print(f\"{s}: {[factory.pds_truename(s,n) for n in base.scenario_names[s]]}\")"
   ]
  },
  {
   "cell_type": "markdown",
   "metadata": {},
   "source": [
    "### Conventional Adoption Profile"
   ]
  },
  {
   "cell_type": "code",
   "execution_count": 5,
   "metadata": {
    "ExecuteTime": {
     "end_time": "2021-10-03T15:16:21.999955Z",
     "start_time": "2021-10-03T15:16:21.976983Z"
    }
   },
   "outputs": [
    {
     "name": "stdout",
     "output_type": "stream",
     "text": [
      "Current conventional adoption profile loaded\n"
     ]
    }
   ],
   "source": [
    "# This will show you the existing adoption profile.  It is a large complex data structure, so you probably want to\n",
    "# view it by slices, as shown below\n",
    "\n",
    "adopt_profile = elc.load_conventional_adoption_profile()"
   ]
  },
  {
   "cell_type": "code",
   "execution_count": 6,
   "metadata": {
    "ExecuteTime": {
     "end_time": "2021-10-03T15:16:26.519177Z",
     "start_time": "2021-10-03T15:16:26.139065Z"
    }
   },
   "outputs": [
    {
     "data": {
      "text/plain": [
       "<AxesSubplot:>"
      ]
     },
     "execution_count": 6,
     "metadata": {},
     "output_type": "execute_result"
    },
    {
     "data": {
      "image/png": "[encoded data removed]",
      "text/plain": [
       "<Figure size 432x288 with 1 Axes>"
      ]
     },
     "metadata": {
      "needs_background": "light"
     },
     "output_type": "display_data"
    }
   ],
   "source": [
    "\n",
    "# Some ways to look at the data.   swaplevel is used to move one of the column headers to the top so you can select on it.\n",
    "\n",
    "# adopt_profile['PDS1']                                    # entire structure for PDS1 only\n",
    "# adopt_profile.swaplevel(1,0,axis=1)['large hydro']       # look at all three PDS for one technology\n",
    "# adopt_profile.swaplevel(2,0,axis=1)['percent']           # Look at percents across \n",
    "\n",
    "# More on how to work with the adoption profile in the integration steps below.\n",
    "\n",
    "adopt_profile['PDS1'].swaplevel(axis=1)['total'].plot()\n"
   ]
  },
  {
   "cell_type": "code",
   "execution_count": 13,
   "metadata": {
    "ExecuteTime": {
     "end_time": "2021-09-30T06:17:00.149298Z",
     "start_time": "2021-09-30T06:17:00.123298Z"
    }
   },
   "outputs": [
    {
     "name": "stdout",
     "output_type": "stream",
     "text": [
      "Setting conventional adoption profile\n"
     ]
    }
   ],
   "source": [
    "# When you have an adoption profile that you want to work with, you can set it as follows.\n",
    "#    NOTE/TODO: To make this a permanent change, save the data into the csv file as well.\n",
    "#    new_profile.to_csv(\"./data/elc/conventional_adoption_profile.csv\")\n",
    "\n",
    "elc.use_conventional_adoption_profile(new_profile)\n"
   ]
  },
  {
   "cell_type": "markdown",
   "metadata": {},
   "source": [
    "# Integration Steps\n",
    "\n",
    "If you have already set up everything as required, and no further investigation is required, you can run the entire integration simply as follows:\n",
    "```\n",
    "elc.integrate()\n",
    "```\n",
    "\n",
    "Since you will probably need to do some further investigation to develop the conventional profile, we will walk you through the individual steps"
   ]
  },
  {
   "cell_type": "markdown",
   "metadata": {},
   "source": [
    "### TAMs"
   ]
  },
  {
   "cell_type": "code",
   "execution_count": 7,
   "metadata": {
    "ExecuteTime": {
     "end_time": "2021-10-03T15:19:11.308937Z",
     "start_time": "2021-10-03T15:17:01.857797Z"
    }
   },
   "outputs": [
    {
     "name": "stdout",
     "output_type": "stream",
     "text": [
      "Previously defined grid mix loaded for year 2018\n",
      "Reference TAM sources loaded\n",
      "Loading net energy deltas for all solutions; this takes some time\n"
     ]
    },
    {
     "name": "stderr",
     "output_type": "stream",
     "text": [
      "C:\\Working\\solutions\\integrations\\..\\model\\unitadoption.py:627: RuntimeWarning: invalid value encountered in subtract\n",
      "  growth_array = np.max([growth.values[1:] - growth.values[:-1], np.full(growth.values[1:].shape, 0.)], axis=0)\n",
      "C:\\ProgramData\\Miniconda3\\envs\\foo\\lib\\site-packages\\pandas\\core\\arraylike.py:358: RuntimeWarning: invalid value encountered in minimum\n",
      "  result = getattr(ufunc, method)(*inputs, **kwargs)\n",
      "C:\\ProgramData\\Miniconda3\\envs\\foo\\lib\\site-packages\\numpy\\core\\fromnumeric.py:86: RuntimeWarning: invalid value encountered in reduce\n",
      "  return ufunc.reduce(obj, axis, dtype, out, **passkwargs)\n",
      "C:\\ProgramData\\Miniconda3\\envs\\foo\\lib\\site-packages\\pandas\\core\\arraylike.py:358: RuntimeWarning: invalid value encountered in minimum\n",
      "  result = getattr(ufunc, method)(*inputs, **kwargs)\n",
      "C:\\ProgramData\\Miniconda3\\envs\\foo\\lib\\site-packages\\numpy\\core\\fromnumeric.py:86: RuntimeWarning: invalid value encountered in reduce\n",
      "  return ufunc.reduce(obj, axis, dtype, out, **passkwargs)\n",
      "C:\\ProgramData\\Miniconda3\\envs\\foo\\lib\\site-packages\\pandas\\core\\arraylike.py:358: RuntimeWarning: invalid value encountered in minimum\n",
      "  result = getattr(ufunc, method)(*inputs, **kwargs)\n",
      "C:\\ProgramData\\Miniconda3\\envs\\foo\\lib\\site-packages\\numpy\\core\\fromnumeric.py:86: RuntimeWarning: invalid value encountered in reduce\n",
      "  return ufunc.reduce(obj, axis, dtype, out, **passkwargs)\n",
      "C:\\ProgramData\\Miniconda3\\envs\\foo\\lib\\site-packages\\pandas\\core\\arraylike.py:358: RuntimeWarning: invalid value encountered in minimum\n",
      "  result = getattr(ufunc, method)(*inputs, **kwargs)\n",
      "C:\\ProgramData\\Miniconda3\\envs\\foo\\lib\\site-packages\\numpy\\core\\fromnumeric.py:86: RuntimeWarning: invalid value encountered in reduce\n",
      "  return ufunc.reduce(obj, axis, dtype, out, **passkwargs)\n",
      "C:\\ProgramData\\Miniconda3\\envs\\foo\\lib\\site-packages\\pandas\\core\\arraylike.py:358: RuntimeWarning: invalid value encountered in minimum\n",
      "  result = getattr(ufunc, method)(*inputs, **kwargs)\n",
      "C:\\ProgramData\\Miniconda3\\envs\\foo\\lib\\site-packages\\numpy\\core\\fromnumeric.py:86: RuntimeWarning: invalid value encountered in reduce\n",
      "  return ufunc.reduce(obj, axis, dtype, out, **passkwargs)\n"
     ]
    },
    {
     "name": "stdout",
     "output_type": "stream",
     "text": [
      "*** done.\n",
      "integrated TAM calculated\n"
     ]
    }
   ],
   "source": [
    "# The first step calculates new integrated TAM.   Warning messages are about NaNs in the data and are not a problem.\n",
    "\n",
    "elc.step1_calculate_tams()"
   ]
  },
  {
   "cell_type": "code",
   "execution_count": 8,
   "metadata": {
    "ExecuteTime": {
     "end_time": "2021-10-03T15:19:18.686169Z",
     "start_time": "2021-10-03T15:19:18.679121Z"
    }
   },
   "outputs": [
    {
     "data": {
      "text/plain": [
       "Year\n",
       "2014        22548.\n",
       "2015   24291.85201\n",
       "2016    24971.0588\n",
       "2017   25650.26558\n",
       "2018   26329.47237\n",
       "Name: World, dtype: float64"
      ]
     },
     "execution_count": 8,
     "metadata": {},
     "output_type": "execute_result"
    }
   ],
   "source": [
    "# At this point, you can look at the TAM\n",
    "\n",
    "elc.es.reference_tam.head()     # or elc.es.integrated_tam"
   ]
  },
  {
   "cell_type": "code",
   "execution_count": 9,
   "metadata": {
    "ExecuteTime": {
     "end_time": "2021-10-03T15:19:24.719692Z",
     "start_time": "2021-10-03T15:19:24.586596Z"
    }
   },
   "outputs": [
    {
     "data": {
      "text/plain": [
       "<AxesSubplot:xlabel='Year'>"
      ]
     },
     "execution_count": 9,
     "metadata": {},
     "output_type": "execute_result"
    },
    {
     "data": {
      "image/png": "[encoded data removed]",
      "text/plain": [
       "<Figure size 432x288 with 1 Axes>"
      ]
     },
     "metadata": {
      "needs_background": "light"
     },
     "output_type": "display_data"
    }
   ],
   "source": [
    "# or plot it\n",
    "\n",
    "elc.es.integrated_tam.plot()"
   ]
  },
  {
   "cell_type": "code",
   "execution_count": 10,
   "metadata": {
    "ExecuteTime": {
     "end_time": "2021-10-03T15:20:08.679705Z",
     "start_time": "2021-10-03T15:20:08.552506Z"
    }
   },
   "outputs": [
    {
     "data": {
      "text/plain": [
       "<AxesSubplot:xlabel='Year'>"
      ]
     },
     "execution_count": 10,
     "metadata": {},
     "output_type": "execute_result"
    },
    {
     "data": {
      "image/png": "[encoded data removed]",
      "text/plain": [
       "<Figure size 432x288 with 1 Axes>"
      ]
     },
     "metadata": {
      "needs_background": "light"
     },
     "output_type": "display_data"
    }
   ],
   "source": [
    "# You can also see the demand delta calculated from all the solutions\n",
    "\n",
    "base.get_logitem(\"grid demand delta\").plot()"
   ]
  },
  {
   "cell_type": "code",
   "execution_count": 11,
   "metadata": {
    "ExecuteTime": {
     "end_time": "2021-10-03T15:20:25.285258Z",
     "start_time": "2021-10-03T15:20:25.261253Z"
    }
   },
   "outputs": [
    {
     "data": {
      "text/html": [
       "<div>\n",
       "<style scoped>\n",
       "    .dataframe tbody tr th:only-of-type {\n",
       "        vertical-align: middle;\n",
       "    }\n",
       "\n",
       "    .dataframe tbody tr th {\n",
       "        vertical-align: top;\n",
       "    }\n",
       "\n",
       "    .dataframe thead tr th {\n",
       "        text-align: left;\n",
       "    }\n",
       "\n",
       "    .dataframe thead tr:last-of-type th {\n",
       "        text-align: right;\n",
       "    }\n",
       "</style>\n",
       "<table border=\"1\" class=\"dataframe\">\n",
       "  <thead>\n",
       "    <tr>\n",
       "      <th></th>\n",
       "      <th colspan=\"3\" halign=\"left\">PDS1</th>\n",
       "      <th colspan=\"3\" halign=\"left\">PDS2</th>\n",
       "      <th colspan=\"3\" halign=\"left\">PDS3</th>\n",
       "    </tr>\n",
       "    <tr>\n",
       "      <th></th>\n",
       "      <th>old</th>\n",
       "      <th>new</th>\n",
       "      <th>delta</th>\n",
       "      <th>old</th>\n",
       "      <th>new</th>\n",
       "      <th>delta</th>\n",
       "      <th>old</th>\n",
       "      <th>new</th>\n",
       "      <th>delta</th>\n",
       "    </tr>\n",
       "    <tr>\n",
       "      <th>Year</th>\n",
       "      <th></th>\n",
       "      <th></th>\n",
       "      <th></th>\n",
       "      <th></th>\n",
       "      <th></th>\n",
       "      <th></th>\n",
       "      <th></th>\n",
       "      <th></th>\n",
       "      <th></th>\n",
       "    </tr>\n",
       "  </thead>\n",
       "  <tbody>\n",
       "    <tr>\n",
       "      <th>2014</th>\n",
       "      <td>22548.</td>\n",
       "      <td>22548.</td>\n",
       "      <td>0.</td>\n",
       "      <td>22548.</td>\n",
       "      <td>22548.</td>\n",
       "      <td>0.</td>\n",
       "      <td>22548.</td>\n",
       "      <td>22548.</td>\n",
       "      <td>0.</td>\n",
       "    </tr>\n",
       "    <tr>\n",
       "      <th>2015</th>\n",
       "      <td>24242.3181</td>\n",
       "      <td>24217.74756</td>\n",
       "      <td>-24.57054</td>\n",
       "      <td>24255.</td>\n",
       "      <td>19362.86092</td>\n",
       "      <td>-4892.13908</td>\n",
       "      <td>24255.</td>\n",
       "      <td>19362.86092</td>\n",
       "      <td>-4892.13908</td>\n",
       "    </tr>\n",
       "    <tr>\n",
       "      <th>2016</th>\n",
       "      <td>24876.03377</td>\n",
       "      <td>24841.77234</td>\n",
       "      <td>-34.26142</td>\n",
       "      <td>24919.</td>\n",
       "      <td>20834.0963</td>\n",
       "      <td>-4084.9037</td>\n",
       "      <td>24919.</td>\n",
       "      <td>20834.0963</td>\n",
       "      <td>-4084.9037</td>\n",
       "    </tr>\n",
       "    <tr>\n",
       "      <th>2017</th>\n",
       "      <td>25778.36189</td>\n",
       "      <td>25461.11192</td>\n",
       "      <td>-317.24997</td>\n",
       "      <td>25848.88526</td>\n",
       "      <td>22305.33169</td>\n",
       "      <td>-3543.55357</td>\n",
       "      <td>25848.88526</td>\n",
       "      <td>22305.33169</td>\n",
       "      <td>-3543.55357</td>\n",
       "    </tr>\n",
       "    <tr>\n",
       "      <th>2018</th>\n",
       "      <td>26247.97529</td>\n",
       "      <td>26076.30228</td>\n",
       "      <td>-171.67301</td>\n",
       "      <td>26340.14242</td>\n",
       "      <td>23776.56707</td>\n",
       "      <td>-2563.57535</td>\n",
       "      <td>26340.14242</td>\n",
       "      <td>23776.56707</td>\n",
       "      <td>-2563.57535</td>\n",
       "    </tr>\n",
       "    <tr>\n",
       "      <th>2019</th>\n",
       "      <td>26795.58894</td>\n",
       "      <td>26696.75761</td>\n",
       "      <td>-98.83133</td>\n",
       "      <td>25975.92281</td>\n",
       "      <td>25247.80246</td>\n",
       "      <td>-728.12035</td>\n",
       "      <td>25975.92281</td>\n",
       "      <td>25247.80246</td>\n",
       "      <td>-728.12035</td>\n",
       "    </tr>\n",
       "    <tr>\n",
       "      <th>2020</th>\n",
       "      <td>27469.60512</td>\n",
       "      <td>27310.73813</td>\n",
       "      <td>-158.86699</td>\n",
       "      <td>26811.37332</td>\n",
       "      <td>26719.03784</td>\n",
       "      <td>-92.33548</td>\n",
       "      <td>26811.37332</td>\n",
       "      <td>26719.03784</td>\n",
       "      <td>-92.33548</td>\n",
       "    </tr>\n",
       "    <tr>\n",
       "      <th>2021</th>\n",
       "      <td>28113.8119</td>\n",
       "      <td>27897.2508</td>\n",
       "      <td>-216.56109</td>\n",
       "      <td>27154.51146</td>\n",
       "      <td>28190.27323</td>\n",
       "      <td>1035.76176</td>\n",
       "      <td>27154.51146</td>\n",
       "      <td>28190.27323</td>\n",
       "      <td>1035.76176</td>\n",
       "    </tr>\n",
       "    <tr>\n",
       "      <th>2022</th>\n",
       "      <td>28776.61468</td>\n",
       "      <td>28508.53074</td>\n",
       "      <td>-268.08394</td>\n",
       "      <td>27754.96457</td>\n",
       "      <td>29661.50861</td>\n",
       "      <td>1906.54404</td>\n",
       "      <td>27754.96457</td>\n",
       "      <td>29661.50861</td>\n",
       "      <td>1906.54404</td>\n",
       "    </tr>\n",
       "    <tr>\n",
       "      <th>2023</th>\n",
       "      <td>29432.91048</td>\n",
       "      <td>29121.58611</td>\n",
       "      <td>-311.32437</td>\n",
       "      <td>28800.57074</td>\n",
       "      <td>31132.74399</td>\n",
       "      <td>2332.17326</td>\n",
       "      <td>28800.57074</td>\n",
       "      <td>31132.74399</td>\n",
       "      <td>2332.17326</td>\n",
       "    </tr>\n",
       "  </tbody>\n",
       "</table>\n",
       "</div>"
      ],
      "text/plain": [
       "            PDS1                               PDS2                                PDS3                        \n",
       "             old         new      delta         old         new       delta         old         new       delta\n",
       "Year                                                                                                           \n",
       "2014      22548.      22548.         0.      22548.      22548.          0.      22548.      22548.          0.\n",
       "2015  24242.3181 24217.74756  -24.57054      24255. 19362.86092 -4892.13908      24255. 19362.86092 -4892.13908\n",
       "2016 24876.03377 24841.77234  -34.26142      24919.  20834.0963  -4084.9037      24919.  20834.0963  -4084.9037\n",
       "2017 25778.36189 25461.11192 -317.24997 25848.88526 22305.33169 -3543.55357 25848.88526 22305.33169 -3543.55357\n",
       "2018 26247.97529 26076.30228 -171.67301 26340.14242 23776.56707 -2563.57535 26340.14242 23776.56707 -2563.57535\n",
       "2019 26795.58894 26696.75761  -98.83133 25975.92281 25247.80246  -728.12035 25975.92281 25247.80246  -728.12035\n",
       "2020 27469.60512 27310.73813 -158.86699 26811.37332 26719.03784   -92.33548 26811.37332 26719.03784   -92.33548\n",
       "2021  28113.8119  27897.2508 -216.56109 27154.51146 28190.27323  1035.76176 27154.51146 28190.27323  1035.76176\n",
       "2022 28776.61468 28508.53074 -268.08394 27754.96457 29661.50861  1906.54404 27754.96457 29661.50861  1906.54404\n",
       "2023 29432.91048 29121.58611 -311.32437 28800.57074 31132.74399  2332.17326 28800.57074 31132.74399  2332.17326"
      ]
     },
     "execution_count": 11,
     "metadata": {},
     "output_type": "execute_result"
    }
   ],
   "source": [
    "# For convenience, you can also compare the new integrated TAM to the previous values\n",
    "\n",
    "elc.integrated_tam_comparision().head(10)"
   ]
  },
  {
   "cell_type": "markdown",
   "metadata": {},
   "source": [
    "### Adoptions"
   ]
  },
  {
   "cell_type": "code",
   "execution_count": 12,
   "metadata": {
    "ExecuteTime": {
     "end_time": "2021-10-03T15:20:48.555601Z",
     "start_time": "2021-10-03T15:20:40.425061Z"
    }
   },
   "outputs": [
    {
     "name": "stdout",
     "output_type": "stream",
     "text": [
      "using loaded conventional adoption profile\n",
      "Adoptions calculated\n"
     ]
    }
   ],
   "source": [
    "# The second step collects the adoptions of all energy solutions for the chosen scenarios,\n",
    "# and combines that with the conventional adoption profile.\n",
    "\n",
    "elc.step2_calculate_adoptions()"
   ]
  },
  {
   "cell_type": "code",
   "execution_count": 13,
   "metadata": {
    "ExecuteTime": {
     "end_time": "2021-10-03T15:20:55.350437Z",
     "start_time": "2021-10-03T15:20:55.327428Z"
    }
   },
   "outputs": [
    {
     "data": {
      "text/html": [
       "<div>\n",
       "<style scoped>\n",
       "    .dataframe tbody tr th:only-of-type {\n",
       "        vertical-align: middle;\n",
       "    }\n",
       "\n",
       "    .dataframe tbody tr th {\n",
       "        vertical-align: top;\n",
       "    }\n",
       "\n",
       "    .dataframe thead tr th {\n",
       "        text-align: left;\n",
       "    }\n",
       "</style>\n",
       "<table border=\"1\" class=\"dataframe\">\n",
       "  <thead>\n",
       "    <tr>\n",
       "      <th></th>\n",
       "      <th colspan=\"10\" halign=\"left\">PDS1</th>\n",
       "      <th>...</th>\n",
       "      <th colspan=\"10\" halign=\"left\">PDS3</th>\n",
       "    </tr>\n",
       "    <tr>\n",
       "      <th></th>\n",
       "      <th>biogas</th>\n",
       "      <th>biomass</th>\n",
       "      <th>coal</th>\n",
       "      <th>concentratedsolar</th>\n",
       "      <th>geothermal</th>\n",
       "      <th>instreamhydro</th>\n",
       "      <th>landfillmethane</th>\n",
       "      <th>large hydro</th>\n",
       "      <th>microwind</th>\n",
       "      <th>natural gas</th>\n",
       "      <th>...</th>\n",
       "      <th>natural gas</th>\n",
       "      <th>nuclear</th>\n",
       "      <th>offshorewind</th>\n",
       "      <th>oil products</th>\n",
       "      <th>onshorewind</th>\n",
       "      <th>other biomass</th>\n",
       "      <th>solarpvroof</th>\n",
       "      <th>solarpvutil</th>\n",
       "      <th>wastetoenergy</th>\n",
       "      <th>waveandtidal</th>\n",
       "    </tr>\n",
       "  </thead>\n",
       "  <tbody>\n",
       "    <tr>\n",
       "      <th>2014</th>\n",
       "      <td>55.986</td>\n",
       "      <td>62.54</td>\n",
       "      <td>9974.68345</td>\n",
       "      <td>9.</td>\n",
       "      <td>76.0695</td>\n",
       "      <td>547.67</td>\n",
       "      <td>23.99</td>\n",
       "      <td>3904.</td>\n",
       "      <td>1.228</td>\n",
       "      <td>3229.97907</td>\n",
       "      <td>...</td>\n",
       "      <td>4933.</td>\n",
       "      <td>2417.</td>\n",
       "      <td>24.682</td>\n",
       "      <td>1023.01318</td>\n",
       "      <td>687.046</td>\n",
       "      <td>246.26387</td>\n",
       "      <td>75.</td>\n",
       "      <td>112.63</td>\n",
       "      <td>87.62679</td>\n",
       "      <td>0.9988</td>\n",
       "    </tr>\n",
       "    <tr>\n",
       "      <th>2015</th>\n",
       "      <td>72.98223</td>\n",
       "      <td>72.92567</td>\n",
       "      <td>9846.99197</td>\n",
       "      <td>8.60655</td>\n",
       "      <td>77.35677</td>\n",
       "      <td>579.08238</td>\n",
       "      <td>28.57</td>\n",
       "      <td>3897.</td>\n",
       "      <td>1.61843</td>\n",
       "      <td>4697.38358</td>\n",
       "      <td>...</td>\n",
       "      <td>5688.98001</td>\n",
       "      <td>2571.</td>\n",
       "      <td>9.10433</td>\n",
       "      <td>974.74757</td>\n",
       "      <td>756.25254</td>\n",
       "      <td>211.32706</td>\n",
       "      <td>3.66213</td>\n",
       "      <td>73.66255</td>\n",
       "      <td>91.07977</td>\n",
       "      <td>1.0081</td>\n",
       "    </tr>\n",
       "    <tr>\n",
       "      <th>2016</th>\n",
       "      <td>85.07929</td>\n",
       "      <td>83.88122</td>\n",
       "      <td>9980.79247</td>\n",
       "      <td>7.99826</td>\n",
       "      <td>85.14526</td>\n",
       "      <td>602.38664</td>\n",
       "      <td>31.78</td>\n",
       "      <td>4049.</td>\n",
       "      <td>1.92165</td>\n",
       "      <td>4709.0725</td>\n",
       "      <td>...</td>\n",
       "      <td>5779.71825</td>\n",
       "      <td>2606.</td>\n",
       "      <td>5.54859</td>\n",
       "      <td>926.48195</td>\n",
       "      <td>1093.861</td>\n",
       "      <td>197.42193</td>\n",
       "      <td>124.359</td>\n",
       "      <td>261.34809</td>\n",
       "      <td>94.53275</td>\n",
       "      <td>1.0236</td>\n",
       "    </tr>\n",
       "    <tr>\n",
       "      <th>2017</th>\n",
       "      <td>97.21378</td>\n",
       "      <td>95.19111</td>\n",
       "      <td>10226.89221</td>\n",
       "      <td>10.21074</td>\n",
       "      <td>95.5945</td>\n",
       "      <td>624.51117</td>\n",
       "      <td>34.88</td>\n",
       "      <td>4037.</td>\n",
       "      <td>2.23907</td>\n",
       "      <td>5046.8901</td>\n",
       "      <td>...</td>\n",
       "      <td>5881.19618</td>\n",
       "      <td>2337.17747</td>\n",
       "      <td>14.34359</td>\n",
       "      <td>857.15438</td>\n",
       "      <td>1465.41969</td>\n",
       "      <td>180.7527</td>\n",
       "      <td>262.49078</td>\n",
       "      <td>481.10486</td>\n",
       "      <td>97.98573</td>\n",
       "      <td>1.041</td>\n",
       "    </tr>\n",
       "    <tr>\n",
       "      <th>2018</th>\n",
       "      <td>109.4228</td>\n",
       "      <td>106.82962</td>\n",
       "      <td>10341.48673</td>\n",
       "      <td>15.38252</td>\n",
       "      <td>108.6043</td>\n",
       "      <td>676.356</td>\n",
       "      <td>37.87</td>\n",
       "      <td>4200.44072</td>\n",
       "      <td>2.57051</td>\n",
       "      <td>4879.98449</td>\n",
       "      <td>...</td>\n",
       "      <td>5985.02963</td>\n",
       "      <td>2282.57456</td>\n",
       "      <td>61.92673</td>\n",
       "      <td>790.40947</td>\n",
       "      <td>1868.89466</td>\n",
       "      <td>163.52329</td>\n",
       "      <td>417.40655</td>\n",
       "      <td>731.73104</td>\n",
       "      <td>101.4387</td>\n",
       "      <td>12.14505</td>\n",
       "    </tr>\n",
       "    <tr>\n",
       "      <th>2019</th>\n",
       "      <td>121.7435</td>\n",
       "      <td>118.77105</td>\n",
       "      <td>8498.46094</td>\n",
       "      <td>23.65215</td>\n",
       "      <td>124.07442</td>\n",
       "      <td>665.40522</td>\n",
       "      <td>40.76</td>\n",
       "      <td>4297.48977</td>\n",
       "      <td>2.91575</td>\n",
       "      <td>6636.01101</td>\n",
       "      <td>...</td>\n",
       "      <td>5192.49449</td>\n",
       "      <td>2223.60143</td>\n",
       "      <td>67.07917</td>\n",
       "      <td>818.53744</td>\n",
       "      <td>2302.25192</td>\n",
       "      <td>166.74394</td>\n",
       "      <td>588.45534</td>\n",
       "      <td>1012.0248</td>\n",
       "      <td>104.89168</td>\n",
       "      <td>16.0115</td>\n",
       "    </tr>\n",
       "    <tr>\n",
       "      <th>2020</th>\n",
       "      <td>134.213</td>\n",
       "      <td>130.98969</td>\n",
       "      <td>8160.86125</td>\n",
       "      <td>35.15819</td>\n",
       "      <td>141.90467</td>\n",
       "      <td>684.26679</td>\n",
       "      <td>43.85</td>\n",
       "      <td>4389.98796</td>\n",
       "      <td>3.2746</td>\n",
       "      <td>7068.51996</td>\n",
       "      <td>...</td>\n",
       "      <td>5308.69727</td>\n",
       "      <td>2154.54734</td>\n",
       "      <td>110.0664</td>\n",
       "      <td>773.75006</td>\n",
       "      <td>2763.45752</td>\n",
       "      <td>166.44876</td>\n",
       "      <td>774.98624</td>\n",
       "      <td>1320.78429</td>\n",
       "      <td>108.34466</td>\n",
       "      <td>20.64978</td>\n",
       "    </tr>\n",
       "    <tr>\n",
       "      <th>2021</th>\n",
       "      <td>146.86842</td>\n",
       "      <td>143.45983</td>\n",
       "      <td>7823.26156</td>\n",
       "      <td>50.03918</td>\n",
       "      <td>161.99481</td>\n",
       "      <td>702.13277</td>\n",
       "      <td>46.34</td>\n",
       "      <td>4478.13337</td>\n",
       "      <td>3.64685</td>\n",
       "      <td>7451.23731</td>\n",
       "      <td>...</td>\n",
       "      <td>4762.96071</td>\n",
       "      <td>2085.49324</td>\n",
       "      <td>163.49773</td>\n",
       "      <td>728.96268</td>\n",
       "      <td>3250.47749</td>\n",
       "      <td>168.57901</td>\n",
       "      <td>976.3483</td>\n",
       "      <td>1656.80768</td>\n",
       "      <td>111.79764</td>\n",
       "      <td>33.2415</td>\n",
       "    </tr>\n",
       "    <tr>\n",
       "      <th>2022</th>\n",
       "      <td>159.74691</td>\n",
       "      <td>156.15575</td>\n",
       "      <td>7485.66187</td>\n",
       "      <td>68.43368</td>\n",
       "      <td>184.24463</td>\n",
       "      <td>719.04919</td>\n",
       "      <td>49.05</td>\n",
       "      <td>4562.12407</td>\n",
       "      <td>4.0323</td>\n",
       "      <td>7831.98389</td>\n",
       "      <td>...</td>\n",
       "      <td>4398.89448</td>\n",
       "      <td>2010.92512</td>\n",
       "      <td>226.89647</td>\n",
       "      <td>684.17529</td>\n",
       "      <td>3761.27784</td>\n",
       "      <td>172.3067</td>\n",
       "      <td>1191.89058</td>\n",
       "      <td>2018.89315</td>\n",
       "      <td>115.25062</td>\n",
       "      <td>46.94257</td>\n",
       "    </tr>\n",
       "    <tr>\n",
       "      <th>2023</th>\n",
       "      <td>172.88558</td>\n",
       "      <td>169.05174</td>\n",
       "      <td>7148.06219</td>\n",
       "      <td>90.48022</td>\n",
       "      <td>208.55392</td>\n",
       "      <td>735.06209</td>\n",
       "      <td>51.73</td>\n",
       "      <td>4642.15813</td>\n",
       "      <td>4.43074</td>\n",
       "      <td>8183.62084</td>\n",
       "      <td>...</td>\n",
       "      <td>4369.92579</td>\n",
       "      <td>1933.02808</td>\n",
       "      <td>299.78597</td>\n",
       "      <td>639.38791</td>\n",
       "      <td>4293.82463</td>\n",
       "      <td>178.79797</td>\n",
       "      <td>1420.96215</td>\n",
       "      <td>2405.83886</td>\n",
       "      <td>118.7036</td>\n",
       "      <td>61.92177</td>\n",
       "    </tr>\n",
       "  </tbody>\n",
       "</table>\n",
       "<p>10 rows × 57 columns</p>\n",
       "</div>"
      ],
      "text/plain": [
       "          PDS1                                                                                                                     ...        PDS3                                                                                                                  \n",
       "        biogas   biomass        coal concentratedsolar geothermal instreamhydro landfillmethane large hydro microwind natural gas  ... natural gas    nuclear offshorewind oil products onshorewind other biomass solarpvroof solarpvutil wastetoenergy waveandtidal\n",
       "2014    55.986     62.54  9974.68345                9.    76.0695        547.67           23.99       3904.     1.228  3229.97907  ...       4933.      2417.       24.682   1023.01318     687.046     246.26387         75.      112.63      87.62679       0.9988\n",
       "2015  72.98223  72.92567  9846.99197           8.60655   77.35677     579.08238           28.57       3897.   1.61843  4697.38358  ...  5688.98001      2571.      9.10433    974.74757   756.25254     211.32706     3.66213    73.66255      91.07977       1.0081\n",
       "2016  85.07929  83.88122  9980.79247           7.99826   85.14526     602.38664           31.78       4049.   1.92165   4709.0725  ...  5779.71825      2606.      5.54859    926.48195    1093.861     197.42193     124.359   261.34809      94.53275       1.0236\n",
       "2017  97.21378  95.19111 10226.89221          10.21074    95.5945     624.51117           34.88       4037.   2.23907   5046.8901  ...  5881.19618 2337.17747     14.34359    857.15438  1465.41969      180.7527   262.49078   481.10486      97.98573        1.041\n",
       "2018  109.4228 106.82962 10341.48673          15.38252   108.6043       676.356           37.87  4200.44072   2.57051  4879.98449  ...  5985.02963 2282.57456     61.92673    790.40947  1868.89466     163.52329   417.40655   731.73104      101.4387     12.14505\n",
       "2019  121.7435 118.77105  8498.46094          23.65215  124.07442     665.40522           40.76  4297.48977   2.91575  6636.01101  ...  5192.49449 2223.60143     67.07917    818.53744  2302.25192     166.74394   588.45534   1012.0248     104.89168      16.0115\n",
       "2020   134.213 130.98969  8160.86125          35.15819  141.90467     684.26679           43.85  4389.98796    3.2746  7068.51996  ...  5308.69727 2154.54734     110.0664    773.75006  2763.45752     166.44876   774.98624  1320.78429     108.34466     20.64978\n",
       "2021 146.86842 143.45983  7823.26156          50.03918  161.99481     702.13277           46.34  4478.13337   3.64685  7451.23731  ...  4762.96071 2085.49324    163.49773    728.96268  3250.47749     168.57901    976.3483  1656.80768     111.79764      33.2415\n",
       "2022 159.74691 156.15575  7485.66187          68.43368  184.24463     719.04919           49.05  4562.12407    4.0323  7831.98389  ...  4398.89448 2010.92512    226.89647    684.17529  3761.27784      172.3067  1191.89058  2018.89315     115.25062     46.94257\n",
       "2023 172.88558 169.05174  7148.06219          90.48022  208.55392     735.06209           51.73  4642.15813   4.43074  8183.62084  ...  4369.92579 1933.02808    299.78597    639.38791  4293.82463     178.79797  1420.96215  2405.83886      118.7036     61.92177\n",
       "\n",
       "[10 rows x 57 columns]"
      ]
     },
     "execution_count": 13,
     "metadata": {},
     "output_type": "execute_result"
    }
   ],
   "source": [
    "# At this point you can look at the reference or pds adoptions.\n",
    "# Note that the total TWh numbers are used, and the percentages will be recalculated based on them.\n",
    "\n",
    "# elc.es.ref_adoption.head(10)\n",
    "elc.es.pds_adoption.head(10)"
   ]
  },
  {
   "cell_type": "code",
   "execution_count": 14,
   "metadata": {
    "ExecuteTime": {
     "end_time": "2021-10-03T15:21:11.212695Z",
     "start_time": "2021-10-03T15:21:11.087078Z"
    }
   },
   "outputs": [
    {
     "data": {
      "text/plain": [
       "<AxesSubplot:>"
      ]
     },
     "execution_count": 14,
     "metadata": {},
     "output_type": "execute_result"
    },
    {
     "data": {
      "image/png": "[encoded data removed]",
      "text/plain": [
       "<Figure size 432x288 with 1 Axes>"
      ]
     },
     "metadata": {
      "needs_background": "light"
     },
     "output_type": "display_data"
    }
   ],
   "source": [
    "# Compare the an adoption to the corresponding TAM\n",
    "\n",
    "elc.compare_adoption_to_tam(segment='PDS1').plot()   # setgment = 'reference', 'PDS1', 'PDS2' or 'PDS3'"
   ]
  },
  {
   "cell_type": "code",
   "execution_count": null,
   "metadata": {},
   "outputs": [],
   "source": [
    "# If they don't match up, modify the conventional adoption profile, and try again.\n",
    "# TODO: in the future we could provide tools to help with that, perhaps."
   ]
  },
  {
   "cell_type": "markdown",
   "metadata": {},
   "source": [
    "### Grid Emissions"
   ]
  },
  {
   "cell_type": "code",
   "execution_count": 15,
   "metadata": {
    "ExecuteTime": {
     "end_time": "2021-10-03T15:21:22.924414Z",
     "start_time": "2021-10-03T15:21:22.846345Z"
    }
   },
   "outputs": [
    {
     "name": "stdout",
     "output_type": "stream",
     "text": [
      "Grid Emissions factors calculated\n"
     ]
    }
   ],
   "source": [
    "elc.step3_calculate_emissions()"
   ]
  },
  {
   "cell_type": "markdown",
   "metadata": {},
   "source": [
    "### Save\n",
    "\n",
    "Up until now, results have been calculated in memory only.\n",
    "This step will cause following files to be updated:\n",
    "\n",
    " * Integrated Energy TAM\n",
    " * Grid Emissions used by all solutions\n",
    " * Final conventional adoption profile with calculated percentages"
   ]
  },
  {
   "cell_type": "code",
   "execution_count": 17,
   "metadata": {
    "ExecuteTime": {
     "end_time": "2021-10-01T05:13:30.188856Z",
     "start_time": "2021-10-01T05:13:30.165804Z"
    }
   },
   "outputs": [
    {
     "name": "stdout",
     "output_type": "stream",
     "text": [
      "Grid Emissions Data saved\n",
      "PDS (Integrated) TAM saved\n"
     ]
    }
   ],
   "source": [
    "elc.step4_update()"
   ]
  },
  {
   "cell_type": "markdown",
   "metadata": {},
   "source": [
    "# Developer Section\n",
    "Ignore everything from here on down... Or use this space yourself for scratch work."
   ]
  },
  {
   "cell_type": "code",
   "execution_count": 1,
   "metadata": {
    "ExecuteTime": {
     "end_time": "2021-10-01T06:44:30.663295Z",
     "start_time": "2021-10-01T06:44:29.586546Z"
    }
   },
   "outputs": [],
   "source": [
    "import sys\n",
    "sys.path.append('../')   # If you move this notebook to another location, change this path to point to the root directory of the solutions project\n",
    "import pandas as pd\n",
    "from pathlib import Path\n",
    "from solution import factory\n",
    "from integrations import integration_base as base\n",
    "from integrations import elc_integration as elc\n",
    "base.integration_clean()   # Uncomment this to remove the results of previous integration attempts\n",
    "base.integration_start(True)\n",
    "elc.setup(2018)   "
   ]
  },
  {
   "cell_type": "code",
   "execution_count": 2,
   "metadata": {
    "ExecuteTime": {
     "end_time": "2021-10-01T06:44:35.829303Z",
     "start_time": "2021-10-01T06:44:34.484212Z"
    }
   },
   "outputs": [
    {
     "name": "stdout",
     "output_type": "stream",
     "text": [
      "Previously defined grid mix loaded for year 2018\n",
      "Reference TAM sources loaded\n",
      "Loading net energy deltas for all solutions; this takes some time\n",
      "*** done.\n",
      "integrated TAM calculated\n",
      "loading previously-saved conventional adoption profile\n",
      "Current conventional adoption profile loaded\n",
      "Adoptions calculated\n",
      "Grid Emissions factors calculated\n",
      "Grid Emissions Data saved\n",
      "PDS (Integrated) TAM saved\n"
     ]
    }
   ],
   "source": [
    "elc.integrate()"
   ]
  },
  {
   "cell_type": "code",
   "execution_count": 16,
   "metadata": {
    "ExecuteTime": {
     "end_time": "2021-10-03T15:21:36.048224Z",
     "start_time": "2021-10-03T15:21:36.026218Z"
    }
   },
   "outputs": [
    {
     "name": "stdout",
     "output_type": "stream",
     "text": [
      "-----------------------\n",
      "elc\n",
      "           historical grid mix: (20, 8): [1.00750502e+04 1.01694961e+04 1.02594500e+04 1.03454911e+04\n",
      " 4.06194406e-01]\n",
      "conventional adoption profile loaded: (47, 30): [2.46263872e+02 8.01643000e-03 9.97468345e+03 4.42375530e-01\n",
      " 3.22997907e+03]\n",
      "              current grid mix: (20, 2): [1.03454911e+04 3.93376294e-01]\n",
      "                 reference tam: (47,): [22548.         24291.85200614 24971.05879537 25650.2655846\n",
      " 26329.47237383]\n",
      "                  net grid use: (47, 75): [-0.         -0.         -0.         -0.          0.06059409]\n",
      "             grid demand delta: (47, 3): [0.         0.06059409 0.        ]\n",
      "                       pds tam: (47, 3): [22548.         22548.06059409 22548.        ]\n",
      "                integrated tam: (47, 3): [22548. 22548. 22548.]\n",
      "ref adoption (of energy sources): (47, 19): [9974.683447   5598.241776   3904.          964.422647    905.34937675]\n",
      "                  pds adoption: (47, 57): [5.59860000e+01 6.25400000e+01 9.97468345e+03 9.00000000e+00\n",
      " 7.60695000e+01]\n",
      "             emissions factors: (19, 3): [1028.25       1250.94860952  805.55139048]\n",
      "            ref grid emissions: (47, 3): [15230552.35731339 20730630.82709318 10938964.23900298]\n"
     ]
    }
   ],
   "source": [
    "base.show_log()"
   ]
  },
  {
   "cell_type": "code",
   "execution_count": 4,
   "metadata": {
    "ExecuteTime": {
     "end_time": "2021-10-01T05:52:59.850044Z",
     "start_time": "2021-10-01T05:52:59.836011Z"
    }
   },
   "outputs": [
    {
     "data": {
      "text/plain": [
       "Index(['biogas', 'biomass', 'coal', 'concentratedsolar', 'geothermal',\n",
       "       'instreamhydro', 'landfillmethane', 'large hydro', 'microwind',\n",
       "       'natural gas', 'nuclear', 'offshorewind', 'oil products', 'onshorewind',\n",
       "       'other biomass', 'solarpvroof', 'solarpvutil', 'wastetoenergy',\n",
       "       'waveandtidal'],\n",
       "      dtype='object')"
      ]
     },
     "execution_count": 4,
     "metadata": {},
     "output_type": "execute_result"
    }
   ],
   "source": [
    "elc.es.pds_adoption['PDS1'].columns"
   ]
  },
  {
   "cell_type": "code",
   "execution_count": null,
   "metadata": {},
   "outputs": [],
   "source": []
  }
 ],
 "metadata": {
  "interpreter": {
   "hash": "641170e26b916086f6ab8a8498639d254e86adadac2c3bbb49fa49caa88ce61e"
  },
  "kernelspec": {
   "display_name": "Python 3 (ipykernel)",
   "language": "python",
   "name": "python3"
  },
  "language_info": {
   "codemirror_mode": {
    "name": "ipython",
    "version": 3
   },
   "file_extension": ".py",
   "mimetype": "text/x-python",
   "name": "python",
   "nbconvert_exporter": "python",
   "pygments_lexer": "ipython3",
   "version": "3.9.6"
  }
 },
 "nbformat": 4,
 "nbformat_minor": 2
}

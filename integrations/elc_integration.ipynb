{
 "cells": [
  {
   "cell_type": "code",
   "execution_count": 1,
   "metadata": {
    "ExecuteTime": {
     "end_time": "2021-09-24T10:21:20.717153Z",
     "start_time": "2021-09-24T10:21:19.729428Z"
    }
   },
   "outputs": [],
   "source": [
    "import sys\n",
    "sys.path.append('../')   # If you move this notebook to another location, change this path to point to the root directory of the solutions project\n",
    "import pandas as pd\n",
    "from pathlib import Path\n",
    "from integrations import integration_base as base\n",
    "from integrations import elc_integration as elc\n",
    "\n",
    "# This is an optional step to make floating point numbers display more compactly.\n",
    "# If you prefer other options, you can change or delete this without harm.\n",
    "pd.set_option('display.float_format', lambda x: f\"{x:03.5f}\".rstrip('0'))"
   ]
  },
  {
   "cell_type": "code",
   "execution_count": 2,
   "metadata": {
    "ExecuteTime": {
     "end_time": "2021-09-24T10:21:23.689903Z",
     "start_time": "2021-09-24T10:21:23.681868Z"
    }
   },
   "outputs": [],
   "source": [
    "# If you are beginning a *new* integration, or starting over\n",
    "\n",
    "#base.integration_clean()\n",
    "base.integration_start()"
   ]
  },
  {
   "cell_type": "code",
   "execution_count": 3,
   "metadata": {
    "ExecuteTime": {
     "end_time": "2021-09-24T10:21:27.045722Z",
     "start_time": "2021-09-24T10:21:27.036714Z"
    }
   },
   "outputs": [
    {
     "name": "stdout",
     "output_type": "stream",
     "text": [
      "Integration year set to 2018\n"
     ]
    }
   ],
   "source": [
    "elc.setup(2018)"
   ]
  },
  {
   "cell_type": "markdown",
   "metadata": {},
   "source": [
    "# Developer Section"
   ]
  },
  {
   "cell_type": "code",
   "execution_count": 5,
   "metadata": {
    "ExecuteTime": {
     "end_time": "2021-09-24T09:52:30.486227Z",
     "start_time": "2021-09-24T09:52:30.464225Z"
    }
   },
   "outputs": [
    {
     "data": {
      "text/plain": [
       "<module 'integrations.elc_integration' from 'C:\\\\Working\\\\solutions\\\\integrations\\\\..\\\\integrations\\\\elc_integration.py'>"
      ]
     },
     "execution_count": 5,
     "metadata": {},
     "output_type": "execute_result"
    }
   ],
   "source": [
    "import importlib\n",
    "importlib.reload(elc)"
   ]
  },
  {
   "cell_type": "code",
   "execution_count": 2,
   "metadata": {
    "ExecuteTime": {
     "end_time": "2021-09-22T06:31:25.730821Z",
     "start_time": "2021-09-22T06:31:22.584941Z"
    },
    "scrolled": true
   },
   "outputs": [
    {
     "data": {
      "text/html": [
       "<div>\n",
       "<style scoped>\n",
       "    .dataframe tbody tr th:only-of-type {\n",
       "        vertical-align: middle;\n",
       "    }\n",
       "\n",
       "    .dataframe tbody tr th {\n",
       "        vertical-align: top;\n",
       "    }\n",
       "\n",
       "    .dataframe thead th {\n",
       "        text-align: right;\n",
       "    }\n",
       "</style>\n",
       "<table border=\"1\" class=\"dataframe\">\n",
       "  <thead>\n",
       "    <tr style=\"text-align: right;\">\n",
       "      <th></th>\n",
       "      <th>coal</th>\n",
       "      <th>natural gas</th>\n",
       "      <th>large hydro</th>\n",
       "      <th>oil products</th>\n",
       "      <th>onshorewind</th>\n",
       "      <th>offshorewind</th>\n",
       "      <th>solarpvutil</th>\n",
       "      <th>solarpvroof</th>\n",
       "      <th>concentratedsolar</th>\n",
       "      <th>geothermal</th>\n",
       "      <th>waveandtidal</th>\n",
       "      <th>biomass</th>\n",
       "      <th>microwind</th>\n",
       "      <th>instreamhydro</th>\n",
       "      <th>nuclear</th>\n",
       "      <th>wastetoenergy</th>\n",
       "      <th>landfillmethane</th>\n",
       "      <th>biogas</th>\n",
       "    </tr>\n",
       "  </thead>\n",
       "  <tbody>\n",
       "    <tr>\n",
       "      <th>0</th>\n",
       "      <td>1028.25</td>\n",
       "      <td>574.07433</td>\n",
       "      <td>202.26478</td>\n",
       "      <td>828.22</td>\n",
       "      <td>22.4669</td>\n",
       "      <td>14.25182</td>\n",
       "      <td>46.91333</td>\n",
       "      <td>50.37818</td>\n",
       "      <td>41.94167</td>\n",
       "      <td>102.99762</td>\n",
       "      <td>20.59</td>\n",
       "      <td>112.22579</td>\n",
       "      <td>71.0485</td>\n",
       "      <td>24.6888</td>\n",
       "      <td>18.4594</td>\n",
       "      <td>1.6</td>\n",
       "      <td>226.4182</td>\n",
       "      <td>65.72984</td>\n",
       "    </tr>\n",
       "    <tr>\n",
       "      <th>1</th>\n",
       "      <td>1250.94861</td>\n",
       "      <td>746.91532</td>\n",
       "      <td>703.94498</td>\n",
       "      <td>1047.55152</td>\n",
       "      <td>43.91821</td>\n",
       "      <td>22.38945</td>\n",
       "      <td>74.86526</td>\n",
       "      <td>79.4291</td>\n",
       "      <td>94.02736</td>\n",
       "      <td>298.52563</td>\n",
       "      <td>36.68999</td>\n",
       "      <td>237.77484</td>\n",
       "      <td>172.09029</td>\n",
       "      <td>65.57254</td>\n",
       "      <td>45.19641</td>\n",
       "      <td>1.6</td>\n",
       "      <td>226.4182</td>\n",
       "      <td>135.43985</td>\n",
       "    </tr>\n",
       "    <tr>\n",
       "      <th>2</th>\n",
       "      <td>805.55139</td>\n",
       "      <td>401.23335</td>\n",
       "      <td>0.</td>\n",
       "      <td>608.88848</td>\n",
       "      <td>1.01558</td>\n",
       "      <td>6.11419</td>\n",
       "      <td>18.96141</td>\n",
       "      <td>21.32726</td>\n",
       "      <td>5.</td>\n",
       "      <td>0.</td>\n",
       "      <td>4.49001</td>\n",
       "      <td>4.</td>\n",
       "      <td>0.4</td>\n",
       "      <td>0.5</td>\n",
       "      <td>0.8</td>\n",
       "      <td>1.6</td>\n",
       "      <td>226.4182</td>\n",
       "      <td>2.43098</td>\n",
       "    </tr>\n",
       "  </tbody>\n",
       "</table>\n",
       "</div>"
      ],
      "text/plain": [
       "        coal  natural gas  large hydro  oil products  onshorewind  offshorewind  solarpvutil  solarpvroof  concentratedsolar  geothermal  waveandtidal   biomass  microwind  instreamhydro  nuclear  wastetoenergy  landfillmethane    biogas\n",
       "0    1028.25    574.07433    202.26478        828.22      22.4669      14.25182     46.91333     50.37818           41.94167   102.99762         20.59 112.22579    71.0485        24.6888  18.4594            1.6         226.4182  65.72984\n",
       "1 1250.94861    746.91532    703.94498    1047.55152     43.91821      22.38945     74.86526      79.4291           94.02736   298.52563      36.68999 237.77484  172.09029       65.57254 45.19641            1.6         226.4182 135.43985\n",
       "2  805.55139    401.23335           0.     608.88848      1.01558       6.11419     18.96141     21.32726                 5.          0.       4.49001        4.        0.4            0.5      0.8            1.6         226.4182   2.43098"
      ]
     },
     "execution_count": 2,
     "metadata": {},
     "output_type": "execute_result"
    }
   ],
   "source": [
    "df = pd.DataFrame(elc.get_emissions_factors())\n",
    "df"
   ]
  },
  {
   "cell_type": "code",
   "execution_count": 13,
   "metadata": {
    "ExecuteTime": {
     "end_time": "2021-09-23T19:50:57.785211Z",
     "start_time": "2021-09-23T19:50:57.639219Z"
    }
   },
   "outputs": [],
   "source": [
    "base.integration_clean()"
   ]
  },
  {
   "cell_type": "code",
   "execution_count": 5,
   "metadata": {
    "ExecuteTime": {
     "end_time": "2021-09-24T10:24:36.389338Z",
     "start_time": "2021-09-24T10:22:26.925113Z"
    }
   },
   "outputs": [
    {
     "name": "stderr",
     "output_type": "stream",
     "text": [
      "C:\\Working\\solutions\\integrations\\..\\model\\unitadoption.py:627: RuntimeWarning: invalid value encountered in subtract\n",
      "  growth_array = np.max([growth.values[1:] - growth.values[:-1], np.full(growth.values[1:].shape, 0.)], axis=0)\n",
      "C:\\ProgramData\\Miniconda3\\envs\\foo\\lib\\site-packages\\pandas\\core\\arraylike.py:358: RuntimeWarning: invalid value encountered in minimum\n",
      "  result = getattr(ufunc, method)(*inputs, **kwargs)\n",
      "C:\\ProgramData\\Miniconda3\\envs\\foo\\lib\\site-packages\\numpy\\core\\fromnumeric.py:86: RuntimeWarning: invalid value encountered in reduce\n",
      "  return ufunc.reduce(obj, axis, dtype, out, **passkwargs)\n",
      "C:\\ProgramData\\Miniconda3\\envs\\foo\\lib\\site-packages\\pandas\\core\\arraylike.py:358: RuntimeWarning: invalid value encountered in minimum\n",
      "  result = getattr(ufunc, method)(*inputs, **kwargs)\n",
      "C:\\ProgramData\\Miniconda3\\envs\\foo\\lib\\site-packages\\numpy\\core\\fromnumeric.py:86: RuntimeWarning: invalid value encountered in reduce\n",
      "  return ufunc.reduce(obj, axis, dtype, out, **passkwargs)\n",
      "C:\\ProgramData\\Miniconda3\\envs\\foo\\lib\\site-packages\\pandas\\core\\arraylike.py:358: RuntimeWarning: invalid value encountered in minimum\n",
      "  result = getattr(ufunc, method)(*inputs, **kwargs)\n",
      "C:\\ProgramData\\Miniconda3\\envs\\foo\\lib\\site-packages\\numpy\\core\\fromnumeric.py:86: RuntimeWarning: invalid value encountered in reduce\n",
      "  return ufunc.reduce(obj, axis, dtype, out, **passkwargs)\n",
      "C:\\ProgramData\\Miniconda3\\envs\\foo\\lib\\site-packages\\pandas\\core\\arraylike.py:358: RuntimeWarning: invalid value encountered in minimum\n",
      "  result = getattr(ufunc, method)(*inputs, **kwargs)\n",
      "C:\\ProgramData\\Miniconda3\\envs\\foo\\lib\\site-packages\\numpy\\core\\fromnumeric.py:86: RuntimeWarning: invalid value encountered in reduce\n",
      "  return ufunc.reduce(obj, axis, dtype, out, **passkwargs)\n",
      "C:\\ProgramData\\Miniconda3\\envs\\foo\\lib\\site-packages\\pandas\\core\\arraylike.py:358: RuntimeWarning: invalid value encountered in minimum\n",
      "  result = getattr(ufunc, method)(*inputs, **kwargs)\n",
      "C:\\ProgramData\\Miniconda3\\envs\\foo\\lib\\site-packages\\numpy\\core\\fromnumeric.py:86: RuntimeWarning: invalid value encountered in reduce\n",
      "  return ufunc.reduce(obj, axis, dtype, out, **passkwargs)\n"
     ]
    }
   ],
   "source": [
    "elc.step1_calculate_TAM()"
   ]
  },
  {
   "cell_type": "code",
   "execution_count": null,
   "metadata": {},
   "outputs": [],
   "source": []
  }
 ],
 "metadata": {
  "interpreter": {
   "hash": "641170e26b916086f6ab8a8498639d254e86adadac2c3bbb49fa49caa88ce61e"
  },
  "kernelspec": {
   "display_name": "Python 3 (ipykernel)",
   "language": "python",
   "name": "python3"
  },
  "language_info": {
   "codemirror_mode": {
    "name": "ipython",
    "version": 3
   },
   "file_extension": ".py",
   "mimetype": "text/x-python",
   "name": "python",
   "nbconvert_exporter": "python",
   "pygments_lexer": "ipython3",
   "version": "3.9.6"
  }
 },
 "nbformat": 4,
 "nbformat_minor": 2
}

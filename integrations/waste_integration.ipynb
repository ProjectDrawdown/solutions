{
 "cells": [
  {
   "cell_type": "code",
   "execution_count": 1,
   "id": "dc55e2bc",
   "metadata": {
    "ExecuteTime": {
     "end_time": "2021-08-31T20:01:05.288209Z",
     "start_time": "2021-08-31T20:01:04.765167Z"
    }
   },
   "outputs": [],
   "source": [
    "import sys\n",
    "sys.path.append('../')   # If you move this notebook to another location, change this path to point to the root directory of the solutions project\n",
    "import importlib\n",
    "\n",
    "import pandas as pd\n",
    "from pathlib import Path\n",
    "from integrations import waste_integration as wi\n",
    "from model import sma\n",
    "\n",
    "wi.load_default_values()\n",
    "\n",
    "pd.set_option('display.float_format', lambda x: f\"{x:03.5f}\".rstrip('0'))"
   ]
  },
  {
   "cell_type": "code",
   "execution_count": 11,
   "id": "81c2aae8",
   "metadata": {
    "ExecuteTime": {
     "end_time": "2021-08-31T20:06:32.573717Z",
     "start_time": "2021-08-31T20:06:32.549673Z"
    }
   },
   "outputs": [],
   "source": [
    "importlib.reload(wi)\n",
    "wi.load_default_values()"
   ]
  },
  {
   "cell_type": "markdown",
   "id": "ab1804ed",
   "metadata": {},
   "source": [
    "Table 1: Composite Mt MSW from multiples sources: Using data from the Intergovernmental Panel on Climate Change (IPCC), 2006; Hoornweg & Bhada-Tata (2012);Bahor, et al(2009); Hoornweg et al (2015); and the International Energy Agency (IEA),2016, using a best fit trend analysis and extrapolation, a composite measure of prognosticated MSW from 2015-2060"
   ]
  },
  {
   "cell_type": "markdown",
   "id": "465ab60c",
   "metadata": {},
   "source": [
    "Table 2: Composite Mt MSW Organic Fraction: Using waste fraction data from the Intergovernmental Panel on Climate Change (IPCC), 2006 and Hoornweg & Bhada-Tata (2012) a forecast for the organic fraction of MSW is devloped for Drawdown regions and the World.  Food waste and \"green material\" is considered organic fraction.  Soiled paper may be considered \"green material\" in some regions, but paper waste is allocated elsewhere.  Green material includes landscape waste and certain debris.  This forecast becomes the TAM for Composting and is directly affected by reductions in food waste and an increase in Bioplastics production and a simulataneous, but distinct forecast in compostability of bioplastic.  When bioplastic is considered compostable it moves to the organic fraction."
   ]
  },
  {
   "cell_type": "code",
   "execution_count": 12,
   "id": "309904cc",
   "metadata": {
    "ExecuteTime": {
     "end_time": "2021-08-31T20:06:36.655466Z",
     "start_time": "2021-08-31T20:06:36.632465Z"
    }
   },
   "outputs": [
    {
     "data": {
      "text/html": [
       "<div>\n",
       "<style scoped>\n",
       "    .dataframe tbody tr th:only-of-type {\n",
       "        vertical-align: middle;\n",
       "    }\n",
       "\n",
       "    .dataframe tbody tr th {\n",
       "        vertical-align: top;\n",
       "    }\n",
       "\n",
       "    .dataframe thead th {\n",
       "        text-align: right;\n",
       "    }\n",
       "</style>\n",
       "<table border=\"1\" class=\"dataframe\">\n",
       "  <thead>\n",
       "    <tr style=\"text-align: right;\">\n",
       "      <th></th>\n",
       "      <th>World</th>\n",
       "      <th>OECD90</th>\n",
       "      <th>Eastern Europe</th>\n",
       "      <th>Asia (Sans Japan)</th>\n",
       "      <th>Middle East and Africa</th>\n",
       "      <th>Latin America</th>\n",
       "      <th>China</th>\n",
       "      <th>India</th>\n",
       "      <th>EU</th>\n",
       "      <th>USA</th>\n",
       "    </tr>\n",
       "    <tr>\n",
       "      <th>Year</th>\n",
       "      <th></th>\n",
       "      <th></th>\n",
       "      <th></th>\n",
       "      <th></th>\n",
       "      <th></th>\n",
       "      <th></th>\n",
       "      <th></th>\n",
       "      <th></th>\n",
       "      <th></th>\n",
       "      <th></th>\n",
       "    </tr>\n",
       "  </thead>\n",
       "  <tbody>\n",
       "    <tr>\n",
       "      <th>2014</th>\n",
       "      <td>804.141975</td>\n",
       "      <td>315.515461</td>\n",
       "      <td>22.683366</td>\n",
       "      <td>129.094524</td>\n",
       "      <td>232.848243</td>\n",
       "      <td>103.766553</td>\n",
       "      <td>105.421726</td>\n",
       "      <td>130.151850</td>\n",
       "      <td>96.544192</td>\n",
       "      <td>63.433059</td>\n",
       "    </tr>\n",
       "    <tr>\n",
       "      <th>2015</th>\n",
       "      <td>852.016766</td>\n",
       "      <td>334.299752</td>\n",
       "      <td>24.033825</td>\n",
       "      <td>136.780199</td>\n",
       "      <td>246.710920</td>\n",
       "      <td>109.944320</td>\n",
       "      <td>111.698035</td>\n",
       "      <td>137.900473</td>\n",
       "      <td>102.291974</td>\n",
       "      <td>67.209562</td>\n",
       "    </tr>\n",
       "    <tr>\n",
       "      <th>2016</th>\n",
       "      <td>888.931264</td>\n",
       "      <td>348.783631</td>\n",
       "      <td>25.075115</td>\n",
       "      <td>142.706341</td>\n",
       "      <td>257.399924</td>\n",
       "      <td>114.707770</td>\n",
       "      <td>116.537466</td>\n",
       "      <td>143.875152</td>\n",
       "      <td>106.723879</td>\n",
       "      <td>70.121485</td>\n",
       "    </tr>\n",
       "    <tr>\n",
       "      <th>2017</th>\n",
       "      <td>916.580932</td>\n",
       "      <td>359.632334</td>\n",
       "      <td>25.855062</td>\n",
       "      <td>147.145135</td>\n",
       "      <td>265.406192</td>\n",
       "      <td>118.275686</td>\n",
       "      <td>120.162294</td>\n",
       "      <td>148.350301</td>\n",
       "      <td>110.043460</td>\n",
       "      <td>72.302571</td>\n",
       "    </tr>\n",
       "    <tr>\n",
       "      <th>2018</th>\n",
       "      <td>947.556992</td>\n",
       "      <td>371.786190</td>\n",
       "      <td>26.728839</td>\n",
       "      <td>152.117938</td>\n",
       "      <td>274.375654</td>\n",
       "      <td>122.272840</td>\n",
       "      <td>124.223206</td>\n",
       "      <td>153.363833</td>\n",
       "      <td>113.762404</td>\n",
       "      <td>74.746053</td>\n",
       "    </tr>\n",
       "  </tbody>\n",
       "</table>\n",
       "</div>"
      ],
      "text/plain": [
       "           World      OECD90  Eastern Europe  Asia (Sans Japan)  \\\n",
       "Year                                                              \n",
       "2014  804.141975  315.515461       22.683366         129.094524   \n",
       "2015  852.016766  334.299752       24.033825         136.780199   \n",
       "2016  888.931264  348.783631       25.075115         142.706341   \n",
       "2017  916.580932  359.632334       25.855062         147.145135   \n",
       "2018  947.556992  371.786190       26.728839         152.117938   \n",
       "\n",
       "      Middle East and Africa  Latin America       China       India  \\\n",
       "Year                                                                  \n",
       "2014              232.848243     103.766553  105.421726  130.151850   \n",
       "2015              246.710920     109.944320  111.698035  137.900473   \n",
       "2016              257.399924     114.707770  116.537466  143.875152   \n",
       "2017              265.406192     118.275686  120.162294  148.350301   \n",
       "2018              274.375654     122.272840  124.223206  153.363833   \n",
       "\n",
       "              EU        USA  \n",
       "Year                         \n",
       "2014   96.544192  63.433059  \n",
       "2015  102.291974  67.209562  \n",
       "2016  106.723879  70.121485  \n",
       "2017  110.043460  72.302571  \n",
       "2018  113.762404  74.746053  "
      ]
     },
     "execution_count": 12,
     "metadata": {},
     "output_type": "execute_result"
    }
   ],
   "source": [
    "wi.get_compost_organic_fraction().head()"
   ]
  },
  {
   "cell_type": "markdown",
   "id": "447de45b",
   "metadata": {},
   "source": [
    "Table 3: Composite Mt MSW Recycleable Fraction (This is TAM for Recycling); Does NOT Include Paper. This is developed from multiple sources including  the Intergovernmental Panel on Climate Change (IPCC), 2006; Hoornweg & Bhada-Tata (2012);Bahor, et al(2009); Hoornweg et al (2015)."
   ]
  },
  {
   "cell_type": "code",
   "execution_count": 13,
   "id": "bee1afd0",
   "metadata": {
    "ExecuteTime": {
     "end_time": "2021-08-31T20:06:43.945479Z",
     "start_time": "2021-08-31T20:06:43.923219Z"
    },
    "scrolled": true
   },
   "outputs": [
    {
     "data": {
      "text/html": [
       "<div>\n",
       "<style scoped>\n",
       "    .dataframe tbody tr th:only-of-type {\n",
       "        vertical-align: middle;\n",
       "    }\n",
       "\n",
       "    .dataframe tbody tr th {\n",
       "        vertical-align: top;\n",
       "    }\n",
       "\n",
       "    .dataframe thead th {\n",
       "        text-align: right;\n",
       "    }\n",
       "</style>\n",
       "<table border=\"1\" class=\"dataframe\">\n",
       "  <thead>\n",
       "    <tr style=\"text-align: right;\">\n",
       "      <th></th>\n",
       "      <th>World</th>\n",
       "      <th>OECD90</th>\n",
       "      <th>Eastern Europe</th>\n",
       "      <th>Asia (Sans Japan)</th>\n",
       "      <th>Middle East and Africa</th>\n",
       "      <th>Latin America</th>\n",
       "    </tr>\n",
       "    <tr>\n",
       "      <th>Year</th>\n",
       "      <th></th>\n",
       "      <th></th>\n",
       "      <th></th>\n",
       "      <th></th>\n",
       "      <th></th>\n",
       "      <th></th>\n",
       "    </tr>\n",
       "  </thead>\n",
       "  <tbody>\n",
       "    <tr>\n",
       "      <th>2014</th>\n",
       "      <td>627.405333</td>\n",
       "      <td>185.217583</td>\n",
       "      <td>29.540125</td>\n",
       "      <td>90.921071</td>\n",
       "      <td>248.202177</td>\n",
       "      <td>73.523749</td>\n",
       "    </tr>\n",
       "    <tr>\n",
       "      <th>2015</th>\n",
       "      <td>657.888723</td>\n",
       "      <td>194.216646</td>\n",
       "      <td>30.975375</td>\n",
       "      <td>95.338602</td>\n",
       "      <td>260.261437</td>\n",
       "      <td>77.096006</td>\n",
       "    </tr>\n",
       "    <tr>\n",
       "      <th>2016</th>\n",
       "      <td>676.360744</td>\n",
       "      <td>199.669808</td>\n",
       "      <td>31.845093</td>\n",
       "      <td>98.015494</td>\n",
       "      <td>267.568987</td>\n",
       "      <td>79.260687</td>\n",
       "    </tr>\n",
       "    <tr>\n",
       "      <th>2017</th>\n",
       "      <td>693.981010</td>\n",
       "      <td>204.871522</td>\n",
       "      <td>32.674708</td>\n",
       "      <td>100.568952</td>\n",
       "      <td>274.539582</td>\n",
       "      <td>81.325553</td>\n",
       "    </tr>\n",
       "    <tr>\n",
       "      <th>2018</th>\n",
       "      <td>710.783477</td>\n",
       "      <td>209.831812</td>\n",
       "      <td>33.465818</td>\n",
       "      <td>103.003898</td>\n",
       "      <td>281.186654</td>\n",
       "      <td>83.294583</td>\n",
       "    </tr>\n",
       "  </tbody>\n",
       "</table>\n",
       "</div>"
      ],
      "text/plain": [
       "           World      OECD90  Eastern Europe  Asia (Sans Japan)  \\\n",
       "Year                                                              \n",
       "2014  627.405333  185.217583       29.540125          90.921071   \n",
       "2015  657.888723  194.216646       30.975375          95.338602   \n",
       "2016  676.360744  199.669808       31.845093          98.015494   \n",
       "2017  693.981010  204.871522       32.674708         100.568952   \n",
       "2018  710.783477  209.831812       33.465818         103.003898   \n",
       "\n",
       "      Middle East and Africa  Latin America  \n",
       "Year                                         \n",
       "2014              248.202177      73.523749  \n",
       "2015              260.261437      77.096006  \n",
       "2016              267.568987      79.260687  \n",
       "2017              274.539582      81.325553  \n",
       "2018              281.186654      83.294583  "
      ]
     },
     "execution_count": 13,
     "metadata": {},
     "output_type": "execute_result"
    }
   ],
   "source": [
    "wi.get_waste_recyclable_fraction().head()"
   ]
  },
  {
   "cell_type": "markdown",
   "id": "858ec707",
   "metadata": {},
   "source": [
    "Table 4: Composite Mt MSW Remainder Fraction (This should include Paper + others not included in Recyclable).  This is calculated by subtracting Table 2 and Table 3 values from Table 1 values. I.e., Total MSW - Organic fraction - Recycleable fraction = Remainder fraction."
   ]
  },
  {
   "cell_type": "code",
   "execution_count": 14,
   "id": "20d08c3d",
   "metadata": {
    "ExecuteTime": {
     "end_time": "2021-08-31T20:06:47.836901Z",
     "start_time": "2021-08-31T20:06:47.800103Z"
    }
   },
   "outputs": [
    {
     "data": {
      "text/html": [
       "<div>\n",
       "<style scoped>\n",
       "    .dataframe tbody tr th:only-of-type {\n",
       "        vertical-align: middle;\n",
       "    }\n",
       "\n",
       "    .dataframe tbody tr th {\n",
       "        vertical-align: top;\n",
       "    }\n",
       "\n",
       "    .dataframe thead th {\n",
       "        text-align: right;\n",
       "    }\n",
       "</style>\n",
       "<table border=\"1\" class=\"dataframe\">\n",
       "  <thead>\n",
       "    <tr style=\"text-align: right;\">\n",
       "      <th></th>\n",
       "      <th>World</th>\n",
       "      <th>OECD90</th>\n",
       "      <th>Eastern Europe</th>\n",
       "      <th>Asia (Sans Japan)</th>\n",
       "      <th>Middle East and Africa</th>\n",
       "      <th>Latin America</th>\n",
       "      <th>China</th>\n",
       "      <th>India</th>\n",
       "      <th>EU</th>\n",
       "      <th>USA</th>\n",
       "    </tr>\n",
       "    <tr>\n",
       "      <th>Year</th>\n",
       "      <th></th>\n",
       "      <th></th>\n",
       "      <th></th>\n",
       "      <th></th>\n",
       "      <th></th>\n",
       "      <th></th>\n",
       "      <th></th>\n",
       "      <th></th>\n",
       "      <th></th>\n",
       "      <th></th>\n",
       "    </tr>\n",
       "  </thead>\n",
       "  <tbody>\n",
       "    <tr>\n",
       "      <th>2014</th>\n",
       "      <td>341.786025</td>\n",
       "      <td>30.608280</td>\n",
       "      <td>124.709843</td>\n",
       "      <td>527.369564</td>\n",
       "      <td>-225.738320</td>\n",
       "      <td>46.273854</td>\n",
       "      <td>NaN</td>\n",
       "      <td>NaN</td>\n",
       "      <td>NaN</td>\n",
       "      <td>NaN</td>\n",
       "    </tr>\n",
       "    <tr>\n",
       "      <th>2015</th>\n",
       "      <td>359.627682</td>\n",
       "      <td>20.827159</td>\n",
       "      <td>115.220216</td>\n",
       "      <td>545.707916</td>\n",
       "      <td>-237.845310</td>\n",
       "      <td>45.520972</td>\n",
       "      <td>NaN</td>\n",
       "      <td>NaN</td>\n",
       "      <td>NaN</td>\n",
       "      <td>NaN</td>\n",
       "    </tr>\n",
       "    <tr>\n",
       "      <th>2016</th>\n",
       "      <td>367.167261</td>\n",
       "      <td>9.023387</td>\n",
       "      <td>112.115908</td>\n",
       "      <td>559.526143</td>\n",
       "      <td>-243.761276</td>\n",
       "      <td>45.302372</td>\n",
       "      <td>NaN</td>\n",
       "      <td>NaN</td>\n",
       "      <td>NaN</td>\n",
       "      <td>NaN</td>\n",
       "    </tr>\n",
       "    <tr>\n",
       "      <th>2017</th>\n",
       "      <td>383.063482</td>\n",
       "      <td>0.683960</td>\n",
       "      <td>109.450226</td>\n",
       "      <td>574.426362</td>\n",
       "      <td>-246.735360</td>\n",
       "      <td>46.233763</td>\n",
       "      <td>NaN</td>\n",
       "      <td>NaN</td>\n",
       "      <td>NaN</td>\n",
       "      <td>NaN</td>\n",
       "    </tr>\n",
       "    <tr>\n",
       "      <th>2018</th>\n",
       "      <td>394.760274</td>\n",
       "      <td>-9.126417</td>\n",
       "      <td>106.860629</td>\n",
       "      <td>588.394889</td>\n",
       "      <td>-250.415804</td>\n",
       "      <td>46.690431</td>\n",
       "      <td>NaN</td>\n",
       "      <td>NaN</td>\n",
       "      <td>NaN</td>\n",
       "      <td>NaN</td>\n",
       "    </tr>\n",
       "  </tbody>\n",
       "</table>\n",
       "</div>"
      ],
      "text/plain": [
       "           World     OECD90  Eastern Europe  Asia (Sans Japan)  \\\n",
       "Year                                                             \n",
       "2014  341.786025  30.608280      124.709843         527.369564   \n",
       "2015  359.627682  20.827159      115.220216         545.707916   \n",
       "2016  367.167261   9.023387      112.115908         559.526143   \n",
       "2017  383.063482   0.683960      109.450226         574.426362   \n",
       "2018  394.760274  -9.126417      106.860629         588.394889   \n",
       "\n",
       "      Middle East and Africa  Latin America  China  India  EU  USA  \n",
       "Year                                                                \n",
       "2014             -225.738320      46.273854    NaN    NaN NaN  NaN  \n",
       "2015             -237.845310      45.520972    NaN    NaN NaN  NaN  \n",
       "2016             -243.761276      45.302372    NaN    NaN NaN  NaN  \n",
       "2017             -246.735360      46.233763    NaN    NaN NaN  NaN  \n",
       "2018             -250.415804      46.690431    NaN    NaN NaN  NaN  "
      ]
     },
     "execution_count": 14,
     "metadata": {},
     "output_type": "execute_result"
    }
   ],
   "source": [
    "wi.get_waste_remainder().head()"
   ]
  },
  {
   "cell_type": "markdown",
   "id": "10884713",
   "metadata": {},
   "source": [
    "Table 5: Plastic Fraction:  Not all plastic produced each year enters MSW.  This estimates plastic in MSW based on benchmark from World Bank 2018. 12% of MSW is plastics."
   ]
  },
  {
   "cell_type": "markdown",
   "id": "2fcdc09c",
   "metadata": {},
   "source": [
    "Table 6: Global Waste fractions Pre-Integration:  This is calculated by dividing each table of values corresponding to each MSW fraction by the table of values in Table 1.  It is presented here for benchmarking and callibration"
   ]
  },
  {
   "attachments": {},
   "cell_type": "markdown",
   "id": "759ee5d0",
   "metadata": {},
   "source": [
    "## INTEGRATION -  1st Order and 2nd Order"
   ]
  },
  {
   "cell_type": "markdown",
   "id": "e5ef9a2c",
   "metadata": {},
   "source": [
    "Table 7: Reduction in Food Waste: This is the adoption of reduction of food waste measure in Mt (includes only food waste reduction in 'Distribution' and 'Consumption' stages of Food System"
   ]
  },
  {
   "cell_type": "markdown",
   "id": "12c41449",
   "metadata": {},
   "source": [
    "Table 8: Reduce Total MSW by Reduction in Food Waste: First step in Waste and Materials integration is to subtract reduction in food waste from total MSW forecast. Table 1 - Table 7 values."
   ]
  },
  {
   "cell_type": "markdown",
   "id": "5a3a42db",
   "metadata": {},
   "source": [
    "Table 9: Reduce Organic MSW by Reduction in Food Waste: Substracting the reduction in food waste from the organic fraction revises the TAM for Composting by limiting the amount of organic material in MSW that can be composted. Table2 - Table 7 values."
   ]
  },
  {
   "cell_type": "markdown",
   "id": "b7c6205d",
   "metadata": {},
   "source": [
    "Table 10. World Adoption of Bioplastics: This is the global adoption of bioplastics.  Each year bioplastics are produced it is assumed that an equivalent amount will enter MSW."
   ]
  },
  {
   "cell_type": "markdown",
   "id": "6ac05523",
   "metadata": {},
   "source": [
    "Table 11: % of Bioplastics assumed to be compostable:  "
   ]
  },
  {
   "cell_type": "markdown",
   "id": "ae3a6682",
   "metadata": {},
   "source": [
    "Table 12: Total World MSW after reduction in Food Waste:  Restatement of Table 8."
   ]
  },
  {
   "cell_type": "markdown",
   "id": "7498cd21",
   "metadata": {},
   "source": [
    "Table 13: Total World Organic MSW after reduction in Food Waste and with addition of a % of Bioplastics.  Add compostable Bioplastics disposed into MSW into Organic Fraction.  This impacts the TAM for Composting.  The calculation is Table 9 + Table 10 multiplied by values in Table 11"
   ]
  },
  {
   "cell_type": "markdown",
   "id": "a26b2e4c",
   "metadata": {},
   "source": [
    "Table 14: Total world recyblable MSW after subraction of % bioplasitcs (assumes material would otherwise have been recylable plastic)"
   ]
  },
  {
   "cell_type": "markdown",
   "id": "fc5d8a1a",
   "metadata": {},
   "source": [
    "Table 15: Total World Remainder MSW after subtraction of reduced food waste and fraction mix change due to bioplastics (not Organics and Not Recyclables) DOES include Paper.  Table 12- Table 13 - Table 14"
   ]
  },
  {
   "cell_type": "markdown",
   "id": "5de9f7af",
   "metadata": {},
   "source": [
    "Table 16: Total World Plastic MSW (after subtraction of Bioplastics).  Table 5 - Table 10. Assumption - equivalent amount of bioplastics would make it to MSW (**this might be revised in the future to assume same MSW rate as plastics)."
   ]
  },
  {
   "cell_type": "markdown",
   "id": "bdd3b9ec",
   "metadata": {},
   "source": [
    "Table 17: Global Waste fractions Post-1st and 2nd Order Integration.  Characterizing world MSW fractions after subtraction of reduced food waste and mix shift from Bioplastics.  Used for benchmarking and calibration."
   ]
  },
  {
   "cell_type": "markdown",
   "id": "dfe0b45e",
   "metadata": {},
   "source": [
    "## Integrated PDS 1 Adoptions in Consideration of Integrated MSW TAM (post 2nd Order Integration)"
   ]
  },
  {
   "cell_type": "markdown",
   "id": "e1f86026",
   "metadata": {},
   "source": [
    "Table 18: PDS 1 Adoption of Compost.  If % of Organic MSW fraction exceeds 100% than feedstock limitation applied and adoption is curtailed to match available feedstock.  % is calculated by Table 18 / Table 13."
   ]
  },
  {
   "cell_type": "markdown",
   "id": "2bfc1439",
   "metadata": {},
   "source": [
    "Table 19: PDS 1 Adoption of Commercial and Household Recycling.   If % of Recycleable MSW fraction exceeds 100% than feedstock limitation applied and adoption is curtailed to match available feedstock.  % is calculated by Table 19 / Table 14."
   ]
  },
  {
   "cell_type": "markdown",
   "id": "3ba25473",
   "metadata": {},
   "source": [
    "Table 20: Global MSW Fractions after Composting, Household and Commercial Recycling, but before Paper Recycling.  Used for Benchmarking. "
   ]
  },
  {
   "cell_type": "markdown",
   "id": "fcee2f32",
   "metadata": {},
   "source": [
    "Table 21: PDS 1 Recycled Paper Adoption.  Benchmark of Remainder Portion of Global MSW presented to benchmark that Adoption of Recycled Paper does not exceed paper available in anuual MSW."
   ]
  },
  {
   "cell_type": "markdown",
   "id": "ad4fa59f",
   "metadata": {},
   "source": [
    "Table 22: Remaining MSW (Mt) after PDS 1 Composting, Household and Commercial Recycling and Recycled Paper adoption have reduced amount of global MSW.  Fractions are used for benchmarking as percentages and for adjusting LHV for WTE."
   ]
  },
  {
   "cell_type": "markdown",
   "id": "a7607e96",
   "metadata": {},
   "source": [
    "Table 23: MSW to WtE - Pre-Integration.  These are inputs to sheet WTE Tonnes and Composition.  The available world waste feedstock for Waste to Energy conversaion is determined as the minimum of the results from calculations on sheet WTE Tonnes and Composition based on TWh adoption scenarios for WTE or the remaining waste available per table 22.  The average LHV is calculated per the changing mix of waste materials calculated in table 22"
   ]
  },
  {
   "cell_type": "markdown",
   "id": "a836d045",
   "metadata": {},
   "source": [
    "Table 24: Remaining MSW (Mt) to be Landfilled.  The amount of material landfilled is calculated be subtracting the values in Table 23 from the values in Table 22.  "
   ]
  },
  {
   "cell_type": "markdown",
   "id": "0bb78304",
   "metadata": {},
   "source": [
    "## INTEGRATION -  MSW Fraction Analysis with Attention to Paper fraction, Organic fraction/Degradable Carbon Fraction"
   ]
  },
  {
   "cell_type": "markdown",
   "id": "8a2f99dc",
   "metadata": {},
   "source": [
    "Table 25: Take total food waste as a % of organic fraction.  Add in Bioplastics.  Assess the remainder.  This table is used for benchmarking."
   ]
  },
  {
   "cell_type": "markdown",
   "id": "a8e9d4c8",
   "metadata": {},
   "source": [
    "Table 26 Analysis of 'Remainder' Fraction post 2nd Order Integration to evaluate possible 'TAM' for Recycle Paper.  "
   ]
  },
  {
   "cell_type": "markdown",
   "id": "cac7d81b",
   "metadata": {},
   "source": [
    "Table 27: Solutions Impact on MSW"
   ]
  },
  {
   "cell_type": "markdown",
   "id": "73c6bda3",
   "metadata": {},
   "source": [
    "Table 28: MSW Fraction Detail Post Materials Solutions"
   ]
  },
  {
   "cell_type": "markdown",
   "id": "90287529",
   "metadata": {},
   "source": [
    "Table 29: Solutions Impact on MSW"
   ]
  },
  {
   "cell_type": "code",
   "execution_count": null,
   "id": "80474aab",
   "metadata": {},
   "outputs": [],
   "source": []
  },
  {
   "cell_type": "code",
   "execution_count": null,
   "id": "b7a52f93",
   "metadata": {},
   "outputs": [],
   "source": []
  },
  {
   "cell_type": "code",
   "execution_count": null,
   "id": "f64fd6e0",
   "metadata": {},
   "outputs": [],
   "source": []
  },
  {
   "cell_type": "code",
   "execution_count": null,
   "id": "44165fcf",
   "metadata": {},
   "outputs": [],
   "source": []
  },
  {
   "cell_type": "code",
   "execution_count": null,
   "id": "bfe62443",
   "metadata": {},
   "outputs": [],
   "source": []
  },
  {
   "cell_type": "markdown",
   "id": "f8e0165c",
   "metadata": {},
   "source": [
    "# Extraction Logic\n",
    "\n",
    "Notes:\n",
    "\n",
    "List of sheets:\n",
    "\n",
    "* Table of Contents, Overview\n",
    "* MSW Integration Calcs PDS1, PDS2, PDS3\n",
    "* WTE Tonnes and Composition\n",
    "* WTE and LM Analysis\n",
    "* Landfill Methane\n",
    "* Food System Summary\n",
    "* Paper\n",
    "* Compost\n",
    "* H&C Recycling\n",
    "* Bioplastics\n",
    "* Refrigerant Management\n",
    "* Total MSW TAM Data_Updated2020\n",
    "* Total MSW Summaries_Updated2020\n",
    "* Background sheets:  What a Waste 2.0, IPCC (2019 Refinement), UNEP Global Waste Management, USA Data- EPA, India Data, EU Data\n",
    "* Total MSW Sumamaries (Archive)\n",
    "* Total MSW TAM Data (Archive)\n",
    "\n",
    "Analysis of formula references:\n",
    "```\n",
    "    (PDS1, PDS2, PDS3) <--> (WTE Tonnes & Composition, Paper, Compost, Recycling)\n",
    "    (PDS1, PDS2, PDS3) <-- Food System Summary\n",
    "    PDS1 <--> Bioplastics\n",
    "    (WTE Tonnes & Composition <--> WTE and LM Analysis <--> Landfill Methane)  <-- (PDS1, PDS2, PDS3)\n",
    "    Refrigerant Management  <-->  None\n",
    "```\n",
    "That is, PDS1,2,3 are both input and output for the topic tabs, and the Waste & Landfill Methand tabs are a tightly bound cluster.  Refrigerant Management is isolated, as are all the background sheets, and the MSW TAM Update.\n",
    "\n",
    "For some reason Bioplastics are tied only with PDS1?\n",
    "\n",
    "The instruction document is quite detailed and helpful.  We'll mostly follow along."
   ]
  },
  {
   "cell_type": "code",
   "execution_count": 2,
   "id": "19faa5d3",
   "metadata": {
    "ExecuteTime": {
     "end_time": "2021-08-30T05:21:32.156695Z",
     "start_time": "2021-08-30T05:21:31.562693Z"
    }
   },
   "outputs": [],
   "source": [
    "import openpyxl\n",
    "from model import sma\n",
    "from tools import sma_xls_extract\n",
    "import warnings\n",
    "\n",
    "warnings.simplefilter(\"ignore\")  # silence openpyxl warnings"
   ]
  },
  {
   "cell_type": "code",
   "execution_count": 7,
   "id": "2de0c078",
   "metadata": {
    "ExecuteTime": {
     "end_time": "2021-08-30T06:40:00.345479Z",
     "start_time": "2021-08-30T06:40:00.321478Z"
    }
   },
   "outputs": [
    {
     "data": {
      "text/plain": [
       "<module 'model.sma' from 'C:\\\\Working\\\\solutions\\\\integrations\\\\..\\\\model\\\\sma.py'>"
      ]
     },
     "execution_count": 7,
     "metadata": {},
     "output_type": "execute_result"
    }
   ],
   "source": [
    "import importlib\n",
    "importlib.reload(sma)"
   ]
  },
  {
   "cell_type": "code",
   "execution_count": 8,
   "id": "01e03876",
   "metadata": {
    "ExecuteTime": {
     "end_time": "2021-08-30T05:27:04.154731Z",
     "start_time": "2021-08-30T05:27:00.934219Z"
    }
   },
   "outputs": [],
   "source": [
    "excel_file = Path(r'C:\\Working\\Integrations\\Materials and Waste Integration Analysis_June2020.xlsm')\n",
    "wb = openpyxl.load_workbook(excel_file, data_only=True, keep_links=False)"
   ]
  },
  {
   "cell_type": "markdown",
   "id": "929e652f",
   "metadata": {},
   "source": [
    "### Waste TAM"
   ]
  },
  {
   "cell_type": "code",
   "execution_count": 9,
   "id": "7f07be35",
   "metadata": {
    "ExecuteTime": {
     "end_time": "2021-08-30T05:27:11.813886Z",
     "start_time": "2021-08-30T05:27:08.603169Z"
    }
   },
   "outputs": [],
   "source": [
    "# Step one:  Save the \"Waste TAM\" to a data file.\n",
    "# (Note: the instructions say to update the Waste TAM from another integration step; for now \n",
    "# are just going to assume this has been done already)\n",
    "wastetam = sma_xls_extract.extract_sma(wb, 'Total MSW TAM Data_Updated2020', year_col='B', \n",
    "                                       start_row=41, use_functional_unit=True)"
   ]
  },
  {
   "cell_type": "code",
   "execution_count": 10,
   "id": "88b8f3a3",
   "metadata": {
    "ExecuteTime": {
     "end_time": "2021-08-30T05:27:16.565106Z",
     "start_time": "2021-08-30T05:27:16.557144Z"
    }
   },
   "outputs": [
    {
     "data": {
      "text/plain": [
       "{'World': {'Base Cases': ['S1', 'S2'], 'Conservative Cases': ['S3']},\n",
       " 'OECD90': {'Base Cases': ['S1', 'S2'], 'Ambitious Cases': ['S4']},\n",
       " 'Eastern Europe': {'Base Cases': ['S1', 'S2'], 'Ambitious Cases': ['S4']},\n",
       " 'Asia (Sans Japan)': {'Base Cases': ['S1', 'S2'], 'Ambitious Cases': ['S4']},\n",
       " 'Middle East and Africa': {'Base Cases': ['S1', 'S2', 'S5'],\n",
       "  'Ambitious Cases': ['S4']},\n",
       " 'Latin America': {'Base Cases': ['S1', 'S2'], 'Ambitious Cases': ['S4']},\n",
       " 'China': {'Base Cases': ['S6'], 'Ambitious Cases': ['S7']},\n",
       " 'India': {'Base Cases': ['S6', 'S8'], 'Ambitious Cases': ['S7', 'S9']},\n",
       " 'EU': {'Base Cases': ['S6', 'S10'], 'Ambitious Cases': ['S7']},\n",
       " 'USA': {'Base Cases': ['S6', 'S11'], 'Ambitious Cases': ['S7']}}"
      ]
     },
     "execution_count": 10,
     "metadata": {},
     "output_type": "execute_result"
    }
   ],
   "source": [
    "wastetam.region_cases"
   ]
  },
  {
   "cell_type": "code",
   "execution_count": 11,
   "id": "decbae5d",
   "metadata": {
    "ExecuteTime": {
     "end_time": "2021-08-30T05:27:33.501240Z",
     "start_time": "2021-08-30T05:27:33.477276Z"
    }
   },
   "outputs": [],
   "source": [
    "wastetam.write(r'data\\msw','waste_tam')"
   ]
  },
  {
   "cell_type": "code",
   "execution_count": 7,
   "id": "f2700714",
   "metadata": {
    "ExecuteTime": {
     "end_time": "2021-08-30T05:26:51.146902Z",
     "start_time": "2021-08-30T05:26:51.138903Z"
    }
   },
   "outputs": [],
   "source": [
    "wb.close()"
   ]
  },
  {
   "cell_type": "code",
   "execution_count": 3,
   "id": "e5530ca7",
   "metadata": {
    "ExecuteTime": {
     "end_time": "2021-08-30T04:25:32.413127Z",
     "start_time": "2021-08-30T04:25:32.374723Z"
    }
   },
   "outputs": [],
   "source": [
    "wt2 = sma.SMA.read(r'data\\msw',\"waste_tam\")"
   ]
  },
  {
   "cell_type": "code",
   "execution_count": 6,
   "id": "f24faf01",
   "metadata": {
    "ExecuteTime": {
     "end_time": "2021-08-30T04:26:50.330695Z",
     "start_time": "2021-08-30T04:26:50.319697Z"
    }
   },
   "outputs": [
    {
     "data": {
      "text/html": [
       "<div>\n",
       "<style scoped>\n",
       "    .dataframe tbody tr th:only-of-type {\n",
       "        vertical-align: middle;\n",
       "    }\n",
       "\n",
       "    .dataframe tbody tr th {\n",
       "        vertical-align: top;\n",
       "    }\n",
       "\n",
       "    .dataframe thead th {\n",
       "        text-align: right;\n",
       "    }\n",
       "</style>\n",
       "<table border=\"1\" class=\"dataframe\">\n",
       "  <thead>\n",
       "    <tr style=\"text-align: right;\">\n",
       "      <th></th>\n",
       "      <th>Year</th>\n",
       "      <th>World</th>\n",
       "      <th>OECD90</th>\n",
       "      <th>Eastern Europe</th>\n",
       "      <th>Asia (Sans Japan)</th>\n",
       "      <th>Middle East and Africa</th>\n",
       "      <th>Latin America</th>\n",
       "    </tr>\n",
       "  </thead>\n",
       "  <tbody>\n",
       "    <tr>\n",
       "      <th>0</th>\n",
       "      <td>2012</td>\n",
       "      <td>1536.666667</td>\n",
       "      <td>520.994064</td>\n",
       "      <td>174.333333</td>\n",
       "      <td>714.887215</td>\n",
       "      <td>227.431963</td>\n",
       "      <td>215.467580</td>\n",
       "    </tr>\n",
       "    <tr>\n",
       "      <th>1</th>\n",
       "      <td>2013</td>\n",
       "      <td>1655.000000</td>\n",
       "      <td>526.167694</td>\n",
       "      <td>175.633333</td>\n",
       "      <td>731.136187</td>\n",
       "      <td>241.372032</td>\n",
       "      <td>219.515868</td>\n",
       "    </tr>\n",
       "    <tr>\n",
       "      <th>2</th>\n",
       "      <td>2014</td>\n",
       "      <td>1773.333333</td>\n",
       "      <td>531.341324</td>\n",
       "      <td>176.933333</td>\n",
       "      <td>747.385160</td>\n",
       "      <td>255.312100</td>\n",
       "      <td>223.564155</td>\n",
       "    </tr>\n",
       "    <tr>\n",
       "      <th>3</th>\n",
       "      <td>2015</td>\n",
       "      <td>1891.666667</td>\n",
       "      <td>536.514954</td>\n",
       "      <td>178.233333</td>\n",
       "      <td>763.634132</td>\n",
       "      <td>269.252169</td>\n",
       "      <td>227.612443</td>\n",
       "    </tr>\n",
       "    <tr>\n",
       "      <th>4</th>\n",
       "      <td>2016</td>\n",
       "      <td>2010.000000</td>\n",
       "      <td>535.700000</td>\n",
       "      <td>178.200000</td>\n",
       "      <td>769.100000</td>\n",
       "      <td>302.400000</td>\n",
       "      <td>230.800000</td>\n",
       "    </tr>\n",
       "  </tbody>\n",
       "</table>\n",
       "</div>"
      ],
      "text/plain": [
       "   Year        World      OECD90  Eastern Europe  Asia (Sans Japan)  Middle East and Africa  Latin America\n",
       "0  2012  1536.666667  520.994064      174.333333         714.887215              227.431963     215.467580\n",
       "1  2013  1655.000000  526.167694      175.633333         731.136187              241.372032     219.515868\n",
       "2  2014  1773.333333  531.341324      176.933333         747.385160              255.312100     223.564155\n",
       "3  2015  1891.666667  536.514954      178.233333         763.634132              269.252169     227.612443\n",
       "4  2016  2010.000000  535.700000      178.200000         769.100000              302.400000     230.800000"
      ]
     },
     "execution_count": 6,
     "metadata": {},
     "output_type": "execute_result"
    }
   ],
   "source": [
    "wt2.sources['S1'].data.head()"
   ]
  },
  {
   "cell_type": "markdown",
   "id": "d1f6c1b3",
   "metadata": {},
   "source": [
    "### Step Two: Subject Sources as SMAs"
   ]
  },
  {
   "cell_type": "code",
   "execution_count": 3,
   "id": "d053f31d",
   "metadata": {
    "ExecuteTime": {
     "end_time": "2021-08-31T05:14:26.537636Z",
     "start_time": "2021-08-31T05:14:26.514672Z"
    }
   },
   "outputs": [
    {
     "data": {
      "text/html": [
       "<div>\n",
       "<style scoped>\n",
       "    .dataframe tbody tr th:only-of-type {\n",
       "        vertical-align: middle;\n",
       "    }\n",
       "\n",
       "    .dataframe tbody tr th {\n",
       "        vertical-align: top;\n",
       "    }\n",
       "\n",
       "    .dataframe thead th {\n",
       "        text-align: right;\n",
       "    }\n",
       "</style>\n",
       "<table border=\"1\" class=\"dataframe\">\n",
       "  <thead>\n",
       "    <tr style=\"text-align: right;\">\n",
       "      <th></th>\n",
       "      <th>World</th>\n",
       "    </tr>\n",
       "    <tr>\n",
       "      <th>Year</th>\n",
       "      <th></th>\n",
       "    </tr>\n",
       "  </thead>\n",
       "  <tbody>\n",
       "    <tr>\n",
       "      <th>2012</th>\n",
       "      <td>44.831749</td>\n",
       "    </tr>\n",
       "    <tr>\n",
       "      <th>2013</th>\n",
       "      <td>45.099481</td>\n",
       "    </tr>\n",
       "    <tr>\n",
       "      <th>2014</th>\n",
       "      <td>45.346352</td>\n",
       "    </tr>\n",
       "    <tr>\n",
       "      <th>2015</th>\n",
       "      <td>45.573771</td>\n",
       "    </tr>\n",
       "    <tr>\n",
       "      <th>2016</th>\n",
       "      <td>46.000000</td>\n",
       "    </tr>\n",
       "  </tbody>\n",
       "</table>\n",
       "</div>"
      ],
      "text/plain": [
       "          World\n",
       "Year           \n",
       "2012  44.831749\n",
       "2013  45.099481\n",
       "2014  45.346352\n",
       "2015  45.573771\n",
       "2016  46.000000"
      ]
     },
     "execution_count": 3,
     "metadata": {},
     "output_type": "execute_result"
    }
   ],
   "source": [
    "# This is really just manual work, copying the current values of the tables, e.g. Compost!I3:J52 into SMA data format.\n",
    "# I suppose I could write code to do this, but it doesn't seem worth it.\n",
    "# Key note:  I change the number format to six digits precision before copying.\n",
    "# Other Note:  The instructions to the model say to get these data from the corresponding model (e.g. composting), \n",
    "# but this is not a part of those models we are saving or representing currently.\n",
    "# Example result:\n",
    "cf = sma.SMA.read( Path(\"data/msw\"), \"organic_compost_sma\" )\n",
    "cf.summary(case='S1').head()"
   ]
  },
  {
   "cell_type": "code",
   "execution_count": null,
   "id": "da4646a8",
   "metadata": {},
   "outputs": [],
   "source": []
  }
 ],
 "metadata": {
  "kernelspec": {
   "display_name": "Python 3 (ipykernel)",
   "language": "python",
   "name": "python3"
  },
  "language_info": {
   "codemirror_mode": {
    "name": "ipython",
    "version": 3
   },
   "file_extension": ".py",
   "mimetype": "text/x-python",
   "name": "python",
   "nbconvert_exporter": "python",
   "pygments_lexer": "ipython3",
   "version": "3.9.6"
  }
 },
 "nbformat": 4,
 "nbformat_minor": 5
}

{
 "cells": [
  {
   "cell_type": "markdown",
   "id": "12202c3d",
   "metadata": {},
   "source": [
    "# Overview\n",
    "\n",
    "> You may wish to make a copy of this notebook to avoid overwriting the original.\n",
    "\n",
    "This drawdown integration connects solutions that impact or are impacted by waste production.  _More about this here_\n"
   ]
  },
  {
   "cell_type": "code",
   "execution_count": 1,
   "id": "2792729c",
   "metadata": {
    "ExecuteTime": {
     "end_time": "2021-09-16T07:54:58.916195Z",
     "start_time": "2021-09-16T07:54:57.969216Z"
    }
   },
   "outputs": [],
   "source": [
    "import sys\n",
    "sys.path.append('../')   # If you move this notebook to another location, change this path to point to the root directory of the solutions project\n",
    "import pandas as pd\n",
    "from pathlib import Path\n",
    "from integrations import integration_base as base\n",
    "from integrations import waste_integration as wi\n",
    "\n",
    "# This is an optional step to make floating point numbers display more compactly.\n",
    "# If you prefer other options, you can change or delete this without harm.\n",
    "pd.set_option('display.float_format', lambda x: f\"{x:03.5f}\".rstrip('0'))"
   ]
  },
  {
   "cell_type": "markdown",
   "id": "715abf6e",
   "metadata": {},
   "source": [
    "Do **<u>one</u>** of the following two:"
   ]
  },
  {
   "cell_type": "code",
   "execution_count": 2,
   "id": "de14ae7a",
   "metadata": {
    "ExecuteTime": {
     "end_time": "2021-09-16T07:53:27.862639Z",
     "start_time": "2021-09-16T07:53:27.744457Z"
    }
   },
   "outputs": [],
   "source": [
    "# If you are beginning a *new* integration, or starting over\n",
    "\n",
    "base.integration_clean()\n",
    "base.integration_start()"
   ]
  },
  {
   "cell_type": "code",
   "execution_count": 2,
   "id": "e8697333",
   "metadata": {
    "ExecuteTime": {
     "end_time": "2021-09-16T07:55:02.458507Z",
     "start_time": "2021-09-16T07:55:02.450506Z"
    }
   },
   "outputs": [],
   "source": [
    "# If you are continuing an *existing* integration process\n",
    "\n",
    "base.integration_start()"
   ]
  },
  {
   "cell_type": "markdown",
   "id": "a61546c0",
   "metadata": {},
   "source": [
    "# Inputs\n",
    "<a href='inputs'></a>\n",
    "\n",
    "We recommend that you browse the contents of file `waste_integration.py`.  The inputs to the integration are in the top section of the file.  The main input that you might wish to modify is the choice of scenarios to use for PDS1, PDS2 or PDS3 for any of the solutions.  Usually you will want to use the scenarios that the solutions themselves have declared to be their \"current\" set, but if you wanted to replace some, you could do that with something like this:\n",
    "```python\n",
    "   wi.composting_scenario_names = [\"experimental baseline\", \"experimental goal\", \"experimental optimum\"]\n",
    "```\n",
    "(of course there have to be scenarios with those names in that solution first!)"
   ]
  },
  {
   "cell_type": "markdown",
   "id": "bb764588",
   "metadata": {},
   "source": [
    "# Integration Steps\n",
    "\n",
    "The integration is defined as a series of steps...."
   ]
  },
  {
   "cell_type": "code",
   "execution_count": 3,
   "id": "2f927b5b",
   "metadata": {
    "ExecuteTime": {
     "end_time": "2021-09-16T07:55:18.427237Z",
     "start_time": "2021-09-16T07:55:10.931713Z"
    }
   },
   "outputs": [
    {
     "name": "stdout",
     "output_type": "stream",
     "text": [
      "compost adoption adjusted for 26/141 items by max 461.3709499795839\n",
      "paper available feedstock adjusted for 141/141 items by max 164.75739145946568\n",
      "paper consumption adjusted for 52/141 items by max 134.32478104384097\n",
      "insulation consumption adjusted for 22/141 items by max 17.29156247\n",
      "wte consumption adjusted for 118/141 items by max 1137.350578099259\n",
      "lm adoption adjusted for 2/141 items by max 23.53\n",
      "updating composting adoption\n",
      "updating recycling adoption\n",
      "updating waste to energy LHV values\n",
      "updating landfill methane DOC values\n"
     ]
    }
   ],
   "source": [
    "wi.integrate()"
   ]
  },
  {
   "cell_type": "code",
   "execution_count": 2,
   "id": "03f1f6e7",
   "metadata": {
    "ExecuteTime": {
     "end_time": "2021-09-15T09:04:37.925119Z",
     "start_time": "2021-09-15T09:04:36.772995Z"
    }
   },
   "outputs": [],
   "source": [
    "wi.ws_step1()"
   ]
  },
  {
   "cell_type": "markdown",
   "id": "50577c0f",
   "metadata": {},
   "source": [
    "# Checking out the Intermediate Results"
   ]
  },
  {
   "cell_type": "code",
   "execution_count": 4,
   "id": "ddb9d5d6",
   "metadata": {
    "ExecuteTime": {
     "end_time": "2021-09-16T07:55:28.125120Z",
     "start_time": "2021-09-16T07:55:28.102146Z"
    }
   },
   "outputs": [
    {
     "name": "stdout",
     "output_type": "stream",
     "text": [
      "-----------------------\n",
      "waste\n",
      "                     waste tam: (47, 3): [1773.333333 1773.333333 1773.333333]\n",
      "                  base organic: (47, 3): [804.14197532 804.14197532 804.14197532]\n",
      "               base recyclable: (47, 3): [627.40533322 627.40533322 627.40533322]\n",
      "                base remainder: (47, 3): [341.78602447 341.78602447 341.78602447]\n",
      "     organic less reduced food: (47, 3): [804.14197532 804.14197532 804.14197532]\n",
      "   organic plus compostable bp: (47, 3): [804.79494532 804.79494532 804.79494532]\n",
      " recylable less compostable bp: (47, 3): [626.75236322 626.75236322 626.75236322]\n",
      "         base compost adoption: (47, 3): [89.275 89.275 89.55 ]\n",
      "     adjusted compost adoption: (47, 3): [89.275 89.275 89.55 ]\n",
      "     organics msw less compost: (47, 3): [715.51994532 715.51994532 715.24494532]\n",
      "       base recycling adoption: (47, 3): [206.02941101 206.02941101 206.02941101]\n",
      "   adjusted recycling adoption: (47, 3): [206.02941101 206.02941101 206.02941101]\n",
      " recyclable msw less recycling: (47, 3): [420.7229522 420.7229522 420.7229522]\n",
      "               paper feedstock: (47, 3): [341.78602447 341.78602447 341.78602447]\n",
      "             paper consumption: (47, 3): [268.41      268.41      230.8889699]\n",
      "    adjusted paper consumption: (47, 3): [268.41      268.41      230.8889699]\n",
      "       adjusted paper adoption: (47, 3): [207. 207. 207.]\n",
      "     remainder msw after paper: (47, 3): [ 73.37602447  73.37602447 110.89705457]\n",
      "        insulation consumption: (47, 3): [0. 0. 0.]\n",
      "adjusted insulation consumption: (47, 3): [0. 0. 0.]\n",
      "remainder msw after insulation: (47, 3): [ 73.37602447  73.37602447 110.89705457]\n",
      "   total waste msw for burning: (47, 3): [1209.61892199 1209.61892199 1246.86495209]\n",
      "                 effective lhv: (47, 3): [2.25005431 2.25005431 2.24632796]\n",
      "          wte base consumption: (47, 3): [164.53020427 164.53020427 164.53020427]\n",
      "      wte adjusted consumption: (47, 3): [164.53020427 164.53020427 164.53020427]\n",
      "         wte adjusted adoption: (47, 3): [87.62678874 87.62678874 87.48166861]\n",
      "              landfilled waste: (47, 3): [1045.08871772 1045.08871772 1082.33474782]\n",
      "          possible twh from lm: (47, 3): [2.08017289e+08 2.08017289e+08 2.15430840e+08]\n",
      "          adjusted lm adoption: (47, 3): [23.99 23.99 23.99]\n",
      "                 effective doc: (47, 3): [246.09987973 246.09987973 258.37854385]\n"
     ]
    }
   ],
   "source": [
    "base.show_log()"
   ]
  },
  {
   "cell_type": "code",
   "execution_count": 4,
   "id": "6ff0656e",
   "metadata": {
    "ExecuteTime": {
     "end_time": "2021-09-15T08:16:03.520464Z",
     "start_time": "2021-09-15T08:16:03.498302Z"
    }
   },
   "outputs": [
    {
     "data": {
      "text/html": [
       "<div>\n",
       "<style scoped>\n",
       "    .dataframe tbody tr th:only-of-type {\n",
       "        vertical-align: middle;\n",
       "    }\n",
       "\n",
       "    .dataframe tbody tr th {\n",
       "        vertical-align: top;\n",
       "    }\n",
       "\n",
       "    .dataframe thead th {\n",
       "        text-align: right;\n",
       "    }\n",
       "</style>\n",
       "<table border=\"1\" class=\"dataframe\">\n",
       "  <thead>\n",
       "    <tr style=\"text-align: right;\">\n",
       "      <th></th>\n",
       "      <th>PDS1</th>\n",
       "      <th>PDS2</th>\n",
       "      <th>PDS3</th>\n",
       "    </tr>\n",
       "    <tr>\n",
       "      <th>Year</th>\n",
       "      <th></th>\n",
       "      <th></th>\n",
       "      <th></th>\n",
       "    </tr>\n",
       "  </thead>\n",
       "  <tbody>\n",
       "    <tr>\n",
       "      <th>2014</th>\n",
       "      <td>268.41</td>\n",
       "      <td>268.41</td>\n",
       "      <td>230.88897</td>\n",
       "    </tr>\n",
       "    <tr>\n",
       "      <th>2015</th>\n",
       "      <td>278.35576</td>\n",
       "      <td>296.06247</td>\n",
       "      <td>254.6759</td>\n",
       "    </tr>\n",
       "    <tr>\n",
       "      <th>2016</th>\n",
       "      <td>288.45107</td>\n",
       "      <td>307.93993</td>\n",
       "      <td>264.89301</td>\n",
       "    </tr>\n",
       "    <tr>\n",
       "      <th>2017</th>\n",
       "      <td>298.77627</td>\n",
       "      <td>320.3188</td>\n",
       "      <td>275.54144</td>\n",
       "    </tr>\n",
       "    <tr>\n",
       "      <th>2018</th>\n",
       "      <td>309.33687</td>\n",
       "      <td>333.22776</td>\n",
       "      <td>286.64586</td>\n",
       "    </tr>\n",
       "  </tbody>\n",
       "</table>\n",
       "</div>"
      ],
      "text/plain": [
       "          PDS1      PDS2      PDS3\n",
       "Year                              \n",
       "2014    268.41    268.41 230.88897\n",
       "2015 278.35576 296.06247  254.6759\n",
       "2016 288.45107 307.93993 264.89301\n",
       "2017 298.77627  320.3188 275.54144\n",
       "2018 309.33687 333.22776 286.64586"
      ]
     },
     "execution_count": 4,
     "metadata": {},
     "output_type": "execute_result"
    }
   ],
   "source": [
    "df = base.get_logitem(\"paper consumption\")\n",
    "df.head()"
   ]
  },
  {
   "cell_type": "markdown",
   "id": "f737db18",
   "metadata": {},
   "source": [
    "<hr/>\n",
    "\n",
    "### Developer Notes\n",
    "\n",
    "> The remainder of this notebook is notes of the developer, and can be ignored.\n",
    "\n",
    "Analysis of formula references:\n",
    "```\n",
    "    (PDS1, PDS2, PDS3) <--> (WTE Tonnes & Composition, Paper, Compost, Recycling)\n",
    "    (PDS1, PDS2, PDS3) <-- Food System Summary\n",
    "    PDS1 <--> Bioplastics\n",
    "    (WTE Tonnes & Composition <--> WTE and LM Analysis <--> Landfill Methane)  <-- (PDS1, PDS2, PDS3)\n",
    "    Refrigerant Management  <-->  None\n",
    "```\n",
    "That is, PDS1,2,3 are both input and output for the topic tabs, and the Waste & Landfill Methand tabs are a tightly bound cluster.  Refrigerant Management is isolated, as are all the background sheets, and the MSW TAM Update.\n",
    "\n",
    "For some reason Bioplastics are tied only with PDS1?\n",
    "\n",
    "The instruction document is quite detailed and helpful.  We'll mostly follow along.\n",
    "\n",
    "Later notes:  I started out using openpyxl and SMAs to save things to files, and ended up just manually creating CSV files instead, as it was simpler.\n",
    "\n",
    "Testing: by creating test snapshots of input data, you can then compare outputs (from the audit log) against the Excel.\n",
    "I usually do this by cut and paste of Jupyter printout into a spare Excel tab, where I can do side-by-side comparison."
   ]
  },
  {
   "cell_type": "code",
   "execution_count": 1,
   "id": "874f72b8",
   "metadata": {
    "ExecuteTime": {
     "end_time": "2021-09-16T06:31:48.941597Z",
     "start_time": "2021-09-16T06:31:47.948090Z"
    }
   },
   "outputs": [],
   "source": [
    "import sys\n",
    "sys.path.append('../')   # If you move this notebook to another location, change this path to point to the root directory of the solutions project\n",
    "import pandas as pd\n",
    "from pathlib import Path\n",
    "from integrations import integration_base as base\n",
    "from integrations import waste_integration as wi\n",
    "\n",
    "# This is an optional step to make floating point numbers display more compactly.\n",
    "# If you prefer other options, you can change or delete this without harm.\n",
    "pd.set_option('display.float_format', lambda x: f\"{x:03.5f}\".rstrip('0'))\n",
    "base.integration_start(True)"
   ]
  },
  {
   "cell_type": "code",
   "execution_count": 2,
   "id": "b7e897c8",
   "metadata": {
    "ExecuteTime": {
     "end_time": "2021-09-16T06:31:51.787891Z",
     "start_time": "2021-09-16T06:31:51.698739Z"
    }
   },
   "outputs": [
    {
     "name": "stdout",
     "output_type": "stream",
     "text": [
      "compost adoption adjusted for 27/141 items by max 264.59547353470407\n",
      "recycling adjustment adjusted for 21/141 items by max 342.6413576487997\n",
      "paper available feedstock adjusted for 12/141 items by max 62.30129153091218\n",
      "wte consumption adjusted for 99/141 items by max 1387.5034609669995\n",
      "lm adoption adjusted for 42/141 items by max 182.2803018\n",
      "-----------------------\n",
      "waste\n",
      "                     waste tam: (47, 3): [1773.333333 1773.333333 1773.333333]\n",
      "                  base organic: (47, 3): [804.14197532 804.14197532 804.14197532]\n",
      "               base recyclable: (47, 3): [627.40533322 627.40533322 627.40533322]\n",
      "                base remainder: (47, 3): [341.78602447 341.78602447 341.78602447]\n",
      "     organic less reduced food: (47, 3): [804.14197532 804.14197532 804.14197532]\n",
      "   organic plus compostable bp: (47, 3): [804.79494532 804.79494532 804.79494532]\n",
      " recylable less compostable bp: (47, 3): [626.75236322 626.75236322 626.75236322]\n",
      "         base compost adoption: (47, 3): [110.5436684 110.5436684 110.5436684]\n",
      "     adjusted compost adoption: (47, 3): [110.5436684 110.5436684 110.5436684]\n",
      "     organics msw less compost: (47, 3): [694.25127692 694.25127692 694.25127692]\n",
      "       base recycling adoption: (47, 3): [206.0294923 206.0294923 206.0294923]\n",
      "   adjusted recycling adoption: (47, 3): [206.0294923 206.0294923 206.0294923]\n",
      " recyclable msw less recycling: (47, 3): [420.72287092 420.72287092 420.72287092]\n",
      "               paper feedstock: (47, 3): [341.78602447 341.78602447 341.78602447]\n",
      "             paper consumption: (47, 3): [227.242203   227.242203   227.24220299]\n",
      "    adjusted paper consumption: (47, 3): [227.242203   227.242203   227.24220299]\n",
      "       adjusted paper adoption: (47, 3): [175.2510563 175.2510563 203.7305465]\n",
      "     remainder msw after paper: (47, 3): [114.54382147 114.54382147 114.54382148]\n",
      "        insulation consumption: (47, 3): [0. 0. 0.]\n",
      "adjusted insulation consumption: (47, 3): [0. 0. 0.]\n",
      "remainder msw after insulation: (47, 3): [114.54382147 114.54382147 114.54382148]\n",
      "   total waste msw for burning: (47, 3): [1229.5179693  1229.5179693  1229.51796931]\n",
      "                 effective lhv: (47, 3): [2.25871127 2.25871127 2.25871127]\n",
      "          wte base consumption: (47, 3): [  0.        142.7568873 142.7568873]\n",
      "      wte adjusted consumption: (47, 3): [  0.        142.7568873 142.7568873]\n",
      "         wte adjusted adoption: (47, 3): [ 0.       76.323108 76.323108]\n",
      "              landfilled waste: (47, 3): [1229.5179693  1086.76108199 1086.76108201]\n",
      "          possible twh from lm: (47, 3): [2.44726587e+08 2.16311869e+08 2.16311869e+08]\n",
      "          adjusted lm adoption: (47, 3): [ 0.         23.80215996 23.80215996]\n"
     ]
    }
   ],
   "source": [
    "wi.ws_step1()\n",
    "wi.ws_step2()\n",
    "wi.ws_step3()\n",
    "wi.ws_step4()\n",
    "wi.ws_step5()\n",
    "wi.ws_step6()\n",
    "base.show_log()"
   ]
  },
  {
   "cell_type": "code",
   "execution_count": 5,
   "id": "f7dc309b",
   "metadata": {
    "ExecuteTime": {
     "end_time": "2021-09-16T07:55:59.432109Z",
     "start_time": "2021-09-16T07:55:59.408705Z"
    }
   },
   "outputs": [
    {
     "data": {
      "text/html": [
       "<div>\n",
       "<style scoped>\n",
       "    .dataframe tbody tr th:only-of-type {\n",
       "        vertical-align: middle;\n",
       "    }\n",
       "\n",
       "    .dataframe tbody tr th {\n",
       "        vertical-align: top;\n",
       "    }\n",
       "\n",
       "    .dataframe thead th {\n",
       "        text-align: right;\n",
       "    }\n",
       "</style>\n",
       "<table border=\"1\" class=\"dataframe\">\n",
       "  <thead>\n",
       "    <tr style=\"text-align: right;\">\n",
       "      <th></th>\n",
       "      <th>PDS1</th>\n",
       "      <th>PDS2</th>\n",
       "      <th>PDS3</th>\n",
       "    </tr>\n",
       "    <tr>\n",
       "      <th>Year</th>\n",
       "      <th></th>\n",
       "      <th></th>\n",
       "      <th></th>\n",
       "    </tr>\n",
       "  </thead>\n",
       "  <tbody>\n",
       "    <tr>\n",
       "      <th>2014</th>\n",
       "      <td>164.5302</td>\n",
       "      <td>164.5302</td>\n",
       "      <td>164.5302</td>\n",
       "    </tr>\n",
       "    <tr>\n",
       "      <th>2015</th>\n",
       "      <td>171.47641</td>\n",
       "      <td>171.47641</td>\n",
       "      <td>171.47641</td>\n",
       "    </tr>\n",
       "    <tr>\n",
       "      <th>2016</th>\n",
       "      <td>179.36106</td>\n",
       "      <td>179.36106</td>\n",
       "      <td>179.36106</td>\n",
       "    </tr>\n",
       "    <tr>\n",
       "      <th>2017</th>\n",
       "      <td>184.87641</td>\n",
       "      <td>184.87641</td>\n",
       "      <td>184.87641</td>\n",
       "    </tr>\n",
       "    <tr>\n",
       "      <th>2018</th>\n",
       "      <td>191.24947</td>\n",
       "      <td>191.24947</td>\n",
       "      <td>191.24947</td>\n",
       "    </tr>\n",
       "  </tbody>\n",
       "</table>\n",
       "</div>"
      ],
      "text/plain": [
       "          PDS1      PDS2      PDS3\n",
       "Year                              \n",
       "2014  164.5302  164.5302  164.5302\n",
       "2015 171.47641 171.47641 171.47641\n",
       "2016 179.36106 179.36106 179.36106\n",
       "2017 184.87641 184.87641 184.87641\n",
       "2018 191.24947 191.24947 191.24947"
      ]
     },
     "execution_count": 5,
     "metadata": {},
     "output_type": "execute_result"
    }
   ],
   "source": [
    "base.get_logitem(\"wte base consumption\").head()"
   ]
  },
  {
   "cell_type": "code",
   "execution_count": 6,
   "id": "7d8d07c4",
   "metadata": {
    "ExecuteTime": {
     "end_time": "2021-09-16T07:58:16.179170Z",
     "start_time": "2021-09-16T07:58:16.030176Z"
    }
   },
   "outputs": [],
   "source": [
    "base.integration_clean()"
   ]
  },
  {
   "cell_type": "code",
   "execution_count": null,
   "id": "276e1739",
   "metadata": {},
   "outputs": [],
   "source": []
  }
 ],
 "metadata": {
  "kernelspec": {
   "display_name": "Python 3 (ipykernel)",
   "language": "python",
   "name": "python3"
  },
  "language_info": {
   "codemirror_mode": {
    "name": "ipython",
    "version": 3
   },
   "file_extension": ".py",
   "mimetype": "text/x-python",
   "name": "python",
   "nbconvert_exporter": "python",
   "pygments_lexer": "ipython3",
   "version": "3.9.6"
  }
 },
 "nbformat": 4,
 "nbformat_minor": 5
}

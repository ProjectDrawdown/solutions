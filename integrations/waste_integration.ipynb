{
 "cells": [
  {
   "cell_type": "markdown",
   "id": "12202c3d",
   "metadata": {},
   "source": [
    "# Overview\n",
    "\n",
    "> You may wish to make a copy of this notebook to avoid overwriting the original.\n",
    "\n",
    "This drawdown integration connects solutions that impact or are impacted by waste production.  _More about this here_\n"
   ]
  },
  {
   "cell_type": "code",
   "execution_count": 1,
   "id": "2792729c",
   "metadata": {
    "ExecuteTime": {
     "end_time": "2021-09-17T19:32:15.478252Z",
     "start_time": "2021-09-17T19:32:14.381530Z"
    }
   },
   "outputs": [],
   "source": [
    "import sys\n",
    "sys.path.append('../')   # If you move this notebook to another location, change this path to point to the root directory of the solutions project\n",
    "import pandas as pd\n",
    "from pathlib import Path\n",
    "from integrations import integration_base as base\n",
    "from integrations import waste_integration as wi\n",
    "\n",
    "# This is an optional step to make floating point numbers display more compactly.\n",
    "# If you prefer other options, you can change or delete this without harm.\n",
    "pd.set_option('display.float_format', lambda x: f\"{x:03.5f}\".rstrip('0'))"
   ]
  },
  {
   "cell_type": "markdown",
   "id": "e9bac69b",
   "metadata": {},
   "source": [
    "Do **<u>one</u>** of the following two:"
   ]
  },
  {
   "cell_type": "code",
   "execution_count": 2,
   "id": "f65e35db",
   "metadata": {
    "ExecuteTime": {
     "end_time": "2021-09-17T19:32:19.632033Z",
     "start_time": "2021-09-17T19:32:19.501069Z"
    }
   },
   "outputs": [],
   "source": [
    "# If you are beginning a *new* integration, or starting over\n",
    "\n",
    "base.integration_clean()\n",
    "base.integration_start()"
   ]
  },
  {
   "cell_type": "code",
   "execution_count": 2,
   "id": "ba36e8db",
   "metadata": {
    "ExecuteTime": {
     "end_time": "2021-09-16T07:55:02.458507Z",
     "start_time": "2021-09-16T07:55:02.450506Z"
    }
   },
   "outputs": [],
   "source": [
    "# If you are continuing an *existing* integration process\n",
    "\n",
    "base.integration_start()"
   ]
  },
  {
   "cell_type": "markdown",
   "id": "a61546c0",
   "metadata": {},
   "source": [
    "# Inputs\n",
    "<a href='inputs'></a>\n",
    "\n",
    "We recommend that you browse the contents of file `waste_integration.py`.  The inputs to the integration are in the top section of the file.  The main input that you might wish to modify is the choice of scenarios to use for PDS1, PDS2 or PDS3 for any of the solutions.  Usually you will want to use the scenarios that the solutions themselves have declared to be their \"current\" set, but if you wanted to replace some, you could do that with something like this:\n",
    "```python\n",
    "   wi.composting_scenario_names = [\"experimental baseline\", \"experimental goal\", \"experimental optimum\"]\n",
    "```\n",
    "(of course there have to be scenarios with those names in that solution first!)"
   ]
  },
  {
   "cell_type": "markdown",
   "id": "bb764588",
   "metadata": {},
   "source": [
    "# Integration Steps\n",
    "\n",
    "The integration is defined as a series of steps...."
   ]
  },
  {
   "cell_type": "code",
   "execution_count": 3,
   "id": "ec9b1e88",
   "metadata": {
    "ExecuteTime": {
     "end_time": "2021-09-17T19:32:52.319831Z",
     "start_time": "2021-09-17T19:32:43.664489Z"
    }
   },
   "outputs": [
    {
     "name": "stdout",
     "output_type": "stream",
     "text": [
      "compost adoption adjusted for 26/141 items by max 461.3709499795839\n",
      "paper available feedstock adjusted for 141/141 items by max 164.75739145946568\n",
      "paper consumption adjusted for 52/141 items by max 134.32478104384097\n",
      "insulation consumption adjusted for 22/141 items by max 17.29156247\n",
      "wte consumption adjusted for 118/141 items by max 1137.350578099259\n",
      "lm adoption adjusted for 2/141 items by max 23.53\n",
      "updating composting adoption\n",
      "updating recycling adoption\n",
      "updating waste to energy LHV values\n",
      "updating landfill methane DOC values\n"
     ]
    }
   ],
   "source": [
    "wi.integrate()"
   ]
  },
  {
   "cell_type": "code",
   "execution_count": 2,
   "id": "272d43e7",
   "metadata": {
    "ExecuteTime": {
     "end_time": "2021-09-15T09:04:37.925119Z",
     "start_time": "2021-09-15T09:04:36.772995Z"
    }
   },
   "outputs": [],
   "source": [
    "wi.ws_step1()"
   ]
  },
  {
   "cell_type": "code",
   "execution_count": 4,
   "id": "82e7de9a",
   "metadata": {
    "ExecuteTime": {
     "end_time": "2021-09-18T05:02:50.287057Z",
     "start_time": "2021-09-18T05:02:50.148283Z"
    }
   },
   "outputs": [],
   "source": [
    "base.integration_clean()"
   ]
  },
  {
   "cell_type": "markdown",
   "id": "50577c0f",
   "metadata": {},
   "source": [
    "# Checking out the Intermediate Results"
   ]
  },
  {
   "cell_type": "code",
   "execution_count": 5,
   "id": "ddb9d5d6",
   "metadata": {
    "ExecuteTime": {
     "end_time": "2021-09-17T19:18:46.015777Z",
     "start_time": "2021-09-17T19:18:45.991691Z"
    }
   },
   "outputs": [
    {
     "name": "stdout",
     "output_type": "stream",
     "text": [
      "-----------------------\n",
      "waste\n",
      "                     waste tam: (47, 3): [1773.333333 1773.333333 1773.333333]\n",
      "                  base organic: (47, 3): [804.14197532 804.14197532 804.14197532]\n",
      "               base recyclable: (47, 3): [627.40533322 627.40533322 627.40533322]\n",
      "                base remainder: (47, 3): [341.78602447 341.78602447 341.78602447]\n",
      "     organic less reduced food: (47, 3): [804.14197532 804.14197532 804.14197532]\n",
      "   organic plus compostable bp: (47, 3): [804.79494532 804.79494532 804.79494532]\n",
      " recylable less compostable bp: (47, 3): [626.75236322 626.75236322 626.75236322]\n",
      "         base compost adoption: (47, 3): [89.275 89.275 89.55 ]\n",
      "     adjusted compost adoption: (47, 3): [89.275 89.275 89.55 ]\n",
      "     organics msw less compost: (47, 3): [715.51994532 715.51994532 715.24494532]\n",
      "       base recycling adoption: (47, 3): [206.02941101 206.02941101 206.02941101]\n",
      "   adjusted recycling adoption: (47, 3): [206.02941101 206.02941101 206.02941101]\n",
      " recyclable msw less recycling: (47, 3): [420.7229522 420.7229522 420.7229522]\n",
      "               paper feedstock: (47, 3): [341.78602447 341.78602447 341.78602447]\n",
      "             paper consumption: (47, 3): [268.41      268.41      230.8889699]\n",
      "    adjusted paper consumption: (47, 3): [268.41      268.41      230.8889699]\n",
      "       adjusted paper adoption: (47, 3): [207. 207. 207.]\n",
      "     remainder msw after paper: (47, 3): [ 73.37602447  73.37602447 110.89705457]\n",
      "        insulation consumption: (47, 3): [0. 0. 0.]\n",
      "adjusted insulation consumption: (47, 3): [0. 0. 0.]\n",
      "remainder msw after insulation: (47, 3): [ 73.37602447  73.37602447 110.89705457]\n",
      "   total waste msw for burning: (47, 3): [1209.61892199 1209.61892199 1246.86495209]\n",
      "                 effective lhv: (47, 3): [2.25005431 2.25005431 2.24632796]\n",
      "          wte base consumption: (47, 3): [164.53020427 164.53020427 164.53020427]\n",
      "      wte adjusted consumption: (47, 3): [164.53020427 164.53020427 164.53020427]\n",
      "         wte adjusted adoption: (47, 3): [87.62678874 87.62678874 87.48166861]\n",
      "              landfilled waste: (47, 3): [1045.08871772 1045.08871772 1082.33474782]\n",
      "          possible twh from lm: (47, 3): [2.08017289e+08 2.08017289e+08 2.15430840e+08]\n",
      "          adjusted lm adoption: (47, 3): [23.99 23.99 23.99]\n",
      "                 effective doc: (47, 3): [246.09987973 246.09987973 258.37854385]\n"
     ]
    }
   ],
   "source": [
    "base.show_log()"
   ]
  },
  {
   "cell_type": "code",
   "execution_count": 7,
   "id": "6ff0656e",
   "metadata": {
    "ExecuteTime": {
     "end_time": "2021-09-17T19:19:26.891245Z",
     "start_time": "2021-09-17T19:19:26.869054Z"
    }
   },
   "outputs": [
    {
     "data": {
      "text/html": [
       "<div>\n",
       "<style scoped>\n",
       "    .dataframe tbody tr th:only-of-type {\n",
       "        vertical-align: middle;\n",
       "    }\n",
       "\n",
       "    .dataframe tbody tr th {\n",
       "        vertical-align: top;\n",
       "    }\n",
       "\n",
       "    .dataframe thead th {\n",
       "        text-align: right;\n",
       "    }\n",
       "</style>\n",
       "<table border=\"1\" class=\"dataframe\">\n",
       "  <thead>\n",
       "    <tr style=\"text-align: right;\">\n",
       "      <th></th>\n",
       "      <th>PDS1</th>\n",
       "      <th>PDS2</th>\n",
       "      <th>PDS3</th>\n",
       "    </tr>\n",
       "    <tr>\n",
       "      <th>Year</th>\n",
       "      <th></th>\n",
       "      <th></th>\n",
       "      <th></th>\n",
       "    </tr>\n",
       "  </thead>\n",
       "  <tbody>\n",
       "    <tr>\n",
       "      <th>2014</th>\n",
       "      <td>268.41</td>\n",
       "      <td>268.41</td>\n",
       "      <td>230.88897</td>\n",
       "    </tr>\n",
       "    <tr>\n",
       "      <th>2015</th>\n",
       "      <td>278.35576</td>\n",
       "      <td>296.06247</td>\n",
       "      <td>254.6759</td>\n",
       "    </tr>\n",
       "    <tr>\n",
       "      <th>2016</th>\n",
       "      <td>288.45107</td>\n",
       "      <td>307.93993</td>\n",
       "      <td>264.89301</td>\n",
       "    </tr>\n",
       "    <tr>\n",
       "      <th>2017</th>\n",
       "      <td>298.77627</td>\n",
       "      <td>320.3188</td>\n",
       "      <td>275.54144</td>\n",
       "    </tr>\n",
       "    <tr>\n",
       "      <th>2018</th>\n",
       "      <td>309.33687</td>\n",
       "      <td>333.22776</td>\n",
       "      <td>286.64586</td>\n",
       "    </tr>\n",
       "    <tr>\n",
       "      <th>2019</th>\n",
       "      <td>320.13839</td>\n",
       "      <td>346.69632</td>\n",
       "      <td>298.23165</td>\n",
       "    </tr>\n",
       "    <tr>\n",
       "      <th>2020</th>\n",
       "      <td>331.18635</td>\n",
       "      <td>359.39098</td>\n",
       "      <td>333.4772</td>\n",
       "    </tr>\n",
       "    <tr>\n",
       "      <th>2021</th>\n",
       "      <td>342.48628</td>\n",
       "      <td>372.55204</td>\n",
       "      <td>346.55294</td>\n",
       "    </tr>\n",
       "    <tr>\n",
       "      <th>2022</th>\n",
       "      <td>354.04369</td>\n",
       "      <td>386.20042</td>\n",
       "      <td>360.25831</td>\n",
       "    </tr>\n",
       "    <tr>\n",
       "      <th>2023</th>\n",
       "      <td>365.8641</td>\n",
       "      <td>400.35746</td>\n",
       "      <td>374.64167</td>\n",
       "    </tr>\n",
       "    <tr>\n",
       "      <th>2024</th>\n",
       "      <td>377.95304</td>\n",
       "      <td>415.04505</td>\n",
       "      <td>389.75049</td>\n",
       "    </tr>\n",
       "    <tr>\n",
       "      <th>2025</th>\n",
       "      <td>390.31601</td>\n",
       "      <td>430.28548</td>\n",
       "      <td>405.63064</td>\n",
       "    </tr>\n",
       "    <tr>\n",
       "      <th>2026</th>\n",
       "      <td>402.95855</td>\n",
       "      <td>446.88239</td>\n",
       "      <td>422.50799</td>\n",
       "    </tr>\n",
       "    <tr>\n",
       "      <th>2027</th>\n",
       "      <td>415.88617</td>\n",
       "      <td>463.63265</td>\n",
       "      <td>440.07216</td>\n",
       "    </tr>\n",
       "    <tr>\n",
       "      <th>2028</th>\n",
       "      <td>429.10439</td>\n",
       "      <td>484.2276</td>\n",
       "      <td>461.94397</td>\n",
       "    </tr>\n",
       "    <tr>\n",
       "      <th>2029</th>\n",
       "      <td>442.61873</td>\n",
       "      <td>499.17295</td>\n",
       "      <td>477.85523</td>\n",
       "    </tr>\n",
       "    <tr>\n",
       "      <th>2030</th>\n",
       "      <td>456.43471</td>\n",
       "      <td>519.22676</td>\n",
       "      <td>500.03848</td>\n",
       "    </tr>\n",
       "    <tr>\n",
       "      <th>2031</th>\n",
       "      <td>470.55785</td>\n",
       "      <td>535.53006</td>\n",
       "      <td>516.285</td>\n",
       "    </tr>\n",
       "    <tr>\n",
       "      <th>2032</th>\n",
       "      <td>484.99367</td>\n",
       "      <td>554.7285</td>\n",
       "      <td>536.88699</td>\n",
       "    </tr>\n",
       "    <tr>\n",
       "      <th>2033</th>\n",
       "      <td>499.74769</td>\n",
       "      <td>574.63667</td>\n",
       "      <td>558.46048</td>\n",
       "    </tr>\n",
       "    <tr>\n",
       "      <th>2034</th>\n",
       "      <td>514.82543</td>\n",
       "      <td>595.27741</td>\n",
       "      <td>581.03917</td>\n",
       "    </tr>\n",
       "    <tr>\n",
       "      <th>2035</th>\n",
       "      <td>530.2324</td>\n",
       "      <td>616.67392</td>\n",
       "      <td>604.65592</td>\n",
       "    </tr>\n",
       "    <tr>\n",
       "      <th>2036</th>\n",
       "      <td>545.97414</td>\n",
       "      <td>638.84969</td>\n",
       "      <td>629.34293</td>\n",
       "    </tr>\n",
       "    <tr>\n",
       "      <th>2037</th>\n",
       "      <td>562.05616</td>\n",
       "      <td>661.82861</td>\n",
       "      <td>655.13195</td>\n",
       "    </tr>\n",
       "    <tr>\n",
       "      <th>2038</th>\n",
       "      <td>578.48397</td>\n",
       "      <td>685.62582</td>\n",
       "      <td>682.05978</td>\n",
       "    </tr>\n",
       "    <tr>\n",
       "      <th>2039</th>\n",
       "      <td>595.26311</td>\n",
       "      <td>710.29381</td>\n",
       "      <td>710.14159</td>\n",
       "    </tr>\n",
       "    <tr>\n",
       "      <th>2040</th>\n",
       "      <td>612.39908</td>\n",
       "      <td>735.8301</td>\n",
       "      <td>739.42479</td>\n",
       "    </tr>\n",
       "    <tr>\n",
       "      <th>2041</th>\n",
       "      <td>629.89741</td>\n",
       "      <td>762.2695</td>\n",
       "      <td>764.35833</td>\n",
       "    </tr>\n",
       "    <tr>\n",
       "      <th>2042</th>\n",
       "      <td>647.76362</td>\n",
       "      <td>789.63793</td>\n",
       "      <td>771.97398</td>\n",
       "    </tr>\n",
       "    <tr>\n",
       "      <th>2043</th>\n",
       "      <td>666.00322</td>\n",
       "      <td>815.94414</td>\n",
       "      <td>779.58963</td>\n",
       "    </tr>\n",
       "    <tr>\n",
       "      <th>2044</th>\n",
       "      <td>684.62174</td>\n",
       "      <td>847.26739</td>\n",
       "      <td>787.20527</td>\n",
       "    </tr>\n",
       "    <tr>\n",
       "      <th>2045</th>\n",
       "      <td>703.6247</td>\n",
       "      <td>877.58224</td>\n",
       "      <td>794.82092</td>\n",
       "    </tr>\n",
       "    <tr>\n",
       "      <th>2046</th>\n",
       "      <td>723.01762</td>\n",
       "      <td>888.66453</td>\n",
       "      <td>802.43656</td>\n",
       "    </tr>\n",
       "    <tr>\n",
       "      <th>2047</th>\n",
       "      <td>742.80601</td>\n",
       "      <td>899.74683</td>\n",
       "      <td>810.05221</td>\n",
       "    </tr>\n",
       "    <tr>\n",
       "      <th>2048</th>\n",
       "      <td>762.99539</td>\n",
       "      <td>910.82912</td>\n",
       "      <td>817.66786</td>\n",
       "    </tr>\n",
       "    <tr>\n",
       "      <th>2049</th>\n",
       "      <td>783.5913</td>\n",
       "      <td>921.91142</td>\n",
       "      <td>825.2835</td>\n",
       "    </tr>\n",
       "    <tr>\n",
       "      <th>2050</th>\n",
       "      <td>804.59924</td>\n",
       "      <td>932.99371</td>\n",
       "      <td>832.89915</td>\n",
       "    </tr>\n",
       "    <tr>\n",
       "      <th>2051</th>\n",
       "      <td>826.02473</td>\n",
       "      <td>944.07601</td>\n",
       "      <td>840.51479</td>\n",
       "    </tr>\n",
       "    <tr>\n",
       "      <th>2052</th>\n",
       "      <td>847.8733</td>\n",
       "      <td>955.1583</td>\n",
       "      <td>848.13044</td>\n",
       "    </tr>\n",
       "    <tr>\n",
       "      <th>2053</th>\n",
       "      <td>870.15047</td>\n",
       "      <td>966.2406</td>\n",
       "      <td>855.74608</td>\n",
       "    </tr>\n",
       "    <tr>\n",
       "      <th>2054</th>\n",
       "      <td>892.86175</td>\n",
       "      <td>977.3229</td>\n",
       "      <td>863.36173</td>\n",
       "    </tr>\n",
       "    <tr>\n",
       "      <th>2055</th>\n",
       "      <td>916.01266</td>\n",
       "      <td>988.40519</td>\n",
       "      <td>870.97738</td>\n",
       "    </tr>\n",
       "    <tr>\n",
       "      <th>2056</th>\n",
       "      <td>939.60873</td>\n",
       "      <td>999.48749</td>\n",
       "      <td>878.59302</td>\n",
       "    </tr>\n",
       "    <tr>\n",
       "      <th>2057</th>\n",
       "      <td>963.65548</td>\n",
       "      <td>1010.56978</td>\n",
       "      <td>886.20867</td>\n",
       "    </tr>\n",
       "    <tr>\n",
       "      <th>2058</th>\n",
       "      <td>988.15841</td>\n",
       "      <td>1021.65208</td>\n",
       "      <td>893.82431</td>\n",
       "    </tr>\n",
       "    <tr>\n",
       "      <th>2059</th>\n",
       "      <td>1013.12306</td>\n",
       "      <td>1032.73437</td>\n",
       "      <td>901.43996</td>\n",
       "    </tr>\n",
       "    <tr>\n",
       "      <th>2060</th>\n",
       "      <td>1038.55495</td>\n",
       "      <td>1043.81667</td>\n",
       "      <td>909.05561</td>\n",
       "    </tr>\n",
       "  </tbody>\n",
       "</table>\n",
       "</div>"
      ],
      "text/plain": [
       "           PDS1       PDS2      PDS3\n",
       "Year                                \n",
       "2014     268.41     268.41 230.88897\n",
       "2015  278.35576  296.06247  254.6759\n",
       "2016  288.45107  307.93993 264.89301\n",
       "2017  298.77627   320.3188 275.54144\n",
       "2018  309.33687  333.22776 286.64586\n",
       "2019  320.13839  346.69632 298.23165\n",
       "2020  331.18635  359.39098  333.4772\n",
       "2021  342.48628  372.55204 346.55294\n",
       "2022  354.04369  386.20042 360.25831\n",
       "2023   365.8641  400.35746 374.64167\n",
       "2024  377.95304  415.04505 389.75049\n",
       "2025  390.31601  430.28548 405.63064\n",
       "2026  402.95855  446.88239 422.50799\n",
       "2027  415.88617  463.63265 440.07216\n",
       "2028  429.10439   484.2276 461.94397\n",
       "2029  442.61873  499.17295 477.85523\n",
       "2030  456.43471  519.22676 500.03848\n",
       "2031  470.55785  535.53006   516.285\n",
       "2032  484.99367   554.7285 536.88699\n",
       "2033  499.74769  574.63667 558.46048\n",
       "2034  514.82543  595.27741 581.03917\n",
       "2035   530.2324  616.67392 604.65592\n",
       "2036  545.97414  638.84969 629.34293\n",
       "2037  562.05616  661.82861 655.13195\n",
       "2038  578.48397  685.62582 682.05978\n",
       "2039  595.26311  710.29381 710.14159\n",
       "2040  612.39908   735.8301 739.42479\n",
       "2041  629.89741   762.2695 764.35833\n",
       "2042  647.76362  789.63793 771.97398\n",
       "2043  666.00322  815.94414 779.58963\n",
       "2044  684.62174  847.26739 787.20527\n",
       "2045   703.6247  877.58224 794.82092\n",
       "2046  723.01762  888.66453 802.43656\n",
       "2047  742.80601  899.74683 810.05221\n",
       "2048  762.99539  910.82912 817.66786\n",
       "2049   783.5913  921.91142  825.2835\n",
       "2050  804.59924  932.99371 832.89915\n",
       "2051  826.02473  944.07601 840.51479\n",
       "2052   847.8733   955.1583 848.13044\n",
       "2053  870.15047   966.2406 855.74608\n",
       "2054  892.86175   977.3229 863.36173\n",
       "2055  916.01266  988.40519 870.97738\n",
       "2056  939.60873  999.48749 878.59302\n",
       "2057  963.65548 1010.56978 886.20867\n",
       "2058  988.15841 1021.65208 893.82431\n",
       "2059 1013.12306 1032.73437 901.43996\n",
       "2060 1038.55495 1043.81667 909.05561"
      ]
     },
     "execution_count": 7,
     "metadata": {},
     "output_type": "execute_result"
    }
   ],
   "source": [
    "df = base.get_logitem(\"paper consumption\")\n",
    "df"
   ]
  },
  {
   "cell_type": "markdown",
   "id": "f737db18",
   "metadata": {},
   "source": [
    "<hr/>\n",
    "\n",
    "### Developer Notes\n",
    "\n",
    "> The remainder of this notebook is notes of the developer, and can be ignored.\n",
    "\n",
    "Analysis of formula references:\n",
    "```\n",
    "    (PDS1, PDS2, PDS3) <--> (WTE Tonnes & Composition, Paper, Compost, Recycling)\n",
    "    (PDS1, PDS2, PDS3) <-- Food System Summary\n",
    "    PDS1 <--> Bioplastics\n",
    "    (WTE Tonnes & Composition <--> WTE and LM Analysis <--> Landfill Methane)  <-- (PDS1, PDS2, PDS3)\n",
    "    Refrigerant Management  <-->  None\n",
    "```\n",
    "That is, PDS1,2,3 are both input and output for the topic tabs, and the Waste & Landfill Methand tabs are a tightly bound cluster.  Refrigerant Management is isolated, as are all the background sheets, and the MSW TAM Update.\n",
    "\n",
    "For some reason Bioplastics are tied only with PDS1?\n",
    "\n",
    "The instruction document is quite detailed and helpful.  We'll mostly follow along.\n",
    "\n",
    "Later notes:  I started out using openpyxl and SMAs to save things to files, and ended up just manually creating CSV files instead, as it was simpler.\n",
    "\n",
    "Testing: by creating test snapshots of input data, you can then compare outputs (from the audit log) against the Excel.\n",
    "I usually do this by cut and paste of Jupyter printout into a spare Excel tab, where I can do side-by-side comparison."
   ]
  },
  {
   "cell_type": "code",
   "execution_count": 1,
   "id": "1b98e357",
   "metadata": {
    "ExecuteTime": {
     "end_time": "2021-09-19T04:33:33.476182Z",
     "start_time": "2021-09-19T04:33:32.442864Z"
    }
   },
   "outputs": [],
   "source": [
    "import sys\n",
    "sys.path.append('../')   # If you move this notebook to another location, change this path to point to the root directory of the solutions project\n",
    "import pandas as pd\n",
    "from pathlib import Path\n",
    "from integrations import integration_base as base\n",
    "from integrations import waste_integration as wi\n",
    "\n",
    "# This is an optional step to make floating point numbers display more compactly.\n",
    "# If you prefer other options, you can change or delete this without harm.\n",
    "pd.set_option('display.float_format', lambda x: f\"{x:03.5f}\".rstrip('0'))\n",
    "base.integration_start(True)"
   ]
  },
  {
   "cell_type": "code",
   "execution_count": 2,
   "id": "6e72fe2d",
   "metadata": {
    "ExecuteTime": {
     "end_time": "2021-09-19T04:33:42.843615Z",
     "start_time": "2021-09-19T04:33:41.684402Z"
    }
   },
   "outputs": [
    {
     "name": "stdout",
     "output_type": "stream",
     "text": [
      "compost adoption adjusted for 27/141 items by max 264.59547353470407\n",
      "recycling adjustment adjusted for 21/141 items by max 342.6413576487997\n",
      "paper available feedstock adjusted for 141/141 items by max 164.75739145946568\n",
      "wte consumption adjusted for 99/141 items by max 1387.5034609669995\n",
      "lm adoption adjusted for 42/141 items by max 182.2803018\n",
      "-----------------------\n",
      "waste\n",
      "                     waste tam: (47, 3): [1773.333333 1773.333333 1773.333333]\n",
      "                  base organic: (47, 3): [804.14197532 804.14197532 804.14197532]\n",
      "               base recyclable: (47, 3): [627.40533322 627.40533322 627.40533322]\n",
      "                base remainder: (47, 3): [341.78602447 341.78602447 341.78602447]\n",
      "     organic less reduced food: (47, 3): [804.14197532 804.14197532 804.14197532]\n",
      "   organic plus compostable bp: (47, 3): [804.79494532 804.79494532 804.79494532]\n",
      " recylable less compostable bp: (47, 3): [626.75236322 626.75236322 626.75236322]\n",
      "         base compost adoption: (47, 3): [110.5436684 110.5436684 110.5436684]\n",
      "     adjusted compost adoption: (47, 3): [110.5436684 110.5436684 110.5436684]\n",
      "     organics msw less compost: (47, 3): [694.25127692 694.25127692 694.25127692]\n",
      "       base recycling adoption: (47, 3): [206.0294923 206.0294923 206.0294923]\n",
      "   adjusted recycling adoption: (47, 3): [206.0294923 206.0294923 206.0294923]\n",
      " recyclable msw less recycling: (47, 3): [420.72287092 420.72287092 420.72287092]\n",
      "               paper feedstock: (47, 3): [341.78602447 341.78602447 341.78602447]\n",
      "             paper consumption: (47, 3): [227.242203   227.242203   227.24220299]\n",
      "    adjusted paper consumption: (47, 3): [227.242203   227.242203   227.24220299]\n",
      "       adjusted paper adoption: (47, 3): [175.2510563 175.2510563 203.7305465]\n",
      "     remainder msw after paper: (47, 3): [114.54382147 114.54382147 114.54382148]\n",
      "        insulation consumption: (47, 3): [0. 0. 0.]\n",
      "adjusted insulation consumption: (47, 3): [0. 0. 0.]\n",
      "remainder msw after insulation: (47, 3): [114.54382147 114.54382147 114.54382148]\n",
      "   total waste msw for burning: (47, 3): [1229.5179693  1229.5179693  1229.51796931]\n",
      "                 effective lhv: (47, 3): [2.25871127 2.25871127 2.25871127]\n",
      "          wte base consumption: (47, 3): [  0.        142.7568873 142.7568873]\n",
      "      wte adjusted consumption: (47, 3): [  0.        142.7568873 142.7568873]\n",
      "         wte adjusted adoption: (47, 3): [ 0.       76.323108 76.323108]\n",
      "              landfilled waste: (47, 3): [1229.5179693  1086.76108199 1086.76108201]\n",
      "          possible twh from lm: (47, 3): [2.44726587e+08 2.16311869e+08 2.16311869e+08]\n",
      "          adjusted lm adoption: (47, 3): [ 0.         23.80215996 23.80215996]\n",
      "                 effective doc: (47, 3): [294.74416427 260.52200526 260.52200527]\n"
     ]
    }
   ],
   "source": [
    "wi.ws_step1()\n",
    "wi.ws_step2()\n",
    "wi.ws_step3()\n",
    "wi.ws_step4()\n",
    "wi.ws_step5()\n",
    "wi.ws_step6()\n",
    "base.show_log()"
   ]
  },
  {
   "cell_type": "code",
   "execution_count": 5,
   "id": "382ebc30",
   "metadata": {
    "ExecuteTime": {
     "end_time": "2021-09-16T07:55:59.432109Z",
     "start_time": "2021-09-16T07:55:59.408705Z"
    }
   },
   "outputs": [
    {
     "data": {
      "text/html": [
       "<div>\n",
       "<style scoped>\n",
       "    .dataframe tbody tr th:only-of-type {\n",
       "        vertical-align: middle;\n",
       "    }\n",
       "\n",
       "    .dataframe tbody tr th {\n",
       "        vertical-align: top;\n",
       "    }\n",
       "\n",
       "    .dataframe thead th {\n",
       "        text-align: right;\n",
       "    }\n",
       "</style>\n",
       "<table border=\"1\" class=\"dataframe\">\n",
       "  <thead>\n",
       "    <tr style=\"text-align: right;\">\n",
       "      <th></th>\n",
       "      <th>PDS1</th>\n",
       "      <th>PDS2</th>\n",
       "      <th>PDS3</th>\n",
       "    </tr>\n",
       "    <tr>\n",
       "      <th>Year</th>\n",
       "      <th></th>\n",
       "      <th></th>\n",
       "      <th></th>\n",
       "    </tr>\n",
       "  </thead>\n",
       "  <tbody>\n",
       "    <tr>\n",
       "      <th>2014</th>\n",
       "      <td>164.5302</td>\n",
       "      <td>164.5302</td>\n",
       "      <td>164.5302</td>\n",
       "    </tr>\n",
       "    <tr>\n",
       "      <th>2015</th>\n",
       "      <td>171.47641</td>\n",
       "      <td>171.47641</td>\n",
       "      <td>171.47641</td>\n",
       "    </tr>\n",
       "    <tr>\n",
       "      <th>2016</th>\n",
       "      <td>179.36106</td>\n",
       "      <td>179.36106</td>\n",
       "      <td>179.36106</td>\n",
       "    </tr>\n",
       "    <tr>\n",
       "      <th>2017</th>\n",
       "      <td>184.87641</td>\n",
       "      <td>184.87641</td>\n",
       "      <td>184.87641</td>\n",
       "    </tr>\n",
       "    <tr>\n",
       "      <th>2018</th>\n",
       "      <td>191.24947</td>\n",
       "      <td>191.24947</td>\n",
       "      <td>191.24947</td>\n",
       "    </tr>\n",
       "  </tbody>\n",
       "</table>\n",
       "</div>"
      ],
      "text/plain": [
       "          PDS1      PDS2      PDS3\n",
       "Year                              \n",
       "2014  164.5302  164.5302  164.5302\n",
       "2015 171.47641 171.47641 171.47641\n",
       "2016 179.36106 179.36106 179.36106\n",
       "2017 184.87641 184.87641 184.87641\n",
       "2018 191.24947 191.24947 191.24947"
      ]
     },
     "execution_count": 5,
     "metadata": {},
     "output_type": "execute_result"
    }
   ],
   "source": [
    "base.get_logitem(\"wte base consumption\").head()"
   ]
  },
  {
   "cell_type": "code",
   "execution_count": 6,
   "id": "6f21b826",
   "metadata": {
    "ExecuteTime": {
     "end_time": "2021-09-16T07:58:16.179170Z",
     "start_time": "2021-09-16T07:58:16.030176Z"
    }
   },
   "outputs": [],
   "source": [
    "base.integration_clean()"
   ]
  },
  {
   "cell_type": "code",
   "execution_count": 5,
   "id": "f1470651",
   "metadata": {
    "ExecuteTime": {
     "end_time": "2021-09-18T05:05:54.591307Z",
     "start_time": "2021-09-18T05:05:54.582304Z"
    }
   },
   "outputs": [],
   "source": [
    "foo = Path(\".\")"
   ]
  },
  {
   "cell_type": "code",
   "execution_count": 6,
   "id": "8222e8a1",
   "metadata": {
    "ExecuteTime": {
     "end_time": "2021-09-18T05:06:14.613756Z",
     "start_time": "2021-09-18T05:06:14.609730Z"
    }
   },
   "outputs": [],
   "source": [
    "bar = foo/\"testmodedata/bar.txt\""
   ]
  },
  {
   "cell_type": "code",
   "execution_count": 8,
   "id": "4e1c5dc1",
   "metadata": {
    "ExecuteTime": {
     "end_time": "2021-09-18T05:06:54.431202Z",
     "start_time": "2021-09-18T05:06:54.412209Z"
    }
   },
   "outputs": [
    {
     "data": {
      "text/plain": [
       "True"
      ]
     },
     "execution_count": 8,
     "metadata": {},
     "output_type": "execute_result"
    }
   ],
   "source": [
    "(foo/\"tests/test_base.py\").is_file()"
   ]
  },
  {
   "cell_type": "code",
   "execution_count": null,
   "id": "ef7dabcc",
   "metadata": {},
   "outputs": [],
   "source": []
  }
 ],
 "metadata": {
  "kernelspec": {
   "display_name": "Python 3 (ipykernel)",
   "language": "python",
   "name": "python3"
  },
  "language_info": {
   "codemirror_mode": {
    "name": "ipython",
    "version": 3
   },
   "file_extension": ".py",
   "mimetype": "text/x-python",
   "name": "python",
   "nbconvert_exporter": "python",
   "pygments_lexer": "ipython3",
   "version": "3.9.6"
  }
 },
 "nbformat": 4,
 "nbformat_minor": 5
}

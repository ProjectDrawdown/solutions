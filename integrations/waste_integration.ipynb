{
 "cells": [
  {
   "cell_type": "markdown",
   "id": "a836d045",
   "metadata": {},
   "source": [
    "# Overview\n",
    "\n",
    "> You may wish to make a copy of this notebook to avoid overwriting the original.\n",
    "\n",
    "This drawdown integration connects solutions that impact or are impacted by waste production.  _More about this here_\n",
    "\n",
    "This notebook is organized into three sections:\n",
    "* **[Inputs](#Inputs)** takes a look at the inputs that are used to run the integration.  There are defaults for all values, but it is also possible to override those defaults to explore different behaviors.  This section describes the inputs and how they can be set.\n",
    "* **[Integration Steps](#Integration-Steps)** walks through the steps of the integration process individually.  There is also a single function that will run the entire integraton all at once.\n",
    "* **[Other Calculations](#Other-Calculations)** shows additional calculations that give insight into the waste model."
   ]
  },
  {
   "cell_type": "code",
   "execution_count": 117,
   "id": "dc55e2bc",
   "metadata": {
    "ExecuteTime": {
     "end_time": "2021-09-03T19:10:16.145276Z",
     "start_time": "2021-09-03T19:10:16.137278Z"
    }
   },
   "outputs": [],
   "source": [
    "import sys\n",
    "sys.path.append('../')   # If you move this notebook to another location, change this path to point to the root directory of the solutions project\n",
    "import pandas as pd\n",
    "from pathlib import Path\n",
    "from integrations import waste_integration as wi\n",
    "\n",
    "wi.load_default_values()\n",
    "\n",
    "# This is an optional step to make floating point numbers display more compactly.\n",
    "# If you prefer other options, you can change or delete this without harm.\n",
    "pd.set_option('display.float_format', lambda x: f\"{x:03.5f}\".rstrip('0'))"
   ]
  },
  {
   "cell_type": "markdown",
   "id": "963f7257",
   "metadata": {},
   "source": [
    "# Inputs\n",
    "<a href='inputs'></a>\n",
    "\n",
    "We recommend that you look at the contents of file `waste_integration.py`.  The inputs to the integration are in the top section of the file, and each input has a description explaining its content, and usually also it's origin.\n",
    "\n",
    "All the inputs have default values, most of which are set by the function `load_default_values()`.\n",
    "Usually `load_default_values()` will be the first function you run (you can see it in the first cell above).\n",
    "If you want to customize any of the input values, you can simply set the value before running the integration steps.  You can set the value before or after calling `load_default_values()`.\n",
    "\n",
    "For example, if you wanted to customize which scenarios should be used for the bioplastics adoption, you could do something like the following:\n",
    "```\n",
    "    wi.bioplastics_scenario_names = ['custom_pds1_scenario','custom_pds2_scenario','custom_pds3_scenario']\n",
    "```\n",
    "\n",
    "As introduction, here are a few of the inputs that are available for inspection or customization:"
   ]
  },
  {
   "cell_type": "code",
   "execution_count": 120,
   "id": "2583e9dd",
   "metadata": {
    "ExecuteTime": {
     "end_time": "2021-09-03T19:34:47.239901Z",
     "start_time": "2021-09-03T19:34:47.216901Z"
    }
   },
   "outputs": [
    {
     "data": {
      "text/html": [
       "<div>\n",
       "<style scoped>\n",
       "    .dataframe tbody tr th:only-of-type {\n",
       "        vertical-align: middle;\n",
       "    }\n",
       "\n",
       "    .dataframe tbody tr th {\n",
       "        vertical-align: top;\n",
       "    }\n",
       "\n",
       "    .dataframe thead th {\n",
       "        text-align: right;\n",
       "    }\n",
       "</style>\n",
       "<table border=\"1\" class=\"dataframe\">\n",
       "  <thead>\n",
       "    <tr style=\"text-align: right;\">\n",
       "      <th></th>\n",
       "      <th>World</th>\n",
       "      <th>OECD90</th>\n",
       "      <th>Eastern Europe</th>\n",
       "      <th>Asia (Sans Japan)</th>\n",
       "      <th>Middle East and Africa</th>\n",
       "      <th>Latin America</th>\n",
       "      <th>China</th>\n",
       "      <th>India</th>\n",
       "      <th>EU</th>\n",
       "      <th>USA</th>\n",
       "    </tr>\n",
       "    <tr>\n",
       "      <th>Year</th>\n",
       "      <th></th>\n",
       "      <th></th>\n",
       "      <th></th>\n",
       "      <th></th>\n",
       "      <th></th>\n",
       "      <th></th>\n",
       "      <th></th>\n",
       "      <th></th>\n",
       "      <th></th>\n",
       "      <th></th>\n",
       "    </tr>\n",
       "  </thead>\n",
       "  <tbody>\n",
       "    <tr>\n",
       "      <th>2014</th>\n",
       "      <td>1773.33333</td>\n",
       "      <td>531.34132</td>\n",
       "      <td>176.93333</td>\n",
       "      <td>747.38516</td>\n",
       "      <td>255.3121</td>\n",
       "      <td>223.56416</td>\n",
       "      <td>192.52963</td>\n",
       "      <td>142.35164</td>\n",
       "      <td>240.31441</td>\n",
       "      <td>234.4166</td>\n",
       "    </tr>\n",
       "    <tr>\n",
       "      <th>2015</th>\n",
       "      <td>1869.53317</td>\n",
       "      <td>549.34356</td>\n",
       "      <td>170.22942</td>\n",
       "      <td>777.82672</td>\n",
       "      <td>269.12705</td>\n",
       "      <td>232.5613</td>\n",
       "      <td>201.29018</td>\n",
       "      <td>151.13914</td>\n",
       "      <td>238.83264</td>\n",
       "      <td>230.78468</td>\n",
       "    </tr>\n",
       "    <tr>\n",
       "      <th>2016</th>\n",
       "      <td>1932.45927</td>\n",
       "      <td>557.47683</td>\n",
       "      <td>169.03612</td>\n",
       "      <td>800.24798</td>\n",
       "      <td>281.20763</td>\n",
       "      <td>239.27083</td>\n",
       "      <td>212.63677</td>\n",
       "      <td>161.78695</td>\n",
       "      <td>238.68416</td>\n",
       "      <td>231.50876</td>\n",
       "    </tr>\n",
       "    <tr>\n",
       "      <th>2017</th>\n",
       "      <td>1993.62542</td>\n",
       "      <td>565.18782</td>\n",
       "      <td>167.98</td>\n",
       "      <td>822.14045</td>\n",
       "      <td>293.21041</td>\n",
       "      <td>245.835</td>\n",
       "      <td>223.73803</td>\n",
       "      <td>172.33243</td>\n",
       "      <td>238.7006</td>\n",
       "      <td>232.60215</td>\n",
       "    </tr>\n",
       "    <tr>\n",
       "      <th>2018</th>\n",
       "      <td>2053.10074</td>\n",
       "      <td>572.49159</td>\n",
       "      <td>167.05529</td>\n",
       "      <td>843.51673</td>\n",
       "      <td>305.1465</td>\n",
       "      <td>252.25785</td>\n",
       "      <td>234.60023</td>\n",
       "      <td>182.77851</td>\n",
       "      <td>238.87585</td>\n",
       "      <td>234.05683</td>\n",
       "    </tr>\n",
       "    <tr>\n",
       "      <th>2019</th>\n",
       "      <td>2110.95434</td>\n",
       "      <td>579.40319</td>\n",
       "      <td>166.25622</td>\n",
       "      <td>864.3894</td>\n",
       "      <td>317.02703</td>\n",
       "      <td>258.54342</td>\n",
       "      <td>245.22967</td>\n",
       "      <td>193.12813</td>\n",
       "      <td>239.20377</td>\n",
       "      <td>235.8648</td>\n",
       "    </tr>\n",
       "    <tr>\n",
       "      <th>2020</th>\n",
       "      <td>2167.25532</td>\n",
       "      <td>585.9377</td>\n",
       "      <td>165.57704</td>\n",
       "      <td>884.77107</td>\n",
       "      <td>328.86311</td>\n",
       "      <td>264.69575</td>\n",
       "      <td>255.63265</td>\n",
       "      <td>203.38423</td>\n",
       "      <td>239.67825</td>\n",
       "      <td>238.01805</td>\n",
       "    </tr>\n",
       "    <tr>\n",
       "      <th>2021</th>\n",
       "      <td>2222.0728</td>\n",
       "      <td>592.11015</td>\n",
       "      <td>165.01197</td>\n",
       "      <td>904.67433</td>\n",
       "      <td>340.66586</td>\n",
       "      <td>270.71887</td>\n",
       "      <td>265.81545</td>\n",
       "      <td>213.54974</td>\n",
       "      <td>240.29316</td>\n",
       "      <td>240.50859</td>\n",
       "    </tr>\n",
       "    <tr>\n",
       "      <th>2022</th>\n",
       "      <td>2275.47588</td>\n",
       "      <td>597.93562</td>\n",
       "      <td>164.55525</td>\n",
       "      <td>924.11176</td>\n",
       "      <td>352.44641</td>\n",
       "      <td>276.61682</td>\n",
       "      <td>275.78437</td>\n",
       "      <td>223.6276</td>\n",
       "      <td>241.04238</td>\n",
       "      <td>243.32839</td>\n",
       "    </tr>\n",
       "    <tr>\n",
       "      <th>2023</th>\n",
       "      <td>2327.53368</td>\n",
       "      <td>603.42916</td>\n",
       "      <td>164.2011</td>\n",
       "      <td>943.09598</td>\n",
       "      <td>364.21587</td>\n",
       "      <td>282.39364</td>\n",
       "      <td>285.54571</td>\n",
       "      <td>233.62076</td>\n",
       "      <td>241.91978</td>\n",
       "      <td>246.46946</td>\n",
       "    </tr>\n",
       "  </tbody>\n",
       "</table>\n",
       "</div>"
      ],
      "text/plain": [
       "          World    OECD90  Eastern Europe  Asia (Sans Japan)  Middle East and Africa  Latin America     China     India        EU       USA\n",
       "Year                                                                                                                                       \n",
       "2014 1773.33333 531.34132       176.93333          747.38516                255.3121      223.56416 192.52963 142.35164 240.31441  234.4166\n",
       "2015 1869.53317 549.34356       170.22942          777.82672               269.12705       232.5613 201.29018 151.13914 238.83264 230.78468\n",
       "2016 1932.45927 557.47683       169.03612          800.24798               281.20763      239.27083 212.63677 161.78695 238.68416 231.50876\n",
       "2017 1993.62542 565.18782          167.98          822.14045               293.21041        245.835 223.73803 172.33243  238.7006 232.60215\n",
       "2018 2053.10074 572.49159       167.05529          843.51673                305.1465      252.25785 234.60023 182.77851 238.87585 234.05683\n",
       "2019 2110.95434 579.40319       166.25622           864.3894               317.02703      258.54342 245.22967 193.12813 239.20377  235.8648\n",
       "2020 2167.25532  585.9377       165.57704          884.77107               328.86311      264.69575 255.63265 203.38423 239.67825 238.01805\n",
       "2021  2222.0728 592.11015       165.01197          904.67433               340.66586      270.71887 265.81545 213.54974 240.29316 240.50859\n",
       "2022 2275.47588 597.93562       164.55525          924.11176               352.44641      276.61682 275.78437  223.6276 241.04238 243.32839\n",
       "2023 2327.53368 603.42916        164.2011          943.09598               364.21587      282.39364 285.54571 233.62076 241.91978 246.46946"
      ]
     },
     "execution_count": 120,
     "metadata": {},
     "output_type": "execute_result"
    }
   ],
   "source": [
    "# The Waste TAM.\n",
    "# The head() function shows the first n rows of any dataframe\n",
    "\n",
    "wi.waste_tam.head(10)"
   ]
  },
  {
   "cell_type": "code",
   "execution_count": 11,
   "id": "b21a7290",
   "metadata": {
    "ExecuteTime": {
     "end_time": "2021-09-01T07:50:59.641506Z",
     "start_time": "2021-09-01T07:50:59.624552Z"
    }
   },
   "outputs": [
    {
     "data": {
      "text/html": [
       "<div>\n",
       "<style scoped>\n",
       "    .dataframe tbody tr th:only-of-type {\n",
       "        vertical-align: middle;\n",
       "    }\n",
       "\n",
       "    .dataframe tbody tr th {\n",
       "        vertical-align: top;\n",
       "    }\n",
       "\n",
       "    .dataframe thead th {\n",
       "        text-align: right;\n",
       "    }\n",
       "</style>\n",
       "<table border=\"1\" class=\"dataframe\">\n",
       "  <thead>\n",
       "    <tr style=\"text-align: right;\">\n",
       "      <th></th>\n",
       "      <th>PDS1</th>\n",
       "      <th>PDS2</th>\n",
       "      <th>PDS3</th>\n",
       "    </tr>\n",
       "    <tr>\n",
       "      <th>Year</th>\n",
       "      <th></th>\n",
       "      <th></th>\n",
       "      <th></th>\n",
       "    </tr>\n",
       "  </thead>\n",
       "  <tbody>\n",
       "    <tr>\n",
       "      <th>2014</th>\n",
       "      <td>826.15184</td>\n",
       "      <td>826.15184</td>\n",
       "      <td>826.15184</td>\n",
       "    </tr>\n",
       "    <tr>\n",
       "      <th>2015</th>\n",
       "      <td>837.16193</td>\n",
       "      <td>837.16193</td>\n",
       "      <td>837.16193</td>\n",
       "    </tr>\n",
       "    <tr>\n",
       "      <th>2016</th>\n",
       "      <td>848.09984</td>\n",
       "      <td>848.09984</td>\n",
       "      <td>848.09984</td>\n",
       "    </tr>\n",
       "    <tr>\n",
       "      <th>2017</th>\n",
       "      <td>858.96102</td>\n",
       "      <td>858.96102</td>\n",
       "      <td>858.96102</td>\n",
       "    </tr>\n",
       "    <tr>\n",
       "      <th>2018</th>\n",
       "      <td>869.73361</td>\n",
       "      <td>869.73361</td>\n",
       "      <td>869.73361</td>\n",
       "    </tr>\n",
       "    <tr>\n",
       "      <th>2019</th>\n",
       "      <td>880.41176</td>\n",
       "      <td>880.41176</td>\n",
       "      <td>880.41176</td>\n",
       "    </tr>\n",
       "    <tr>\n",
       "      <th>2020</th>\n",
       "      <td>890.99123</td>\n",
       "      <td>890.99123</td>\n",
       "      <td>890.99123</td>\n",
       "    </tr>\n",
       "    <tr>\n",
       "      <th>2021</th>\n",
       "      <td>901.45993</td>\n",
       "      <td>901.45993</td>\n",
       "      <td>901.45993</td>\n",
       "    </tr>\n",
       "    <tr>\n",
       "      <th>2022</th>\n",
       "      <td>911.81252</td>\n",
       "      <td>911.81252</td>\n",
       "      <td>911.81252</td>\n",
       "    </tr>\n",
       "    <tr>\n",
       "      <th>2023</th>\n",
       "      <td>922.06199</td>\n",
       "      <td>922.06199</td>\n",
       "      <td>922.06199</td>\n",
       "    </tr>\n",
       "  </tbody>\n",
       "</table>\n",
       "</div>"
      ],
      "text/plain": [
       "          PDS1      PDS2      PDS3\n",
       "Year                              \n",
       "2014 826.15184 826.15184 826.15184\n",
       "2015 837.16193 837.16193 837.16193\n",
       "2016 848.09984 848.09984 848.09984\n",
       "2017 858.96102 858.96102 858.96102\n",
       "2018 869.73361 869.73361 869.73361\n",
       "2019 880.41176 880.41176 880.41176\n",
       "2020 890.99123 890.99123 890.99123\n",
       "2021 901.45993 901.45993 901.45993\n",
       "2022 911.81252 911.81252 911.81252\n",
       "2023 922.06199 922.06199 922.06199"
      ]
     },
     "execution_count": 11,
     "metadata": {},
     "output_type": "execute_result"
    }
   ],
   "source": [
    "# The amount of food waste, in PDS1, PDS2 and PDS3 scenarios\n",
    "\n",
    "wi.food_waste.head(10)"
   ]
  },
  {
   "cell_type": "markdown",
   "id": "972b556e",
   "metadata": {
    "ExecuteTime": {
     "end_time": "2021-09-01T07:51:48.261579Z",
     "start_time": "2021-09-01T07:51:48.247560Z"
    }
   },
   "source": [
    "This is the complete list of input variables that are used in the integration:\n",
    "\n",
    "`waste_tam`, `compostable_proportion`, `recyclable_proportion`, `regional_organic_fraction`, `regional_recyclable_fraction`, `plastics_worldwide`, `proportion_plastics_in_waste`, `bioplastics_adoption`, `bioplastics_scenario_names`, `food_waste`, `food_waste_reduction`\n"
   ]
  },
  {
   "cell_type": "markdown",
   "id": "59ddd179",
   "metadata": {},
   "source": [
    "# Integration Steps"
   ]
  },
  {
   "cell_type": "markdown",
   "id": "45dac022",
   "metadata": {},
   "source": [
    "# Other Calculations"
   ]
  },
  {
   "cell_type": "code",
   "execution_count": null,
   "id": "44165fcf",
   "metadata": {},
   "outputs": [],
   "source": []
  },
  {
   "cell_type": "code",
   "execution_count": null,
   "id": "bfe62443",
   "metadata": {},
   "outputs": [],
   "source": []
  },
  {
   "cell_type": "markdown",
   "id": "f8e0165c",
   "metadata": {},
   "source": [
    "<hr/>\n",
    "\n",
    "### Developer Notes\n",
    "\n",
    "> The remainder of this notebook is notes of the developer, and can be ignored.\n",
    "\n",
    "Analysis of formula references:\n",
    "```\n",
    "    (PDS1, PDS2, PDS3) <--> (WTE Tonnes & Composition, Paper, Compost, Recycling)\n",
    "    (PDS1, PDS2, PDS3) <-- Food System Summary\n",
    "    PDS1 <--> Bioplastics\n",
    "    (WTE Tonnes & Composition <--> WTE and LM Analysis <--> Landfill Methane)  <-- (PDS1, PDS2, PDS3)\n",
    "    Refrigerant Management  <-->  None\n",
    "```\n",
    "That is, PDS1,2,3 are both input and output for the topic tabs, and the Waste & Landfill Methand tabs are a tightly bound cluster.  Refrigerant Management is isolated, as are all the background sheets, and the MSW TAM Update.\n",
    "\n",
    "For some reason Bioplastics are tied only with PDS1?\n",
    "\n",
    "The instruction document is quite detailed and helpful.  We'll mostly follow along."
   ]
  },
  {
   "cell_type": "code",
   "execution_count": 30,
   "id": "19faa5d3",
   "metadata": {
    "ExecuteTime": {
     "end_time": "2021-09-01T08:35:07.300313Z",
     "start_time": "2021-09-01T08:35:07.260315Z"
    }
   },
   "outputs": [],
   "source": [
    "import openpyxl\n",
    "from model import sma\n",
    "from tools import sma_xls_extract\n",
    "import warnings\n",
    "from solution import factory\n",
    "\n",
    "warnings.simplefilter(\"ignore\")  # silence openpyxl warnings"
   ]
  },
  {
   "cell_type": "code",
   "execution_count": 116,
   "id": "2de0c078",
   "metadata": {
    "ExecuteTime": {
     "end_time": "2021-09-03T02:17:01.532818Z",
     "start_time": "2021-09-03T02:17:00.800802Z"
    }
   },
   "outputs": [],
   "source": [
    "import importlib\n",
    "importlib.reload(wi)\n",
    "wi.load_default_values()"
   ]
  },
  {
   "cell_type": "code",
   "execution_count": 8,
   "id": "01e03876",
   "metadata": {
    "ExecuteTime": {
     "end_time": "2021-08-30T05:27:04.154731Z",
     "start_time": "2021-08-30T05:27:00.934219Z"
    }
   },
   "outputs": [],
   "source": [
    "excel_file = Path(r'C:\\Working\\Integrations\\Materials and Waste Integration Analysis_June2020.xlsm')\n",
    "wb = openpyxl.load_workbook(excel_file, data_only=True, keep_links=False)"
   ]
  },
  {
   "cell_type": "markdown",
   "id": "929e652f",
   "metadata": {},
   "source": [
    "### Waste TAM"
   ]
  },
  {
   "cell_type": "code",
   "execution_count": 9,
   "id": "7f07be35",
   "metadata": {
    "ExecuteTime": {
     "end_time": "2021-08-30T05:27:11.813886Z",
     "start_time": "2021-08-30T05:27:08.603169Z"
    }
   },
   "outputs": [],
   "source": [
    "# Step one:  Save the \"Waste TAM\" to a data file.\n",
    "# (Note: the instructions say to update the Waste TAM from another integration step; for now \n",
    "# are just going to assume this has been done already)\n",
    "wastetam = sma_xls_extract.extract_sma(wb, 'Total MSW TAM Data_Updated2020', year_col='B', \n",
    "                                       start_row=41, use_functional_unit=True)"
   ]
  },
  {
   "cell_type": "code",
   "execution_count": 10,
   "id": "88b8f3a3",
   "metadata": {
    "ExecuteTime": {
     "end_time": "2021-08-30T05:27:16.565106Z",
     "start_time": "2021-08-30T05:27:16.557144Z"
    }
   },
   "outputs": [
    {
     "data": {
      "text/plain": [
       "{'World': {'Base Cases': ['S1', 'S2'], 'Conservative Cases': ['S3']},\n",
       " 'OECD90': {'Base Cases': ['S1', 'S2'], 'Ambitious Cases': ['S4']},\n",
       " 'Eastern Europe': {'Base Cases': ['S1', 'S2'], 'Ambitious Cases': ['S4']},\n",
       " 'Asia (Sans Japan)': {'Base Cases': ['S1', 'S2'], 'Ambitious Cases': ['S4']},\n",
       " 'Middle East and Africa': {'Base Cases': ['S1', 'S2', 'S5'],\n",
       "  'Ambitious Cases': ['S4']},\n",
       " 'Latin America': {'Base Cases': ['S1', 'S2'], 'Ambitious Cases': ['S4']},\n",
       " 'China': {'Base Cases': ['S6'], 'Ambitious Cases': ['S7']},\n",
       " 'India': {'Base Cases': ['S6', 'S8'], 'Ambitious Cases': ['S7', 'S9']},\n",
       " 'EU': {'Base Cases': ['S6', 'S10'], 'Ambitious Cases': ['S7']},\n",
       " 'USA': {'Base Cases': ['S6', 'S11'], 'Ambitious Cases': ['S7']}}"
      ]
     },
     "execution_count": 10,
     "metadata": {},
     "output_type": "execute_result"
    }
   ],
   "source": [
    "wastetam.region_cases"
   ]
  },
  {
   "cell_type": "code",
   "execution_count": 11,
   "id": "decbae5d",
   "metadata": {
    "ExecuteTime": {
     "end_time": "2021-08-30T05:27:33.501240Z",
     "start_time": "2021-08-30T05:27:33.477276Z"
    }
   },
   "outputs": [],
   "source": [
    "wastetam.write(r'data\\msw','waste_tam')"
   ]
  },
  {
   "cell_type": "code",
   "execution_count": 7,
   "id": "f2700714",
   "metadata": {
    "ExecuteTime": {
     "end_time": "2021-08-30T05:26:51.146902Z",
     "start_time": "2021-08-30T05:26:51.138903Z"
    }
   },
   "outputs": [],
   "source": [
    "wb.close()"
   ]
  },
  {
   "cell_type": "code",
   "execution_count": 3,
   "id": "e5530ca7",
   "metadata": {
    "ExecuteTime": {
     "end_time": "2021-08-30T04:25:32.413127Z",
     "start_time": "2021-08-30T04:25:32.374723Z"
    }
   },
   "outputs": [],
   "source": [
    "wt2 = sma.SMA.read(r'data\\msw',\"waste_tam\")"
   ]
  },
  {
   "cell_type": "code",
   "execution_count": 6,
   "id": "f24faf01",
   "metadata": {
    "ExecuteTime": {
     "end_time": "2021-08-30T04:26:50.330695Z",
     "start_time": "2021-08-30T04:26:50.319697Z"
    }
   },
   "outputs": [
    {
     "data": {
      "text/html": [
       "<div>\n",
       "<style scoped>\n",
       "    .dataframe tbody tr th:only-of-type {\n",
       "        vertical-align: middle;\n",
       "    }\n",
       "\n",
       "    .dataframe tbody tr th {\n",
       "        vertical-align: top;\n",
       "    }\n",
       "\n",
       "    .dataframe thead th {\n",
       "        text-align: right;\n",
       "    }\n",
       "</style>\n",
       "<table border=\"1\" class=\"dataframe\">\n",
       "  <thead>\n",
       "    <tr style=\"text-align: right;\">\n",
       "      <th></th>\n",
       "      <th>Year</th>\n",
       "      <th>World</th>\n",
       "      <th>OECD90</th>\n",
       "      <th>Eastern Europe</th>\n",
       "      <th>Asia (Sans Japan)</th>\n",
       "      <th>Middle East and Africa</th>\n",
       "      <th>Latin America</th>\n",
       "    </tr>\n",
       "  </thead>\n",
       "  <tbody>\n",
       "    <tr>\n",
       "      <th>0</th>\n",
       "      <td>2012</td>\n",
       "      <td>1536.666667</td>\n",
       "      <td>520.994064</td>\n",
       "      <td>174.333333</td>\n",
       "      <td>714.887215</td>\n",
       "      <td>227.431963</td>\n",
       "      <td>215.467580</td>\n",
       "    </tr>\n",
       "    <tr>\n",
       "      <th>1</th>\n",
       "      <td>2013</td>\n",
       "      <td>1655.000000</td>\n",
       "      <td>526.167694</td>\n",
       "      <td>175.633333</td>\n",
       "      <td>731.136187</td>\n",
       "      <td>241.372032</td>\n",
       "      <td>219.515868</td>\n",
       "    </tr>\n",
       "    <tr>\n",
       "      <th>2</th>\n",
       "      <td>2014</td>\n",
       "      <td>1773.333333</td>\n",
       "      <td>531.341324</td>\n",
       "      <td>176.933333</td>\n",
       "      <td>747.385160</td>\n",
       "      <td>255.312100</td>\n",
       "      <td>223.564155</td>\n",
       "    </tr>\n",
       "    <tr>\n",
       "      <th>3</th>\n",
       "      <td>2015</td>\n",
       "      <td>1891.666667</td>\n",
       "      <td>536.514954</td>\n",
       "      <td>178.233333</td>\n",
       "      <td>763.634132</td>\n",
       "      <td>269.252169</td>\n",
       "      <td>227.612443</td>\n",
       "    </tr>\n",
       "    <tr>\n",
       "      <th>4</th>\n",
       "      <td>2016</td>\n",
       "      <td>2010.000000</td>\n",
       "      <td>535.700000</td>\n",
       "      <td>178.200000</td>\n",
       "      <td>769.100000</td>\n",
       "      <td>302.400000</td>\n",
       "      <td>230.800000</td>\n",
       "    </tr>\n",
       "  </tbody>\n",
       "</table>\n",
       "</div>"
      ],
      "text/plain": [
       "   Year        World      OECD90  Eastern Europe  Asia (Sans Japan)  Middle East and Africa  Latin America\n",
       "0  2012  1536.666667  520.994064      174.333333         714.887215              227.431963     215.467580\n",
       "1  2013  1655.000000  526.167694      175.633333         731.136187              241.372032     219.515868\n",
       "2  2014  1773.333333  531.341324      176.933333         747.385160              255.312100     223.564155\n",
       "3  2015  1891.666667  536.514954      178.233333         763.634132              269.252169     227.612443\n",
       "4  2016  2010.000000  535.700000      178.200000         769.100000              302.400000     230.800000"
      ]
     },
     "execution_count": 6,
     "metadata": {},
     "output_type": "execute_result"
    }
   ],
   "source": [
    "wt2.sources['S1'].data.head()"
   ]
  },
  {
   "cell_type": "markdown",
   "id": "d1f6c1b3",
   "metadata": {},
   "source": [
    "### Step Two: Subject Sources as SMAs"
   ]
  },
  {
   "cell_type": "code",
   "execution_count": 3,
   "id": "d053f31d",
   "metadata": {
    "ExecuteTime": {
     "end_time": "2021-08-31T05:14:26.537636Z",
     "start_time": "2021-08-31T05:14:26.514672Z"
    }
   },
   "outputs": [
    {
     "data": {
      "text/html": [
       "<div>\n",
       "<style scoped>\n",
       "    .dataframe tbody tr th:only-of-type {\n",
       "        vertical-align: middle;\n",
       "    }\n",
       "\n",
       "    .dataframe tbody tr th {\n",
       "        vertical-align: top;\n",
       "    }\n",
       "\n",
       "    .dataframe thead th {\n",
       "        text-align: right;\n",
       "    }\n",
       "</style>\n",
       "<table border=\"1\" class=\"dataframe\">\n",
       "  <thead>\n",
       "    <tr style=\"text-align: right;\">\n",
       "      <th></th>\n",
       "      <th>World</th>\n",
       "    </tr>\n",
       "    <tr>\n",
       "      <th>Year</th>\n",
       "      <th></th>\n",
       "    </tr>\n",
       "  </thead>\n",
       "  <tbody>\n",
       "    <tr>\n",
       "      <th>2012</th>\n",
       "      <td>44.831749</td>\n",
       "    </tr>\n",
       "    <tr>\n",
       "      <th>2013</th>\n",
       "      <td>45.099481</td>\n",
       "    </tr>\n",
       "    <tr>\n",
       "      <th>2014</th>\n",
       "      <td>45.346352</td>\n",
       "    </tr>\n",
       "    <tr>\n",
       "      <th>2015</th>\n",
       "      <td>45.573771</td>\n",
       "    </tr>\n",
       "    <tr>\n",
       "      <th>2016</th>\n",
       "      <td>46.000000</td>\n",
       "    </tr>\n",
       "  </tbody>\n",
       "</table>\n",
       "</div>"
      ],
      "text/plain": [
       "          World\n",
       "Year           \n",
       "2012  44.831749\n",
       "2013  45.099481\n",
       "2014  45.346352\n",
       "2015  45.573771\n",
       "2016  46.000000"
      ]
     },
     "execution_count": 3,
     "metadata": {},
     "output_type": "execute_result"
    }
   ],
   "source": [
    "# This is really just manual work, copying the current values of the tables, e.g. Compost!I3:J52 into SMA data format.\n",
    "# I suppose I could write code to do this, but it doesn't seem worth it.\n",
    "# Key note:  I change the number format to six digits precision before copying.\n",
    "# Other Note:  The instructions to the integration say to get these data from the corresponding model (e.g. composting), \n",
    "# but this is not a part of those models we are saving or representing currently.\n",
    "# Example result:\n",
    "cf = sma.SMA.read( Path(\"data/msw\"), \"organic_compost_sma\" )\n",
    "cf.summary(case='S1').head()"
   ]
  },
  {
   "cell_type": "code",
   "execution_count": null,
   "id": "da4646a8",
   "metadata": {},
   "outputs": [],
   "source": [
    "# And that is more or less it.  Everything goes into SMAs or plain csvs, or directly into the code."
   ]
  },
  {
   "cell_type": "code",
   "execution_count": 112,
   "id": "2f9ffc52",
   "metadata": {
    "ExecuteTime": {
     "end_time": "2021-09-02T05:54:23.636977Z",
     "start_time": "2021-09-02T05:54:23.612015Z"
    }
   },
   "outputs": [
    {
     "data": {
      "text/plain": [
       "{'composting':       PDS1  PDS2      PDS3\n",
       " Year                      \n",
       " 2014    0.    0.        0.\n",
       " 2015    0.    0.        0.\n",
       " 2016    0.    0.        0.\n",
       " 2017    0.    0.        0.\n",
       " 2018    0.    0.        0.\n",
       " 2019    0.    0.        0.\n",
       " 2020    0.    0.        0.\n",
       " 2021    0.    0.        0.\n",
       " 2022    0.    0.        0.\n",
       " 2023    0.    0.        0.\n",
       " 2024    0.    0.        0.\n",
       " 2025    0.    0.        0.\n",
       " 2026    0.    0.        0.\n",
       " 2027    0.    0.        0.\n",
       " 2028    0.    0.        0.\n",
       " 2029    0.    0.        0.\n",
       " 2030    0.    0.        0.\n",
       " 2031    0.    0.        0.\n",
       " 2032    0.    0.        0.\n",
       " 2033    0.    0.        0.\n",
       " 2034    0.    0.        0.\n",
       " 2035    0.    0.  34.04309\n",
       " 2036    0.    0.  85.56514\n",
       " 2037    0.    0. 124.56927\n",
       " 2038    0.    0. 163.75078\n",
       " 2039    0.    0. 203.04917\n",
       " 2040    0.    0. 239.32814\n",
       " 2041    0.    0.   274.005\n",
       " 2042    0.    0. 306.87244\n",
       " 2043    0.    0. 338.48314\n",
       " 2044    0.    0. 369.71564\n",
       " 2045    0.    0. 400.55121\n",
       " 2046    0.    0. 420.05784\n",
       " 2047    0.    0. 435.47453\n",
       " 2048    0.    0. 447.64079\n",
       " 2049    0.    0. 458.64866\n",
       " 2050    0.    0. 470.22606\n",
       " 2051    0.    0. 466.89501\n",
       " 2052    0.    0. 462.27932\n",
       " 2053    0.    0. 457.08849\n",
       " 2054    0.    0. 451.28854\n",
       " 2055    0.    0. 444.84723\n",
       " 2056    0.    0.  437.7335\n",
       " 2057    0.    0. 429.92137\n",
       " 2058    0.    0. 421.38888\n",
       " 2059    0.    0.   412.119\n",
       " 2060    0.    0. 402.09162}"
      ]
     },
     "execution_count": 112,
     "metadata": {},
     "output_type": "execute_result"
    }
   ],
   "source": [
    "get_feedstock_limited_solutions()"
   ]
  },
  {
   "cell_type": "code",
   "execution_count": 104,
   "id": "41d06393",
   "metadata": {
    "ExecuteTime": {
     "end_time": "2021-09-02T05:51:42.508459Z",
     "start_time": "2021-09-02T05:51:42.499463Z"
    }
   },
   "outputs": [],
   "source": [
    "old_compost_adoption = wi.compost_adoption.copy()"
   ]
  },
  {
   "cell_type": "code",
   "execution_count": 105,
   "id": "7a9cfdda",
   "metadata": {
    "ExecuteTime": {
     "end_time": "2021-09-02T05:51:46.290769Z",
     "start_time": "2021-09-02T05:51:46.280809Z"
    }
   },
   "outputs": [],
   "source": [
    "old_feedstock = wi.get_updated_organic_waste().copy()"
   ]
  },
  {
   "cell_type": "code",
   "execution_count": 114,
   "id": "dea485e7",
   "metadata": {
    "ExecuteTime": {
     "end_time": "2021-09-02T05:54:39.642087Z",
     "start_time": "2021-09-02T05:54:39.634108Z"
    }
   },
   "outputs": [],
   "source": [
    "wi.update_solution_adoptions(1)"
   ]
  },
  {
   "cell_type": "code",
   "execution_count": null,
   "id": "8a88382d",
   "metadata": {},
   "outputs": [],
   "source": []
  }
 ],
 "metadata": {
  "kernelspec": {
   "display_name": "Python 3 (ipykernel)",
   "language": "python",
   "name": "python3"
  },
  "language_info": {
   "codemirror_mode": {
    "name": "ipython",
    "version": 3
   },
   "file_extension": ".py",
   "mimetype": "text/x-python",
   "name": "python",
   "nbconvert_exporter": "python",
   "pygments_lexer": "ipython3",
   "version": "3.9.6"
  }
 },
 "nbformat": 4,
 "nbformat_minor": 5
}

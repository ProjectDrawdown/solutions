{
 "cells": [
  {
   "cell_type": "markdown",
   "id": "12202c3d",
   "metadata": {},
   "source": [
    "# Overview\n",
    "\n",
    "> You may wish to make a copy of this notebook to avoid overwriting the original.\n",
    "\n",
    "This drawdown integration connects solutions that impact or are impacted by waste production.  _More about this here_\n"
   ]
  },
  {
   "cell_type": "code",
   "execution_count": 1,
   "id": "2792729c",
   "metadata": {
    "ExecuteTime": {
     "end_time": "2021-09-20T22:53:55.206867Z",
     "start_time": "2021-09-20T22:53:54.089183Z"
    }
   },
   "outputs": [],
   "source": [
    "import sys\n",
    "sys.path.append('../')   # If you move this notebook to another location, change this path to point to the root directory of the solutions project\n",
    "import pandas as pd\n",
    "from pathlib import Path\n",
    "from integrations import integration_base as base\n",
    "from integrations import waste_integration as wi\n",
    "\n",
    "# This is an optional step to make floating point numbers display more compactly.\n",
    "# If you prefer other options, you can change or delete this without harm.\n",
    "pd.set_option('display.float_format', lambda x: f\"{x:03.5f}\".rstrip('0'))"
   ]
  },
  {
   "cell_type": "markdown",
   "id": "a61546c0",
   "metadata": {},
   "source": [
    "# Inputs\n",
    "<a href='inputs'></a>\n",
    "\n",
    "The solutions used by this integration are listed below, with the scenarios currently chosen.  If these are not the appropriate scenarios to use, be sure to update them either in the notebook here, or in `integration_base.py`"
   ]
  },
  {
   "cell_type": "code",
   "execution_count": 2,
   "id": "107d8a6e",
   "metadata": {
    "ExecuteTime": {
     "end_time": "2021-09-20T22:54:06.635304Z",
     "start_time": "2021-09-20T22:54:06.626287Z"
    }
   },
   "outputs": [
    {
     "name": "stdout",
     "output_type": "stream",
     "text": [
      "bioplastic: ['PDS1', 'PDS2', 'PDS3']\n",
      "composting: ['PDS1', 'PDS2', 'PDS3']\n",
      "hcrecycling: ['PDS1', 'PDS2', 'PDS3']\n",
      "insulation: ['PDS1', 'PDS2', 'PDS3']\n",
      "landfillmethane: ['PDS1', 'PDS2', 'PDS3']\n",
      "recycledpaper: ['PDS1', 'PDS2', 'PDS3']\n",
      "wastetoenergy: ['PDS1', 'PDS2', 'PDS3']\n"
     ]
    }
   ],
   "source": [
    "for s in ['bioplastic','composting','hcrecycling','insulation','landfillmethane','recycledpaper','wastetoenergy']:\n",
    "    print(f\"{s}: {base.scenario_names[s]}\")"
   ]
  },
  {
   "cell_type": "markdown",
   "id": "ed8e8ab5",
   "metadata": {},
   "source": [
    "Scenarios named 'PDS1', 'PDS2', and 'PDS3' refer to the most recent set of 'official' scenarios in each category as defined by the solution.  If a different set of scenarios should be used for integration, they can be set like this:"
   ]
  },
  {
   "cell_type": "code",
   "execution_count": 9,
   "id": "4ab21e0d",
   "metadata": {
    "ExecuteTime": {
     "end_time": "2021-09-20T16:32:13.540368Z",
     "start_time": "2021-09-20T16:32:13.523370Z"
    }
   },
   "outputs": [],
   "source": [
    "# base.scenario_names['bioplastic'] = [\"name of PDS1 scenario\", \"name of PDS2 scenario\", \"name of PDS3 scenario\"]"
   ]
  },
  {
   "cell_type": "markdown",
   "id": "bb764588",
   "metadata": {},
   "source": [
    "# Integration\n",
    "\n",
    "Initialize integration with **<u>one</u>** of the following two steps:"
   ]
  },
  {
   "cell_type": "code",
   "execution_count": 3,
   "id": "f65e35db",
   "metadata": {
    "ExecuteTime": {
     "end_time": "2021-09-20T22:54:19.045999Z",
     "start_time": "2021-09-20T22:54:18.918430Z"
    }
   },
   "outputs": [],
   "source": [
    "# If you are beginning a *new* integration, or starting over\n",
    "\n",
    "base.integration_clean()\n",
    "base.integration_start()"
   ]
  },
  {
   "cell_type": "code",
   "execution_count": 2,
   "id": "ba36e8db",
   "metadata": {
    "ExecuteTime": {
     "end_time": "2021-09-16T07:55:02.458507Z",
     "start_time": "2021-09-16T07:55:02.450506Z"
    }
   },
   "outputs": [],
   "source": [
    "# If you are continuing an *existing* integration process\n",
    "\n",
    "base.integration_start()"
   ]
  },
  {
   "cell_type": "markdown",
   "id": "db1b3e32",
   "metadata": {},
   "source": [
    "Some integrations require multiple steps, but the waste integration can be done in a single pass:"
   ]
  },
  {
   "cell_type": "code",
   "execution_count": 4,
   "id": "ec9b1e88",
   "metadata": {
    "ExecuteTime": {
     "end_time": "2021-09-20T22:54:30.859627Z",
     "start_time": "2021-09-20T22:54:23.167901Z"
    }
   },
   "outputs": [
    {
     "name": "stdout",
     "output_type": "stream",
     "text": [
      "compost adoption adjusted for 26/141 items by max 461.3709499795839\n",
      "paper available feedstock adjusted for 141/141 items by max 164.75739145946568\n",
      "paper consumption adjusted for 52/141 items by max 134.32478104384097\n",
      "insulation consumption adjusted for 22/141 items by max 17.29156247\n",
      "wte consumption adjusted for 118/141 items by max 1137.350578099259\n",
      "lm adoption adjusted for 2/141 items by max 23.53\n",
      "updating composting adoption\n",
      "updating recycling adoption\n",
      "updating waste to energy LHV values\n",
      "updating landfill methane DOC values\n"
     ]
    }
   ],
   "source": [
    "wi.integrate()"
   ]
  },
  {
   "cell_type": "markdown",
   "id": "a20b6fc3",
   "metadata": {},
   "source": [
    "At any time, you can delete the results of the integration by using `base.integration_clean()`."
   ]
  },
  {
   "cell_type": "code",
   "execution_count": 10,
   "id": "82e7de9a",
   "metadata": {
    "ExecuteTime": {
     "end_time": "2021-09-20T16:37:04.891148Z",
     "start_time": "2021-09-20T16:37:04.880146Z"
    }
   },
   "outputs": [],
   "source": [
    "#base.integration_clean()"
   ]
  },
  {
   "cell_type": "markdown",
   "id": "a265ec74",
   "metadata": {},
   "source": [
    "> **Important**  Any time you run an integration, or run `integration_clean()` after running an integration, you must restart the Python process to cause the updated (or cleaned) models to reload.  You can do that within Jupyter notebook by selecting `Kernel>Restart` from the command menu, or clicking on the circle-arrow button."
   ]
  },
  {
   "cell_type": "markdown",
   "id": "50577c0f",
   "metadata": {},
   "source": [
    "# Checking out the Intermediate Results\n",
    "\n",
    "When the integration process runs, intermediate (and final) results are captured in an audit log.  You can see what is in the log like this:"
   ]
  },
  {
   "cell_type": "code",
   "execution_count": 4,
   "id": "ddb9d5d6",
   "metadata": {
    "ExecuteTime": {
     "end_time": "2021-09-20T15:25:50.786973Z",
     "start_time": "2021-09-20T15:25:50.763841Z"
    }
   },
   "outputs": [
    {
     "name": "stdout",
     "output_type": "stream",
     "text": [
      "-----------------------\n",
      "waste\n",
      "                     waste tam: (47, 3): [1773.333333 1773.333333 1773.333333]\n",
      "                  base organic: (47, 3): [804.14197532 804.14197532 804.14197532]\n",
      "               base recyclable: (47, 3): [627.40533322 627.40533322 627.40533322]\n",
      "                base remainder: (47, 3): [341.78602447 341.78602447 341.78602447]\n",
      "     organic less reduced food: (47, 3): [804.14197532 804.14197532 804.14197532]\n",
      "   organic plus compostable bp: (47, 3): [804.79494532 804.79494532 804.79494532]\n",
      " recylable less compostable bp: (47, 3): [626.75236322 626.75236322 626.75236322]\n",
      "         base compost adoption: (47, 3): [89.275 89.275 89.55 ]\n",
      "     adjusted compost adoption: (47, 3): [89.275 89.275 89.55 ]\n",
      "     organics msw less compost: (47, 3): [715.51994532 715.51994532 715.24494532]\n",
      "       base recycling adoption: (47, 3): [206.02941101 206.02941101 206.02941101]\n",
      "   adjusted recycling adoption: (47, 3): [206.02941101 206.02941101 206.02941101]\n",
      " recyclable msw less recycling: (47, 3): [420.7229522 420.7229522 420.7229522]\n",
      "               paper feedstock: (47, 3): [341.78602447 341.78602447 341.78602447]\n",
      "             paper consumption: (47, 3): [268.41      268.41      230.8889699]\n",
      "    adjusted paper consumption: (47, 3): [268.41      268.41      230.8889699]\n",
      "       adjusted paper adoption: (47, 3): [207. 207. 207.]\n",
      "     remainder msw after paper: (47, 3): [ 73.37602447  73.37602447 110.89705457]\n",
      "        insulation consumption: (47, 3): [0. 0. 0.]\n",
      "adjusted insulation consumption: (47, 3): [0. 0. 0.]\n",
      "remainder msw after insulation: (47, 3): [ 73.37602447  73.37602447 110.89705457]\n",
      "   total waste msw for burning: (47, 3): [1209.61892199 1209.61892199 1246.86495209]\n",
      "                 effective lhv: (47, 3): [2.25005431 2.25005431 2.24632796]\n",
      "          wte base consumption: (47, 3): [164.53020427 164.53020427 164.53020427]\n",
      "      wte adjusted consumption: (47, 3): [164.53020427 164.53020427 164.53020427]\n",
      "         wte adjusted adoption: (47, 3): [87.62678874 87.62678874 87.48166861]\n",
      "              landfilled waste: (47, 3): [1045.08871772 1045.08871772 1082.33474782]\n",
      "          possible twh from lm: (47, 3): [2.08017289e+08 2.08017289e+08 2.15430840e+08]\n",
      "          adjusted lm adoption: (47, 3): [23.99 23.99 23.99]\n",
      "                 effective doc: (47, 3): [246.09987973 246.09987973 258.37854385]\n"
     ]
    }
   ],
   "source": [
    "base.show_log()"
   ]
  },
  {
   "cell_type": "markdown",
   "id": "0fbdf328",
   "metadata": {},
   "source": [
    "And you can access any of the results with `base.get_logitem`.  The result is a pandas DataSeries or DataFrame, which you can print, analyze, plot..."
   ]
  },
  {
   "cell_type": "code",
   "execution_count": 11,
   "id": "6ff0656e",
   "metadata": {
    "ExecuteTime": {
     "end_time": "2021-09-20T16:38:44.950000Z",
     "start_time": "2021-09-20T16:38:44.928003Z"
    }
   },
   "outputs": [
    {
     "data": {
      "text/html": [
       "<div>\n",
       "<style scoped>\n",
       "    .dataframe tbody tr th:only-of-type {\n",
       "        vertical-align: middle;\n",
       "    }\n",
       "\n",
       "    .dataframe tbody tr th {\n",
       "        vertical-align: top;\n",
       "    }\n",
       "\n",
       "    .dataframe thead th {\n",
       "        text-align: right;\n",
       "    }\n",
       "</style>\n",
       "<table border=\"1\" class=\"dataframe\">\n",
       "  <thead>\n",
       "    <tr style=\"text-align: right;\">\n",
       "      <th></th>\n",
       "      <th>PDS1</th>\n",
       "      <th>PDS2</th>\n",
       "      <th>PDS3</th>\n",
       "    </tr>\n",
       "    <tr>\n",
       "      <th>Year</th>\n",
       "      <th></th>\n",
       "      <th></th>\n",
       "      <th></th>\n",
       "    </tr>\n",
       "  </thead>\n",
       "  <tbody>\n",
       "    <tr>\n",
       "      <th>2014</th>\n",
       "      <td>268.41</td>\n",
       "      <td>268.41</td>\n",
       "      <td>230.88897</td>\n",
       "    </tr>\n",
       "    <tr>\n",
       "      <th>2015</th>\n",
       "      <td>278.35576</td>\n",
       "      <td>296.06247</td>\n",
       "      <td>254.6759</td>\n",
       "    </tr>\n",
       "    <tr>\n",
       "      <th>2016</th>\n",
       "      <td>288.45107</td>\n",
       "      <td>307.93993</td>\n",
       "      <td>264.89301</td>\n",
       "    </tr>\n",
       "    <tr>\n",
       "      <th>2017</th>\n",
       "      <td>298.77627</td>\n",
       "      <td>320.3188</td>\n",
       "      <td>275.54144</td>\n",
       "    </tr>\n",
       "    <tr>\n",
       "      <th>2018</th>\n",
       "      <td>309.33687</td>\n",
       "      <td>333.22776</td>\n",
       "      <td>286.64586</td>\n",
       "    </tr>\n",
       "    <tr>\n",
       "      <th>2019</th>\n",
       "      <td>320.13839</td>\n",
       "      <td>346.69632</td>\n",
       "      <td>298.23165</td>\n",
       "    </tr>\n",
       "    <tr>\n",
       "      <th>2020</th>\n",
       "      <td>331.18635</td>\n",
       "      <td>359.39098</td>\n",
       "      <td>333.4772</td>\n",
       "    </tr>\n",
       "    <tr>\n",
       "      <th>2021</th>\n",
       "      <td>342.48628</td>\n",
       "      <td>372.55204</td>\n",
       "      <td>346.55294</td>\n",
       "    </tr>\n",
       "    <tr>\n",
       "      <th>2022</th>\n",
       "      <td>354.04369</td>\n",
       "      <td>386.20042</td>\n",
       "      <td>360.25831</td>\n",
       "    </tr>\n",
       "    <tr>\n",
       "      <th>2023</th>\n",
       "      <td>365.8641</td>\n",
       "      <td>400.35746</td>\n",
       "      <td>374.64167</td>\n",
       "    </tr>\n",
       "  </tbody>\n",
       "</table>\n",
       "</div>"
      ],
      "text/plain": [
       "          PDS1      PDS2      PDS3\n",
       "Year                              \n",
       "2014    268.41    268.41 230.88897\n",
       "2015 278.35576 296.06247  254.6759\n",
       "2016 288.45107 307.93993 264.89301\n",
       "2017 298.77627  320.3188 275.54144\n",
       "2018 309.33687 333.22776 286.64586\n",
       "2019 320.13839 346.69632 298.23165\n",
       "2020 331.18635 359.39098  333.4772\n",
       "2021 342.48628 372.55204 346.55294\n",
       "2022 354.04369 386.20042 360.25831\n",
       "2023  365.8641 400.35746 374.64167"
      ]
     },
     "execution_count": 11,
     "metadata": {},
     "output_type": "execute_result"
    }
   ],
   "source": [
    "paper_consumption = base.get_logitem(\"paper consumption\")\n",
    "paper_consumption.head(10)"
   ]
  },
  {
   "cell_type": "code",
   "execution_count": 12,
   "id": "c38f56dd",
   "metadata": {
    "ExecuteTime": {
     "end_time": "2021-09-20T16:38:47.163746Z",
     "start_time": "2021-09-20T16:38:47.029782Z"
    }
   },
   "outputs": [
    {
     "data": {
      "text/plain": [
       "<AxesSubplot:xlabel='Year'>"
      ]
     },
     "execution_count": 12,
     "metadata": {},
     "output_type": "execute_result"
    },
    {
     "data": {
      "image/png": "[encoded data removed]",
      "text/plain": [
       "<Figure size 432x288 with 1 Axes>"
      ]
     },
     "metadata": {
      "needs_background": "light"
     },
     "output_type": "display_data"
    }
   ],
   "source": [
    "paper_consumption.plot()"
   ]
  },
  {
   "cell_type": "markdown",
   "id": "f737db18",
   "metadata": {},
   "source": [
    "<hr/>\n",
    "\n",
    "### Developer Notes\n",
    "\n",
    "> The remainder of this notebook is notes of the developer, and can be ignored.\n",
    "\n",
    "Analysis of formula references:\n",
    "```\n",
    "    (PDS1, PDS2, PDS3) <--> (WTE Tonnes & Composition, Paper, Compost, Recycling)\n",
    "    (PDS1, PDS2, PDS3) <-- Food System Summary\n",
    "    PDS1 <--> Bioplastics\n",
    "    (WTE Tonnes & Composition <--> WTE and LM Analysis <--> Landfill Methane)  <-- (PDS1, PDS2, PDS3)\n",
    "    Refrigerant Management  <-->  None\n",
    "```\n",
    "That is, PDS1,2,3 are both input and output for the topic tabs, and the Waste & Landfill Methand tabs are a tightly bound cluster.  Refrigerant Management is isolated, as are all the background sheets, and the MSW TAM Update.\n",
    "\n",
    "For some reason Bioplastics are tied only with PDS1?\n",
    "\n",
    "The instruction document is quite detailed and helpful.  We'll mostly follow along.\n",
    "\n",
    "Later notes:  I started out using openpyxl and SMAs to save things to files, and ended up just manually creating CSV files instead, as it was simpler.\n",
    "\n",
    "Testing: by creating test snapshots of input data, you can then compare outputs (from the audit log) against the Excel.\n",
    "I usually do this by cut and paste of Jupyter printout into a spare Excel tab, where I can do side-by-side comparison."
   ]
  },
  {
   "cell_type": "code",
   "execution_count": 1,
   "id": "1b98e357",
   "metadata": {
    "ExecuteTime": {
     "end_time": "2021-09-19T04:33:33.476182Z",
     "start_time": "2021-09-19T04:33:32.442864Z"
    }
   },
   "outputs": [],
   "source": [
    "import sys\n",
    "sys.path.append('../')   # If you move this notebook to another location, change this path to point to the root directory of the solutions project\n",
    "import pandas as pd\n",
    "from pathlib import Path\n",
    "from integrations import integration_base as base\n",
    "from integrations import waste_integration as wi\n",
    "\n",
    "# This is an optional step to make floating point numbers display more compactly.\n",
    "# If you prefer other options, you can change or delete this without harm.\n",
    "pd.set_option('display.float_format', lambda x: f\"{x:03.5f}\".rstrip('0'))\n",
    "base.integration_start(True)"
   ]
  }
 ],
 "metadata": {
  "kernelspec": {
   "display_name": "Python 3 (ipykernel)",
   "language": "python",
   "name": "python3"
  },
  "language_info": {
   "codemirror_mode": {
    "name": "ipython",
    "version": 3
   },
   "file_extension": ".py",
   "mimetype": "text/x-python",
   "name": "python",
   "nbconvert_exporter": "python",
   "pygments_lexer": "ipython3",
   "version": "3.9.6"
  }
 },
 "nbformat": 4,
 "nbformat_minor": 5
}

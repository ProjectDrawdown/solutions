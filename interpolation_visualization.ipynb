{
 "cells": [
  {
   "cell_type": "markdown",
   "id": "cd3fa4c9",
   "metadata": {},
   "source": [
    "# Interpolation Visualization"
   ]
  },
  {
   "cell_type": "markdown",
   "id": "662a427c",
   "metadata": {},
   "source": [
    "The total addressable Market (TAM) and the adoption of a solution are important parameters of the Drawdown model. They are derived from research data and they must be interpolated, if the data is not available on an annual basis. Interpolation is done by fitting a function and there are four possible functions that might be used: linear, second degree polynomial, third degree polynomial and exponential. This notebook is designed to interactively visualize the different interpolation methods for both TAM and adoption of all available drawdown solutions. Running the following cell starts a light weight interactive app. Choose the solution, the dataset and the region you are intersted in and click the \"Plot\" button on the right."
   ]
  },
  {
   "cell_type": "code",
   "execution_count": 74,
   "id": "efbecc17",
   "metadata": {},
   "outputs": [
    {
     "data": {
      "text/html": [
       "<style>div.output_scroll { height: 70em; }</style>"
      ],
      "text/plain": [
       "<IPython.core.display.HTML object>"
      ]
     },
     "metadata": {},
     "output_type": "display_data"
    },
    {
     "data": {
      "application/vnd.jupyter.widget-view+json": {
       "model_id": "5b2cdfccae344272bf0d5ab272344e31",
       "version_major": 2,
       "version_minor": 0
      },
      "text/plain": [
       "VBox(children=(Box(children=(interactive(children=(Dropdown(description='Solutions', options=('afforestation',…"
      ]
     },
     "metadata": {},
     "output_type": "display_data"
    },
    {
     "data": {
      "image/png": "[encoded data removed]",
      "text/plain": [
       "<Figure size 1440x1008 with 4 Axes>"
      ]
     },
     "metadata": {
      "needs_background": "light"
     },
     "output_type": "display_data"
    },
    {
     "name": "stdout",
     "output_type": "stream",
     "text": [
      "afforestation World FAO 2015\n"
     ]
    }
   ],
   "source": [
    "from solution import factory\n",
    "import pandas as pd\n",
    "import matplotlib.pyplot as plt\n",
    "from model import interpolation\n",
    "import numpy as np\n",
    "import ipywidgets as widgets\n",
    "from ipywidgets import interact, interactive, fixed, interact_manual, Output\n",
    "from IPython.display import display, clear_output\n",
    "from IPython.core.display import display, HTML\n",
    "display(HTML(\"<style>div.output_scroll { height: 70em; }</style>\"))\n",
    "%matplotlib inline\n",
    "\n",
    "def get_data(solution='afforestation', variable='TAM', region='World'):\n",
    "    (constructor, scenarios) = factory.one_solution_scenarios(solution)\n",
    "    con = constructor(scenarios[0])\n",
    "    if variable == 'TAM':\n",
    "        if hasattr(con, 'tm'):\n",
    "            data = con.tm.forecast_data(region)\n",
    "        else:\n",
    "            data = con.ad.adoption_data(region)\n",
    "    elif variable == 'AD':\n",
    "        data = con.ad.adoption_data(region)\n",
    "    return data, con\n",
    "\n",
    "def get_variables(con):\n",
    "    variables = []\n",
    "    if hasattr(con, 'tm'):\n",
    "        variables.append('TAM')\n",
    "    if hasattr(con, 'ad'):\n",
    "        if hasattr(con.ad, 'adoption_data'):\n",
    "            variables.append('AD')\n",
    "    return variables\n",
    "\n",
    "data, con = get_data()\n",
    "\n",
    "plt.rcParams[\"figure.figsize\"] = (20, 14)\n",
    "plt.rcParams[\"font.size\"] = 16\n",
    "\n",
    "def f_sol(x):\n",
    "    data, con = get_data(solution=x)\n",
    "    research_dropdown.options = data.columns \n",
    "    variables_dropdown.children[0].options = get_variables(con)\n",
    "    return x\n",
    "\n",
    "def f_var(x):\n",
    "    solution = solutions_dropdown.children[0].value\n",
    "    data, con = get_data(solution=solution, variable=x)\n",
    "    research_dropdown.options = data.columns\n",
    "    return x\n",
    "\n",
    "def plotting(data_linear_ip,\n",
    "            data_poly_degree2_trend,\n",
    "            data_poly_degree3_trend,\n",
    "            data_exponential_ip,\n",
    "            data):\n",
    "\n",
    "    for x in ax.flat:\n",
    "        x.clear()\n",
    "        x.plot(data.index, data.values)\n",
    "        x.set_xlabel('Years')\n",
    "\n",
    "    p1 = ax[0,0].plot(data_linear_ip.index, data_linear_ip.adoption)\n",
    "    ax[0,0].set_title('Linear Interpolation')\n",
    "    ax[0,0].legend(('Data', 'Interpolation'))\n",
    "\n",
    "    p2 = ax[0,1].plot(data_poly_degree2_trend.index, data_poly_degree2_trend.adoption)\n",
    "    ax[0,1].set_title('Polynomial 2nd')\n",
    "\n",
    "    p3 = ax[1,0].plot(data_poly_degree3_trend.index, data_poly_degree3_trend.adoption)\n",
    "    ax[1,0].set_title('Polynomial 3rd')\n",
    "\n",
    "    p4 = ax[1,1].plot(data_exponential_ip.index, data_exponential_ip.adoption)\n",
    "    ax[1,1].set_title('Exponential')\n",
    "\n",
    "    with output:\n",
    "        display(fig)\n",
    "    \n",
    "    return p1, p2, p3, p4\n",
    "    \n",
    "def button_on_click(x):\n",
    "    # Interpolate random data\n",
    "    data, con = get_data(solution=solutions_dropdown.children[0].value,\n",
    "                    variable=variables_dropdown.children[0].value,\n",
    "                    region=region_dropdown.value)\n",
    "    data = data[research_dropdown.value]\n",
    "    print(solutions_dropdown.children[0].value,\n",
    "                    region_dropdown.value,\n",
    "                    research_dropdown.value)\n",
    "    \n",
    "    data_linear_ip = interpolation.linear_trend(data)\n",
    "    data_poly_degree2_trend = interpolation.poly_degree2_trend(data)\n",
    "    data_poly_degree3_trend = interpolation.poly_degree3_trend(data)\n",
    "    data_exponential_ip = interpolation.exponential_trend(data)\n",
    "    \n",
    "    with output:\n",
    "        clear_output(True)\n",
    "    \n",
    "    plots = plotting(data_linear_ip,\n",
    "                    data_poly_degree2_trend,\n",
    "                    data_poly_degree3_trend,\n",
    "                    data_exponential_ip,\n",
    "                    data)\n",
    "    return plots\n",
    "\n",
    "all_solutions = factory.all_solutions()\n",
    "solutions_dropdown = interactive(f_sol, x=all_solutions);\n",
    "solutions_dropdown.children[0].description = 'Solutions'\n",
    "\n",
    "research_options = data.columns\n",
    "research_dropdown = widgets.Dropdown(\n",
    "    options=research_options,\n",
    "    value=research_options[0],\n",
    "    description='Source:',\n",
    "    disabled=False,\n",
    ")\n",
    "\n",
    "variables = get_variables(con)\n",
    "if variables:\n",
    "    default_variable = variables[0]\n",
    "else:\n",
    "    default_variable = ''\n",
    "\n",
    "variables_dropdown = interactive(f_var, x=variables)\n",
    "variables_dropdown.children[0].description = 'Variables'\n",
    "\n",
    "region_options = ['World', 'OECD90', 'Eastern Europe', 'Asia (Sans Japan)',\n",
    "                  'Middle East and Africa', 'Latin America', 'China',\n",
    "                  'India', 'EU', 'USA']\n",
    "region_dropdown = widgets.Dropdown(\n",
    "    options=region_options,\n",
    "    value=region_options[0],\n",
    "    description='Region:',\n",
    "    disabled=False,\n",
    ")\n",
    "\n",
    "button = widgets.Button(\n",
    "    description='Plot',\n",
    "    disabled=False,\n",
    "    button_style='', # 'success', 'info', 'warning', 'danger' or ''\n",
    "    tooltip='Plot',\n",
    "    icon='Plot'  # (FontAwesome names without the `fa-` prefix)\n",
    ")\n",
    "\n",
    "output_layout = widgets.Layout(display='flex',\n",
    "                    flex_flow='row nowrap',\n",
    "                    align_items='stretch',\n",
    "                    border='none',\n",
    "                    width='100%',\n",
    "                    margin='10px 100px 10px 100px')\n",
    "\n",
    "output = widgets.Output(layout=output_layout)\n",
    "\n",
    "with output:\n",
    "    fig, ax = plt.subplots(2,2)\n",
    "    \n",
    "test = button.on_click(button_on_click)\n",
    "box_layout = widgets.Layout(display='flex',\n",
    "                    flex_flow='column nowrap',\n",
    "                    align_items='center',\n",
    "                    border='none',\n",
    "                    width='100%',\n",
    "                    margin='10px 10px 10px 10px')\n",
    "\n",
    "box=widgets.Box([solutions_dropdown, variables_dropdown, research_dropdown, region_dropdown, button], layout=box_layout)\n",
    "app_layout = widgets.Layout(display='flex',\n",
    "                    flex_flow='column nowrap',\n",
    "                    align_items='center',\n",
    "                    border='none',\n",
    "                    width='100%',\n",
    "                    margin='10px 10px 10px 10px')\n",
    "app=widgets.VBox([box, output], layout=app_layout)\n",
    "display(app)"
   ]
  },
  {
   "cell_type": "code",
   "execution_count": 63,
   "id": "bba0c39d",
   "metadata": {},
   "outputs": [
    {
     "data": {
      "text/plain": [
       "['__class__',\n",
       " '__delattr__',\n",
       " '__dict__',\n",
       " '__dir__',\n",
       " '__doc__',\n",
       " '__eq__',\n",
       " '__format__',\n",
       " '__ge__',\n",
       " '__getattribute__',\n",
       " '__gt__',\n",
       " '__hash__',\n",
       " '__init__',\n",
       " '__init_subclass__',\n",
       " '__le__',\n",
       " '__lt__',\n",
       " '__module__',\n",
       " '__ne__',\n",
       " '__new__',\n",
       " '__reduce__',\n",
       " '__reduce_ex__',\n",
       " '__repr__',\n",
       " '__setattr__',\n",
       " '__sizeof__',\n",
       " '__str__',\n",
       " '__subclasshook__',\n",
       " '__weakref__',\n",
       " 'ac',\n",
       " 'ad',\n",
       " 'ae',\n",
       " 'c2',\n",
       " 'c4',\n",
       " 'ef',\n",
       " 'fc',\n",
       " 'ht',\n",
       " 'name',\n",
       " 'oc',\n",
       " 'pds_ca',\n",
       " 'ref_ca',\n",
       " 'scenario',\n",
       " 'solution_category',\n",
       " 'tla_per_region',\n",
       " 'ua',\n",
       " 'units',\n",
       " 'vmas']"
      ]
     },
     "execution_count": 63,
     "metadata": {},
     "output_type": "execute_result"
    }
   ],
   "source": [
    "dir(con)"
   ]
  },
  {
   "cell_type": "code",
   "execution_count": 69,
   "id": "a591ad73",
   "metadata": {},
   "outputs": [
    {
     "data": {
      "text/plain": [
       "['__class__',\n",
       " '__delattr__',\n",
       " '__dict__',\n",
       " '__dir__',\n",
       " '__doc__',\n",
       " '__eq__',\n",
       " '__format__',\n",
       " '__ge__',\n",
       " '__getattribute__',\n",
       " '__gt__',\n",
       " '__hash__',\n",
       " '__init__',\n",
       " '__init_subclass__',\n",
       " '__le__',\n",
       " '__lt__',\n",
       " '__module__',\n",
       " '__ne__',\n",
       " '__new__',\n",
       " '__reduce__',\n",
       " '__reduce_ex__',\n",
       " '__repr__',\n",
       " '__setattr__',\n",
       " '__sizeof__',\n",
       " '__str__',\n",
       " '__subclasshook__',\n",
       " '__weakref__',\n",
       " '_adoption_data',\n",
       " '_adoption_trend',\n",
       " '_get_data_sources',\n",
       " '_low_med_high',\n",
       " '_min_max_sd',\n",
       " '_name_to_identifier',\n",
       " '_populate_adoption_data',\n",
       " '_set_adoption_one_region',\n",
       " 'ac',\n",
       " 'adconfig',\n",
       " 'adoption_data',\n",
       " 'adoption_data_main_with_regional',\n",
       " 'adoption_data_per_region',\n",
       " 'adoption_is_single_source',\n",
       " 'adoption_low_med_high',\n",
       " 'adoption_min_max_sd',\n",
       " 'adoption_trend',\n",
       " 'adoption_trend_per_region',\n",
       " 'clean_nan',\n",
       " 'data_sources',\n",
       " 'main_includes_regional',\n",
       " 'to_json']"
      ]
     },
     "execution_count": 69,
     "metadata": {},
     "output_type": "execute_result"
    }
   ],
   "source": [
    "dir(con.ad)"
   ]
  },
  {
   "cell_type": "code",
   "execution_count": null,
   "id": "fbb3b969",
   "metadata": {},
   "outputs": [],
   "source": []
  }
 ],
 "metadata": {
  "kernelspec": {
   "display_name": "Python 3 (ipykernel)",
   "language": "python",
   "name": "python3"
  },
  "language_info": {
   "codemirror_mode": {
    "name": "ipython",
    "version": 3
   },
   "file_extension": ".py",
   "mimetype": "text/x-python",
   "name": "python",
   "nbconvert_exporter": "python",
   "pygments_lexer": "ipython3",
   "version": "3.9.6"
  }
 },
 "nbformat": 4,
 "nbformat_minor": 5
}

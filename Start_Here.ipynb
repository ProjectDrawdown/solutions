{
 "cells": [
  {
   "cell_type": "markdown",
   "id": "19db04f0",
   "metadata": {},
   "source": [
    "Welcome to the Drawdown Solutions library!\n",
    "\n",
    "This jupyter notebook is a stub.  It needs to be expanded to include additional useful samples.\n",
    "\n",
    "(A helpful tutorial for jupyter notebooks is [here](https://nbviewer.jupyter.org/github/jupyter/notebook/blob/master/docs/source/examples/Notebook/Notebook%20Basics.ipynb)---or [here](https://youtu.be/3C9E2yPBw7s?t=131) if you'd prefer a video introduction.)"
   ]
  },
  {
   "cell_type": "markdown",
   "id": "f6096a01",
   "metadata": {},
   "source": [
    "# Working with Solutions/Scenarios"
   ]
  },
  {
   "cell_type": "code",
   "execution_count": null,
   "id": "b2ddf2b6",
   "metadata": {},
   "outputs": [],
   "source": [
    "# Import modules we'll use later\n",
    "\n",
    "from solution import factory\n",
    "import pandas as pd\n",
    "import matplotlib"
   ]
  },
  {
   "cell_type": "code",
   "execution_count": null,
   "id": "765b27ae",
   "metadata": {},
   "outputs": [],
   "source": [
    "# The factory module has several ways of constructing solutions and scenarios.\n",
    "# The simplest is to get the most recent \"Project Drawdown Scenario\" (PDS) of \n",
    "# a particular type for a particular solution\n",
    "\n",
    "f = factory.solution_pds_type(\"bikeinfrastructure\", \"PDS2\")\n",
    "\n",
    "# TODO: explain what is PDS1 vs PDS2 vs PDS3?"
   ]
  },
  {
   "cell_type": "code",
   "execution_count": null,
   "id": "69ce56a5",
   "metadata": {},
   "outputs": [],
   "source": [
    "# All the work of calculating carbon impact, capital cost and operating cost for the scenario \n",
    "# was done by that constructure.  Here, for example, is the carbon impact.  (In this case, we\n",
    "# only have global data, and only modeled out to 2050)\n",
    "\n",
    "co2e = f.c2.co2eq_mmt_reduced()\n",
    "co2e"
   ]
  },
  {
   "cell_type": "code",
   "execution_count": null,
   "id": "da0869e4",
   "metadata": {},
   "outputs": [],
   "source": [
    "# The result is a pandas Dataframe, so you can do lots of things with it.\n",
    "# Lets graph the part of it that is interesting\n",
    "\n",
    "co2e.loc[2020:2050, 'World'].plot(title=\"Bike Infrastructure:\\nCO2eq reduced per year, in metric tons\")"
   ]
  },
  {
   "cell_type": "code",
   "execution_count": null,
   "id": "464ae9ad",
   "metadata": {},
   "outputs": [],
   "source": [
    "# TODO:\n",
    "# We need some utility functions to produce nice summary results, and then we should demonstrate them here,\n",
    "# also including some nice graphs."
   ]
  },
  {
   "cell_type": "code",
   "execution_count": null,
   "id": "d46284d8",
   "metadata": {},
   "outputs": [],
   "source": [
    "# see model/co2calcs.py for other available methods, e.g.\n",
    "ppm = f.c2.co2eq_ppm_calculator()\n",
    "ppm"
   ]
  },
  {
   "cell_type": "code",
   "execution_count": null,
   "id": "c14c6797",
   "metadata": {},
   "outputs": [],
   "source": [
    "ppm.loc[2020:2050, \"CO2-eq PPM\"].plot(title=\"Bike Infrastructure:\\nCO2-eq PPM reduced per year\")"
   ]
  },
  {
   "cell_type": "code",
   "execution_count": null,
   "id": "6c720c51",
   "metadata": {},
   "outputs": [],
   "source": [
    "# see 'solution' directory for available scenarios, e.g.\n",
    "scenario = \"solarpvutil\"\n",
    "f = factory.solution_pds_type(scenario, \"PDS2\")"
   ]
  },
  {
   "cell_type": "code",
   "execution_count": null,
   "id": "aadb14d8",
   "metadata": {},
   "outputs": [],
   "source": [
    "co2e = f.c2.co2eq_mmt_reduced()\n",
    "co2e.loc[2020:2050, 'World'].plot(title=scenario + \":\\nCO2eq reduced per year, in metric tons\")"
   ]
  },
  {
   "cell_type": "code",
   "execution_count": null,
   "id": "8d05f92f",
   "metadata": {},
   "outputs": [],
   "source": [
    "ppm = f.c2.co2eq_ppm_calculator()\n",
    "ppm.loc[2020:2050, \"CO2-eq PPM\"].plot(title=scenario + \":\\nCO2-eq PPM reduced per year\")"
   ]
  }
 ],
 "metadata": {
  "interpreter": {
   "hash": "641170e26b916086f6ab8a8498639d254e86adadac2c3bbb49fa49caa88ce61e"
  },
  "kernelspec": {
   "display_name": "Python 3 (ipykernel)",
   "language": "python",
   "name": "python3"
  },
  "language_info": {
   "codemirror_mode": {
    "name": "ipython",
    "version": 3
   },
   "file_extension": ".py",
   "mimetype": "text/x-python",
   "name": "python",
   "nbconvert_exporter": "python",
   "pygments_lexer": "ipython3",
   "version": "3.9.6"
  }
 },
 "nbformat": 4,
 "nbformat_minor": 5
}

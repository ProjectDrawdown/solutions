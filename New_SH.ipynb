{
 "cells": [
  {
   "cell_type": "markdown",
   "id": "11e7be6b",
   "metadata": {},
   "source": [
    "# Project Drawdown Model Engine: Start Here\n",
    "\n",
    "This jupyter notebook contains a top-level, minimal-code introduction to the PDME library.  It aims to introduce you to some of the features of the library and to show some common patterns that you might use to use the library for yourself.  It is _not_ a complete description of all the functionality of the PDME.  When you outgrow this introduction, investigate the [main documentation](https://projectdrawdown.github.io/solutions/) next.  \n",
    "\n",
    "Suggestion: This notebook is too long to comfortably go through from top to bottom.  Instead, browse through the whole notebook quickly to get an overview, and then dig in more deeply in the sections you need.\n",
    "\n",
    "(A helpful tutorial for jupyter notebooks is [here](https://nbviewer.jupyter.org/github/jupyter/notebook/blob/master/docs/source/examples/Notebook/Notebook%20Basics.ipynb), or [here](https://youtu.be/3C9E2yPBw7s?t=131) if you'd prefer a video introduction.)\n",
    "\n",
    "Table of Contents:\n",
    "* [Setup](#Setup)\n",
    "* [Solutions](#Solutions)\n",
    "* [Scenarios](#Scenarios)\n",
    "    * [Scenario Parameters](#Looking-at-the-Scenario-Parameters)\n",
    "    * [Scenario Outputs](#Scenario-Outputs)\n",
    "        * [Unit Adoption](#Unit-Adoption)\n",
    "        * [Costs](#Costs)\n",
    "        * [Emissions](#Emissions)\n",
    "        * [Key Results](#Key-Results)\n",
    "* [Examining Solution Data](#Examining-Solution-Data)  _TODO_\n",
    "* [Changing a Scenario](#Changing-a-Scenario)\n",
    "* [Ocean Solutions](#Ocean-Solutions)  _TODO_\n",
    "* [Common Code Patterns](#Common-Code-Patterns)  _TODO_"
   ]
  },
  {
   "cell_type": "markdown",
   "id": "d96fa055",
   "metadata": {},
   "source": [
    "# Setup\n",
    "\n",
    "Always run the cell below; it imports modules we'll use later.\n",
    "(Run the cell by putting your cursor in it and clicking on the \"&#9654; Run\" button above.)"
   ]
  },
  {
   "cell_type": "code",
   "execution_count": 1,
   "id": "70785e50",
   "metadata": {},
   "outputs": [],
   "source": [
    "from solution import factory\n",
    "import pandas as pd\n",
    "from matplotlib import pyplot as plt\n",
    "import json\n",
    "from pathlib import Path"
   ]
  },
  {
   "cell_type": "markdown",
   "id": "48d2c6c7",
   "metadata": {},
   "source": [
    "# Solutions\n",
    "\n",
    "The PDME library contains all of the solutions published by Project Drawdown.  You can see the list of these solutions by running either of the two cells below.  (The Ocean solutions are missing from these lists for technical reasons that we will eventually resolve; for now see the section on [Oceans](#Oceans) below)"
   ]
  },
  {
   "cell_type": "code",
   "execution_count": 2,
   "id": "d3ae98dd",
   "metadata": {},
   "outputs": [
    {
     "name": "stdout",
     "output_type": "stream",
     "text": [
      "['afforestation', 'airplanes', 'altcement', 'bamboo', 'bikeinfrastructure', 'biochar', 'biogas', 'biogas_small', 'biomass', 'bioplastic', 'buildingautomation', 'carpooling', 'commercialglass', 'composting', 'concentratedsolar', 'conservationagriculture', 'coolroofs', 'coveredmanurelagoons', 'districtheating', 'electricbikes', 'electricvehicles', 'farmlandrestoration', 'forestprotection', 'geothermal', 'grasslandprotection', 'greenroofs', 'hcrecycling', 'heatpumps', 'hfc_replacement', 'highspeedrail', 'hybridcars', 'improvedcattlefeed', 'improvedcookstoves', 'improvedrice', 'indigenouspeoplesland', 'instreamhydro', 'insulation', 'irrigationefficiency', 'landfillmethane', 'leds_commercial', 'leds_residential', 'managedgrazing', 'mangroverestoration', 'masstransit', 'methaneleak', 'microwind', 'multistrataagroforestry', 'nuclear', 'nutrientmanagement', 'offshorewind', 'onshorewind', 'peatlandrestoration', 'peatlands', 'perennialbioenergy', 'recycledmetals', 'recycledpaper', 'recycledplastics', 'reducemanurestorage', 'refrigerants', 'regenerativeagriculture', 'residentialglass', 'riceintensification', 'ships', 'silvopasture', 'smartglass', 'smartthermostats', 'solarhotwater', 'solarpvroof', 'solarpvutil', 'sustainableclothing', 'telepresence', 'temperateforests', 'trains', 'treeintercropping', 'tropicalforests', 'tropicaltreestaples', 'trucks', 'walkablecities', 'wastetoenergy', 'waterdistribution', 'waterefficiency', 'waveandtidal', 'womensmallholders']\n"
     ]
    }
   ],
   "source": [
    "# Return the list of identifiers of all (non-Ocean) solutions\n",
    "\n",
    "print(factory.all_solutions())"
   ]
  },
  {
   "cell_type": "code",
   "execution_count": 3,
   "id": "ef52a5b3",
   "metadata": {
    "scrolled": true
   },
   "outputs": [
    {
     "name": "stdout",
     "output_type": "stream",
     "text": [
      "                 afforestation:  Afforestation\n",
      "                     airplanes:  Aircraft Fuel Efficiency\n",
      "                     altcement:  Alternative Cements\n",
      "                        bamboo:  Bamboo\n",
      "            bikeinfrastructure:  Bike Infrastructure\n",
      "                       biochar:  Biochar\n",
      "                        biogas:  Large Biodigesters (Biogas)\n",
      "                  biogas_small:  Small Biogas Digesters\n",
      "                       biomass:  Biomass from Perennial Crops for Electricity Generation\n",
      "                    bioplastic:  Bioplastics\n",
      "            buildingautomation:  Building Automation Systems\n",
      "                    carpooling:  Ridesharing & Carpooling\n",
      "               commercialglass:  High-Performance Glass (Commercial)\n",
      "                    composting:  Composting\n",
      "             concentratedsolar:  Concentrated Solar Power (CSP)\n",
      "       conservationagriculture:  Conservation Agriculture\n",
      "                     coolroofs:  Cool Roofs\n",
      "          coveredmanurelagoons:  Covered Anaerobic Lagoons\n",
      "               districtheating:  Renewable District Heating\n",
      "                 electricbikes:  Electric Bicycles\n",
      "              electricvehicles:  Electric Vehicles\n",
      "           farmlandrestoration:  Farmland Restoration\n",
      "              forestprotection:  Forest Protection\n",
      "                    geothermal:  Geothermal\n",
      "           grasslandprotection:  Grassland Protection\n",
      "                    greenroofs:  Green Roofs\n",
      "                   hcrecycling:  Household & Commercial Recycling\n",
      "                     heatpumps:  High Efficient Heat Pumps\n",
      "               hfc_replacement:  Refrigerant Management - HFC Replacement\n",
      "                 highspeedrail:  High Speed Rail\n",
      "                    hybridcars:  Car Fuel Efficiency\n",
      "            improvedcattlefeed:  Improved Cattle Feed Quality\n",
      "            improvedcookstoves:  Improved Cook Stoves (ICS)\n",
      "                  improvedrice:  Improved Rice\n",
      "         indigenouspeoplesland:  IP Forest Management\n",
      "                 instreamhydro:  Instream Hydro (Small Hydro <10MW)\n",
      "                    insulation:  Insulation\n",
      "          irrigationefficiency:  Irrigation Efficiency\n",
      "               landfillmethane:  Landfill Methane Capture\n",
      "               leds_commercial:  LED Commercial Lighting\n",
      "              leds_residential:  Residential LED Lighting\n",
      "                managedgrazing:  Managed Grazing\n",
      "           mangroverestoration:  Mangrove Protection\n",
      "                   masstransit:  Mass Transit\n",
      "                   methaneleak:  Oil and gas methane management\n",
      "                     microwind:  MicroWind Turbines\n",
      "       multistrataagroforestry:  Multistrata Agroforestry\n",
      "                       nuclear:  Nuclear\n",
      "            nutrientmanagement:  Nutrient Management\n",
      "                  offshorewind:  Wind Offshore\n",
      "                   onshorewind:  Onshore Wind\n",
      "           peatlandrestoration:  Peatland Restoration\n",
      "                     peatlands:  Peatland Protection\n",
      "            perennialbioenergy:  Perennial Bioenergy Crops\n",
      "                recycledmetals:  Recycled Metals\n",
      "                 recycledpaper:  Recycled Paper\n",
      "              recycledplastics:  Recycled Plastics\n",
      "           reducemanurestorage:  Reduced Manure Storage\n",
      "                  refrigerants:  Refrigerant Management\n",
      "       regenerativeagriculture:  Regenerative Agriculture\n",
      "              residentialglass:  High-Performance Glass (Residential)\n",
      "           riceintensification:  SRI\n",
      "                         ships:  Oceanic Freight Improvements\n",
      "                  silvopasture:  Silvopasture\n",
      "                    smartglass:  Smart Glass\n",
      "              smartthermostats:  Smart Thermostats\n",
      "                 solarhotwater:  Solar Hot Water\n",
      "                   solarpvroof:  Rooftop Solar PV\n",
      "                   solarpvutil:  Utility Scale Solar PV\n",
      "           sustainableclothing:  Sustainable Clothing\n",
      "                  telepresence:  Videoconferencing and Telepresence\n",
      "              temperateforests:  Temperate Forest Restoration\n",
      "                        trains:  Train Fuel Efficiency\n",
      "             treeintercropping:  Tree Intercropping\n",
      "               tropicalforests:  Tropical Forest Restoration\n",
      "           tropicaltreestaples:  Tropical Tree Staples\n",
      "                        trucks:  Truck Fuel Efficiency\n",
      "                walkablecities:  Walkable Cities\n",
      "                 wastetoenergy:  Waste to Energy\n",
      "             waterdistribution:  Increasing Distribution Efficiency in WDSs\n",
      "               waterefficiency:  Water Efficiency Measures\n",
      "                  waveandtidal:  OCEAN POWER\n",
      "             womensmallholders:  Smallholder Intensification\n"
     ]
    }
   ],
   "source": [
    "# Return the list of ids and titles of all the (non-Ocean) solutions.\n",
    "# This one is a little slower, because it is actually loading code for each solution\n",
    "\n",
    "for soln_id in factory.all_solutions():\n",
    "    soln = factory.load_solution(soln_id)\n",
    "    print(f'{soln_id:>30}:  {soln.name}')"
   ]
  },
  {
   "cell_type": "markdown",
   "id": "83ad38ab",
   "metadata": {},
   "source": [
    "# Scenarios\n",
    "\n",
    "A Solution describes a type of technology to address climate change, but a Scenario defines a set of specific assumptions about that technology, including its cost, effectiveness and adoption.  When working the the PDME, we will usually be working with Scenarios.\n",
    "\n",
    "Solutions may have any number of Scenarios.  Those published with the PDME will always have at least three Scenarios which illustrate the most recent \"Plausible\", \"Drawdown\" and \"Optimum\" scenarios published by Project Drawdown.  To make matters simple, these are always accessible by the labels \"PDS1\", \"PDS2\" and \"PDS3\".\n",
    "\n",
    "Here we list the scenarios available within the PDME code for a specific Solution (Bike Infrastructure), then load the Drawdown Scenario for that Solution:"
   ]
  },
  {
   "cell_type": "code",
   "execution_count": 4,
   "id": "6cdc1b0d",
   "metadata": {},
   "outputs": [
    {
     "name": "stdout",
     "output_type": "stream",
     "text": [
      "['PDS1-21p2050-ComDat-FullyIntegrated', 'PDS2-33p2050-ComDat-FullyIntegrated', 'PDS3-92p2050-ComData-FullyIntegrated']\n"
     ]
    },
    {
     "data": {
      "text/plain": [
       "'PDS2-33p2050-ComDat-FullyIntegrated'"
      ]
     },
     "execution_count": 4,
     "metadata": {},
     "output_type": "execute_result"
    }
   ],
   "source": [
    "print(factory.list_scenarios(\"electricvehicles\"))\n",
    "\n",
    "# The names returned in the print are the full code names of the scenarios, but we will use the\n",
    "# PDS2 shortcut to load the Drawdown scenario.\n",
    "\n",
    "ecars2 = factory.load_scenario(\"electricvehicles\", \"PDS2\")\n",
    "ecars2.scenario"
   ]
  },
  {
   "cell_type": "markdown",
   "id": "8d4bf1c8",
   "metadata": {},
   "source": [
    "### Looking at the Scenario Parameters\n",
    "\n",
    "There are many parameters that are used to define a Scenario, and some of those parameters are more arcane than others.  The `key_inputs` method returns a set of the most important scalar parameter values."
   ]
  },
  {
   "cell_type": "code",
   "execution_count": 5,
   "id": "3f35c6fd",
   "metadata": {},
   "outputs": [
    {
     "data": {
      "text/plain": [
       "{'pds_2014_cost': 36317.523345066766,\n",
       " 'soln_lifetime_capacity': 0.000346582848014648,\n",
       " 'soln_avg_annual_use': 2.4485619375e-05,\n",
       " 'soln_fixed_oper_cost_per_iunit': 634.2005524308272,\n",
       " 'soln_var_oper_cost_per_funit': 13224200.431077885,\n",
       " 'soln_energy_efficiency_factor': 0.0,\n",
       " 'soln_fuel_efficiency_factor': 0.8964768329017938,\n",
       " 'soln_emissions_per_funit': 0.0,\n",
       " 'soln_indirect_co2_per_iunit': 12.55864172870986}"
      ]
     },
     "execution_count": 5,
     "metadata": {},
     "output_type": "execute_result"
    }
   ],
   "source": [
    "ecars2.key_inputs()"
   ]
  },
  {
   "cell_type": "markdown",
   "id": "3fd7ad95",
   "metadata": {},
   "source": [
    "The parameter names can be a bit cryptic.  We can (sometimes) get a better explanation of what they mean by using the `explain_parameter` method:"
   ]
  },
  {
   "cell_type": "code",
   "execution_count": 6,
   "id": "5ac662ab",
   "metadata": {},
   "outputs": [
    {
     "name": "stdout",
     "output_type": "stream",
     "text": [
      "SOLUTION Variable Operating Cost (VOM)\n",
      "NOTE: This is the annual operating cost per functional unit, derived from the SOLUTION. In most cases this will be expressed as a cost per 'some unit of energy'.\n",
      "\n",
      "E.g., $1 per Kwh or $1,000,000,000 per TWh. In terms of transportation, this can be considered the weighted average price of fuel per passenger kilometer.\n"
     ]
    }
   ],
   "source": [
    "print(ecars2.ac.explain_parameter('soln_var_oper_cost_per_funit'))"
   ]
  },
  {
   "cell_type": "markdown",
   "id": "768247ff",
   "metadata": {},
   "source": [
    "The other major input is Adoption, which is the amount of some good or service that is *provided or supported by* the solution technology.\n",
    "\n",
    "Let's look at the adoption of this scenario:"
   ]
  },
  {
   "cell_type": "code",
   "execution_count": 7,
   "id": "5e90c635",
   "metadata": {
    "scrolled": true
   },
   "outputs": [
    {
     "data": {
      "text/html": [
       "<div>\n",
       "<style scoped>\n",
       "    .dataframe tbody tr th:only-of-type {\n",
       "        vertical-align: middle;\n",
       "    }\n",
       "\n",
       "    .dataframe tbody tr th {\n",
       "        vertical-align: top;\n",
       "    }\n",
       "\n",
       "    .dataframe thead th {\n",
       "        text-align: right;\n",
       "    }\n",
       "</style>\n",
       "<table border=\"1\" class=\"dataframe\">\n",
       "  <thead>\n",
       "    <tr style=\"text-align: right;\">\n",
       "      <th></th>\n",
       "      <th>World</th>\n",
       "      <th>OECD90</th>\n",
       "      <th>Eastern Europe</th>\n",
       "      <th>Asia (Sans Japan)</th>\n",
       "      <th>Middle East and Africa</th>\n",
       "      <th>Latin America</th>\n",
       "      <th>China</th>\n",
       "      <th>India</th>\n",
       "      <th>EU</th>\n",
       "      <th>USA</th>\n",
       "    </tr>\n",
       "    <tr>\n",
       "      <th>Year</th>\n",
       "      <th></th>\n",
       "      <th></th>\n",
       "      <th></th>\n",
       "      <th></th>\n",
       "      <th></th>\n",
       "      <th></th>\n",
       "      <th></th>\n",
       "      <th></th>\n",
       "      <th></th>\n",
       "      <th></th>\n",
       "    </tr>\n",
       "  </thead>\n",
       "  <tbody>\n",
       "    <tr>\n",
       "      <th>2014</th>\n",
       "      <td>116.388993</td>\n",
       "      <td>0.0</td>\n",
       "      <td>0.0</td>\n",
       "      <td>0.0</td>\n",
       "      <td>0.0</td>\n",
       "      <td>0.0</td>\n",
       "      <td>0.0</td>\n",
       "      <td>0.0</td>\n",
       "      <td>0.0</td>\n",
       "      <td>0.0</td>\n",
       "    </tr>\n",
       "    <tr>\n",
       "      <th>2015</th>\n",
       "      <td>121.576689</td>\n",
       "      <td>0.0</td>\n",
       "      <td>0.0</td>\n",
       "      <td>0.0</td>\n",
       "      <td>0.0</td>\n",
       "      <td>0.0</td>\n",
       "      <td>0.0</td>\n",
       "      <td>0.0</td>\n",
       "      <td>0.0</td>\n",
       "      <td>0.0</td>\n",
       "    </tr>\n",
       "    <tr>\n",
       "      <th>2016</th>\n",
       "      <td>126.764385</td>\n",
       "      <td>0.0</td>\n",
       "      <td>0.0</td>\n",
       "      <td>0.0</td>\n",
       "      <td>0.0</td>\n",
       "      <td>0.0</td>\n",
       "      <td>0.0</td>\n",
       "      <td>0.0</td>\n",
       "      <td>0.0</td>\n",
       "      <td>0.0</td>\n",
       "    </tr>\n",
       "    <tr>\n",
       "      <th>2017</th>\n",
       "      <td>131.952081</td>\n",
       "      <td>0.0</td>\n",
       "      <td>0.0</td>\n",
       "      <td>0.0</td>\n",
       "      <td>0.0</td>\n",
       "      <td>0.0</td>\n",
       "      <td>0.0</td>\n",
       "      <td>0.0</td>\n",
       "      <td>0.0</td>\n",
       "      <td>0.0</td>\n",
       "    </tr>\n",
       "    <tr>\n",
       "      <th>2018</th>\n",
       "      <td>137.139777</td>\n",
       "      <td>0.0</td>\n",
       "      <td>0.0</td>\n",
       "      <td>0.0</td>\n",
       "      <td>0.0</td>\n",
       "      <td>0.0</td>\n",
       "      <td>0.0</td>\n",
       "      <td>0.0</td>\n",
       "      <td>0.0</td>\n",
       "      <td>0.0</td>\n",
       "    </tr>\n",
       "    <tr>\n",
       "      <th>2019</th>\n",
       "      <td>100.956104</td>\n",
       "      <td>0.0</td>\n",
       "      <td>0.0</td>\n",
       "      <td>0.0</td>\n",
       "      <td>0.0</td>\n",
       "      <td>0.0</td>\n",
       "      <td>0.0</td>\n",
       "      <td>0.0</td>\n",
       "      <td>0.0</td>\n",
       "      <td>0.0</td>\n",
       "    </tr>\n",
       "    <tr>\n",
       "      <th>2020</th>\n",
       "      <td>183.949188</td>\n",
       "      <td>0.0</td>\n",
       "      <td>0.0</td>\n",
       "      <td>0.0</td>\n",
       "      <td>0.0</td>\n",
       "      <td>0.0</td>\n",
       "      <td>0.0</td>\n",
       "      <td>0.0</td>\n",
       "      <td>0.0</td>\n",
       "      <td>0.0</td>\n",
       "    </tr>\n",
       "    <tr>\n",
       "      <th>2021</th>\n",
       "      <td>290.436083</td>\n",
       "      <td>0.0</td>\n",
       "      <td>0.0</td>\n",
       "      <td>0.0</td>\n",
       "      <td>0.0</td>\n",
       "      <td>0.0</td>\n",
       "      <td>0.0</td>\n",
       "      <td>0.0</td>\n",
       "      <td>0.0</td>\n",
       "      <td>0.0</td>\n",
       "    </tr>\n",
       "    <tr>\n",
       "      <th>2022</th>\n",
       "      <td>421.080403</td>\n",
       "      <td>0.0</td>\n",
       "      <td>0.0</td>\n",
       "      <td>0.0</td>\n",
       "      <td>0.0</td>\n",
       "      <td>0.0</td>\n",
       "      <td>0.0</td>\n",
       "      <td>0.0</td>\n",
       "      <td>0.0</td>\n",
       "      <td>0.0</td>\n",
       "    </tr>\n",
       "    <tr>\n",
       "      <th>2023</th>\n",
       "      <td>576.545759</td>\n",
       "      <td>0.0</td>\n",
       "      <td>0.0</td>\n",
       "      <td>0.0</td>\n",
       "      <td>0.0</td>\n",
       "      <td>0.0</td>\n",
       "      <td>0.0</td>\n",
       "      <td>0.0</td>\n",
       "      <td>0.0</td>\n",
       "      <td>0.0</td>\n",
       "    </tr>\n",
       "    <tr>\n",
       "      <th>2024</th>\n",
       "      <td>757.495765</td>\n",
       "      <td>0.0</td>\n",
       "      <td>0.0</td>\n",
       "      <td>0.0</td>\n",
       "      <td>0.0</td>\n",
       "      <td>0.0</td>\n",
       "      <td>0.0</td>\n",
       "      <td>0.0</td>\n",
       "      <td>0.0</td>\n",
       "      <td>0.0</td>\n",
       "    </tr>\n",
       "    <tr>\n",
       "      <th>2025</th>\n",
       "      <td>964.594032</td>\n",
       "      <td>0.0</td>\n",
       "      <td>0.0</td>\n",
       "      <td>0.0</td>\n",
       "      <td>0.0</td>\n",
       "      <td>0.0</td>\n",
       "      <td>0.0</td>\n",
       "      <td>0.0</td>\n",
       "      <td>0.0</td>\n",
       "      <td>0.0</td>\n",
       "    </tr>\n",
       "    <tr>\n",
       "      <th>2026</th>\n",
       "      <td>1198.504174</td>\n",
       "      <td>0.0</td>\n",
       "      <td>0.0</td>\n",
       "      <td>0.0</td>\n",
       "      <td>0.0</td>\n",
       "      <td>0.0</td>\n",
       "      <td>0.0</td>\n",
       "      <td>0.0</td>\n",
       "      <td>0.0</td>\n",
       "      <td>0.0</td>\n",
       "    </tr>\n",
       "    <tr>\n",
       "      <th>2027</th>\n",
       "      <td>1459.889802</td>\n",
       "      <td>0.0</td>\n",
       "      <td>0.0</td>\n",
       "      <td>0.0</td>\n",
       "      <td>0.0</td>\n",
       "      <td>0.0</td>\n",
       "      <td>0.0</td>\n",
       "      <td>0.0</td>\n",
       "      <td>0.0</td>\n",
       "      <td>0.0</td>\n",
       "    </tr>\n",
       "    <tr>\n",
       "      <th>2028</th>\n",
       "      <td>1749.414529</td>\n",
       "      <td>0.0</td>\n",
       "      <td>0.0</td>\n",
       "      <td>0.0</td>\n",
       "      <td>0.0</td>\n",
       "      <td>0.0</td>\n",
       "      <td>0.0</td>\n",
       "      <td>0.0</td>\n",
       "      <td>0.0</td>\n",
       "      <td>0.0</td>\n",
       "    </tr>\n",
       "    <tr>\n",
       "      <th>2029</th>\n",
       "      <td>2067.741967</td>\n",
       "      <td>0.0</td>\n",
       "      <td>0.0</td>\n",
       "      <td>0.0</td>\n",
       "      <td>0.0</td>\n",
       "      <td>0.0</td>\n",
       "      <td>0.0</td>\n",
       "      <td>0.0</td>\n",
       "      <td>0.0</td>\n",
       "      <td>0.0</td>\n",
       "    </tr>\n",
       "    <tr>\n",
       "      <th>2030</th>\n",
       "      <td>2415.535730</td>\n",
       "      <td>0.0</td>\n",
       "      <td>0.0</td>\n",
       "      <td>0.0</td>\n",
       "      <td>0.0</td>\n",
       "      <td>0.0</td>\n",
       "      <td>0.0</td>\n",
       "      <td>0.0</td>\n",
       "      <td>0.0</td>\n",
       "      <td>0.0</td>\n",
       "    </tr>\n",
       "    <tr>\n",
       "      <th>2031</th>\n",
       "      <td>2793.459429</td>\n",
       "      <td>0.0</td>\n",
       "      <td>0.0</td>\n",
       "      <td>0.0</td>\n",
       "      <td>0.0</td>\n",
       "      <td>0.0</td>\n",
       "      <td>0.0</td>\n",
       "      <td>0.0</td>\n",
       "      <td>0.0</td>\n",
       "      <td>0.0</td>\n",
       "    </tr>\n",
       "    <tr>\n",
       "      <th>2032</th>\n",
       "      <td>3202.176677</td>\n",
       "      <td>0.0</td>\n",
       "      <td>0.0</td>\n",
       "      <td>0.0</td>\n",
       "      <td>0.0</td>\n",
       "      <td>0.0</td>\n",
       "      <td>0.0</td>\n",
       "      <td>0.0</td>\n",
       "      <td>0.0</td>\n",
       "      <td>0.0</td>\n",
       "    </tr>\n",
       "    <tr>\n",
       "      <th>2033</th>\n",
       "      <td>3642.351087</td>\n",
       "      <td>0.0</td>\n",
       "      <td>0.0</td>\n",
       "      <td>0.0</td>\n",
       "      <td>0.0</td>\n",
       "      <td>0.0</td>\n",
       "      <td>0.0</td>\n",
       "      <td>0.0</td>\n",
       "      <td>0.0</td>\n",
       "      <td>0.0</td>\n",
       "    </tr>\n",
       "    <tr>\n",
       "      <th>2034</th>\n",
       "      <td>4114.646271</td>\n",
       "      <td>0.0</td>\n",
       "      <td>0.0</td>\n",
       "      <td>0.0</td>\n",
       "      <td>0.0</td>\n",
       "      <td>0.0</td>\n",
       "      <td>0.0</td>\n",
       "      <td>0.0</td>\n",
       "      <td>0.0</td>\n",
       "      <td>0.0</td>\n",
       "    </tr>\n",
       "    <tr>\n",
       "      <th>2035</th>\n",
       "      <td>4619.725841</td>\n",
       "      <td>0.0</td>\n",
       "      <td>0.0</td>\n",
       "      <td>0.0</td>\n",
       "      <td>0.0</td>\n",
       "      <td>0.0</td>\n",
       "      <td>0.0</td>\n",
       "      <td>0.0</td>\n",
       "      <td>0.0</td>\n",
       "      <td>0.0</td>\n",
       "    </tr>\n",
       "    <tr>\n",
       "      <th>2036</th>\n",
       "      <td>5158.253410</td>\n",
       "      <td>0.0</td>\n",
       "      <td>0.0</td>\n",
       "      <td>0.0</td>\n",
       "      <td>0.0</td>\n",
       "      <td>0.0</td>\n",
       "      <td>0.0</td>\n",
       "      <td>0.0</td>\n",
       "      <td>0.0</td>\n",
       "      <td>0.0</td>\n",
       "    </tr>\n",
       "    <tr>\n",
       "      <th>2037</th>\n",
       "      <td>5730.892591</td>\n",
       "      <td>0.0</td>\n",
       "      <td>0.0</td>\n",
       "      <td>0.0</td>\n",
       "      <td>0.0</td>\n",
       "      <td>0.0</td>\n",
       "      <td>0.0</td>\n",
       "      <td>0.0</td>\n",
       "      <td>0.0</td>\n",
       "      <td>0.0</td>\n",
       "    </tr>\n",
       "    <tr>\n",
       "      <th>2038</th>\n",
       "      <td>6338.306995</td>\n",
       "      <td>0.0</td>\n",
       "      <td>0.0</td>\n",
       "      <td>0.0</td>\n",
       "      <td>0.0</td>\n",
       "      <td>0.0</td>\n",
       "      <td>0.0</td>\n",
       "      <td>0.0</td>\n",
       "      <td>0.0</td>\n",
       "      <td>0.0</td>\n",
       "    </tr>\n",
       "    <tr>\n",
       "      <th>2039</th>\n",
       "      <td>6981.160236</td>\n",
       "      <td>0.0</td>\n",
       "      <td>0.0</td>\n",
       "      <td>0.0</td>\n",
       "      <td>0.0</td>\n",
       "      <td>0.0</td>\n",
       "      <td>0.0</td>\n",
       "      <td>0.0</td>\n",
       "      <td>0.0</td>\n",
       "      <td>0.0</td>\n",
       "    </tr>\n",
       "    <tr>\n",
       "      <th>2040</th>\n",
       "      <td>7660.115926</td>\n",
       "      <td>0.0</td>\n",
       "      <td>0.0</td>\n",
       "      <td>0.0</td>\n",
       "      <td>0.0</td>\n",
       "      <td>0.0</td>\n",
       "      <td>0.0</td>\n",
       "      <td>0.0</td>\n",
       "      <td>0.0</td>\n",
       "      <td>0.0</td>\n",
       "    </tr>\n",
       "    <tr>\n",
       "      <th>2041</th>\n",
       "      <td>8375.837677</td>\n",
       "      <td>0.0</td>\n",
       "      <td>0.0</td>\n",
       "      <td>0.0</td>\n",
       "      <td>0.0</td>\n",
       "      <td>0.0</td>\n",
       "      <td>0.0</td>\n",
       "      <td>0.0</td>\n",
       "      <td>0.0</td>\n",
       "      <td>0.0</td>\n",
       "    </tr>\n",
       "    <tr>\n",
       "      <th>2042</th>\n",
       "      <td>9128.989102</td>\n",
       "      <td>0.0</td>\n",
       "      <td>0.0</td>\n",
       "      <td>0.0</td>\n",
       "      <td>0.0</td>\n",
       "      <td>0.0</td>\n",
       "      <td>0.0</td>\n",
       "      <td>0.0</td>\n",
       "      <td>0.0</td>\n",
       "      <td>0.0</td>\n",
       "    </tr>\n",
       "    <tr>\n",
       "      <th>2043</th>\n",
       "      <td>9920.233814</td>\n",
       "      <td>0.0</td>\n",
       "      <td>0.0</td>\n",
       "      <td>0.0</td>\n",
       "      <td>0.0</td>\n",
       "      <td>0.0</td>\n",
       "      <td>0.0</td>\n",
       "      <td>0.0</td>\n",
       "      <td>0.0</td>\n",
       "      <td>0.0</td>\n",
       "    </tr>\n",
       "    <tr>\n",
       "      <th>2044</th>\n",
       "      <td>10750.235424</td>\n",
       "      <td>0.0</td>\n",
       "      <td>0.0</td>\n",
       "      <td>0.0</td>\n",
       "      <td>0.0</td>\n",
       "      <td>0.0</td>\n",
       "      <td>0.0</td>\n",
       "      <td>0.0</td>\n",
       "      <td>0.0</td>\n",
       "      <td>0.0</td>\n",
       "    </tr>\n",
       "    <tr>\n",
       "      <th>2045</th>\n",
       "      <td>11619.657545</td>\n",
       "      <td>0.0</td>\n",
       "      <td>0.0</td>\n",
       "      <td>0.0</td>\n",
       "      <td>0.0</td>\n",
       "      <td>0.0</td>\n",
       "      <td>0.0</td>\n",
       "      <td>0.0</td>\n",
       "      <td>0.0</td>\n",
       "      <td>0.0</td>\n",
       "    </tr>\n",
       "    <tr>\n",
       "      <th>2046</th>\n",
       "      <td>12529.163790</td>\n",
       "      <td>0.0</td>\n",
       "      <td>0.0</td>\n",
       "      <td>0.0</td>\n",
       "      <td>0.0</td>\n",
       "      <td>0.0</td>\n",
       "      <td>0.0</td>\n",
       "      <td>0.0</td>\n",
       "      <td>0.0</td>\n",
       "      <td>0.0</td>\n",
       "    </tr>\n",
       "    <tr>\n",
       "      <th>2047</th>\n",
       "      <td>13479.417772</td>\n",
       "      <td>0.0</td>\n",
       "      <td>0.0</td>\n",
       "      <td>0.0</td>\n",
       "      <td>0.0</td>\n",
       "      <td>0.0</td>\n",
       "      <td>0.0</td>\n",
       "      <td>0.0</td>\n",
       "      <td>0.0</td>\n",
       "      <td>0.0</td>\n",
       "    </tr>\n",
       "    <tr>\n",
       "      <th>2048</th>\n",
       "      <td>14471.083102</td>\n",
       "      <td>0.0</td>\n",
       "      <td>0.0</td>\n",
       "      <td>0.0</td>\n",
       "      <td>0.0</td>\n",
       "      <td>0.0</td>\n",
       "      <td>0.0</td>\n",
       "      <td>0.0</td>\n",
       "      <td>0.0</td>\n",
       "      <td>0.0</td>\n",
       "    </tr>\n",
       "    <tr>\n",
       "      <th>2049</th>\n",
       "      <td>15504.823394</td>\n",
       "      <td>0.0</td>\n",
       "      <td>0.0</td>\n",
       "      <td>0.0</td>\n",
       "      <td>0.0</td>\n",
       "      <td>0.0</td>\n",
       "      <td>0.0</td>\n",
       "      <td>0.0</td>\n",
       "      <td>0.0</td>\n",
       "      <td>0.0</td>\n",
       "    </tr>\n",
       "    <tr>\n",
       "      <th>2050</th>\n",
       "      <td>16581.302259</td>\n",
       "      <td>0.0</td>\n",
       "      <td>0.0</td>\n",
       "      <td>0.0</td>\n",
       "      <td>0.0</td>\n",
       "      <td>0.0</td>\n",
       "      <td>0.0</td>\n",
       "      <td>0.0</td>\n",
       "      <td>0.0</td>\n",
       "      <td>0.0</td>\n",
       "    </tr>\n",
       "    <tr>\n",
       "      <th>2051</th>\n",
       "      <td>17701.183310</td>\n",
       "      <td>0.0</td>\n",
       "      <td>0.0</td>\n",
       "      <td>0.0</td>\n",
       "      <td>0.0</td>\n",
       "      <td>0.0</td>\n",
       "      <td>0.0</td>\n",
       "      <td>0.0</td>\n",
       "      <td>0.0</td>\n",
       "      <td>0.0</td>\n",
       "    </tr>\n",
       "    <tr>\n",
       "      <th>2052</th>\n",
       "      <td>18865.130160</td>\n",
       "      <td>0.0</td>\n",
       "      <td>0.0</td>\n",
       "      <td>0.0</td>\n",
       "      <td>0.0</td>\n",
       "      <td>0.0</td>\n",
       "      <td>0.0</td>\n",
       "      <td>0.0</td>\n",
       "      <td>0.0</td>\n",
       "      <td>0.0</td>\n",
       "    </tr>\n",
       "    <tr>\n",
       "      <th>2053</th>\n",
       "      <td>20073.806421</td>\n",
       "      <td>0.0</td>\n",
       "      <td>0.0</td>\n",
       "      <td>0.0</td>\n",
       "      <td>0.0</td>\n",
       "      <td>0.0</td>\n",
       "      <td>0.0</td>\n",
       "      <td>0.0</td>\n",
       "      <td>0.0</td>\n",
       "      <td>0.0</td>\n",
       "    </tr>\n",
       "    <tr>\n",
       "      <th>2054</th>\n",
       "      <td>21327.875706</td>\n",
       "      <td>0.0</td>\n",
       "      <td>0.0</td>\n",
       "      <td>0.0</td>\n",
       "      <td>0.0</td>\n",
       "      <td>0.0</td>\n",
       "      <td>0.0</td>\n",
       "      <td>0.0</td>\n",
       "      <td>0.0</td>\n",
       "      <td>0.0</td>\n",
       "    </tr>\n",
       "    <tr>\n",
       "      <th>2055</th>\n",
       "      <td>22628.001627</td>\n",
       "      <td>0.0</td>\n",
       "      <td>0.0</td>\n",
       "      <td>0.0</td>\n",
       "      <td>0.0</td>\n",
       "      <td>0.0</td>\n",
       "      <td>0.0</td>\n",
       "      <td>0.0</td>\n",
       "      <td>0.0</td>\n",
       "      <td>0.0</td>\n",
       "    </tr>\n",
       "    <tr>\n",
       "      <th>2056</th>\n",
       "      <td>23974.847796</td>\n",
       "      <td>0.0</td>\n",
       "      <td>0.0</td>\n",
       "      <td>0.0</td>\n",
       "      <td>0.0</td>\n",
       "      <td>0.0</td>\n",
       "      <td>0.0</td>\n",
       "      <td>0.0</td>\n",
       "      <td>0.0</td>\n",
       "      <td>0.0</td>\n",
       "    </tr>\n",
       "    <tr>\n",
       "      <th>2057</th>\n",
       "      <td>25369.077827</td>\n",
       "      <td>0.0</td>\n",
       "      <td>0.0</td>\n",
       "      <td>0.0</td>\n",
       "      <td>0.0</td>\n",
       "      <td>0.0</td>\n",
       "      <td>0.0</td>\n",
       "      <td>0.0</td>\n",
       "      <td>0.0</td>\n",
       "      <td>0.0</td>\n",
       "    </tr>\n",
       "    <tr>\n",
       "      <th>2058</th>\n",
       "      <td>26811.355331</td>\n",
       "      <td>0.0</td>\n",
       "      <td>0.0</td>\n",
       "      <td>0.0</td>\n",
       "      <td>0.0</td>\n",
       "      <td>0.0</td>\n",
       "      <td>0.0</td>\n",
       "      <td>0.0</td>\n",
       "      <td>0.0</td>\n",
       "      <td>0.0</td>\n",
       "    </tr>\n",
       "    <tr>\n",
       "      <th>2059</th>\n",
       "      <td>28302.343921</td>\n",
       "      <td>0.0</td>\n",
       "      <td>0.0</td>\n",
       "      <td>0.0</td>\n",
       "      <td>0.0</td>\n",
       "      <td>0.0</td>\n",
       "      <td>0.0</td>\n",
       "      <td>0.0</td>\n",
       "      <td>0.0</td>\n",
       "      <td>0.0</td>\n",
       "    </tr>\n",
       "    <tr>\n",
       "      <th>2060</th>\n",
       "      <td>29842.707210</td>\n",
       "      <td>0.0</td>\n",
       "      <td>0.0</td>\n",
       "      <td>0.0</td>\n",
       "      <td>0.0</td>\n",
       "      <td>0.0</td>\n",
       "      <td>0.0</td>\n",
       "      <td>0.0</td>\n",
       "      <td>0.0</td>\n",
       "      <td>0.0</td>\n",
       "    </tr>\n",
       "  </tbody>\n",
       "</table>\n",
       "</div>"
      ],
      "text/plain": [
       "             World  OECD90  Eastern Europe  Asia (Sans Japan)  Middle East and Africa  Latin America  China  India   EU  USA\n",
       "Year                                                                                                                        \n",
       "2014    116.388993     0.0             0.0                0.0                     0.0            0.0    0.0    0.0  0.0  0.0\n",
       "2015    121.576689     0.0             0.0                0.0                     0.0            0.0    0.0    0.0  0.0  0.0\n",
       "2016    126.764385     0.0             0.0                0.0                     0.0            0.0    0.0    0.0  0.0  0.0\n",
       "2017    131.952081     0.0             0.0                0.0                     0.0            0.0    0.0    0.0  0.0  0.0\n",
       "2018    137.139777     0.0             0.0                0.0                     0.0            0.0    0.0    0.0  0.0  0.0\n",
       "2019    100.956104     0.0             0.0                0.0                     0.0            0.0    0.0    0.0  0.0  0.0\n",
       "2020    183.949188     0.0             0.0                0.0                     0.0            0.0    0.0    0.0  0.0  0.0\n",
       "2021    290.436083     0.0             0.0                0.0                     0.0            0.0    0.0    0.0  0.0  0.0\n",
       "2022    421.080403     0.0             0.0                0.0                     0.0            0.0    0.0    0.0  0.0  0.0\n",
       "2023    576.545759     0.0             0.0                0.0                     0.0            0.0    0.0    0.0  0.0  0.0\n",
       "2024    757.495765     0.0             0.0                0.0                     0.0            0.0    0.0    0.0  0.0  0.0\n",
       "2025    964.594032     0.0             0.0                0.0                     0.0            0.0    0.0    0.0  0.0  0.0\n",
       "2026   1198.504174     0.0             0.0                0.0                     0.0            0.0    0.0    0.0  0.0  0.0\n",
       "2027   1459.889802     0.0             0.0                0.0                     0.0            0.0    0.0    0.0  0.0  0.0\n",
       "2028   1749.414529     0.0             0.0                0.0                     0.0            0.0    0.0    0.0  0.0  0.0\n",
       "2029   2067.741967     0.0             0.0                0.0                     0.0            0.0    0.0    0.0  0.0  0.0\n",
       "2030   2415.535730     0.0             0.0                0.0                     0.0            0.0    0.0    0.0  0.0  0.0\n",
       "2031   2793.459429     0.0             0.0                0.0                     0.0            0.0    0.0    0.0  0.0  0.0\n",
       "2032   3202.176677     0.0             0.0                0.0                     0.0            0.0    0.0    0.0  0.0  0.0\n",
       "2033   3642.351087     0.0             0.0                0.0                     0.0            0.0    0.0    0.0  0.0  0.0\n",
       "2034   4114.646271     0.0             0.0                0.0                     0.0            0.0    0.0    0.0  0.0  0.0\n",
       "2035   4619.725841     0.0             0.0                0.0                     0.0            0.0    0.0    0.0  0.0  0.0\n",
       "2036   5158.253410     0.0             0.0                0.0                     0.0            0.0    0.0    0.0  0.0  0.0\n",
       "2037   5730.892591     0.0             0.0                0.0                     0.0            0.0    0.0    0.0  0.0  0.0\n",
       "2038   6338.306995     0.0             0.0                0.0                     0.0            0.0    0.0    0.0  0.0  0.0\n",
       "2039   6981.160236     0.0             0.0                0.0                     0.0            0.0    0.0    0.0  0.0  0.0\n",
       "2040   7660.115926     0.0             0.0                0.0                     0.0            0.0    0.0    0.0  0.0  0.0\n",
       "2041   8375.837677     0.0             0.0                0.0                     0.0            0.0    0.0    0.0  0.0  0.0\n",
       "2042   9128.989102     0.0             0.0                0.0                     0.0            0.0    0.0    0.0  0.0  0.0\n",
       "2043   9920.233814     0.0             0.0                0.0                     0.0            0.0    0.0    0.0  0.0  0.0\n",
       "2044  10750.235424     0.0             0.0                0.0                     0.0            0.0    0.0    0.0  0.0  0.0\n",
       "2045  11619.657545     0.0             0.0                0.0                     0.0            0.0    0.0    0.0  0.0  0.0\n",
       "2046  12529.163790     0.0             0.0                0.0                     0.0            0.0    0.0    0.0  0.0  0.0\n",
       "2047  13479.417772     0.0             0.0                0.0                     0.0            0.0    0.0    0.0  0.0  0.0\n",
       "2048  14471.083102     0.0             0.0                0.0                     0.0            0.0    0.0    0.0  0.0  0.0\n",
       "2049  15504.823394     0.0             0.0                0.0                     0.0            0.0    0.0    0.0  0.0  0.0\n",
       "2050  16581.302259     0.0             0.0                0.0                     0.0            0.0    0.0    0.0  0.0  0.0\n",
       "2051  17701.183310     0.0             0.0                0.0                     0.0            0.0    0.0    0.0  0.0  0.0\n",
       "2052  18865.130160     0.0             0.0                0.0                     0.0            0.0    0.0    0.0  0.0  0.0\n",
       "2053  20073.806421     0.0             0.0                0.0                     0.0            0.0    0.0    0.0  0.0  0.0\n",
       "2054  21327.875706     0.0             0.0                0.0                     0.0            0.0    0.0    0.0  0.0  0.0\n",
       "2055  22628.001627     0.0             0.0                0.0                     0.0            0.0    0.0    0.0  0.0  0.0\n",
       "2056  23974.847796     0.0             0.0                0.0                     0.0            0.0    0.0    0.0  0.0  0.0\n",
       "2057  25369.077827     0.0             0.0                0.0                     0.0            0.0    0.0    0.0  0.0  0.0\n",
       "2058  26811.355331     0.0             0.0                0.0                     0.0            0.0    0.0    0.0  0.0  0.0\n",
       "2059  28302.343921     0.0             0.0                0.0                     0.0            0.0    0.0    0.0  0.0  0.0\n",
       "2060  29842.707210     0.0             0.0                0.0                     0.0            0.0    0.0    0.0  0.0  0.0"
      ]
     },
     "execution_count": 7,
     "metadata": {},
     "output_type": "execute_result"
    }
   ],
   "source": [
    "ecars2_adoption = ecars2.ht.soln_pds_funits_adopted()\n",
    "ecars2_adoption"
   ]
  },
  {
   "cell_type": "markdown",
   "id": "d33332d6",
   "metadata": {},
   "source": [
    "This result demonstrates a number of important things:\n",
    "\n",
    "* `ecars2.ht.soln_pds_funits_adopted()` is an example of a pattern `<scenario>.<category>.<methodname>()` that is common across the PDME library.  The category identifies an area of analysis for the scenario.  The methodname identifies what you want to know within that category.  We'll cover the list of most important categories and methods TODOTODOTODO.\n",
    "* The input adoption is specified in something called 'functional units' (aka 'funits'), which varies by Solution.  You can find out what the different kind of units for a Solution are with the expression `<scenario>.units`\n",
    "* You can see above that there are multiple columns of adoption data, which are associated with different regions of the world.  For many solutions, including this one, we do not have data at the regional level, and only the `World` column will be filled in. \n",
    "* The output of this method (and many others) is a [Pandas](https://pandas.pydata.org/docs/index.html) DataFrame.  Pandas is a popular Python library for data manipulation that makes it easy to do many numerical and statistical operations, and also to graph the data.  You don't need to know much Pandas to do basic operations with PDME, but it will help when you want to do more sophisticated analysis of your own.\n",
    "\n",
    "Illustrating these points:"
   ]
  },
  {
   "cell_type": "code",
   "execution_count": 8,
   "id": "2ea7058e",
   "metadata": {},
   "outputs": [
    {
     "data": {
      "text/plain": [
       "{'implementation unit': 'vehicle',\n",
       " 'functional unit': 'billion passenger-km',\n",
       " 'first cost': 'US$B',\n",
       " 'operating cost': 'US$B'}"
      ]
     },
     "execution_count": 8,
     "metadata": {},
     "output_type": "execute_result"
    }
   ],
   "source": [
    "# Show the units associated with this solution\n",
    "ecars2.units"
   ]
  },
  {
   "cell_type": "code",
   "execution_count": 9,
   "id": "bbcd69dd",
   "metadata": {
    "scrolled": true
   },
   "outputs": [
    {
     "data": {
      "text/plain": [
       "Year\n",
       "2014      116.388993\n",
       "2015      121.576689\n",
       "2016      126.764385\n",
       "2017      131.952081\n",
       "2018      137.139777\n",
       "2019      100.956104\n",
       "2020      183.949188\n",
       "2021      290.436083\n",
       "2022      421.080403\n",
       "2023      576.545759\n",
       "2024      757.495765\n",
       "2025      964.594032\n",
       "2026     1198.504174\n",
       "2027     1459.889802\n",
       "2028     1749.414529\n",
       "2029     2067.741967\n",
       "2030     2415.535730\n",
       "2031     2793.459429\n",
       "2032     3202.176677\n",
       "2033     3642.351087\n",
       "2034     4114.646271\n",
       "2035     4619.725841\n",
       "2036     5158.253410\n",
       "2037     5730.892591\n",
       "2038     6338.306995\n",
       "2039     6981.160236\n",
       "2040     7660.115926\n",
       "2041     8375.837677\n",
       "2042     9128.989102\n",
       "2043     9920.233814\n",
       "2044    10750.235424\n",
       "2045    11619.657545\n",
       "2046    12529.163790\n",
       "2047    13479.417772\n",
       "2048    14471.083102\n",
       "2049    15504.823394\n",
       "2050    16581.302259\n",
       "2051    17701.183310\n",
       "2052    18865.130160\n",
       "2053    20073.806421\n",
       "2054    21327.875706\n",
       "2055    22628.001627\n",
       "2056    23974.847796\n",
       "2057    25369.077827\n",
       "2058    26811.355331\n",
       "2059    28302.343921\n",
       "2060    29842.707210\n",
       "Name: World, dtype: float64"
      ]
     },
     "execution_count": 9,
     "metadata": {},
     "output_type": "execute_result"
    }
   ],
   "source": [
    "# Show only 'World' data.\n",
    "ecars2_adoption['World']"
   ]
  },
  {
   "cell_type": "code",
   "execution_count": 10,
   "id": "88048a72",
   "metadata": {},
   "outputs": [
    {
     "data": {
      "image/png": "[encoded data removed]",
      "text/plain": [
       "<Figure size 432x288 with 1 Axes>"
      ]
     },
     "metadata": {
      "needs_background": "light"
     },
     "output_type": "display_data"
    }
   ],
   "source": [
    "# Graph the world adoption data, with the units as an axis label.\n",
    "# Here we are using the default Pandas plotting function\n",
    "\n",
    "ecars2_adoption['World'].plot(ylabel=ecars2.units['functional unit'], title='Electric Vehicle Use');"
   ]
  },
  {
   "cell_type": "markdown",
   "id": "9eca7dc6",
   "metadata": {},
   "source": [
    "The adoption data for this scenario is estimated from 2014 to 2060.  You often want to look at the data from the current year onwards.  (Side note: there is some inconsistency between scenarios in how they handle \"prior\" data, so it is generally advised to ignore data before the current year.)\n",
    "\n",
    "The pandas syntax to select a subset of years (rows) is a little obscure: use `somedf.loc[minyear:maxyear]`.  Note the use of square brackets instead of the parenthesis you might expect."
   ]
  },
  {
   "cell_type": "code",
   "execution_count": 11,
   "id": "e6f3c907",
   "metadata": {},
   "outputs": [
    {
     "data": {
      "image/png": "[encoded data removed]",
      "text/plain": [
       "<Figure size 432x288 with 1 Axes>"
      ]
     },
     "metadata": {
      "needs_background": "light"
     },
     "output_type": "display_data"
    }
   ],
   "source": [
    "# this is legal:  ecars2_adoption.loc[2020:2050]['World']\n",
    "# so is this:     ecars2_adoption['World'].loc[2020:2050]\n",
    "# or you can combine them:\n",
    "\n",
    "ecars2_ad = ecars2_adoption.loc[2020:2050,'World']\n",
    "\n",
    "ecars2_ad.plot(ylabel=ecars2.units['functional unit'], title='Electric Vehicle Use');"
   ]
  },
  {
   "cell_type": "markdown",
   "id": "407bc1c1",
   "metadata": {},
   "source": [
    "### Scenario Outputs\n",
    "\n",
    "The key outputs of a PDME model are the (1) the implimentation unit (iunit) adoption, (2) costs of achieving it (how much money is required to install and use the solution at the level required by the adoption), and the (3) CO2-e emissions that result.  It is possible to get results as plots over time (as we have seen with adoption above), or as summaries over the entire scenario period up to 2050.  We'll walk through some of these for our Electric Cars scenario."
   ]
  },
  {
   "cell_type": "markdown",
   "id": "9f93a493",
   "metadata": {},
   "source": [
    "\n",
    "#### Unit Adoption\n",
    "First let's look at iunit adoption.  Recall that adoption is an _input_, but that adoption input is specified in _functional_ units,\n",
    "which for the electric vehicle solution is measured in billion passenger-km.  How many _implementation_ units (electric cars)\n",
    "are required to provide those billions of km?  We will find answers to questions about implementation units\n",
    "in the Unit Adoption (`ua`) component of the scenario:"
   ]
  },
  {
   "cell_type": "code",
   "execution_count": 12,
   "id": "9fe6faa7",
   "metadata": {},
   "outputs": [
    {
     "data": {
      "image/png": "[encoded data removed]",
      "text/plain": [
       "<Figure size 432x288 with 1 Axes>"
      ]
     },
     "metadata": {
      "needs_background": "light"
     },
     "output_type": "display_data"
    }
   ],
   "source": [
    "ecars2_cars_on_roads = ecars2.ua.soln_pds_tot_iunits_reqd().loc[2020:2050,'World']\n",
    "ecars2_cars_on_roads.plot(ylabel=\"electric vehicles on the road\");"
   ]
  },
  {
   "cell_type": "markdown",
   "id": "0fc51428",
   "metadata": {},
   "source": [
    "Those are the total number of electric vehicles on the road for each year, but how many _new_ vehicles are required each year, including replacement of older vehicles?"
   ]
  },
  {
   "cell_type": "code",
   "execution_count": 13,
   "id": "0fde8f41",
   "metadata": {},
   "outputs": [
    {
     "data": {
      "image/png": "[encoded data removed]",
      "text/plain": [
       "<Figure size 432x288 with 1 Axes>"
      ]
     },
     "metadata": {
      "needs_background": "light"
     },
     "output_type": "display_data"
    }
   ],
   "source": [
    "ecars2_new_cars_each_year = ecars2.ua.soln_pds_new_iunits_reqd().loc[2020:2050,'World']\n",
    "ecars2_new_cars_each_year.plot(ylabel=\"**new** vehicles each year\");"
   ]
  },
  {
   "cell_type": "markdown",
   "id": "0ed59dce",
   "metadata": {},
   "source": [
    "As you can see, the number of new EVs is an order of magnitude less than the total EVs (note the scale is 1e7 vs 1e8).  Also, the \"bumps\" you see in this graph are the result of how the PDME models the vehicle lifetimes, as a single constant number rather than a probability distribution (this is a possible area of enhancement in the future)."
   ]
  },
  {
   "cell_type": "markdown",
   "id": "68b14a00",
   "metadata": {},
   "source": [
    "#### Costs\n",
    "Now let's look at costs. PDME models costs as 'first', 'fixed' and 'variable'.  First cost is the cost to acquire/build/deploy an implementation unit (e.g. the cost to buy an EV).  Fixed costs are per-unit costs that remain the same per year, regardless of usage (like insurance), while variable costs depend on the usage of the object (e.g. the cost of electricity to recharge the EV).  First Cost information is found in the `fc` module, while fixed and variable costs are covered in the Operating Cost `oc` module.  In this example we're going to add those together to show the total cost over time."
   ]
  },
  {
   "cell_type": "code",
   "execution_count": 14,
   "id": "c8c8aadc",
   "metadata": {},
   "outputs": [
    {
     "data": {
      "image/png": "[encoded data removed]",
      "text/plain": [
       "<Figure size 432x288 with 1 Axes>"
      ]
     },
     "metadata": {
      "needs_background": "light"
     },
     "output_type": "display_data"
    }
   ],
   "source": [
    "ecars2_first_cost = ecars2.fc.soln_pds_annual_world_first_cost().loc[2020:2050]\n",
    "ecars2_operating_cost = ecars2.oc.soln_pds_annual_operating_cost().loc[2020:2050]\n",
    "ecars2_total_cost = ecars2_first_cost + ecars2_operating_cost   # adding two arrays is easy\n",
    "\n",
    "# Here we are doing a more complex plot so we can put multiple lines on the same plot.\n",
    "# We also divide the values to produce an easier to read y-range in billions of dollars\n",
    "\n",
    "x_axis = range(2020,2051)\n",
    "plt.plot(x_axis, ecars2_first_cost / 1000000000, label='first cost')\n",
    "plt.plot(x_axis, ecars2_operating_cost / 1000000000, label='operating cost')\n",
    "plt.plot(x_axis, ecars2_total_cost / 1000000000, label='total cost')\n",
    "plt.ylabel(\"$B US\")\n",
    "plt.legend();"
   ]
  },
  {
   "cell_type": "markdown",
   "id": "be3e3f7f",
   "metadata": {},
   "source": [
    "We can see that according to this model, the first cost is much greater than the ongoing operational cost, and the total cost would be around 2.5 Trillion dollars in 2050.\n",
    "\n",
    "Note: not all Solutions include cost modeling.  You'll just get a bunch of zeros or NaNs if you look at cost data for a Solution that does not support it.  Also note that most of the cost functions only provide results for global data, not regional."
   ]
  },
  {
   "cell_type": "markdown",
   "id": "59094f93",
   "metadata": {},
   "source": [
    "#### Emissions\n",
    "\n",
    "PDME models emissions in four different categories:\n",
    "1. _direct_ emissions, due either to chemical processes or the use of fuel by the solution,\n",
    "1. _electric_ emissions, due to the use of electric power (the amount of which in turn depends on the mix of electric power generation technologies in place),\n",
    "1. _indirect_ emissions, emissions required to produce goods or products required to provide the solution,\n",
    "1. _sequestration_, which is effectively \"negative emissions\", that occur as a result of the solution (only considered for Land and Ocean solutions).\n",
    "\n",
    "In addition, direct emissions can be in CO2 or NO2 or methane (CH4), or dealt with in combined CO2e (CO2-equivalent).\n",
    "\n",
    "Unlike the other outputs we have seen so far, emissions effects are generally specified _relative to conventional practice_.  There are a number of functions in the Unit Adoption (`ua`) module that will give details about each of these categories separately: you can find them in the documentation with names like `ua.soln_pds_direct_co2_emissions_saved()`.  Here we will show you the function you will most often want to see first: the aggregate of all the categories, in the function `c2.co2eq_mmt_reduced()`, which is the total net change in greenhouse gas emissions across all categories."
   ]
  },
  {
   "cell_type": "code",
   "execution_count": 15,
   "id": "7f4b175e",
   "metadata": {},
   "outputs": [
    {
     "data": {
      "image/png": "[encoded data removed]",
      "text/plain": [
       "<Figure size 432x288 with 1 Axes>"
      ]
     },
     "metadata": {
      "needs_background": "light"
     },
     "output_type": "display_data"
    }
   ],
   "source": [
    "ecars2_emissions_reduced = ecars2.c2.co2eq_mmt_reduced().loc[2020:2050,'World']\n",
    "ecars2_emissions_reduced.plot(title=\"CO2e savings each year\", ylabel=\"MMT (million metric tonnes)\");"
   ]
  },
  {
   "cell_type": "markdown",
   "id": "7b36fedf",
   "metadata": {},
   "source": [
    "Here we can see, for example, that by 2045, Electric Vehicles are emitting 600 MMT less CO2e per year than standard vehicles would.\n",
    "\n",
    "The PDME also has an implementation of the FAIR model, which is used to translate changes in _emissions_ to changes in the actual _level of greenhouse gasses_ in the atmosphere over time.  There are some additional notebooks introducing these more advanced concepts in the Documentation folder."
   ]
  },
  {
   "cell_type": "markdown",
   "id": "a8ddf46f",
   "metadata": {},
   "source": [
    "#### Key Results\n",
    "\n",
    "Finally, there is a simple way to get a summary of the aggregate impact of a scenario across all these outputs in one simple call:"
   ]
  },
  {
   "cell_type": "code",
   "execution_count": 16,
   "id": "76d3de3f",
   "metadata": {},
   "outputs": [
    {
     "data": {
      "text/plain": [
       "{'implementation_unit_adoption_increase': 664804755.8915443,\n",
       " 'functional_unit_adoption_increase': 16278.156211450143,\n",
       " 'marginal_first_cost': -6.015345449894531,\n",
       " 'net_operating_savings': 9343.38581733759,\n",
       " 'lifetime_operating_savings': 15537.877155690088,\n",
       " 'cumulative_emissions_reduced': 9.761350157338795}"
      ]
     },
     "execution_count": 16,
     "metadata": {},
     "output_type": "execute_result"
    }
   ],
   "source": [
    "ecars2.get_key_results()"
   ]
  },
  {
   "cell_type": "markdown",
   "id": "ac308d54",
   "metadata": {},
   "source": [
    "Each of these values is a sum over the lifetime of the scenario (e.g. through 2050), _compared to a baseline scenario_.  We haven't really talked about the baseline before, but usually you can think of it as 'keep doing what we are already doing'.  You will see these two refered to in the code as 'PDS' (the scenario) and 'REF' (the baseline). \n",
    "\n",
    "What we are already doing costs money, has emissions, etc., so these numbers represent the delta from that.   In this case, you can see that this scenario actually costs less (in both first cost and operating cost) than be reference baseline.  The costs are in billions US$.  (The 'lifetime' operating savings refers to costs of long-lived items like power plants over their lifetimes.  In the context of a solution such as electric vehicles, it doesn't really mean anything.)"
   ]
  },
  {
   "cell_type": "markdown",
   "id": "45e5fee3",
   "metadata": {},
   "source": [
    "# Examining Solution Data\n",
    "\n",
    "One of the key features of the Project Drawdown approach is that parameters such as cost and adoption are not simply provided as values with no context.  Each parameter has a set of values behind it that have been derived from the literature.  Then for each scenario, the researcher has used this background data to guide the choice of each parameter value in a coherent way.\n",
    "\n",
    "So one of the things you might want to do is to explore what the background data is, which is the topic of this section.\n",
    "\n",
    "**TODO** **TODO**"
   ]
  },
  {
   "cell_type": "markdown",
   "id": "be275d0d",
   "metadata": {},
   "source": [
    "# Changing a Scenario\n",
    "Sometimes you might like to try a variation on a given Scenario to see what the impact would be.  You can do that by creating a new Scenario with modified values.  For example, let's try increasing the average annual use of an EV.  Average annual use is measured in (functional units) / (implementation unit) / year.  In our ecars2 Scenario, that is 2.44e-05 (billion passenger km) / EV, or 24400 km / EV annually.  Let's suppose we think people will share cars more, and so this value should be more like 30000.  Here is how we would do that:"
   ]
  },
  {
   "cell_type": "code",
   "execution_count": 17,
   "id": "90801a1b",
   "metadata": {},
   "outputs": [],
   "source": [
    "# Create a new Advanced Controls object (parameter set) that is just like the current one, but changes that one parameter.\n",
    "newac = ecars2.ac.with_modifications(soln_avg_annual_use=3e-5)\n",
    "\n",
    "# Use that new set of parameters to create another scenario for the EV Solution\n",
    "newscenario = factory.load_scenario('electricvehicles', newac)"
   ]
  },
  {
   "cell_type": "markdown",
   "id": "5c6c3b52",
   "metadata": {},
   "source": [
    "Let's see how that affects the total number of EVs required, shall we?"
   ]
  },
  {
   "cell_type": "code",
   "execution_count": 18,
   "id": "3d23cbe9",
   "metadata": {},
   "outputs": [
    {
     "data": {
      "image/png": "[encoded data removed]",
      "text/plain": [
       "<Figure size 432x288 with 1 Axes>"
      ]
     },
     "metadata": {
      "needs_background": "light"
     },
     "output_type": "display_data"
    }
   ],
   "source": [
    "x_axis = range(2020,2051)\n",
    "plt.plot(x_axis, ecars2.ua.soln_pds_new_iunits_reqd().loc[2020:2050,'World'], label='ecars2')\n",
    "plt.plot(x_axis, newscenario.ua.soln_pds_new_iunits_reqd().loc[2020:2050,'World'], label='new scenario')\n",
    "plt.title(\"New EVs required each Year\")\n",
    "plt.legend();"
   ]
  },
  {
   "cell_type": "markdown",
   "id": "253b9d2f",
   "metadata": {},
   "source": [
    "You can experiment for yourself comparing other outputs to see what else has changed.  Note also that you can change more than one parameter at a time, you just add them all to the `with_modifications` function:"
   ]
  },
  {
   "cell_type": "code",
   "execution_count": 20,
   "id": "aacc19b1",
   "metadata": {},
   "outputs": [],
   "source": [
    "newerac = ecars2.ac.with_modifications(\n",
    "    soln_avg_annual_use=3e-5,\n",
    "    soln_fixed_oper_cost_per_iunit=800\n",
    "    # as many as you want to add...\n",
    ")\n",
    "newerscenario = factory.load_scenario(\"electricvehicles\",newerac)"
   ]
  },
  {
   "cell_type": "markdown",
   "id": "0bfbeb2f",
   "metadata": {},
   "source": [
    "If you want to save a scenario you have created and use it again, you can save it to a file and later reload it.  \n",
    "\n",
    "(Note: if you are running this notebook in a hosted environment, can print out the AdvancedControls object, and copy and paste it to a file instead.)"
   ]
  },
  {
   "cell_type": "code",
   "execution_count": 21,
   "id": "1602d3f4",
   "metadata": {},
   "outputs": [
    {
     "data": {
      "text/plain": [
       "{'pds_2014_cost': 36317.523345066766,\n",
       " 'soln_lifetime_capacity': 0.000346582848014648,\n",
       " 'soln_avg_annual_use': 3e-05,\n",
       " 'soln_fixed_oper_cost_per_iunit': 800,\n",
       " 'soln_var_oper_cost_per_funit': 13224200.431077885,\n",
       " 'soln_energy_efficiency_factor': 0.0,\n",
       " 'soln_fuel_efficiency_factor': 0.8964768329017938,\n",
       " 'soln_emissions_per_funit': 0.0,\n",
       " 'soln_indirect_co2_per_iunit': 12.55864172870986}"
      ]
     },
     "execution_count": 21,
     "metadata": {},
     "output_type": "execute_result"
    }
   ],
   "source": [
    "filename = \"my_temp_scenario.json\"\n",
    "newerscenario.ac.write_to_json_file(filename)\n",
    "\n",
    "# then later, load it back\n",
    "reloaded_params = json.loads(Path(filename).read_text(encoding='utf-8'))  # reload the params from the file\n",
    "reloaded_scenario = factory.load_scenario(\"electricvehicles\", reloaded_params)  # create a new Scenario object\n",
    "\n",
    "reloaded_scenario.key_inputs()                   "
   ]
  },
  {
   "cell_type": "markdown",
   "id": "796b182b",
   "metadata": {},
   "source": [
    "### Altering Adoption\n",
    "\n",
    "The instructions above will allow you to experiment with variations in the scalar paramters for a Solution, but what about adoption?  You can alter that as well, though the technique is a bit hacky.  There is a special parameter that will allow you to specify a 'custom adoption' to load in place of the standard adoption.  The adoption must be identified by a URI, and the adoption will be read from that URI as if it were reading from the official PDME source files.  The format of the data must be the same CSV file format that is used for the official adoption data sources.   Here is what it would look like:"
   ]
  },
  {
   "cell_type": "code",
   "execution_count": null,
   "id": "31b5283c",
   "metadata": {},
   "outputs": [],
   "source": [
    "# This cell won't work unless you can make the URI point to the appropriate data.\n",
    "# TODO: figure out some way to host sample data so that it _will_ work\n",
    "\n",
    "my_adoption_uri = \"file://some_file_somewhere\"\n",
    "params = ecars2.ac.with_modifications(\n",
    "    pds_adoption_custom_source=my_adoption_uri   # this is the key line\n",
    ")\n",
    "scenario_with_new_adoption = factory.load_scenario(\"electricvehicles\", params)"
   ]
  },
  {
   "cell_type": "markdown",
   "id": "2857a793",
   "metadata": {},
   "source": [
    "### Creating New Solutions\n",
    "So far we've talked about creating new Scenarios for existing Solutions.  It is also possible to create your own Solution, but the steps involved are not yet documented.  The basic starting point would be to copy an existing solution directory to a new name and start modifying the code.  Aside from changing names of things, the primary requirement is accumulating the backing data and storing it in the proper format as part of your new Solution."
   ]
  },
  {
   "cell_type": "markdown",
   "id": "795e547e",
   "metadata": {},
   "source": [
    "# Ocean Solutions\n",
    "All the discussion and examples in this notebook have been about RRS (Reduction and Replacement) or Land Solutions.  There are also Ocean Solutions.  Conceptually (and mathematically), they are essentially the same as the others, however the code that implements them is almost entirely different.  This difference is temporary (for some definition of temporary): we plan to merge the two implementations in time.  For now, however, you need to use a different set of functions to do the same things we have demonstrated above.  In this section, we'll demonstrate some of the differences."
   ]
  },
  {
   "cell_type": "markdown",
   "id": "27ad72e6",
   "metadata": {},
   "source": [
    "# Common Code Patterns"
   ]
  },
  {
   "cell_type": "code",
   "execution_count": null,
   "id": "06ac468f",
   "metadata": {},
   "outputs": [],
   "source": []
  }
 ],
 "metadata": {
  "interpreter": {
   "hash": "641170e26b916086f6ab8a8498639d254e86adadac2c3bbb49fa49caa88ce61e"
  },
  "kernelspec": {
   "display_name": "Python 3 (ipykernel)",
   "language": "python",
   "name": "python3"
  },
  "language_info": {
   "codemirror_mode": {
    "name": "ipython",
    "version": 3
   },
   "file_extension": ".py",
   "mimetype": "text/x-python",
   "name": "python",
   "nbconvert_exporter": "python",
   "pygments_lexer": "ipython3",
   "version": "3.9.7"
  }
 },
 "nbformat": 4,
 "nbformat_minor": 5
}

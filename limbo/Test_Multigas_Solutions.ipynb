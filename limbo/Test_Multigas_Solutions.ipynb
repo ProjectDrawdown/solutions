{
 "cells": [
  {
   "cell_type": "markdown",
   "id": "c603ec96",
   "metadata": {},
   "source": [
    "# Test the Multi-gas Solutions\n",
    "\n",
    "Project Drawdown has identified 13 multi-gas solutions that contain emission reductions of CO2, CH4, and N2O.\n",
    "\n",
    "Those multi-gas solutions are:\n",
    "\n",
    "    Biogas               CO2 CH4 N2O\n",
    "    Biogas (small)       CO2 CH4 N2O\n",
    "    Biomass              CO2 CH4\n",
    "    Improved Rice        CO2 CH4 N2O\n",
    "    Landfill Methane     CO2 CH4\n",
    "    Managed Grazing      CO2 CH4\n",
    "    Methane Leaks            CH4\n",
    "    Nutrient Management          N2O\n",
    "    Peatlands            CO2 CH4 N2O\n",
    "    Perennial Bioenergy  CO2     N2O\n",
    "    Rice Intensification CO2 CH4 N2O\n",
    "    Slivopasture         CO2 CH4\n",
    "    Waste to Energy      CO2 CH4 N2O\n",
    "    \n",
    "A future installment will add: \n",
    " - Improved Cattle Feed Quality as a CH4 and CO2 solution\n",
    " - Manure Management as a CH4 solution\n",
    "\n",
    "\n",
    "Project Drawdown should review the following solutions for multi-gas emissions:\n",
    " - Clean Cookstoves\n",
    " - Methane Digesters\n",
    " "
   ]
  },
  {
   "cell_type": "code",
   "execution_count": 1,
   "id": "0a996643",
   "metadata": {},
   "outputs": [],
   "source": [
    "# Import module\n",
    "from solution import factory"
   ]
  },
  {
   "cell_type": "code",
   "execution_count": 2,
   "id": "ab9313f4",
   "metadata": {},
   "outputs": [
    {
     "data": {
      "text/plain": [
       "CO2 (Gt-C)        1.047882\n",
       "CH4 (Mt-CH4)    136.752381\n",
       "N2O (Mt-N2O)      5.551641\n",
       "Name: ghg_emissions_reductions_global_cumulative, dtype: float64"
      ]
     },
     "execution_count": 2,
     "metadata": {},
     "output_type": "execute_result"
    }
   ],
   "source": [
    "# Test Biogas\n",
    "\n",
    "# CO2 (Gt-C)        1.047882\n",
    "# CH4 (Mt-CH4)    136.752381\n",
    "# N2O (Mt-N2O)      5.551641\n",
    "\n",
    "biogas_pds1 = factory.solution_pds_type(\"biogas\", \"PDS1\")\n",
    "ghgreduced_cumulative = biogas_pds1.c2.ghg_emissions_reductions_global_cumulative()\n",
    "ghgreduced_cumulative"
   ]
  },
  {
   "cell_type": "code",
   "execution_count": 3,
   "id": "a2368b3b",
   "metadata": {},
   "outputs": [
    {
     "data": {
      "text/plain": [
       "CO2 (Gt-C)      0.516219\n",
       "CH4 (Mt-CH4)    0.000000\n",
       "N2O (Mt-N2O)    0.000000\n",
       "Name: ghg_emissions_reductions_global_cumulative, dtype: float64"
      ]
     },
     "execution_count": 3,
     "metadata": {},
     "output_type": "execute_result"
    }
   ],
   "source": [
    "# Test Biogas Small\n",
    "\n",
    "# CO2 (Gt-C)      0.516219\n",
    "# CH4 (Mt-CH4)    0.000000\n",
    "# N2O (Mt-N2O)    0.000000\n",
    "# The PDS Scenario chooses not to use CH4 or N2O emission factors.\n",
    "\n",
    "biogas_small_pds1 = factory.solution_pds_type(\"biogas_small\", \"PDS1\")\n",
    "ghgreduced_cumulative = biogas_small_pds1.c2.ghg_emissions_reductions_global_cumulative()\n",
    "ghgreduced_cumulative"
   ]
  },
  {
   "cell_type": "code",
   "execution_count": 4,
   "id": "bede7c46",
   "metadata": {},
   "outputs": [
    {
     "data": {
      "text/plain": [
       "CO2 (Gt-C)      0.733906\n",
       "CH4 (Mt-CH4)    0.000000\n",
       "N2O (Mt-N2O)    0.000000\n",
       "Name: ghg_emissions_reductions_global_cumulative, dtype: float64"
      ]
     },
     "execution_count": 4,
     "metadata": {},
     "output_type": "execute_result"
    }
   ],
   "source": [
    "# Test Biomass\n",
    "\n",
    "# CO2 (Gt-C)      0.733906\n",
    "# CH4 (Mt-CH4)    0.000000\n",
    "# N2O (Mt-N2O)    0.000000\n",
    "# The PDS Scenario chooses not to use CH4 or N2O emission factors.\n",
    "\n",
    "biomass_pds1 = factory.solution_pds_type(\"biomass\", \"PDS1\")\n",
    "ghgreduced_cumulative = biomass_pds1.c2.ghg_emissions_reductions_global_cumulative()\n",
    "ghgreduced_cumulative"
   ]
  },
  {
   "cell_type": "code",
   "execution_count": 5,
   "id": "2a3ce484",
   "metadata": {},
   "outputs": [
    {
     "data": {
      "text/plain": [
       "CO2 (Gt-C)      1.491021\n",
       "CH4 (Mt-CH4)    0.000159\n",
       "N2O (Mt-N2O)   -0.000005\n",
       "Name: ghg_emissions_reductions_global_cumulative, dtype: float64"
      ]
     },
     "execution_count": 5,
     "metadata": {},
     "output_type": "execute_result"
    }
   ],
   "source": [
    "# Test Improved Rice\n",
    "\n",
    "# CO2 (Gt-C)      1.491021\n",
    "# CH4 (Mt-CH4)    0.000159\n",
    "# N2O (Mt-N2O)   -0.000005\n",
    "\n",
    "rice_pds1 = factory.solution_pds_type(\"improvedrice\", \"PDS1\")\n",
    "ghgreduced_cumulative = rice_pds1.c2.ghg_emissions_reductions_global_cumulative()\n",
    "ghgreduced_cumulative"
   ]
  },
  {
   "cell_type": "code",
   "execution_count": 6,
   "id": "b9f28359",
   "metadata": {},
   "outputs": [
    {
     "data": {
      "text/plain": [
       "CO2 (Gt-C)      -0.002864\n",
       "CH4 (Mt-CH4)    65.504307\n",
       "N2O (Mt-N2O)     0.000000\n",
       "Name: ghg_emissions_reductions_global_cumulative, dtype: float64"
      ]
     },
     "execution_count": 6,
     "metadata": {},
     "output_type": "execute_result"
    }
   ],
   "source": [
    "# Test Landfill Methane\n",
    "\n",
    "# CO2 (Gt-C)      -0.002864\n",
    "# CH4 (Mt-CH4)    65.504307\n",
    "# N2O (Mt-N2O)     0.000000\n",
    "\n",
    "landfill_pds1 = factory.solution_pds_type(\"landfillmethane\", \"PDS1\")\n",
    "ghgreduced_cumulative = landfill_pds1.c2.ghg_emissions_reductions_global_cumulative()\n",
    "ghgreduced_cumulative"
   ]
  },
  {
   "cell_type": "code",
   "execution_count": 7,
   "id": "99295f69",
   "metadata": {},
   "outputs": [
    {
     "data": {
      "text/plain": [
       "CO2 (Gt-C)      1.950223\n",
       "CH4 (Mt-CH4)    0.000000\n",
       "N2O (Mt-N2O)    0.000000\n",
       "Name: ghg_emissions_reductions_global_cumulative, dtype: float64"
      ]
     },
     "execution_count": 7,
     "metadata": {},
     "output_type": "execute_result"
    }
   ],
   "source": [
    "# Test Managed Grazing\n",
    "\n",
    "# CO2 (Gt-C)      1.950223\n",
    "# CH4 (Mt-CH4)    0.000000\n",
    "# N2O (Mt-N2O)    0.000000\n",
    "# The PDS Scenario chooses not to use CH4 or N2O emission factors.\n",
    "\n",
    "managedgrazing_pds1 = factory.solution_pds_type(\"managedgrazing\", \"PDS1\")\n",
    "ghgreduced_cumulative = managedgrazing_pds1.c2.ghg_emissions_reductions_global_cumulative()\n",
    "ghgreduced_cumulative"
   ]
  },
  {
   "cell_type": "code",
   "execution_count": 8,
   "id": "3ca51e99",
   "metadata": {},
   "outputs": [
    {
     "data": {
      "text/plain": [
       "CO2 (Gt-C)        0.000000\n",
       "CH4 (Mt-CH4)    625.697262\n",
       "N2O (Mt-N2O)      0.000000\n",
       "Name: ghg_emissions_reductions_global_cumulative, dtype: float64"
      ]
     },
     "execution_count": 8,
     "metadata": {},
     "output_type": "execute_result"
    }
   ],
   "source": [
    "# Test Methane Leaks\n",
    "\n",
    "# CO2 (Gt-C)        0.000000\n",
    "# CH4 (Mt-CH4)    625.697262\n",
    "# N2O (Mt-N2O)      0.000000\n",
    "\n",
    "methaneleak_pds1 = factory.solution_pds_type(\"methaneleak\", \"PDS1\")\n",
    "ghgreduced_cumulative = methaneleak_pds1.c2.ghg_emissions_reductions_global_cumulative()\n",
    "ghgreduced_cumulative"
   ]
  },
  {
   "cell_type": "code",
   "execution_count": 9,
   "id": "6c061b25",
   "metadata": {},
   "outputs": [
    {
     "data": {
      "text/plain": [
       "CO2 (Gt-C)      0.000000\n",
       "CH4 (Mt-CH4)    0.000000\n",
       "N2O (Mt-N2O)    0.000005\n",
       "Name: ghg_emissions_reductions_global_cumulative, dtype: float64"
      ]
     },
     "execution_count": 9,
     "metadata": {},
     "output_type": "execute_result"
    }
   ],
   "source": [
    "# Test Nutrient Management\n",
    "\n",
    "# CO2 (Gt-C)      0.000000\n",
    "# CH4 (Mt-CH4)    0.000000\n",
    "# N2O (Mt-N2O)    0.000005\n",
    "\n",
    "nutrientmanagement_pds1 = factory.solution_pds_type(\"nutrientmanagement\", \"PDS1\")\n",
    "ghgreduced_cumulative = nutrientmanagement_pds1.c2.ghg_emissions_reductions_global_cumulative()\n",
    "ghgreduced_cumulative"
   ]
  },
  {
   "cell_type": "code",
   "execution_count": 10,
   "id": "00738a9e",
   "metadata": {},
   "outputs": [
    {
     "data": {
      "text/plain": [
       "CO2 (Gt-C)      0.154793\n",
       "CH4 (Mt-CH4)    0.000031\n",
       "N2O (Mt-N2O)    0.000002\n",
       "Name: ghg_emissions_reductions_global_cumulative, dtype: float64"
      ]
     },
     "execution_count": 10,
     "metadata": {},
     "output_type": "execute_result"
    }
   ],
   "source": [
    "# Test Peatlands\n",
    "\n",
    "# CO2 (Gt-C)      0.154793\n",
    "# CH4 (Mt-CH4)    0.000031\n",
    "# N2O (Mt-N2O)    0.000002\n",
    "\n",
    "peatlands_pds1 = factory.solution_pds_type(\"peatlands\", \"PDS1\")\n",
    "ghgreduced_cumulative = peatlands_pds1.c2.ghg_emissions_reductions_global_cumulative()\n",
    "ghgreduced_cumulative"
   ]
  },
  {
   "cell_type": "code",
   "execution_count": 11,
   "id": "97846852",
   "metadata": {},
   "outputs": [
    {
     "data": {
      "text/plain": [
       "CO2 (Gt-C)      2.012797\n",
       "CH4 (Mt-CH4)    0.000000\n",
       "N2O (Mt-N2O)    0.000000\n",
       "Name: ghg_emissions_reductions_global_cumulative, dtype: float64"
      ]
     },
     "execution_count": 11,
     "metadata": {},
     "output_type": "execute_result"
    }
   ],
   "source": [
    "# Test Perennial Bioenergy\n",
    "\n",
    "# CO2 (Gt-C)      2.012797\n",
    "# CH4 (Mt-CH4)    0.000000\n",
    "# N2O (Mt-N2O)    0.000000\n",
    "# The PDS Scenario chooses not to use CH4 or N2O emission factors.\n",
    "\n",
    "perennialbioenergy_pds1 = factory.solution_pds_type(\"perennialbioenergy\", \"PDS1\")\n",
    "ghgreduced_cumulative = perennialbioenergy_pds1.c2.ghg_emissions_reductions_global_cumulative()\n",
    "ghgreduced_cumulative"
   ]
  },
  {
   "cell_type": "code",
   "execution_count": 12,
   "id": "050bd262",
   "metadata": {},
   "outputs": [
    {
     "data": {
      "text/plain": [
       "CO2 (Gt-C)      7.777817e-02\n",
       "CH4 (Mt-CH4)    1.054028e-05\n",
       "N2O (Mt-N2O)   -7.655329e-08\n",
       "Name: ghg_emissions_reductions_global_cumulative, dtype: float64"
      ]
     },
     "execution_count": 12,
     "metadata": {},
     "output_type": "execute_result"
    }
   ],
   "source": [
    "# Test Rice Intensification\n",
    "\n",
    "# CO2 (Gt-C)      7.777817e-02\n",
    "# CH4 (Mt-CH4)    1.054028e-05\n",
    "# N2O (Mt-N2O)   -7.655329e-08\n",
    "\n",
    "riceintensification_pds1 = factory.solution_pds_type(\"riceintensification\", \"PDS1\")\n",
    "ghgreduced_cumulative = riceintensification_pds1.c2.ghg_emissions_reductions_global_cumulative()\n",
    "ghgreduced_cumulative"
   ]
  },
  {
   "cell_type": "code",
   "execution_count": 13,
   "id": "fab09ae8",
   "metadata": {},
   "outputs": [
    {
     "data": {
      "text/plain": [
       "CO2 (Gt-C)      7.274273\n",
       "CH4 (Mt-CH4)    0.000000\n",
       "N2O (Mt-N2O)    0.000000\n",
       "Name: ghg_emissions_reductions_global_cumulative, dtype: float64"
      ]
     },
     "execution_count": 13,
     "metadata": {},
     "output_type": "execute_result"
    }
   ],
   "source": [
    "# Test Silvopasture\n",
    "\n",
    "# CO2 (Gt-C)      7.274273\n",
    "# CH4 (Mt-CH4)    0.000000\n",
    "# N2O (Mt-N2O)    0.000000\n",
    "# The PDS Scenario chooses not to use CH4 or N2O emission factors.\n",
    "\n",
    "silvopasture_pds1 = factory.solution_pds_type(\"silvopasture\", \"PDS1\")\n",
    "ghgreduced_cumulative = silvopasture_pds1.c2.ghg_emissions_reductions_global_cumulative()\n",
    "ghgreduced_cumulative"
   ]
  },
  {
   "cell_type": "code",
   "execution_count": 14,
   "id": "e3d7ba70",
   "metadata": {},
   "outputs": [
    {
     "data": {
      "text/plain": [
       "CO2 (Gt-C)      -0.283016\n",
       "CH4 (Mt-CH4)    59.211124\n",
       "N2O (Mt-N2O)     0.000000\n",
       "Name: ghg_emissions_reductions_global_cumulative, dtype: float64"
      ]
     },
     "execution_count": 14,
     "metadata": {},
     "output_type": "execute_result"
    }
   ],
   "source": [
    "# Test Waste to Energy\n",
    "\n",
    "# CO2 (Gt-C)      -0.283016\n",
    "# CH4 (Mt-CH4)    59.211124\n",
    "# N2O (Mt-N2O)     0.000000\n",
    "# The PDS Scenario chooses not to use N2O emission factor.\n",
    "\n",
    "wastetoenergy_pds1 = factory.solution_pds_type(\"wastetoenergy\", \"PDS1\")\n",
    "ghgreduced_cumulative = wastetoenergy_pds1.c2.ghg_emissions_reductions_global_cumulative()\n",
    "ghgreduced_cumulative"
   ]
  }
 ],
 "metadata": {
  "kernelspec": {
   "display_name": "Python 3 (ipykernel)",
   "language": "python",
   "name": "python3"
  },
  "language_info": {
   "codemirror_mode": {
    "name": "ipython",
    "version": 3
   },
   "file_extension": ".py",
   "mimetype": "text/x-python",
   "name": "python",
   "nbconvert_exporter": "python",
   "pygments_lexer": "ipython3",
   "version": "3.9.6"
  }
 },
 "nbformat": 4,
 "nbformat_minor": 5
}

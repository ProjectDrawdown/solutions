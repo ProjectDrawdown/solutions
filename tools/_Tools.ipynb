{
 "cells": [
  {
   "cell_type": "markdown",
   "id": "daf8100d",
   "metadata": {},
   "source": [
    "#### Handy tools and stuff I use all the time.\n",
    "Hint: git is set up to ignore notebooks that begin with the name \"Untitled\".  So copy this notebook to \"Untitled_Tools.ipynb\" and git won't bug you about it."
   ]
  },
  {
   "cell_type": "code",
   "execution_count": 3,
   "id": "05e5df52",
   "metadata": {},
   "outputs": [
    {
     "name": "stdout",
     "output_type": "stream",
     "text": [
      "If you see <IPython.core.display.Javascript object> below, this notebook is not trusted.\n",
      "As a consequence Autorun cannot work.\n",
      "Run \"from notebook_autorun import Autorun; Autorun.info()\" for more info.\n"
     ]
    },
    {
     "data": {
      "application/javascript": "\n\"use strict\";\n\nconsole.log('start main');\n\nrequire([\n\t'jquery',\n\t'base/js/dialog',\n\t'base/js/events',\n\t'base/js/namespace',\n\t'notebook/js/celltoolbar',\n\t'notebook/js/codecell',\n\t'base/js/promises'\n], function (\n\t$,\n\tdialog,\n\tevents,\n\tJupyter,\n\tcelltoolbar,\n\tcodecell,\n\tpromises\n) {\n\t\tevents.on('kernel_ready.Kernel', function () {\n\t\t\tconsole.log('start autorun');\n\t\t\tif (Jupyter.notebook.trusted) {\n\t\t\t\t// notebook is trusted js can run\n\t\t\t\tconsole.log('notebook is trusted');\n\t\t\t\tlet nbCells = Jupyter.notebook.get_cells(),\n\t\t\t\t\tarrCells;\n\t\t\t\twindow.debugNbCells = nbCells;\n\n\t\t\t\t\n\n\t\t\t\t\n\n\t\t\t\t\n\t\t\t\t\n\nlet getCellsFromComment = function (nbCells, commentFlag) {\n\n\tlet arrCell = [];\n\tfor (let [i, nbCell] of nbCells.entries()) {\n\n\t\tlet text = nbCell.get_text();\n\t\t\n\t\tif (isFlagInComment(text, commentFlag)) {\n\t\t\tarrCell.push(i);\n\t\t}\n\t}\n\treturn arrCell;\n};\n\nlet isFlagInComment = function (text, flag) {\n\tlet arrText = text.split('\\n');\n\tlet isFlag = false;\n\tfor (let line of arrText) {\n\t\tline = line.trim();\n\t\tif (line.startsWith('#')) {\n\t\t\tlet found = line.indexOf(flag) > -1;\n\t\t\tif (found) {\n\t\t\t\tisFlag = true;\n\t\t\t}\n\t\t}\n\t}\n\treturn isFlag;\n};\n\t\t\t\tarrCells = getCellsFromComment(nbCells, 'AUTORUN');\n\t\t\t\t\n\n\t\t\t\tconsole.log(arrCells);\n\t\t\t\tfor (let i of arrCells) {\n\t\t\t\t\tlet nbCell = nbCells[i];\n\t\t\t\t\tif (nbCell) {\n\t\t\t\t\t\tconsole.log('execute cell ' + i);\n\t\t\t\t\t\tnbCell.execute();\n\t\t\t\t\t}\n\t\t\t\t\telse {\n\t\t\t\t\t\tconsole.log('cell ' + i + ' does not exist');\n\t\t\t\t\t}\n\t\t\t\t}\n\n\t\t\t\t\n\n\t\t\t}\n\t\t\telse {\n\t\t\t\t// notebook is not trusted let the user know about it\n\t\t\t\t// by definition this should never happen as\n\t\t\t\t// js cannot run if notebook not trustee\n\t\t\t\tconsole.log('notebook is not trusted');\n\t\t\t\tconsole.log('nothing is done');\n\t\t\t}\n\t\t});\n\n\n\n\n\t});\n\nconsole.log('end main');",
      "text/plain": [
       "<IPython.core.display.Javascript object>"
      ]
     },
     "metadata": {},
     "output_type": "display_data"
    },
    {
     "data": {
      "text/markdown": [
       "This output cell contains **notebook-autorun** settings:  \n",
       "```json\n",
       "   {\"comment\": true, \"comment_flag\": \"AUTORUN\"}  \n",
       "```"
      ],
      "text/plain": [
       "<IPython.core.display.Markdown object>"
      ]
     },
     "metadata": {},
     "output_type": "display_data"
    }
   ],
   "source": [
    "# delete or comment out this cell if you aren't using autorun\n",
    "# or, install autorun, and you won't have to scroll to the top of the notebook every time you restart :-)\n",
    "from notebook_autorun import Autorun\n",
    "Autorun(cells=None, metadata=False, comment=True, comment_flag='AUTORUN', verbose=True).add_js()"
   ]
  },
  {
   "cell_type": "code",
   "execution_count": 2,
   "id": "41d0a29a",
   "metadata": {
    "ExecuteTime": {
     "end_time": "2021-10-24T18:33:03.430378Z",
     "start_time": "2021-10-24T18:33:03.382374Z"
    }
   },
   "outputs": [],
   "source": [
    "# AUTORUN\n",
    "\n",
    "import sys\n",
    "sys.path.append('../')   # Add root to path if you need to.\n",
    "\n",
    "import pandas as pd\n",
    "import numpy as np\n",
    "from pathlib import Path\n",
    "import pytest\n",
    "import importlib\n",
    "import openpyxl\n",
    "import json\n",
    "import sys\n",
    "from tools import expected_result_tester as ert\n",
    "from tools import expected_ghost as ghost\n",
    "from tools import solution_xls_extract as sxe\n",
    "from tools import multi_excel_sample as mex\n",
    "from tools import create_expected_zip as cez\n",
    "from tools import vma_xls_extract as vxe\n",
    "from tools import util\n",
    "from solution import factory\n",
    "import model.advanced_controls as ac\n",
    "import model.dd as dd\n",
    "import model.scenario as scenario\n",
    "import model.customadoption as ca\n",
    "import model.tam as tam\n",
    "\n",
    "pd.set_option('display.float_format', lambda x: f\"{x:03.5f}\".rstrip('0'))"
   ]
  },
  {
   "cell_type": "markdown",
   "id": "eef0317f",
   "metadata": {},
   "source": [
    "# Extraction\n",
    "Steps to create a python model from an Excel model"
   ]
  },
  {
   "cell_type": "code",
   "execution_count": 3,
   "id": "fc34f268",
   "metadata": {
    "ExecuteTime": {
     "end_time": "2021-10-24T06:55:01.392395Z",
     "start_time": "2021-10-24T06:55:01.374396Z"
    }
   },
   "outputs": [],
   "source": [
    "# Set These\n",
    "#excelname=\"SmartThermostats-RRSv1.1b-Oct2019.xlsm\"\n",
    "#excelname=\"SolarPVDistributed_RRS_ELECGEN_v1.1b_26Jun2020.xlsm\"\n",
    "excelname=\"SmartGlass_RRSv1.1c_Aug2021.xlsm\"\n",
    "solutionname=\"smartglass\"\n",
    "\n",
    "exceldir=Path(\"C:/Users/Asus/Desktop\")\n",
    "#exceldir=Path(\"G:/My Drive/AllModels\")\n",
    "#codedir=Path(\"C:/Working/solutions/solution\")\n",
    "codedir=Path(r\"D:/Development/colab_coop/solutions/solution\")\n",
    "\n",
    "# don't change these\n",
    "excelfile= exceldir/excelname\n",
    "zipfile=exceldir/f\"{solutionname}_expected.zip\"\n",
    "solutiondir=codedir/solutionname"
   ]
  },
  {
   "cell_type": "code",
   "execution_count": 7,
   "id": "3e165b36",
   "metadata": {
    "ExecuteTime": {
     "end_time": "2021-10-23T21:11:35.055989Z",
     "start_time": "2021-10-23T21:11:29.876449Z"
    }
   },
   "outputs": [
    {
     "name": "stdout",
     "output_type": "stream",
     "text": [
      "solarpvroof done: True\n"
     ]
    }
   ],
   "source": [
    "# This may already have been done for you, but if not:\n",
    "\n",
    "# Step 0.9:  Open the spreadsheet, go to the ScenarioRecord tab, and clear all but the last three scenarios from\n",
    "# the column of data at ScenarioRecord!AR13.  That way the expected.zip and extracted code only contain data\n",
    "# from these three scenarios, which makes everything run faster.\n",
    "\n",
    "# Step 1:  Open the spreadsheet, add the export macro (export_csv.vb, in the tools directory), and run it.  \n",
    "# *** Save the spreadsheet (it may have been udpated!) ***\n",
    "# This has to be done first, since it may modify the spreadsheet\n",
    "# (more detailed instructions in the Extraction Guide)\n",
    "\n",
    "# Step 2: Create the expected.zip file\n",
    "\n",
    "cez.create_expected_zip(exceldir)                              # Create the expected.zip file\n",
    "(exceldir/\"expected.zip\").rename(zipfile)                      # Rename zipfile temporarily        \n",
    "[f.unlink() for f in exceldir.glob(\"*.xlsm_*\")]                # Clean up all the extra files\n",
    "print(f\"{solutionname} done: {zipfile.is_file()}\")"
   ]
  },
  {
   "cell_type": "code",
   "execution_count": 4,
   "id": "a1247fcf",
   "metadata": {
    "ExecuteTime": {
     "end_time": "2021-10-24T06:56:01.880397Z",
     "start_time": "2021-10-24T06:55:37.313978Z"
    }
   },
   "outputs": [
    {
     "name": "stdout",
     "output_type": "stream",
     "text": [
      "Moved existing __init__.py file to __init__OLD_001604.py.  Please compare and merge as needed.\n",
      "Skipping scenario PDS1-30p2050-based on Navigant, earlier than existing scenarios.\n",
      "Skipping scenario PDS2-50p2050-based on Navigant at 50%, earlier than existing scenarios.\n",
      "Skipping scenario PDS3-75p2050-based on Navigant at 75%, earlier than existing scenarios.\n",
      "Skipping scenario PDS1-30p2050-based on Navigant (Integrated), earlier than existing scenarios.\n",
      "Skipping scenario PDS2-50p2050-based on Navigant and 50% (Integrated), earlier than existing scenarios.\n",
      "Skipping scenario PD3S-75p2050-based on Navigant and 75% (Integrated), earlier than existing scenarios.\n",
      "Skipping scenario PDS1-30p2050-Navigant+GBC to 30%, earlier than existing scenarios.\n",
      "Skipping scenario PDS2-50p2050-Navigant+GBC to 50%, earlier than existing scenarios.\n",
      "Skipping scenario PDS3-75p2050-Navigant+GBC to 75%, earlier than existing scenarios.\n"
     ]
    }
   ],
   "source": [
    "# Step 3: Run the extractor\n",
    "\n",
    "sxe.output_solution_python_file(outputdir=solutiondir,xl_filename=excelfile)"
   ]
  },
  {
   "cell_type": "code",
   "execution_count": 14,
   "id": "c9918fc4",
   "metadata": {
    "ExecuteTime": {
     "end_time": "2021-10-23T21:32:16.184717Z",
     "start_time": "2021-10-23T21:32:16.136199Z"
    }
   },
   "outputs": [],
   "source": [
    "# Step 4\n",
    "# If the .zip hasn't been copied over before, do it now\n",
    "\n",
    "import shutil\n",
    "testdir = solutiondir/\"tests\"\n",
    "testdir.mkdir(exist_ok=True)\n",
    "shutil.copy(zipfile, testdir/\"expected.zip\")\n",
    "\n",
    "# Only copy the test template if there isn't one already, to preserve any customizations\n",
    "testfile=testdir/f\"test_{solutionname}.py\"\n",
    "if not testfile.is_file():\n",
    "    shutil.copy(solutiondir.parents[1]/\"tools/solution_test_template.py\", testfile)"
   ]
  },
  {
   "cell_type": "code",
   "execution_count": 6,
   "id": "7be71f46",
   "metadata": {
    "ExecuteTime": {
     "end_time": "2021-10-23T21:36:32.658206Z",
     "start_time": "2021-10-23T21:36:30.288957Z"
    }
   },
   "outputs": [
    {
     "data": {
      "text/plain": [
       "['PDS1-30p2050-Navigant+GBC-30% Integrated',\n",
       " 'PDS2-50p2050-Navigant+GBC-50% Integrated',\n",
       " 'PDS3-75p2050-Navigant+GBC-75% Integrated']"
      ]
     },
     "execution_count": 6,
     "metadata": {},
     "output_type": "execute_result"
    }
   ],
   "source": [
    "# Step 5\n",
    "# Review the __init__.py file, or merge the old __init__.py and the __init__UPDATED.py files\n",
    "\n",
    "# You must set the PDS1, PDS2, PDS3 vars\n",
    "# These are your options:\n",
    "\n",
    "factory.list_scenarios(\"smartglass\")\n",
    "\n",
    "# Also: Delete all the older scenarios: we really only care about having the most recent three."
   ]
  },
  {
   "cell_type": "markdown",
   "id": "254aa2d4",
   "metadata": {},
   "source": [
    "# Test"
   ]
  },
  {
   "cell_type": "code",
   "execution_count": 12,
   "id": "19879dc0",
   "metadata": {
    "ExecuteTime": {
     "end_time": "2021-10-20T22:07:54.125151Z",
     "start_time": "2021-10-20T22:07:18.291898Z"
    }
   },
   "outputs": [
    {
     "name": "stdout",
     "output_type": "stream",
     "text": [
      "Checking scenario 0: PDS1-30p2050-Navigant+GBC-30% Integrated\n",
      "Checking scenario 1: PDS2-50p2050-Navigant+GBC-50% Integrated\n",
      "Checking scenario 2: PDS3-75p2050-Navigant+GBC-75% Integrated\n"
     ]
    },
    {
     "ename": "AssertionError",
     "evalue": "\nSolution smartglass deep results\n3/3 scenarios with errors:\nscenario 0: PDS1-30p2050-Navigant+GBC-30% Integrated\n|Unit Adoption Calculations A17:K63| 46/517 values differ:\n   [1, 2]: expected 10902.63288889 vs actual 11195.716152194374\n   [2, 2]: expected 11031.6810632 vs actual 11268.346524240187\n   [3, 2]: expected 11160.50594998 vs actual 11342.729717871245\n   [4, 2]: expected 11288.3386848 vs actual 11418.6458191286\n   [5, 2]: expected 11414.18299164 vs actual 11495.874914053302\n   [6, 2]: expected 11537.32142267 vs actual 11574.1970886864\n   [7, 2]: expected 11642.11980458 vs actual 11653.392429068945\n   [8, 2]: expected 11742.87780843 vs actual 11733.241021241985\n   [9, 2]: expected 11839.8415409 vs actual 11813.522951246572\n   [10, 2]: expected 11933.22722098 vs actual 11894.018305123756\n   ....\n\n|Unit Adoption Calculations A69:K115| 46/517 values differ:\n   [1, 2]: expected 10902.63288889 vs actual 11195.716152194374\n   [2, 2]: expected 11031.6810632 vs actual 11268.346524240187\n   [3, 2]: expected 11160.50594998 vs actual 11342.729717871245\n   [4, 2]: expected 11288.3386848 vs actual 11418.6458191286\n   [5, 2]: expected 11414.18299164 vs actual 11495.874914053302\n   [6, 2]: expected 11537.32142267 vs actual 11574.1970886864\n   [7, 2]: expected 11642.11980458 vs actual 11653.392429068945\n   [8, 2]: expected 11742.87780843 vs actual 11733.241021241985\n   [9, 2]: expected 11839.8415409 vs actual 11813.522951246572\n   [10, 2]: expected 11933.22722098 vs actual 11894.018305123756\n   ....\n\n|Unit Adoption Calculations Q252:AA298| 46/517 values differ:\n   [1, 2]: expected 10902.63288889 vs actual 11195.716152194374\n   [2, 2]: expected 11031.6810632 vs actual 11268.346524240187\n   [3, 2]: expected 11160.50594998 vs actual 11342.729717871245\n   [4, 2]: expected 11288.3386848 vs actual 11418.6458191286\n   [5, 2]: expected 11414.18299164 vs actual 11495.874914053302\n   [6, 2]: expected 11537.32142267 vs actual 11574.1970886864\n   [7, 2]: expected 11642.11980458 vs actual 11653.392429068945\n   [8, 2]: expected 11742.87780843 vs actual 11733.241021241985\n   [9, 2]: expected 11839.8415409 vs actual 11813.522951246572\n   [10, 2]: expected 11933.22722098 vs actual 11894.018305123756\n   ....\n\nscenario 1: PDS2-50p2050-Navigant+GBC-50% Integrated\n|Unit Adoption Calculations A17:K63| 46/517 values differ:\n   [1, 2]: expected 10902.63288889 vs actual 11195.716152194374\n   [2, 2]: expected 11031.6810632 vs actual 11268.346524240187\n   [3, 2]: expected 11160.50594998 vs actual 11342.729717871245\n   [4, 2]: expected 11288.3386848 vs actual 11418.6458191286\n   [5, 2]: expected 11414.18299164 vs actual 11495.874914053302\n   [6, 2]: expected 11537.32142267 vs actual 11574.1970886864\n   [7, 2]: expected 11642.11980458 vs actual 11653.392429068945\n   [8, 2]: expected 11742.87780843 vs actual 11733.241021241985\n   [9, 2]: expected 11839.8415409 vs actual 11813.522951246572\n   [10, 2]: expected 11933.22722098 vs actual 11894.018305123756\n   ....\n\n|Unit Adoption Calculations A69:K115| 46/517 values differ:\n   [1, 2]: expected 10902.63288889 vs actual 11195.716152194374\n   [2, 2]: expected 11031.6810632 vs actual 11268.346524240187\n   [3, 2]: expected 11160.50594998 vs actual 11342.729717871245\n   [4, 2]: expected 11288.3386848 vs actual 11418.6458191286\n   [5, 2]: expected 11414.18299164 vs actual 11495.874914053302\n   [6, 2]: expected 11537.32142267 vs actual 11574.1970886864\n   [7, 2]: expected 11642.11980458 vs actual 11653.392429068945\n   [8, 2]: expected 11742.87780843 vs actual 11733.241021241985\n   [9, 2]: expected 11839.8415409 vs actual 11813.522951246572\n   [10, 2]: expected 11933.22722098 vs actual 11894.018305123756\n   ....\n\n|Unit Adoption Calculations Q252:AA298| 46/517 values differ:\n   [1, 2]: expected 10902.63288889 vs actual 11195.716152194374\n   [2, 2]: expected 11031.6810632 vs actual 11268.346524240187\n   [3, 2]: expected 11160.50594998 vs actual 11342.729717871245\n   [4, 2]: expected 11288.3386848 vs actual 11418.6458191286\n   [5, 2]: expected 11414.18299164 vs actual 11495.874914053302\n   [6, 2]: expected 11537.32142267 vs actual 11574.1970886864\n   [7, 2]: expected 11642.11980458 vs actual 11653.392429068945\n   [8, 2]: expected 11742.87780843 vs actual 11733.241021241985\n   [9, 2]: expected 11839.8415409 vs actual 11813.522951246572\n   [10, 2]: expected 11933.22722098 vs actual 11894.018305123756\n   ....\n\nscenario 2: PDS3-75p2050-Navigant+GBC-75% Integrated\n|Unit Adoption Calculations A17:K63| 46/517 values differ:\n   [1, 2]: expected 10902.63288889 vs actual 11195.716152194374\n   [2, 2]: expected 11031.6810632 vs actual 11268.346524240187\n   [3, 2]: expected 11160.50594998 vs actual 11342.729717871245\n   [4, 2]: expected 11288.3386848 vs actual 11418.6458191286\n   [5, 2]: expected 11414.18299164 vs actual 11495.874914053302\n   [6, 2]: expected 11537.32142267 vs actual 11574.1970886864\n   [7, 2]: expected 11642.11980458 vs actual 11653.392429068945\n   [8, 2]: expected 11742.87780843 vs actual 11733.241021241985\n   [9, 2]: expected 11839.8415409 vs actual 11813.522951246572\n   [10, 2]: expected 11933.22722098 vs actual 11894.018305123756\n   ....\n\n|Unit Adoption Calculations A69:K115| 46/517 values differ:\n   [1, 2]: expected 10902.63288889 vs actual 11195.716152194374\n   [2, 2]: expected 11031.6810632 vs actual 11268.346524240187\n   [3, 2]: expected 11160.50594998 vs actual 11342.729717871245\n   [4, 2]: expected 11288.3386848 vs actual 11418.6458191286\n   [5, 2]: expected 11414.18299164 vs actual 11495.874914053302\n   [6, 2]: expected 11537.32142267 vs actual 11574.1970886864\n   [7, 2]: expected 11642.11980458 vs actual 11653.392429068945\n   [8, 2]: expected 11742.87780843 vs actual 11733.241021241985\n   [9, 2]: expected 11839.8415409 vs actual 11813.522951246572\n   [10, 2]: expected 11933.22722098 vs actual 11894.018305123756\n   ....\n\n|Unit Adoption Calculations Q252:AA298| 46/517 values differ:\n   [1, 2]: expected 10902.63288889 vs actual 11195.716152194374\n   [2, 2]: expected 11031.6810632 vs actual 11268.346524240187\n   [3, 2]: expected 11160.50594998 vs actual 11342.729717871245\n   [4, 2]: expected 11288.3386848 vs actual 11418.6458191286\n   [5, 2]: expected 11414.18299164 vs actual 11495.874914053302\n   [6, 2]: expected 11537.32142267 vs actual 11574.1970886864\n   [7, 2]: expected 11642.11980458 vs actual 11653.392429068945\n   [8, 2]: expected 11742.87780843 vs actual 11733.241021241985\n   [9, 2]: expected 11839.8415409 vs actual 11813.522951246572\n   [10, 2]: expected 11933.22722098 vs actual 11894.018305123756\n   ....\n",
     "output_type": "error",
     "traceback": [
      "\u001b[1;31m---------------------------------------------------------------------------\u001b[0m",
      "\u001b[1;31mAssertionError\u001b[0m                            Traceback (most recent call last)",
      "\u001b[1;32m~\\AppData\\Local\\Temp/ipykernel_3496/3662411648.py\u001b[0m in \u001b[0;36m<module>\u001b[1;34m\u001b[0m\n\u001b[0;32m      1\u001b[0m \u001b[1;32mimport\u001b[0m \u001b[0msolution\u001b[0m\u001b[1;33m.\u001b[0m\u001b[0msmartglass\u001b[0m\u001b[1;33m.\u001b[0m\u001b[0mtests\u001b[0m\u001b[1;33m.\u001b[0m\u001b[0mtest_smartglass\u001b[0m \u001b[1;32mas\u001b[0m \u001b[0mst\u001b[0m\u001b[1;33m\u001b[0m\u001b[1;33m\u001b[0m\u001b[0m\n\u001b[1;32m----> 2\u001b[1;33m \u001b[0mst\u001b[0m\u001b[1;33m.\u001b[0m\u001b[0mtest_deep_results\u001b[0m\u001b[1;33m(\u001b[0m\u001b[1;33m)\u001b[0m\u001b[1;33m\u001b[0m\u001b[1;33m\u001b[0m\u001b[0m\n\u001b[0m",
      "\u001b[1;32md:\\Development\\colab_coop\\solutions\\tools\\..\\solution\\smartglass\\tests\\test_smartglass.py\u001b[0m in \u001b[0;36mtest_deep_results\u001b[1;34m(scenario_skip, test_skip, test_only)\u001b[0m\n\u001b[0;32m     38\u001b[0m     \u001b[0mscenario_skip\u001b[0m \u001b[1;33m=\u001b[0m \u001b[0mscenario_skip\u001b[0m \u001b[1;32mor\u001b[0m \u001b[0mSCENARIO_SKIP\u001b[0m\u001b[1;33m\u001b[0m\u001b[1;33m\u001b[0m\u001b[0m\n\u001b[0;32m     39\u001b[0m     \u001b[0mtest_skip\u001b[0m \u001b[1;33m=\u001b[0m \u001b[0mtest_skip\u001b[0m \u001b[1;32mor\u001b[0m \u001b[0mTEST_SKIP\u001b[0m\u001b[1;33m\u001b[0m\u001b[1;33m\u001b[0m\u001b[0m\n\u001b[1;32m---> 40\u001b[1;33m     expected_result_tester.one_solution_tester(\n\u001b[0m\u001b[0;32m     41\u001b[0m         \u001b[0msolution_name\u001b[0m\u001b[1;33m,\u001b[0m\u001b[1;33m\u001b[0m\u001b[1;33m\u001b[0m\u001b[0m\n\u001b[0;32m     42\u001b[0m         \u001b[0mexpected_file\u001b[0m\u001b[1;33m,\u001b[0m\u001b[1;33m\u001b[0m\u001b[1;33m\u001b[0m\u001b[0m\n",
      "\u001b[1;32md:\\Development\\colab_coop\\solutions\\tools\\..\\tools\\expected_result_tester.py\u001b[0m in \u001b[0;36mone_solution_tester\u001b[1;34m(solution_name, expected_filename, scenario_skip, test_skip, test_only)\u001b[0m\n\u001b[0;32m   1099\u001b[0m         \u001b[0mstrout\u001b[0m \u001b[1;33m=\u001b[0m \u001b[1;34m\"\\n\"\u001b[0m\u001b[1;33m.\u001b[0m\u001b[0mjoin\u001b[0m\u001b[1;33m(\u001b[0m \u001b[1;34mf\"scenario {k}\\n\"\u001b[0m \u001b[1;33m+\u001b[0m \u001b[1;34m\"\\n\"\u001b[0m\u001b[1;33m.\u001b[0m\u001b[0mjoin\u001b[0m\u001b[1;33m(\u001b[0m \u001b[0mv\u001b[0m \u001b[1;33m)\u001b[0m \u001b[1;32mfor\u001b[0m \u001b[1;33m(\u001b[0m\u001b[0mk\u001b[0m\u001b[1;33m,\u001b[0m\u001b[0mv\u001b[0m\u001b[1;33m)\u001b[0m \u001b[1;32min\u001b[0m \u001b[0mscenario_errors\u001b[0m\u001b[1;33m.\u001b[0m\u001b[0mitems\u001b[0m\u001b[1;33m(\u001b[0m\u001b[1;33m)\u001b[0m \u001b[1;33m)\u001b[0m\u001b[1;33m\u001b[0m\u001b[1;33m\u001b[0m\u001b[0m\n\u001b[0;32m   1100\u001b[0m         \u001b[0mstrout\u001b[0m \u001b[1;33m=\u001b[0m \u001b[1;34mf\"\\nSolution {solution_name} deep results\\n{len(scenario_errors)}/{scenario_count} scenarios with errors:\\n{strout}\"\u001b[0m\u001b[1;33m\u001b[0m\u001b[1;33m\u001b[0m\u001b[0m\n\u001b[1;32m-> 1101\u001b[1;33m         \u001b[1;32mraise\u001b[0m \u001b[0mAssertionError\u001b[0m\u001b[1;33m(\u001b[0m \u001b[0mstrout\u001b[0m \u001b[1;33m)\u001b[0m\u001b[1;33m\u001b[0m\u001b[1;33m\u001b[0m\u001b[0m\n\u001b[0m\u001b[0;32m   1102\u001b[0m \u001b[1;33m\u001b[0m\u001b[0m\n\u001b[0;32m   1103\u001b[0m \u001b[1;33m\u001b[0m\u001b[0m\n",
      "\u001b[1;31mAssertionError\u001b[0m: \nSolution smartglass deep results\n3/3 scenarios with errors:\nscenario 0: PDS1-30p2050-Navigant+GBC-30% Integrated\n|Unit Adoption Calculations A17:K63| 46/517 values differ:\n   [1, 2]: expected 10902.63288889 vs actual 11195.716152194374\n   [2, 2]: expected 11031.6810632 vs actual 11268.346524240187\n   [3, 2]: expected 11160.50594998 vs actual 11342.729717871245\n   [4, 2]: expected 11288.3386848 vs actual 11418.6458191286\n   [5, 2]: expected 11414.18299164 vs actual 11495.874914053302\n   [6, 2]: expected 11537.32142267 vs actual 11574.1970886864\n   [7, 2]: expected 11642.11980458 vs actual 11653.392429068945\n   [8, 2]: expected 11742.87780843 vs actual 11733.241021241985\n   [9, 2]: expected 11839.8415409 vs actual 11813.522951246572\n   [10, 2]: expected 11933.22722098 vs actual 11894.018305123756\n   ....\n\n|Unit Adoption Calculations A69:K115| 46/517 values differ:\n   [1, 2]: expected 10902.63288889 vs actual 11195.716152194374\n   [2, 2]: expected 11031.6810632 vs actual 11268.346524240187\n   [3, 2]: expected 11160.50594998 vs actual 11342.729717871245\n   [4, 2]: expected 11288.3386848 vs actual 11418.6458191286\n   [5, 2]: expected 11414.18299164 vs actual 11495.874914053302\n   [6, 2]: expected 11537.32142267 vs actual 11574.1970886864\n   [7, 2]: expected 11642.11980458 vs actual 11653.392429068945\n   [8, 2]: expected 11742.87780843 vs actual 11733.241021241985\n   [9, 2]: expected 11839.8415409 vs actual 11813.522951246572\n   [10, 2]: expected 11933.22722098 vs actual 11894.018305123756\n   ....\n\n|Unit Adoption Calculations Q252:AA298| 46/517 values differ:\n   [1, 2]: expected 10902.63288889 vs actual 11195.716152194374\n   [2, 2]: expected 11031.6810632 vs actual 11268.346524240187\n   [3, 2]: expected 11160.50594998 vs actual 11342.729717871245\n   [4, 2]: expected 11288.3386848 vs actual 11418.6458191286\n   [5, 2]: expected 11414.18299164 vs actual 11495.874914053302\n   [6, 2]: expected 11537.32142267 vs actual 11574.1970886864\n   [7, 2]: expected 11642.11980458 vs actual 11653.392429068945\n   [8, 2]: expected 11742.87780843 vs actual 11733.241021241985\n   [9, 2]: expected 11839.8415409 vs actual 11813.522951246572\n   [10, 2]: expected 11933.22722098 vs actual 11894.018305123756\n   ....\n\nscenario 1: PDS2-50p2050-Navigant+GBC-50% Integrated\n|Unit Adoption Calculations A17:K63| 46/517 values differ:\n   [1, 2]: expected 10902.63288889 vs actual 11195.716152194374\n   [2, 2]: expected 11031.6810632 vs actual 11268.346524240187\n   [3, 2]: expected 11160.50594998 vs actual 11342.729717871245\n   [4, 2]: expected 11288.3386848 vs actual 11418.6458191286\n   [5, 2]: expected 11414.18299164 vs actual 11495.874914053302\n   [6, 2]: expected 11537.32142267 vs actual 11574.1970886864\n   [7, 2]: expected 11642.11980458 vs actual 11653.392429068945\n   [8, 2]: expected 11742.87780843 vs actual 11733.241021241985\n   [9, 2]: expected 11839.8415409 vs actual 11813.522951246572\n   [10, 2]: expected 11933.22722098 vs actual 11894.018305123756\n   ....\n\n|Unit Adoption Calculations A69:K115| 46/517 values differ:\n   [1, 2]: expected 10902.63288889 vs actual 11195.716152194374\n   [2, 2]: expected 11031.6810632 vs actual 11268.346524240187\n   [3, 2]: expected 11160.50594998 vs actual 11342.729717871245\n   [4, 2]: expected 11288.3386848 vs actual 11418.6458191286\n   [5, 2]: expected 11414.18299164 vs actual 11495.874914053302\n   [6, 2]: expected 11537.32142267 vs actual 11574.1970886864\n   [7, 2]: expected 11642.11980458 vs actual 11653.392429068945\n   [8, 2]: expected 11742.87780843 vs actual 11733.241021241985\n   [9, 2]: expected 11839.8415409 vs actual 11813.522951246572\n   [10, 2]: expected 11933.22722098 vs actual 11894.018305123756\n   ....\n\n|Unit Adoption Calculations Q252:AA298| 46/517 values differ:\n   [1, 2]: expected 10902.63288889 vs actual 11195.716152194374\n   [2, 2]: expected 11031.6810632 vs actual 11268.346524240187\n   [3, 2]: expected 11160.50594998 vs actual 11342.729717871245\n   [4, 2]: expected 11288.3386848 vs actual 11418.6458191286\n   [5, 2]: expected 11414.18299164 vs actual 11495.874914053302\n   [6, 2]: expected 11537.32142267 vs actual 11574.1970886864\n   [7, 2]: expected 11642.11980458 vs actual 11653.392429068945\n   [8, 2]: expected 11742.87780843 vs actual 11733.241021241985\n   [9, 2]: expected 11839.8415409 vs actual 11813.522951246572\n   [10, 2]: expected 11933.22722098 vs actual 11894.018305123756\n   ....\n\nscenario 2: PDS3-75p2050-Navigant+GBC-75% Integrated\n|Unit Adoption Calculations A17:K63| 46/517 values differ:\n   [1, 2]: expected 10902.63288889 vs actual 11195.716152194374\n   [2, 2]: expected 11031.6810632 vs actual 11268.346524240187\n   [3, 2]: expected 11160.50594998 vs actual 11342.729717871245\n   [4, 2]: expected 11288.3386848 vs actual 11418.6458191286\n   [5, 2]: expected 11414.18299164 vs actual 11495.874914053302\n   [6, 2]: expected 11537.32142267 vs actual 11574.1970886864\n   [7, 2]: expected 11642.11980458 vs actual 11653.392429068945\n   [8, 2]: expected 11742.87780843 vs actual 11733.241021241985\n   [9, 2]: expected 11839.8415409 vs actual 11813.522951246572\n   [10, 2]: expected 11933.22722098 vs actual 11894.018305123756\n   ....\n\n|Unit Adoption Calculations A69:K115| 46/517 values differ:\n   [1, 2]: expected 10902.63288889 vs actual 11195.716152194374\n   [2, 2]: expected 11031.6810632 vs actual 11268.346524240187\n   [3, 2]: expected 11160.50594998 vs actual 11342.729717871245\n   [4, 2]: expected 11288.3386848 vs actual 11418.6458191286\n   [5, 2]: expected 11414.18299164 vs actual 11495.874914053302\n   [6, 2]: expected 11537.32142267 vs actual 11574.1970886864\n   [7, 2]: expected 11642.11980458 vs actual 11653.392429068945\n   [8, 2]: expected 11742.87780843 vs actual 11733.241021241985\n   [9, 2]: expected 11839.8415409 vs actual 11813.522951246572\n   [10, 2]: expected 11933.22722098 vs actual 11894.018305123756\n   ....\n\n|Unit Adoption Calculations Q252:AA298| 46/517 values differ:\n   [1, 2]: expected 10902.63288889 vs actual 11195.716152194374\n   [2, 2]: expected 11031.6810632 vs actual 11268.346524240187\n   [3, 2]: expected 11160.50594998 vs actual 11342.729717871245\n   [4, 2]: expected 11288.3386848 vs actual 11418.6458191286\n   [5, 2]: expected 11414.18299164 vs actual 11495.874914053302\n   [6, 2]: expected 11537.32142267 vs actual 11574.1970886864\n   [7, 2]: expected 11642.11980458 vs actual 11653.392429068945\n   [8, 2]: expected 11742.87780843 vs actual 11733.241021241985\n   [9, 2]: expected 11839.8415409 vs actual 11813.522951246572\n   [10, 2]: expected 11933.22722098 vs actual 11894.018305123756\n   ....\n"
     ]
    }
   ],
   "source": [
    "import solution.smartglass.tests.test_smartglass as st\n",
    "st.test_deep_results()"
   ]
  },
  {
   "cell_type": "code",
   "execution_count": 2,
   "id": "ff08c346",
   "metadata": {
    "ExecuteTime": {
     "end_time": "2021-10-20T02:08:56.466209Z",
     "start_time": "2021-10-20T01:44:25.526368Z"
    }
   },
   "outputs": [],
   "source": [
    "# run the entire test suite\n",
    "!pytest --tb=short > ..\\testruns\\trimtests.out"
   ]
  },
  {
   "cell_type": "code",
   "execution_count": 4,
   "id": "638305ec",
   "metadata": {
    "ExecuteTime": {
     "end_time": "2021-10-22T18:28:05.725168Z",
     "start_time": "2021-10-22T18:28:05.241650Z"
    },
    "scrolled": true
   },
   "outputs": [
    {
     "name": "stdout",
     "output_type": "stream",
     "text": [
      "============================= test session starts =============================\n",
      "platform win32 -- Python 3.9.6, pytest-6.2.4, py-1.10.0, pluggy-0.13.1\n",
      "Date: 2021-10-14 12:29:04.868372\n",
      "Git: v0.22.0-14-g94ed51f3 (vmafiles)\n",
      "rootdir: C:\\Working\\solutions, configfile: tox.ini\n",
      "collected 1355 items\n",
      "============================= test session starts =============================\n",
      "platform win32 -- Python 3.9.6, pytest-6.2.4, py-1.10.0, pluggy-0.13.1\n",
      "Date: 2021-10-22 10:53:44.064362\n",
      "Git: v0.23.0-16-g77347719 (scenario)\n",
      "rootdir: C:\\Working\\solutions, configfile: tox.ini\n",
      "collected 1354 items\n",
      "================================================================================\n",
      "\n",
      "\n",
      "GOT WORSE:\n",
      "\n",
      "helpertables.py: ........................./..FF...s.FFFFF..FFF...F..\n",
      "commercialglass.py: .../.FF\n",
      "composting.py: .../..F\n",
      "recycledplastics.py: .../..F\n",
      "smartthermostats.py: .../.FF\n",
      "\n",
      "DIFFERENT:\n",
      "\n",
      "advanced_controls.py: ..............F....F......... / ...........................\n",
      "s_curve.py: ...... / .......\n",
      "residentialglass.py: FFF / .FF\n"
     ]
    }
   ],
   "source": [
    "# I keep test runs so I can do this diff.  I also add the test output to releases, so you can grab an older\n",
    "# test result to compare to.\n",
    "# (Someday, when expected_result_tester isn't our workhorse, we should just switch to a modern test result tracker.)\n",
    "\n",
    "!tools\\diff_testruns.py ..\\testruns\\v23.out ..\\testruns\\justchecking.out"
   ]
  },
  {
   "cell_type": "code",
   "execution_count": 21,
   "id": "cc70b2ca",
   "metadata": {
    "ExecuteTime": {
     "end_time": "2021-10-21T21:03:37.051396Z",
     "start_time": "2021-10-21T21:03:36.871370Z"
    }
   },
   "outputs": [
    {
     "name": "stdout",
     "output_type": "stream",
     "text": [
      "solarpvroof key\n",
      "    0: marginal_first_cost,net_operating_savings,lifetime_operating_savings\n",
      "    1: marginal_first_cost,net_operating_savings,lifetime_operating_savings\n",
      "    2: marginal_first_cost,net_operating_savings,lifetime_operating_savings\n",
      "    3: marginal_first_cost,net_operating_savings,lifetime_operating_savings\n",
      "solarpvroof deep\n",
      "    0:Helper Tables B27:L73;Unit Adoption Calculations AG199:AQ244,B252:L298,Q252:AA298,Q198:AA244,AX198:BH244,AG253:AQ298,AX252:BH298;First Cost L37:L82,N37:N82\n",
      "    1:Helper Tables B27:L73;Unit Adoption Calculations AG199:AQ244,B252:L298,Q252:AA298,Q198:AA244,AX198:BH244,AG253:AQ298,AX252:BH298;First Cost L37:L82,N37:N82\n",
      "    2:Helper Tables B27:L73;Unit Adoption Calculations AG199:AQ244,B252:L298,Q252:AA298,Q198:AA244,AX198:BH244,AG253:AQ298,AX252:BH298;First Cost L37:L82,N37:N82\n",
      "    3:Helper Tables B91:L137,B27:L73;Unit Adoption Calculations AG199:AQ244,B252:L298,Q252:AA298,Q135:AA181,AX136:BH182,AG137:AQ182,Q198:AA244,AX198:BH244\n"
     ]
    }
   ],
   "source": [
    "# another way to summarize the test data.\n",
    "\n",
    "!python -m tools.summarize_expected_result -v -m solarpvroof ../testruns/justchecking.out"
   ]
  },
  {
   "cell_type": "code",
   "execution_count": null,
   "id": "2a9c444a",
   "metadata": {
    "ExecuteTime": {
     "end_time": "2021-10-22T06:40:40.914506Z",
     "start_time": "2021-10-22T06:40:39.910853Z"
    }
   },
   "outputs": [],
   "source": [
    "foo = factory.load_scenario(\"smartthermostats\",\"PDS1-28p2050-cs Low-E12.84, F8.89 (Book Ed.1)\")"
   ]
  },
  {
   "cell_type": "markdown",
   "id": "b5b21c2e",
   "metadata": {},
   "source": [
    "# Multi Extract\n",
    "Makes a single notebook extracing the same section from a tab in lots of notebooks.  Good for comparing how different models do things.  With `copy_data=True`: show the data in the region.  With `copy_formla=True`, show the formulas in the region."
   ]
  },
  {
   "cell_type": "code",
   "execution_count": null,
   "id": "e30c354e",
   "metadata": {
    "ExecuteTime": {
     "end_time": "2021-10-18T07:16:23.103589Z",
     "start_time": "2021-10-18T07:16:23.081594Z"
    }
   },
   "outputs": [],
   "source": [
    "newmodels = list(Path(r\"..\\ModelsNew\").glob(\"*.xlsm\"))\n",
    "existingmodels = list(Path(r\"..\\ModelsExisting\").glob(\"*.xlsm\"))\n",
    "anintegration = list(Path(r\"..\\Integrations\").glob(\"ELC*.xlsx\"))\n",
    "allmodels = list(Path(r\"..\\ModelsAll\").glob(\"*.xlsm\"))\n",
    "\n",
    "nobio = sorted([ x for x in newmodels+existingmodels if 'BIOS' not in x.name ])"
   ]
  },
  {
   "cell_type": "code",
   "execution_count": null,
   "id": "66c9169c",
   "metadata": {
    "ExecuteTime": {
     "end_time": "2021-10-18T07:25:12.895813Z",
     "start_time": "2021-10-18T07:23:54.844454Z"
    },
    "collapsed": true
   },
   "outputs": [
    {
     "name": "stdout",
     "output_type": "stream",
     "text": [
      "DATA\n",
      "AirplaneFE-RRSv1.1c-June2020.xlsm\n",
      "AlternativeCements_v1.1c_IntegrationJune2020.xlsm\n",
      "BikeInfra-RRSv1.1c-7Oct2019.xlsm\n",
      "BiomassPower_RRS_ELECGEN_26June2020.xlsm\n",
      "Bioplastics-RRS-MRGJune2020Integration.xlsm\n",
      "BuildingAutomation_v1.1c_Nov2019.xlsm\n",
      "Carpool-RRSv1.1b-Jun2020.xlsm\n",
      "CleanCookstoves-PDRRSv.1.1b-24Oct2019.xlsm\n",
      "Composting-v1.1b-MRG2020Integration.xlsm\n",
      "CSP_RRS_ELECGEN_v1.1b_26Jun2020.xlsm\n",
      "District Heating_RRS_v1.1c_Oct2019.xlsm\n",
      "Drawdown_RRS-BIOSEQAgri_Model_v1.1b_Conservation_Agriculture_Aug2020.xlsm\n",
      "Drawdown_RRS-BIOSEQAgri_Model_v1.1b_TreeIntercropping_Jun2020.xlsm\n",
      "Drawdown_RRS-BIOSEQAgri_Model_v1.1_Improved Rice_Jun2020.xlsm\n",
      "Drawdown_RRS-BIOSEQAgri_Model_v1.1_Regenerative Annual Cropping_Jun2020.xlsm\n",
      "Drawdown_RRS-BIOSEQAgri_Model_v1.1_SRI_Jun2020.xlsm\n",
      "Drawdown_RRS-BIOSEQAgri_Model_v1.1_Sustainable Intensification for Smallholders_Jan2020.xlsm\n",
      "Drawdown_RRS-BIOSEQProtect_Model_v1.1b_Coastal_Wetlands(Mangroves)_Jun2020.xlsm\n",
      "Drawdown_RRS-BIOSEQProtect_Model_v1.1b_Coastal_Wetlands(Saltmarshes)_Jun2020.xlsm\n",
      "Drawdown_RRS-BIOSEQProtect_Model_v1.1b_Coastal_Wetlands(Seagrasses)_Jun2020.xlsm\n",
      "Drawdown_RRS-BIOSEQProtect_Model_v1.1b_Forest Protection_Jun2020.xlsm\n",
      "Drawdown_RRS-BIOSEQProtect_Model_v1.1b_IP Forest Mgmt_Jun2020.xlsm\n",
      "Drawdown_RRS-BIOSEQProtect_Model_v1.1b_Peatland Protection_Jun2020.xlsm\n",
      "Drawdown_RRS-BIOSEQProtect_Model_v1.1d_Grassland Protection_Jun2020.xlsm\n",
      "Drawdown_RRS-BIOSEQ_Model_v1.1b_MASTER_Managed Grazing_Jun2020.xlsm\n",
      "Drawdown_RRS-BIOSEQ_Model_v1.1b_MASTER_Perennial Staples Crops_Jun2020.xlsm\n",
      "Drawdown_RRS-BIOSEQ_Model_v1.1c_MASTER_Farm Irrigation Efficiency_Jun2019.xlsm\n",
      "Drawdown_RRS-BIOSEQ_Model_v1.1c_MASTER_Temperate Restoration_Jun2020.xlsm\n",
      "Drawdown_RRS-BIOSEQ_Model_v1.1c_MASTER_Tropical Restoration_Jun2020.xlsm\n",
      "Drawdown_RRS-BIOSEQ_Model_v1.1d_MASTER_mangrove restoration_Jun2020.xlsm\n",
      "Drawdown_RRS-BIOSEQ_Model_v1.1d_MASTER_mangrove restoration_Mar2020_reviewed_June2020.xlsm\n",
      "Drawdown_RRS-BIOSEQ_Model_v1.1d_MASTER_Multistrata Agroforestry_Jun2020.xlsm\n",
      "Drawdown_RRS-BIOSEQ_Model_v1.1d_MASTER_Peatland restoration_Jun2019.xlsm\n",
      "Drawdown_RRS-BIOSEQ_Model_v1.1d_MASTER_saltmarshes restoration_Jun2020.xlsm\n",
      "Drawdown_RRS-BIOSEQ_Model_v1.1d_MASTER_seagrasses restoration_Jun2020.xlsm\n",
      "Drawdown_RRS-BIOSEQ_Model_v1.1_MASTER_Abandoned Farmland Restoration_Jun2020.xlsm\n",
      "Drawdown_RRS-BIOSEQ_Model_v1.1_MASTER_Afforestation-Mar2020.xlsm\n",
      "Drawdown_RRS-BIOSEQ_Model_v1.1_MASTER_Bamboo Production-Jun2020.xlsm\n",
      "Drawdown_RRS-BIOSEQ_Model_v1.1_MASTER_Nutrient Management_Jun2020.xlsm\n",
      "Drawdown_RRS-BIOSEQ_Model_v1.1_MASTER_Perennial Biomass Production_Jun2020.xlsm\n",
      "Drawdown_RRS-BIOSEQ_Model_v1.1_MASTER_Silvopasture_Jun2020.xlsm\n",
      "Drawdown_RRS-BIOSEQ_Model_v1.1_MASTER_Tree Plantation (on Degraded Land)-Jun2020.xlsm\n",
      "Drawdown_RRS_Model_v1.1b_Biochar_Jun2019.xlsm\n",
      "Ebike-RRSv1.1b-9Apr20.xlsm\n",
      "EnergyEfficientRoofs_CoolRoofs-RRSv1.1b-Oct2019.xlsm\n",
      "EnergyEfficientRoofs_GreenRoofs-RRSv1.1b-Oct2019.xlsm\n",
      "EVs-Modelv1.1c-Apr2020.xlsm\n",
      "Geothermal_RRS_ELECGEN_v1.1b_26Jun2020.xlsm\n",
      "Glass_RRS_Model_Commercial-Nov19.xlsm\n",
      "Glass_RRS_Model_Residential-Nov19.xlsm\n",
      "HEHP-RRSv1.1b-Nov19.xlsm\n",
      "HighSpeedRail-RRSv1.1b-22June20.xlsm\n",
      "HybridCars-RRSv1.1b-Nov2019.xlsm\n",
      "Improve aquaculture_March2021.xlsm\n",
      "Improve Fishery_Fish biomass_March2021.xlsm\n",
      "Improve fishery_Fuel emissions_RRS Model_March2021.xlsm\n",
      "ImprovedCattleFeed_Apr2021.xlsm\n",
      "Insulation_RRSModel_v1.1d_31Oct19.xlsm\n",
      "LandfillMethane_RRS_ELECGEN_v1.1c_26June2020.xlsm\n",
      "LargeMethaneDigesters_RRS_ELECGEN_v1.1b_26June2020.xlsm\n",
      "LEDLightingCommercial-v1.1c-Oct2019.xlsm\n",
      "LEDLightingResidential-v1.1b-Oct2019.xlsm\n",
      "Macroalgae protection_Ocean Model_March2021.xlsm\n",
      "Macroalgae Restoration_Ocean Model_Mar2021.xlsm\n",
      "ManureMgtCUL_RRS_AVOIDMETH_v1.4202107.xlsm\n",
      "ManureMgtRS_RRS_AVOIDMETH_v1.420210630.xlsm\n",
      "MassTransit-RRSv1.1b-24Jun20.xlsm\n",
      "MicroWind_RRS_ELECGEN_v1.1b_26Jun2020.xlsm\n",
      "Nuclear_RRS_ELECGEN_v1.1b_26Jun2020.xlsm\n",
      "Ocean Power_RRS_ELECGEN_v1.1b_26Jun2020.xlsm\n",
      "OceanFreight-RRSv1.1b-23Jan20.xlsm\n",
      "Oil and gas methane management model_RRS_v2_24July2021.xlsm\n",
      "RecycledMetals_RRS_v1_2021.xlsm\n",
      "RecycledPlastics_RRS_Model_v1.1d.xlsm\n",
      "Recycled_Paper-RRS-MRG2020Integration.xlsm\n",
      "Recycling-HH&C-v1.1b-MRG2020_PostIntegration.xlsm\n",
      "RRS_HFCReplacement Model_June2020Integration.xlsm\n",
      "RRS_RefrigerantManagementModel_June2020Integration.xlsm\n",
      "Seafloor_Protection_March2021.xlsm\n",
      "Seaweed_Farming-FINAL_for_review_March2021.xlsm\n",
      "SmallBiogas_RRS_Model_v1.1b_Oct2019.xlsm\n",
      "SmallHydro_RRS_ELECGEN_v1.1b_26Jun2020.xlsm\n",
      "SmartGlass_RRSv1.1c_Mar19.xlsm\n",
      "SmartThermostats-RRSv1.1b-Oct2019.xlsm\n",
      "SolarHotWater-RRSv1.1c-Jan2020.xlsm\n",
      "SolarPVDistributed_RRS_ELECGEN_v1.1b_26Jun2020.xlsm\n",
      "SolarPVUtility_RRS_ELECGEN_v1.1b_26Jun2020.xlsm\n",
      "Sustainable Clothing-RRS.IP-0121MRG_2021.xlsm\n",
      "Telepresence_RRS_Model_v1.1b_June20.xlsm\n",
      "TrainFE-RRSv1.1b_22Juni20.xlsm\n",
      "TruckFuelEfficiency-RRS-v1.1c-June2020.xlsm\n",
      "WalkableCities-RRSv1.1b-10Oct19.xlsm\n",
      "WastetoEnergy_RRS_ELECGEN_v1.1b_26June2020.xlsm\n",
      "Water_Savings-HH-v1.1b_Nov2019.xlsm\n",
      "WDE_Model_v1.1b-IntegrationJune2020.xlsm\n",
      "WindOffshore_RRS_ELECGEN_v1.1b_26Jun2020.xlsm\n",
      "WindOnshore_RRS_ELECGEN_v1.1b_26Jun2020.xlsm\n"
     ]
    }
   ],
   "source": [
    "page = \"Helper Tables\"\n",
    "region = \"B20:B22\"\n",
    "\n",
    "wb = mex.sample_regions(allmodels, page, region, copy_formula=False)"
   ]
  },
  {
   "cell_type": "code",
   "execution_count": null,
   "id": "a04274d5",
   "metadata": {
    "ExecuteTime": {
     "end_time": "2021-10-18T07:25:21.699888Z",
     "start_time": "2021-10-18T07:25:21.672720Z"
    },
    "scrolled": true
   },
   "outputs": [],
   "source": [
    "wb.save(r'..\\Samples\\ht_baseyear.xlsx')\n",
    "wb.close()"
   ]
  },
  {
   "cell_type": "markdown",
   "id": "93eea824",
   "metadata": {},
   "source": [
    "# Ghost Maker\n",
    "Make a spreadsheet from an expected.zip file (data only, no formulas).  Useful to see exactly what the tests see."
   ]
  },
  {
   "cell_type": "code",
   "execution_count": null,
   "id": "4219678b",
   "metadata": {
    "ExecuteTime": {
     "end_time": "2021-10-21T05:46:15.527127Z",
     "start_time": "2021-10-21T05:46:11.952062Z"
    }
   },
   "outputs": [],
   "source": [
    "zf = ghost.locate_expected_zip('electricvehicles')\n",
    "gh = ghost.create_ghost(zf, 0)    # zero-based scenario number"
   ]
  },
  {
   "cell_type": "code",
   "execution_count": null,
   "id": "18c4870b",
   "metadata": {
    "ExecuteTime": {
     "end_time": "2021-10-21T05:46:26.589096Z",
     "start_time": "2021-10-21T05:46:22.495993Z"
    }
   },
   "outputs": [],
   "source": [
    "gh.save(r'..\\Ghosts\\evs0.xlsx')\n",
    "gh.close()"
   ]
  },
  {
   "cell_type": "markdown",
   "id": "f1252148",
   "metadata": {},
   "source": [
    "# Programatic Solution Editing\n",
    "If you have to edit all the solution files, it can be lots easier to do it this way..."
   ]
  },
  {
   "cell_type": "code",
   "execution_count": 3,
   "id": "3f3fa199",
   "metadata": {
    "ExecuteTime": {
     "end_time": "2021-10-20T21:48:48.944985Z",
     "start_time": "2021-10-20T21:48:48.914074Z"
    }
   },
   "outputs": [],
   "source": [
    "def count_indent(str):\n",
    "    return len(str) - len(str.lstrip())\n",
    "\n",
    "def next_empty_line(lines, i):\n",
    "    for j in range(i+1,len(lines)):\n",
    "        if lines[j].strip() == \"\":\n",
    "            return j\n",
    "    raise ValueError(\"not found\")\n",
    "        \n",
    "def next_line_at_indent(lines, i):\n",
    "    indent = count_indent(lines[i])\n",
    "    for j in range(i+1,len(lines)):\n",
    "        if count_indent(lines[j]) == indent:\n",
    "            return j\n",
    "    raise ValueError(\"not found\")\n",
    "\n",
    "def line_containing(lines, val, start=0):\n",
    "    for i in range(start, len(lines)):\n",
    "        if val in lines[i]:\n",
    "            return i\n",
    "    raise ValueError(\"not found\")\n",
    "\n",
    "def match_indent(otherline, newcontent):\n",
    "    indent = count_indent(otherline)\n",
    "    newlines = [ \" \"*indent + x for x in newcontent.splitlines() ]\n",
    "    return \"\\n\".join(newlines)\n",
    "\n",
    "def insert_lines(lines, i, newlines):\n",
    "    return lines[:i] + newlines.splitlines() + lines[i:]\n",
    "\n",
    "def delete_lines(lines, i, j):\n",
    "    return lines[:i] + lines[j:]\n",
    "\n",
    "def comment_around_block(lines, i, j):\n",
    "    cmt1 = [match_indent(lines[i], \"# #BEGIN COMMENT BLOCK\")]\n",
    "    cmt2 = [match_indent(lines[i], \"# #END COMMENT BLOCK\")]\n",
    "    return lines[:i] + cmt1  + lines[i:j] + cmt2 + lines[j:]\n",
    "\n",
    "def comment_out_block(lines, i, j):\n",
    "    lines = lines[:i] + [ match_indent(lines[i], '#' + txt.lstrip()) for txt in lines[i:j] ] + lines[j:]\n",
    "    return comment_around_block(lines, i, j)\n"
   ]
  },
  {
   "cell_type": "code",
   "execution_count": 12,
   "id": "adbe6d52",
   "metadata": {
    "ExecuteTime": {
     "end_time": "2021-10-14T19:11:41.289147Z",
     "start_time": "2021-10-14T19:11:41.263157Z"
    }
   },
   "outputs": [],
   "source": [
    "\n",
    "def update_tam_1(sf):\n",
    "    filetext = sf.read_text(encoding='utf-8')\n",
    "    if \"_ref_tam_sources\" in filetext:\n",
    "        lines = filetext.splitlines()\n",
    "        refline = line_containing(lines, \"_ref_tam_sources\")\n",
    "        if \"rrs\" in lines[refline]:\n",
    "            lines[refline] = match_indent(lines[refline], \n",
    "                    \"_ref_tam_sources = scenario.load_and_root(DATADIR/'energy'/'ref_tam_2_sources.json','*')\")\n",
    "            lines[refline+1] = match_indent(lines[refline], \n",
    "                    \"_pds_tam_sources = scenario.load_and_root(DATADIR/'energy'/'pds_tam_2_sources.json','*')\")\n",
    "            sf.write_text(\"\\n\".join(lines), encoding='utf-8')\n",
    "\n",
    "def update_adoption(sf):\n",
    "    filetext = sf.read_text(encoding='utf-8')\n",
    "    lines = filetext.splitlines()\n",
    "    sourceline = line_containing(lines, \"__init__\")-1\n",
    "    # for these we check by looking for the directory, rather than in the code\n",
    "    if (sf.parent/'ad').is_dir():\n",
    "        newtext = \"    _pds_ad_sources = scenario.load_sources(THISDIR/'ad'/'ad_sources.json', '*')\"\n",
    "        lines = insert_lines(lines, sourceline, newtext)\n",
    "        start = line_containing(lines, \"adconfig_list\")    \n",
    "        end = line_containing(lines, \"adconfig=adconfig\") + 1\n",
    "        lines = comment_around_block(lines, start, end)\n",
    "    \n",
    "    if (sf.parent/'ca_pds_data').is_dir():\n",
    "        newtext = \"    _pds_ca_sources = scenario.load_sources(THISDIR/'ca_pds_data'/'ca_pds_sources.json', 'filename')\"\n",
    "        lines = insert_lines(lines, sourceline, newtext)\n",
    "        start = line_containing(lines,\"ca_pds_data_sources\")\n",
    "        end = next_empty_line(lines, start)\n",
    "        lines = comment_around_block(lines, start,end)\n",
    "    \n",
    "    if (sf.parent/'ca_ref_data').is_dir():\n",
    "        newtext = \"    _ref_ca_sources = scenario.load_sources(THISDIR/'ca_ref_data'/'ca_ref_sources.json', 'filename')\"\n",
    "        lines = insert_lines(lines, sourceline, newtext)\n",
    "        start = line_containing(lines,\" # Custom REF Data\")\n",
    "        end = next_empty_line(lines, start)\n",
    "        lines = comment_around_block(lines, start,end)\n",
    "\n",
    "    outputline = line_containing(lines,\"if False\")-2\n",
    "    lines = insert_lines(lines, outputline, \"        self.initialize_adoption_bases()\")\n",
    "    sf.write_text(\"\\n\".join(lines), encoding='utf-8')\n",
    "\n",
    "def move_jsons_into_init(sf):\n",
    "    filetext = sf.read_text(encoding='utf-8')\n",
    "    lines = filetext.splitlines()\n",
    "    try:\n",
    "        startline = line_containing(lines, \"module_name = THISDIR.stem\")+1\n",
    "        endline = line_containing(lines, \"__init__(\")-1\n",
    "        movelines = lines[startline:endline]\n",
    "        del( lines[startline:endline] )\n",
    "\n",
    "        insertpoint = line_containing(lines, \"__init__(\")+1\n",
    "        indent = count_indent(lines[insertpoint-1]) + 4\n",
    "        # strip out empty lines\n",
    "        movelines = [ line for line in movelines if len(line.strip()) ]\n",
    "        movelines = [\"\"] + [ \" \"*indent + \"self.\" + line.lstrip() for line in movelines ] + [\"\"]\n",
    "        lines[insertpoint:insertpoint] = movelines\n",
    "        sf.write_text(\"\\n\".join(lines), encoding='utf-8')\n",
    "    except:\n",
    "        print(f\"skipping {sf}\")\n",
    "\n",
    "def replace_vma_struct(sf):\n",
    "    filetext = sf.read_text(encoding='utf-8')\n",
    "    lines = filetext.splitlines()\n",
    "    startline = line_containing(lines, \"VMAs =\")\n",
    "    endline = line_containing(lines, \"vma.populate_fixed_summaries\")\n",
    "    lines[startline:endline+1] = [\"VMAs = vma.VMA.load_vma_directory(THISDIR/'vma_data/vma_sources.json')\"]\n",
    "    sf.write_text(\"\\n\".join(lines), encoding='utf-8')"
   ]
  },
  {
   "cell_type": "code",
   "execution_count": 13,
   "id": "9423fd81",
   "metadata": {
    "ExecuteTime": {
     "end_time": "2021-10-14T19:11:57.868843Z",
     "start_time": "2021-10-14T19:11:57.859823Z"
    }
   },
   "outputs": [],
   "source": [
    "solution_dir = Path(\"solution\")\n",
    "def edit_all():\n",
    "    solution_init_files = solution_dir.glob('*/__init__.py')\n",
    "    for sf in solution_init_files:\n",
    "        replace_vma_struct(sf)\n"
   ]
  },
  {
   "cell_type": "code",
   "execution_count": 14,
   "id": "2ccedce2",
   "metadata": {
    "ExecuteTime": {
     "end_time": "2021-10-14T19:12:28.169430Z",
     "start_time": "2021-10-14T19:12:28.097395Z"
    }
   },
   "outputs": [],
   "source": [
    "edit_all()"
   ]
  },
  {
   "cell_type": "code",
   "execution_count": 9,
   "id": "75165b90",
   "metadata": {
    "ExecuteTime": {
     "end_time": "2021-10-20T21:54:58.003381Z",
     "start_time": "2021-10-20T21:54:57.987720Z"
    }
   },
   "outputs": [],
   "source": [
    "def delete_pds_base_adoption(sf):\n",
    "    filetext = sf.read_text(encoding='utf-8')\n",
    "    if \"pds_base_adoption\" not in filetext:\n",
    "        return\n",
    "    lines = filetext.splitlines()\n",
    "    startline = line_containing(lines, \"pds_base_adoption\")\n",
    "    endline = line_containing(lines, \"soln_pds_adoption_basis\")\n",
    "    del( lines[startline:endline] )\n",
    "    sf.write_text(\"\\n\".join(lines), encoding='utf-8')"
   ]
  },
  {
   "cell_type": "code",
   "execution_count": 10,
   "id": "dcc8e973",
   "metadata": {
    "ExecuteTime": {
     "end_time": "2021-10-20T21:55:04.832172Z",
     "start_time": "2021-10-20T21:55:04.814512Z"
    }
   },
   "outputs": [],
   "source": [
    "# Try it out once\n",
    "delete_pds_base_adoption( Path(r'solution\\coolroofs\\ac\\PDS1-61p2050-Integrated-EE872%-FE-281%_Book.json'))"
   ]
  },
  {
   "cell_type": "code",
   "execution_count": 11,
   "id": "0cba7cc6",
   "metadata": {
    "ExecuteTime": {
     "end_time": "2021-10-20T21:56:27.805871Z",
     "start_time": "2021-10-20T21:56:27.521849Z"
    }
   },
   "outputs": [],
   "source": [
    "# Then for real\n",
    "for sf in Path(\"solution\").glob(\"*/ac/*.json\"):\n",
    "    delete_pds_base_adoption(sf)"
   ]
  },
  {
   "cell_type": "markdown",
   "id": "4af8eb94",
   "metadata": {},
   "source": [
    "\n",
    "# Open Season\n",
    "Marks the end of the prepared contents."
   ]
  },
  {
   "cell_type": "code",
   "execution_count": 2,
   "id": "9bb52724",
   "metadata": {
    "ExecuteTime": {
     "end_time": "2021-10-23T04:22:43.839139Z",
     "start_time": "2021-10-23T04:22:42.737590Z"
    }
   },
   "outputs": [],
   "source": [
    "foo = factory.load_scenario(\"smartthermostats\",\"PDS3\")"
   ]
  },
  {
   "cell_type": "code",
   "execution_count": 5,
   "id": "f5b11fb7",
   "metadata": {
    "ExecuteTime": {
     "end_time": "2021-10-23T21:07:25.036535Z",
     "start_time": "2021-10-23T21:07:24.864131Z"
    }
   },
   "outputs": [],
   "source": [
    "for f in Path(\"solution\").glob(\"*/vma_data/VMA_info.csv\"):\n",
    "    f.unlink()"
   ]
  },
  {
   "cell_type": "code",
   "execution_count": null,
   "id": "e371a01f",
   "metadata": {},
   "outputs": [],
   "source": []
  }
 ],
 "metadata": {
  "interpreter": {
   "hash": "641170e26b916086f6ab8a8498639d254e86adadac2c3bbb49fa49caa88ce61e"
  },
  "kernelspec": {
   "display_name": "Python 3 (ipykernel)",
   "language": "python",
   "name": "python3"
  },
  "language_info": {
   "codemirror_mode": {
    "name": "ipython",
    "version": 3
   },
   "file_extension": ".py",
   "mimetype": "text/x-python",
   "name": "python",
   "nbconvert_exporter": "python",
   "pygments_lexer": "ipython3",
   "version": "3.9.7"
  }
 },
 "nbformat": 4,
 "nbformat_minor": 5
}

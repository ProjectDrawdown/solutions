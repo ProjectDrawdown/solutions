{
 "cells": [
  {
   "cell_type": "markdown",
   "id": "d96fa055",
   "metadata": {},
   "source": [
    "# Scenarios and key results"
   ]
  },
  {
   "cell_type": "markdown",
   "id": "bd0fd28b",
   "metadata": {},
   "source": [
    "Each Reduction and Replacement Solution (RRS) produces five key results:\n",
    "1. Implementation Unit Adoption Increase in 2050 (PDS vs REF)\n",
    "2. Functional Unit Adoption Increase in 2050 (PDS vs REF)\n",
    "3. Marginal First Cost 2015-2050\n",
    "4. Net Operating Savings 2020-2050\n",
    "5. Lifetime Operating Savings 2020-2050\n",
    "6. Total Emissions Reduction\n",
    "\n",
    "The first two are adoption results, the following three are financial and the last one is an emission result. Before we can get the key results, we need to produce a specific scenario of a solution."
   ]
  },
  {
   "cell_type": "code",
   "execution_count": 1,
   "id": "70785e50",
   "metadata": {},
   "outputs": [],
   "source": [
    "from solution import factory\n",
    "import pandas as pd\n",
    "pds1 = factory.load_scenario(\"bikeinfrastructure\", \"PDS1\")"
   ]
  },
  {
   "cell_type": "markdown",
   "id": "bd21f4a0",
   "metadata": {},
   "source": [
    "Now that we have our scenario, we can generate the key results."
   ]
  },
  {
   "cell_type": "code",
   "execution_count": 2,
   "id": "aa3bb6da",
   "metadata": {},
   "outputs": [
    {
     "data": {
      "text/plain": [
       "{'implementation_unit_adoption_increase': 242777.14688276115,\n",
       " 'functional_unit_adoption_increase': 1254.2601831584388,\n",
       " 'marginal_first_cost': -2358.757905490336,\n",
       " 'net_operating_savings': 415.40118026217056,\n",
       " 'lifetime_operating_savings': 741.9571034347329,\n",
       " 'cumulative_emissions_reduced': 2.3034768858097836}"
      ]
     },
     "execution_count": 2,
     "metadata": {},
     "output_type": "execute_result"
    }
   ],
   "source": [
    "pds1.get_key_results()"
   ]
  },
  {
   "cell_type": "markdown",
   "id": "2ab0cff3",
   "metadata": {},
   "source": [
    "`get_key_results()` returns a dictionary. Of all six key results. We can also access each result individually."
   ]
  },
  {
   "cell_type": "code",
   "execution_count": 3,
   "id": "523f5cdd",
   "metadata": {},
   "outputs": [
    {
     "data": {
      "text/plain": [
       "[242777.14688276115,\n",
       " 1254.2601831584388,\n",
       " 2358.757905490336,\n",
       " 415.40118026217056,\n",
       " 741.9571034347329,\n",
       " 2.3034768858097836]"
      ]
     },
     "execution_count": 3,
     "metadata": {},
     "output_type": "execute_result"
    }
   ],
   "source": [
    "[pds1.implementation_unit_adoption_increase(),\n",
    "pds1.functional_unit_adoption_increase(),\n",
    "pds1.marginal_first_cost(),\n",
    "pds1.net_operating_savings(),\n",
    "pds1.lifetime_operating_savings(),\n",
    "pds1.cumulative_emissions_reduced()]"
   ]
  },
  {
   "cell_type": "markdown",
   "id": "03ae538d",
   "metadata": {},
   "source": [
    "While `lifetime_operating_savings` is calculated for the entire scenario lifetime, other key results are calculated for a specific final year or for an interval. Intervals always start in 2020 but we can specify the final year. In the original excel sheets the default year is 2050 and so it is in the Python port."
   ]
  },
  {
   "cell_type": "code",
   "execution_count": 4,
   "id": "8b07f6f7",
   "metadata": {},
   "outputs": [
    {
     "data": {
      "text/plain": [
       "{'implementation_unit_adoption_increase': 242777.14688276115,\n",
       " 'functional_unit_adoption_increase': 1254.2601831584388,\n",
       " 'marginal_first_cost': 2358.757905490336,\n",
       " 'net_operating_savings': 415.40118026217056,\n",
       " 'lifetime_operating_savings': 741.9571034347329,\n",
       " 'cumulative_emissions_reduced': 2.3034768858097836}"
      ]
     },
     "execution_count": 4,
     "metadata": {},
     "output_type": "execute_result"
    }
   ],
   "source": [
    "pds1.get_key_results(year=2050)"
   ]
  },
  {
   "cell_type": "markdown",
   "id": "7b9bf497",
   "metadata": {},
   "source": [
    "Compare to:"
   ]
  },
  {
   "cell_type": "code",
   "execution_count": 5,
   "id": "8523ad41",
   "metadata": {},
   "outputs": [
    {
     "data": {
      "text/plain": [
       "{'implementation_unit_adoption_increase': 221737.86679763015,\n",
       " 'functional_unit_adoption_increase': 1145.564897659259,\n",
       " 'marginal_first_cost': 2154.345880454912,\n",
       " 'net_operating_savings': 234.309027914764,\n",
       " 'lifetime_operating_savings': 741.9571034347329,\n",
       " 'cumulative_emissions_reduced': 1.309142675006755}"
      ]
     },
     "execution_count": 5,
     "metadata": {},
     "output_type": "execute_result"
    }
   ],
   "source": [
    "pds1.get_key_results(year=2040)"
   ]
  },
  {
   "cell_type": "markdown",
   "id": "4bba04f7",
   "metadata": {},
   "source": [
    "This also works for the individual solutions, except for `lifetime_operating_savings`."
   ]
  },
  {
   "cell_type": "code",
   "execution_count": 6,
   "id": "9caeb538",
   "metadata": {},
   "outputs": [
    {
     "data": {
      "text/plain": [
       "[242777.14688276115,\n",
       " 1254.2601831584388,\n",
       " 2358.757905490336,\n",
       " 415.40118026217056,\n",
       " 741.9571034347329,\n",
       " 2.3034768858097836]"
      ]
     },
     "execution_count": 6,
     "metadata": {},
     "output_type": "execute_result"
    }
   ],
   "source": [
    "year=2050\n",
    "[pds1.implementation_unit_adoption_increase(year),\n",
    "pds1.functional_unit_adoption_increase(year),\n",
    "pds1.marginal_first_cost(year),\n",
    "pds1.net_operating_savings(year),\n",
    "pds1.lifetime_operating_savings(),\n",
    "pds1.cumulative_emissions_reduced(year)]"
   ]
  },
  {
   "cell_type": "code",
   "execution_count": 7,
   "id": "8f1e563b",
   "metadata": {},
   "outputs": [
    {
     "data": {
      "text/plain": [
       "[221737.86679763015,\n",
       " 1145.564897659259,\n",
       " 2154.345880454912,\n",
       " 234.309027914764,\n",
       " 741.9571034347329,\n",
       " 1.309142675006755]"
      ]
     },
     "execution_count": 7,
     "metadata": {},
     "output_type": "execute_result"
    }
   ],
   "source": [
    "year=2040\n",
    "[pds1.implementation_unit_adoption_increase(year),\n",
    "pds1.functional_unit_adoption_increase(year),\n",
    "pds1.marginal_first_cost(year),\n",
    "pds1.net_operating_savings(year),\n",
    "pds1.lifetime_operating_savings(),\n",
    "pds1.cumulative_emissions_reduced(year)]"
   ]
  },
  {
   "cell_type": "markdown",
   "id": "afb7e127",
   "metadata": {},
   "source": [
    "Finally, by default all key results are calculated for the `'World'` region."
   ]
  },
  {
   "cell_type": "markdown",
   "id": "a9b7f3d3",
   "metadata": {},
   "source": [
    "### Testing key results"
   ]
  },
  {
   "cell_type": "markdown",
   "id": "b60b1d59",
   "metadata": {},
   "source": [
    "Tests for key results are part of the normal test suite."
   ]
  },
  {
   "cell_type": "code",
   "execution_count": 19,
   "id": "df07c145",
   "metadata": {},
   "outputs": [
    {
     "name": "stdout",
     "output_type": "stream",
     "text": [
      "============================= test session starts =============================\n",
      "platform win32 -- Python 3.9.6, pytest-6.2.4, py-1.10.0, pluggy-0.13.1\n",
      "Git: v0.18.0-21-g742940ff ()\n",
      "rootdir: C:\\Users\\Daniel\\repos\\solutions, configfile: tox.ini\n",
      "collected 2 items\n",
      "\n",
      "solution\\bikeinfrastructure\\tests\\test_bikeinfrastructure.py .F          [100%]\n",
      "\n",
      "================================== FAILURES ===================================\n",
      "_______________________ test_bikeinfrastructure_results _______________________\n",
      "\n",
      "scenario_skip = None, test_skip = None, test_only = None\n",
      "\n",
      "    @pytest.mark.slow\n",
      "    def test_bikeinfrastructure_results(scenario_skip=None, test_skip=None, test_only=None):\n",
      "        \"\"\"Test computed results against stored Excel results\"\"\"\n",
      "        scenario_skip = scenario_skip or SCENARIO_SKIP\n",
      "        test_skip = test_skip or TEST_SKIP\n",
      ">       expected_result_tester.one_solution_tester(\n",
      "            solution_name,\n",
      "            expected_file, is_land=False,\n",
      "            scenario_skip=scenario_skip, test_skip=test_skip, test_only=test_only)\n",
      "\n",
      "solution\\bikeinfrastructure\\tests\\test_bikeinfrastructure.py:31: \n",
      "_ _ _ _ _ _ _ _ _ _ _ _ _ _ _ _ _ _ _ _ _ _ _ _ _ _ _ _ _ _ _ _ _ _ _ _ _ _ _ _\n",
      "tools\\expected_result_tester.py:1078: in one_solution_tester\n",
      "    key_results_tester(\n",
      "_ _ _ _ _ _ _ _ _ _ _ _ _ _ _ _ _ _ _ _ _ _ _ _ _ _ _ _ _ _ _ _ _ _ _ _ _ _ _ _\n",
      "\n",
      "solution_name = 'bikeinfrastructure'\n",
      "expected_filename = WindowsPath('C:/Users/Daniel/repos/solutions/solution/bikeinfrastructure/tests/expected.zip')\n",
      "is_land = False, scenario_skip = None\n",
      "\n",
      "    def key_results_tester(solution_name, expected_filename, is_land=False,\n",
      "                           scenario_skip=None):\n",
      "        importname = 'solution.' + solution_name\n",
      "        m = importlib.import_module(importname)\n",
      "        with zipfile.ZipFile(expected_filename) as zf:\n",
      "            for (i, scenario_name) in enumerate(m.scenarios.keys()):\n",
      "                if scenario_skip and i in scenario_skip:\n",
      "                    if _verbosity >= 1: print(f\"**** Skipped scenario {i} '{scenario_name}'\")\n",
      "                    continue\n",
      "                if _verbosity >= 1: print(f\"Checking scenario {i}: {scenario_name}\")\n",
      "    \n",
      "                obj = m.Scenario(scenario=scenario_name)\n",
      "                ac_file = zf.open(scenario_name + \"/\" + 'Advanced Controls')\n",
      "                df_expected = pd.read_csv(ac_file, header=None, na_values=['#REF!', '#DIV/0!', '#VALUE!', '(N/A)'])\n",
      "                key_results = obj.key_results()\n",
      "    \n",
      "                desired_precision = 7\n",
      "                aae = np.testing.assert_almost_equal\n",
      "                if is_land:\n",
      "                    aae(key_results['adoption_unit_increase'], float(df_expected.loc[3, 0]), decimal=desired_precision)\n",
      "                    aae(key_results['marginal_first_cost'], float(df_expected.loc[3, 1]), decimal=desired_precision)\n",
      "                    aae(key_results['net_operating_savings'], float(df_expected.loc[3, 2]), decimal=desired_precision)\n",
      "                    aae(key_results['lifetime_operating_savings'], float(df_expected.loc[3, 3]), decimal=desired_precision)\n",
      "                    aae(key_results['cumulative_emissions_reduced'], float(df_expected.loc[3, 4]), decimal=desired_precision)\n",
      "                    aae(key_results['total_additional_co2eq_sequestered'], float(df_expected.loc[3, 5]), decimal=desired_precision)\n",
      "                else:\n",
      ">                   aae(key_results['implementation_unit_adoption_increase'], float(df_expected.loc[3, 0]), decimal=desired_precision)\n"
     ]
    },
    {
     "name": "stderr",
     "output_type": "stream",
     "text": [
      "error: unknown option `show-current'\n",
      "usage: git branch [<options>] [-r | -a] [--merged | --no-merged]\n",
      "   or: git branch [<options>] [-l] [-f] <branch-name> [<start-point>]\n",
      "   or: git branch [<options>] [-r] (-d | -D) <branch-name>...\n",
      "   or: git branch [<options>] (-m | -M) [<old-branch>] <new-branch>\n",
      "   or: git branch [<options>] (-c | -C) [<old-branch>] <new-branch>\n",
      "   or: git branch [<options>] [-r | -a] [--points-at]\n",
      "   or: git branch [<options>] [-r | -a] [--format]\n",
      "\n",
      "Generic options\n",
      "    -v, --verbose         show hash and subject, give twice for upstream branch\n",
      "    -q, --quiet           suppress informational messages\n",
      "    -t, --track           set up tracking mode (see git-pull(1))\n",
      "    -u, --set-upstream-to <upstream>\n",
      "                          change the upstream info\n",
      "    --unset-upstream      Unset the upstream info\n",
      "    --color[=<when>]      use colored output\n",
      "    -r, --remotes         act on remote-tracking branches\n",
      "    --contains <commit>   print only branches that contain the commit\n",
      "    --no-contains <commit>\n",
      "                          print only branches that don't contain the commit\n",
      "    --abbrev[=<n>]        use <n> digits to display SHA-1s\n",
      "\n",
      "Specific git-branch actions:\n",
      "    -a, --all             list both remote-tracking and local branches\n",
      "    -d, --delete          delete fully merged branch\n",
      "    -D                    delete branch (even if not merged)\n",
      "    -m, --move            move/rename a branch and its reflog\n",
      "    -M                    move/rename a branch, even if target exists\n",
      "    -c, --copy            copy a branch and its reflog\n",
      "    -C                    copy a branch, even if target exists\n",
      "    --list                list branch names\n",
      "    -l, --create-reflog   create the branch's reflog\n",
      "    --edit-description    edit the description for the branch\n",
      "    -f, --force           force creation, move/rename, deletion\n",
      "    --merged <commit>     print only branches that are merged\n",
      "    --no-merged <commit>  print only branches that are not merged\n",
      "    --column[=<style>]    list branches in columns\n",
      "    --sort <key>          field name to sort on\n",
      "    --points-at <object>  print only branches of the object\n",
      "    -i, --ignore-case     sorting and filtering are case insensitive\n",
      "    --format <format>     format to use for the output\n",
      "\n"
     ]
    },
    {
     "name": "stdout",
     "output_type": "stream",
     "text": [
      "E                   AssertionError: \n",
      "E                   Arrays are not almost equal to 7 decimals\n",
      "E                    ACTUAL: 740866.6815093013\n",
      "E                    DESIRED: 990094.3340728863\n",
      "\n",
      "tools\\expected_result_tester.py:1051: AssertionError\n",
      "---------------------------- Captured stdout call -----------------------------\n",
      "Checking scenario 0: PDS1-5p2050-Based on ITDP/UCD (Book Ed.1)\n",
      "Checking scenario 0: PDS1-5p2050-Based on ITDP/UCD (Book Ed.1)\n",
      "Checking scenario 1: PDS2-8p2050-Based on Several Sources (Book Ed.1)\n",
      "============================== warnings summary ===============================\n",
      "solution/bikeinfrastructure/tests/test_bikeinfrastructure.py::test_bikeinfrastructure_loader\n",
      "  C:\\Users\\Daniel\\anaconda3\\envs\\pd-dev\\lib\\site-packages\\fair\\RCPs\\rcp3pd.py:4: DeprecationWarning: name rcp3pd will be deprecated in FaIR 2.0. Please use rcp26.\n",
      "    warnings.warn('name rcp3pd will be deprecated in FaIR 2.0. Please use rcp26.',\n",
      "\n",
      "solution/bikeinfrastructure/tests/test_bikeinfrastructure.py::test_bikeinfrastructure_loader\n",
      "  C:\\Users\\Daniel\\anaconda3\\envs\\pd-dev\\lib\\site-packages\\fair\\RCPs\\rcp6.py:4: DeprecationWarning: name rcp6 will be deprecated in FaIR 2.0. Please use rcp60.\n",
      "    warnings.warn('name rcp6 will be deprecated in FaIR 2.0. Please use rcp60.',\n",
      "\n",
      "-- Docs: https://docs.pytest.org/en/stable/warnings.html\n",
      "=========================== short test summary info ===========================\n",
      "FAILED solution/bikeinfrastructure/tests/test_bikeinfrastructure.py::test_bikeinfrastructure_results\n",
      "=================== 1 failed, 1 passed, 2 warnings in 6.20s ===================\n"
     ]
    }
   ],
   "source": [
    "from pathlib import Path\n",
    "\n",
    "outdir = Path(r\"C:\\Users\\Daniel\\repos\\solutions\\solution\\bikeinfrastructure\")\n",
    "!python -m pytest $outdir"
   ]
  },
  {
   "cell_type": "markdown",
   "id": "6fc688bc",
   "metadata": {},
   "source": [
    "### Key results of ocean solutions"
   ]
  },
  {
   "cell_type": "code",
   "execution_count": 20,
   "id": "1ae20fb0",
   "metadata": {},
   "outputs": [],
   "source": [
    "from solution.macroalgaerestoration.macroalgaerestoration_solution import MacroalgaeRestorationSolution\n",
    "ocean_solution = MacroalgaeRestorationSolution()\n",
    "ocean_scenario = ocean_solution.load_scenario('PDS-16p2050-Optimum 20August2021')"
   ]
  },
  {
   "cell_type": "code",
   "execution_count": 21,
   "id": "bf00cad5",
   "metadata": {},
   "outputs": [
    {
     "data": {
      "text/plain": [
       "{'adoption_unit_increase': 33.6121482,\n",
       " 'marginal_first_cost': 0.0,\n",
       " 'net_operating_savings': 0.0,\n",
       " 'lifetime_operating_savings': -0.0,\n",
       " 'cumulative_emissions_reduced': 0.0,\n",
       " 'total_additional_co2eq_sequestered': 1.9520282336399952}"
      ]
     },
     "execution_count": 21,
     "metadata": {},
     "output_type": "execute_result"
    }
   ],
   "source": [
    "ocean_solution.get_key_results()"
   ]
  },
  {
   "cell_type": "code",
   "execution_count": null,
   "id": "afbf5d6d",
   "metadata": {},
   "outputs": [],
   "source": []
  }
 ],
 "metadata": {
  "interpreter": {
   "hash": "641170e26b916086f6ab8a8498639d254e86adadac2c3bbb49fa49caa88ce61e"
  },
  "kernelspec": {
   "display_name": "Python 3 (ipykernel)",
   "language": "python",
   "name": "python3"
  },
  "language_info": {
   "codemirror_mode": {
    "name": "ipython",
    "version": 3
   },
   "file_extension": ".py",
   "mimetype": "text/x-python",
   "name": "python",
   "nbconvert_exporter": "python",
   "pygments_lexer": "ipython3",
   "version": "3.9.6"
  }
 },
 "nbformat": 4,
 "nbformat_minor": 5
}

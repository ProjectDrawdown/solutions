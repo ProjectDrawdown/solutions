{
 "cells": [
  {
   "cell_type": "markdown",
   "id": "3555e31a",
   "metadata": {},
   "source": [
    "# Welcome\n",
    "Solution Extraction is a process by which we take a Project Drawdown Solution, in the form of an Excel Workbook, and create a corresponding python solution that implements _most_ of the same functionality.  This notebook will guide you through that process.  See also `Extraction_Guide.md` for more explanation and notes.\n",
    "\n",
    "The first step is _make a copy of this notebook_.  Give it a name that represents the model you will be working on.  That way it won't collide with other notebooks when you check in or merge fixes.\n",
    "\n",
    "## Setup\n"
   ]
  },
  {
   "cell_type": "code",
   "execution_count": 1,
   "id": "dae3727f",
   "metadata": {},
   "outputs": [],
   "source": [
    "from tools import solution_xls_extract as sxe\n",
    "from tools import create_expected_zip as cez\n",
    "from tools import expected_ghost\n",
    "from tests import test_excel_integration as tei\n",
    "from solution import factory\n",
    "from pathlib import Path\n",
    "import pandas as pd\n",
    "import openpyxl\n",
    "import importlib"
   ]
  },
  {
   "cell_type": "code",
   "execution_count": 2,
   "id": "3e6d08c5",
   "metadata": {},
   "outputs": [],
   "source": [
    "# Identify where you will be storing your Excel file while you work on it, and what directory the final result will go into.\n",
    "\n",
    "excelfile = Path(\"/Users/anshul/Developer/drawdown/excel/ImprovedCattleFeed_Apr2021.xlsm\")\n",
    "outdir = Path(\"/Users/anshul/Developer/drawdown/solutions/solution/improvedlivestockfeed\")\n",
    "outdir.mkdir(parents=True, exist_ok=True)"
   ]
  },
  {
   "cell_type": "code",
   "execution_count": 3,
   "id": "865a609c",
   "metadata": {},
   "outputs": [
    {
     "data": {
      "text/plain": [
       "<module 'tools.solution_xls_extract' from '/Users/anshul/Developer/drawdown/solutions/tools/solution_xls_extract.py'>"
      ]
     },
     "execution_count": 3,
     "metadata": {},
     "output_type": "execute_result"
    }
   ],
   "source": [
    "# If you make changes to the extraction code (or any other code), reload it\n",
    "# NOTE: This kind of reloading DOES NOT work for solutions themselves, unfortunately.  If you re-generate or modify your solution,\n",
    "# you have to restart the Jupyter kernel to get it to reload properly.\n",
    "\n",
    "importlib.reload(sxe)"
   ]
  },
  {
   "cell_type": "markdown",
   "id": "15e82a49",
   "metadata": {},
   "source": [
    "## Extract Code\n",
    "Exctraction is done by the `sxe.ouput_solution_python_file` function.  This function reads most of the data it needs to extract from the `ScenarioRecord` tab and additional data from the TAM, Adoption and other tabs, and writes them to a solution directory in the form of an `__init__.py` file and a bunch of csv and json files.  All of the solutions in `/solution` were produced this way."
   ]
  },
  {
   "cell_type": "code",
   "execution_count": 4,
   "id": "0f7e2ca7",
   "metadata": {
    "scrolled": false
   },
   "outputs": [
    {
     "name": "stderr",
     "output_type": "stream",
     "text": [
      "/Users/anshul/anaconda3/envs/pd-dev/lib/python3.9/site-packages/openpyxl/reader/drawings.py:59: UserWarning: wmf image format is not supported so the image is being dropped\n",
      "  warn(msg)\n",
      "/Users/anshul/anaconda3/envs/pd-dev/lib/python3.9/site-packages/openpyxl/worksheet/_reader.py:312: UserWarning: Conditional Formatting extension is not supported and will be removed\n",
      "  warn(msg)\n",
      "/Users/anshul/anaconda3/envs/pd-dev/lib/python3.9/site-packages/openpyxl/worksheet/_reader.py:312: UserWarning: Data Validation extension is not supported and will be removed\n",
      "  warn(msg)\n",
      "/Users/anshul/anaconda3/envs/pd-dev/lib/python3.9/site-packages/openpyxl/worksheet/_reader.py:312: UserWarning: Unknown extension is not supported and will be removed\n",
      "  warn(msg)\n"
     ]
    }
   ],
   "source": [
    "# Expect to see some warnings from openpyxl; these can be ignored.  If there are other warnings, please note them, but they are not necessarily\n",
    "# a problem.\n",
    "\n",
    "sxe.output_solution_python_file(outputdir=outdir, xl_filename=str(excelfile))"
   ]
  },
  {
   "cell_type": "code",
   "execution_count": 5,
   "id": "001ed927",
   "metadata": {
    "scrolled": false
   },
   "outputs": [],
   "source": [
    "# %debug is your friend.  If the extraction fails with an exception, jump in and see if anything looks wrong\n",
    "\n",
    "# %debug"
   ]
  },
  {
   "cell_type": "markdown",
   "id": "e397c3e1",
   "metadata": {},
   "source": [
    "If you are working on one of the [Excel import issues](https://github.com/ProjectDrawdown/solutions/issues?q=is%3Aissue+is%3Aopen+label%3A%22Excel+Import%22), please add comments to it describing problems you run into.  And if you have found something that looks like a general problem, please [open a new issue](https://github.com/ProjectDrawdown/solutions/issues/new) for it on the github repo.\n",
    "\n",
    "I can't overemphasize this: \n",
    "> **Finding, researching and reporting issues is hugely valuable for us, even if you don't fully solve them.**\n",
    "\n",
    "\n",
    "## Load Code / Sniff Test\n",
    "\n",
    "Once the code has been sucessfully extracted and placed into a directory in `solution/`, all the tools that work with solutions should become available."
   ]
  },
  {
   "cell_type": "code",
   "execution_count": 6,
   "id": "74b7e45e",
   "metadata": {
    "scrolled": false
   },
   "outputs": [
    {
     "name": "stdout",
     "output_type": "stream",
     "text": [
      "Creating AdvancedControls object from file /Users/anshul/Developer/drawdown/solutions/solution/improvedlivestockfeed/ac/PDS-45p2050-avg7scen.json\n",
      "Creating AdvancedControls object from file /Users/anshul/Developer/drawdown/solutions/solution/improvedlivestockfeed/ac/PDS-28p2050-low7scen.json\n"
     ]
    },
    {
     "ename": "KeyError",
     "evalue": "'\"[\\'SOLUTION Operating Cost per Functional Unit per Annum\\', \\'SOLUTION Fixed Operating Cost (FOM)\\']\" must be included in vmas to calculate mean/high/low.vmas included: dict_keys([\\'Current Adoption\\', \\'CONVENTIONAL First Cost per Implementation Unit\\', \\'SOLUTION First Cost per Implementation Unit\\', \\'CONVENTIONAL Lifetime Capacity\\', \\'SOLUTION Lifetime Capacity\\', \\'CONVENTIONAL Average Annual Use\\', \\'SOLUTION Average Annual Use\\', \\'CONVENTIONAL Variable Operating Cost (VOM) per Functional Unit\\', \\'SOLUTION Variable Operating Cost (VOM) per Functional Unit\\', \\'CONVENTIONAL Fixed Operating Cost (FOM)\\', \\'SOLUTION Revenue from Increased Milk Yield\\', \\'CONVENTIONAL Total Energy Used per Functional Unit\\', \\'SOLUTION Energy Efficiency Factor\\', \\'SOLUTION Total Energy Used per Functional Unit\\', \\'CONVENTIONAL Fuel Consumed per Functional Unit\\', \\'SOLUTION Fuel Efficiency Factor\\', \\'CONVENTIONAL Direct Emissions per Functional Unit\\', \\'SOLUTION Direct Emissions per Functional Unit\\', \\'CONVENTIONAL Indirect CO2 Emissions per Unit\\', \\'SOLUTION Indirect CO2 Emissions per Unit\\', \\'CH4-CO2eq Tons Reduced\\', \\'N2O-CO2eq Tons Reduced\\', \\'CONVENTIONAL Revenue per Functional Unit\\', \\'SOLUTION Revenue per Functional Unit\\', \\'CONVENTIONAL Milk Yield\\', \\'SOLUTION Increased Milk Yield\\'])'",
     "output_type": "error",
     "traceback": [
      "\u001b[0;31m---------------------------------------------------------------------------\u001b[0m",
      "\u001b[0;31mKeyError\u001b[0m                                  Traceback (most recent call last)",
      "\u001b[0;32m/var/folders/1t/hv6601611zs3n99d9b4q1x780000gn/T/ipykernel_1823/3137550001.py\u001b[0m in \u001b[0;36m<module>\u001b[0;34m\u001b[0m\n\u001b[1;32m      2\u001b[0m \u001b[0;31m# for this solution, and a list of the scenario names.\u001b[0m\u001b[0;34m\u001b[0m\u001b[0;34m\u001b[0m\u001b[0;34m\u001b[0m\u001b[0m\n\u001b[1;32m      3\u001b[0m \u001b[0;34m\u001b[0m\u001b[0m\n\u001b[0;32m----> 4\u001b[0;31m \u001b[0mconstructor\u001b[0m\u001b[0;34m,\u001b[0m \u001b[0mscenarios\u001b[0m \u001b[0;34m=\u001b[0m \u001b[0mfactory\u001b[0m\u001b[0;34m.\u001b[0m\u001b[0mone_solution_scenarios\u001b[0m\u001b[0;34m(\u001b[0m\u001b[0;34m\"improvedlivestockfeed\"\u001b[0m\u001b[0;34m)\u001b[0m\u001b[0;34m\u001b[0m\u001b[0;34m\u001b[0m\u001b[0m\n\u001b[0m",
      "\u001b[0;32m~/Developer/drawdown/solutions/solution/factory.py\u001b[0m in \u001b[0;36mone_solution_scenarios\u001b[0;34m(solution)\u001b[0m\n\u001b[1;32m     17\u001b[0m \u001b[0;32mdef\u001b[0m \u001b[0mone_solution_scenarios\u001b[0m\u001b[0;34m(\u001b[0m\u001b[0msolution\u001b[0m\u001b[0;34m)\u001b[0m\u001b[0;34m:\u001b[0m\u001b[0;34m\u001b[0m\u001b[0;34m\u001b[0m\u001b[0m\n\u001b[1;32m     18\u001b[0m     \u001b[0mimportname\u001b[0m \u001b[0;34m=\u001b[0m \u001b[0;34m'solution.'\u001b[0m \u001b[0;34m+\u001b[0m \u001b[0msolution\u001b[0m\u001b[0;34m\u001b[0m\u001b[0;34m\u001b[0m\u001b[0m\n\u001b[0;32m---> 19\u001b[0;31m     \u001b[0mm\u001b[0m \u001b[0;34m=\u001b[0m \u001b[0mimportlib\u001b[0m\u001b[0;34m.\u001b[0m\u001b[0mimport_module\u001b[0m\u001b[0;34m(\u001b[0m\u001b[0mimportname\u001b[0m\u001b[0;34m)\u001b[0m\u001b[0;34m\u001b[0m\u001b[0;34m\u001b[0m\u001b[0m\n\u001b[0m\u001b[1;32m     20\u001b[0m     \u001b[0;32mreturn\u001b[0m \u001b[0;34m(\u001b[0m\u001b[0mm\u001b[0m\u001b[0;34m.\u001b[0m\u001b[0mScenario\u001b[0m\u001b[0;34m,\u001b[0m \u001b[0mlist\u001b[0m\u001b[0;34m(\u001b[0m\u001b[0mm\u001b[0m\u001b[0;34m.\u001b[0m\u001b[0mscenarios\u001b[0m\u001b[0;34m.\u001b[0m\u001b[0mkeys\u001b[0m\u001b[0;34m(\u001b[0m\u001b[0;34m)\u001b[0m\u001b[0;34m)\u001b[0m\u001b[0;34m)\u001b[0m\u001b[0;34m\u001b[0m\u001b[0;34m\u001b[0m\u001b[0m\n\u001b[1;32m     21\u001b[0m \u001b[0;34m\u001b[0m\u001b[0m\n",
      "\u001b[0;32m~/anaconda3/envs/pd-dev/lib/python3.9/importlib/__init__.py\u001b[0m in \u001b[0;36mimport_module\u001b[0;34m(name, package)\u001b[0m\n\u001b[1;32m    125\u001b[0m                 \u001b[0;32mbreak\u001b[0m\u001b[0;34m\u001b[0m\u001b[0;34m\u001b[0m\u001b[0m\n\u001b[1;32m    126\u001b[0m             \u001b[0mlevel\u001b[0m \u001b[0;34m+=\u001b[0m \u001b[0;36m1\u001b[0m\u001b[0;34m\u001b[0m\u001b[0;34m\u001b[0m\u001b[0m\n\u001b[0;32m--> 127\u001b[0;31m     \u001b[0;32mreturn\u001b[0m \u001b[0m_bootstrap\u001b[0m\u001b[0;34m.\u001b[0m\u001b[0m_gcd_import\u001b[0m\u001b[0;34m(\u001b[0m\u001b[0mname\u001b[0m\u001b[0;34m[\u001b[0m\u001b[0mlevel\u001b[0m\u001b[0;34m:\u001b[0m\u001b[0;34m]\u001b[0m\u001b[0;34m,\u001b[0m \u001b[0mpackage\u001b[0m\u001b[0;34m,\u001b[0m \u001b[0mlevel\u001b[0m\u001b[0;34m)\u001b[0m\u001b[0;34m\u001b[0m\u001b[0;34m\u001b[0m\u001b[0m\n\u001b[0m\u001b[1;32m    128\u001b[0m \u001b[0;34m\u001b[0m\u001b[0m\n\u001b[1;32m    129\u001b[0m \u001b[0;34m\u001b[0m\u001b[0m\n",
      "\u001b[0;32m~/anaconda3/envs/pd-dev/lib/python3.9/importlib/_bootstrap.py\u001b[0m in \u001b[0;36m_gcd_import\u001b[0;34m(name, package, level)\u001b[0m\n",
      "\u001b[0;32m~/anaconda3/envs/pd-dev/lib/python3.9/importlib/_bootstrap.py\u001b[0m in \u001b[0;36m_find_and_load\u001b[0;34m(name, import_)\u001b[0m\n",
      "\u001b[0;32m~/anaconda3/envs/pd-dev/lib/python3.9/importlib/_bootstrap.py\u001b[0m in \u001b[0;36m_find_and_load_unlocked\u001b[0;34m(name, import_)\u001b[0m\n",
      "\u001b[0;32m~/anaconda3/envs/pd-dev/lib/python3.9/importlib/_bootstrap.py\u001b[0m in \u001b[0;36m_load_unlocked\u001b[0;34m(spec)\u001b[0m\n",
      "\u001b[0;32m~/anaconda3/envs/pd-dev/lib/python3.9/importlib/_bootstrap_external.py\u001b[0m in \u001b[0;36mexec_module\u001b[0;34m(self, module)\u001b[0m\n",
      "\u001b[0;32m~/anaconda3/envs/pd-dev/lib/python3.9/importlib/_bootstrap.py\u001b[0m in \u001b[0;36m_call_with_frames_removed\u001b[0;34m(f, *args, **kwds)\u001b[0m\n",
      "\u001b[0;32m~/Developer/drawdown/solutions/solution/improvedlivestockfeed/__init__.py\u001b[0m in \u001b[0;36m<module>\u001b[0;34m\u001b[0m\n\u001b[1;32m    103\u001b[0m \u001b[0msolution_category\u001b[0m \u001b[0;34m=\u001b[0m \u001b[0mac\u001b[0m\u001b[0;34m.\u001b[0m\u001b[0mSOLUTION_CATEGORY\u001b[0m\u001b[0;34m.\u001b[0m\u001b[0mREDUCTION\u001b[0m\u001b[0;34m\u001b[0m\u001b[0;34m\u001b[0m\u001b[0m\n\u001b[1;32m    104\u001b[0m \u001b[0;34m\u001b[0m\u001b[0m\n\u001b[0;32m--> 105\u001b[0;31m \u001b[0mscenarios\u001b[0m \u001b[0;34m=\u001b[0m \u001b[0mac\u001b[0m\u001b[0;34m.\u001b[0m\u001b[0mload_scenarios_from_json\u001b[0m\u001b[0;34m(\u001b[0m\u001b[0mdirectory\u001b[0m\u001b[0;34m=\u001b[0m\u001b[0mTHISDIR\u001b[0m\u001b[0;34m.\u001b[0m\u001b[0mjoinpath\u001b[0m\u001b[0;34m(\u001b[0m\u001b[0;34m'ac'\u001b[0m\u001b[0;34m)\u001b[0m\u001b[0;34m,\u001b[0m \u001b[0mvmas\u001b[0m\u001b[0;34m=\u001b[0m\u001b[0mVMAs\u001b[0m\u001b[0;34m)\u001b[0m\u001b[0;34m\u001b[0m\u001b[0;34m\u001b[0m\u001b[0m\n\u001b[0m\u001b[1;32m    106\u001b[0m \u001b[0;34m\u001b[0m\u001b[0m\n\u001b[1;32m    107\u001b[0m \u001b[0;34m\u001b[0m\u001b[0m\n",
      "\u001b[0;32m~/Developer/drawdown/solutions/model/advanced_controls.py\u001b[0m in \u001b[0;36mload_scenarios_from_json\u001b[0;34m(directory, vmas)\u001b[0m\n\u001b[1;32m    991\u001b[0m             \u001b[0mjs\u001b[0m\u001b[0;34m[\u001b[0m\u001b[0;34m'jsfile'\u001b[0m\u001b[0;34m]\u001b[0m \u001b[0;34m=\u001b[0m \u001b[0mstr\u001b[0m\u001b[0;34m(\u001b[0m\u001b[0mfilename\u001b[0m\u001b[0;34m)\u001b[0m\u001b[0;34m\u001b[0m\u001b[0;34m\u001b[0m\u001b[0m\n\u001b[1;32m    992\u001b[0m             \u001b[0mprint\u001b[0m\u001b[0;34m(\u001b[0m\u001b[0;34mf'Creating AdvancedControls object from file {filename}'\u001b[0m\u001b[0;34m)\u001b[0m\u001b[0;34m\u001b[0m\u001b[0;34m\u001b[0m\u001b[0m\n\u001b[0;32m--> 993\u001b[0;31m             \u001b[0ma\u001b[0m \u001b[0;34m=\u001b[0m \u001b[0mAdvancedControls\u001b[0m\u001b[0;34m(\u001b[0m\u001b[0;34m**\u001b[0m\u001b[0mjs\u001b[0m\u001b[0;34m)\u001b[0m\u001b[0;34m\u001b[0m\u001b[0;34m\u001b[0m\u001b[0m\n\u001b[0m\u001b[1;32m    994\u001b[0m             \u001b[0mresult\u001b[0m\u001b[0;34m[\u001b[0m\u001b[0ma\u001b[0m\u001b[0;34m.\u001b[0m\u001b[0mname\u001b[0m\u001b[0;34m]\u001b[0m \u001b[0;34m=\u001b[0m \u001b[0ma\u001b[0m\u001b[0;34m\u001b[0m\u001b[0;34m\u001b[0m\u001b[0m\n\u001b[1;32m    995\u001b[0m     \u001b[0;32mreturn\u001b[0m \u001b[0mresult\u001b[0m\u001b[0;34m\u001b[0m\u001b[0;34m\u001b[0m\u001b[0m\n",
      "\u001b[0;32m~/Developer/drawdown/solutions/model/advanced_controls.py\u001b[0m in \u001b[0;36m__init__\u001b[0;34m(self, solution_category, vmas, vma_values, name, description, js, jsfile, pds_2014_cost, ref_2014_cost, conv_2014_cost, soln_first_cost_efficiency_rate, conv_first_cost_efficiency_rate, soln_first_cost_below_conv, soln_energy_efficiency_factor, conv_annual_energy_used, soln_annual_energy_used, conv_fuel_consumed_per_funit, soln_fuel_efficiency_factor, conv_fuel_emissions_factor, soln_fuel_emissions_factor, conv_emissions_per_funit, soln_emissions_per_funit, ch4_is_co2eq, n2o_is_co2eq, co2eq_conversion_source, ch4_co2_per_funit, n2o_co2_per_funit, soln_indirect_co2_per_iunit, conv_indirect_co2_per_unit, conv_indirect_co2_is_iunits, soln_lifetime_capacity, soln_avg_annual_use, conv_lifetime_capacity, conv_avg_annual_use, report_start_year, report_end_year, soln_var_oper_cost_per_funit, soln_fixed_oper_cost_per_iunit, soln_fuel_cost_per_funit, conv_var_oper_cost_per_funit, conv_fixed_oper_cost_per_iunit, conv_fuel_cost_per_funit, npv_discount_rate, emissions_use_co2eq, emissions_grid_source, emissions_grid_range, soln_ref_adoption_regional_data, soln_pds_adoption_regional_data, soln_ref_adoption_basis, soln_ref_adoption_custom_name, soln_pds_adoption_basis, soln_pds_adoption_custom_name, soln_pds_adoption_scenarios_included, soln_pds_adoption_custom_high_sd_mult, soln_pds_adoption_custom_low_sd_mult, soln_pds_adoption_prognostication_source, soln_pds_adoption_prognostication_trend, soln_pds_adoption_prognostication_growth, pds_source_post_2014, ref_source_post_2014, source_until_2014, ref_adoption_use_pds_years, pds_adoption_use_ref_years, pds_base_adoption, ref_base_adoption, pds_adoption_final_percentage, pds_adoption_s_curve_innovation, pds_adoption_s_curve_imitation, tco2eq_reduced_per_land_unit, tco2eq_rplu_rate, tco2_rplu_rate, tn2o_co2_rplu_rate, tch4_co2_rplu_rate, tco2_reduced_per_land_unit, tn2o_co2_reduced_per_land_unit, tch4_co2_reduced_per_land_unit, emissions_use_agg_co2eq, seq_rate_global, seq_rate_per_regime, degradation_rate, disturbance_rate, global_multi_for_regrowth, soln_expected_lifetime, conv_expected_lifetime, yield_from_conv_practice, yield_gain_from_conv_to_soln, use_custom_tla, custom_tla_fixed_value, harvest_frequency, carbon_not_emitted_after_harvesting, avoided_deforest_with_intensification, delay_protection_1yr, delay_regrowth_1yr, include_unprotected_land_in_regrowth_calcs, land_annual_emissons_lifetime, tC_storage_in_protected_land_type)\u001b[0m\n",
      "\u001b[0;32m~/Developer/drawdown/solutions/model/advanced_controls.py\u001b[0m in \u001b[0;36m__post_init__\u001b[0;34m(self)\u001b[0m\n\u001b[1;32m    743\u001b[0m             \u001b[0;32mif\u001b[0m \u001b[0mvma_titles\u001b[0m \u001b[0;32mis\u001b[0m \u001b[0;32mnot\u001b[0m \u001b[0;32mNone\u001b[0m \u001b[0;32mand\u001b[0m \u001b[0mself\u001b[0m\u001b[0;34m.\u001b[0m\u001b[0mvmas\u001b[0m \u001b[0;32mis\u001b[0m \u001b[0;32mnot\u001b[0m \u001b[0;32mNone\u001b[0m\u001b[0;34m:\u001b[0m\u001b[0;34m\u001b[0m\u001b[0;34m\u001b[0m\u001b[0m\n\u001b[1;32m    744\u001b[0m                 \u001b[0mval\u001b[0m \u001b[0;34m=\u001b[0m \u001b[0mgetattr\u001b[0m\u001b[0;34m(\u001b[0m\u001b[0mself\u001b[0m\u001b[0;34m,\u001b[0m \u001b[0mfield\u001b[0m\u001b[0;34m.\u001b[0m\u001b[0mname\u001b[0m\u001b[0;34m)\u001b[0m\u001b[0;34m\u001b[0m\u001b[0;34m\u001b[0m\u001b[0m\n\u001b[0;32m--> 745\u001b[0;31m                 \u001b[0mnewval\u001b[0m \u001b[0;34m=\u001b[0m \u001b[0mself\u001b[0m\u001b[0;34m.\u001b[0m\u001b[0m_substitute_vma\u001b[0m\u001b[0;34m(\u001b[0m\u001b[0mval\u001b[0m\u001b[0;34m=\u001b[0m\u001b[0mval\u001b[0m\u001b[0;34m,\u001b[0m \u001b[0mvma_titles\u001b[0m\u001b[0;34m=\u001b[0m\u001b[0mvma_titles\u001b[0m\u001b[0;34m)\u001b[0m\u001b[0;34m\u001b[0m\u001b[0;34m\u001b[0m\u001b[0m\n\u001b[0m\u001b[1;32m    746\u001b[0m                 \u001b[0;32mif\u001b[0m \u001b[0mnewval\u001b[0m \u001b[0;32mis\u001b[0m \u001b[0;32mnot\u001b[0m \u001b[0;32mNone\u001b[0m\u001b[0;34m:\u001b[0m\u001b[0;34m\u001b[0m\u001b[0;34m\u001b[0m\u001b[0m\n\u001b[1;32m    747\u001b[0m                     \u001b[0mobject\u001b[0m\u001b[0;34m.\u001b[0m\u001b[0m__setattr__\u001b[0m\u001b[0;34m(\u001b[0m\u001b[0mself\u001b[0m\u001b[0;34m,\u001b[0m \u001b[0mfield\u001b[0m\u001b[0;34m.\u001b[0m\u001b[0mname\u001b[0m\u001b[0;34m,\u001b[0m \u001b[0mnewval\u001b[0m\u001b[0;34m)\u001b[0m\u001b[0;34m\u001b[0m\u001b[0;34m\u001b[0m\u001b[0m\n",
      "\u001b[0;32m~/Developer/drawdown/solutions/model/advanced_controls.py\u001b[0m in \u001b[0;36m_substitute_vma\u001b[0;34m(self, val, vma_titles)\u001b[0m\n\u001b[1;32m    914\u001b[0m                 \u001b[0;32mbreak\u001b[0m\u001b[0;34m\u001b[0m\u001b[0;34m\u001b[0m\u001b[0m\n\u001b[1;32m    915\u001b[0m         \u001b[0;32melse\u001b[0m\u001b[0;34m:\u001b[0m\u001b[0;34m\u001b[0m\u001b[0;34m\u001b[0m\u001b[0m\n\u001b[0;32m--> 916\u001b[0;31m             raise KeyError(f'\"{vma_titles}\" must be included in vmas to calculate mean/high/low.'\n\u001b[0m\u001b[1;32m    917\u001b[0m                     f'vmas included: {self.vmas.keys()}')\n\u001b[1;32m    918\u001b[0m \u001b[0;34m\u001b[0m\u001b[0m\n",
      "\u001b[0;31mKeyError\u001b[0m: '\"[\\'SOLUTION Operating Cost per Functional Unit per Annum\\', \\'SOLUTION Fixed Operating Cost (FOM)\\']\" must be included in vmas to calculate mean/high/low.vmas included: dict_keys([\\'Current Adoption\\', \\'CONVENTIONAL First Cost per Implementation Unit\\', \\'SOLUTION First Cost per Implementation Unit\\', \\'CONVENTIONAL Lifetime Capacity\\', \\'SOLUTION Lifetime Capacity\\', \\'CONVENTIONAL Average Annual Use\\', \\'SOLUTION Average Annual Use\\', \\'CONVENTIONAL Variable Operating Cost (VOM) per Functional Unit\\', \\'SOLUTION Variable Operating Cost (VOM) per Functional Unit\\', \\'CONVENTIONAL Fixed Operating Cost (FOM)\\', \\'SOLUTION Revenue from Increased Milk Yield\\', \\'CONVENTIONAL Total Energy Used per Functional Unit\\', \\'SOLUTION Energy Efficiency Factor\\', \\'SOLUTION Total Energy Used per Functional Unit\\', \\'CONVENTIONAL Fuel Consumed per Functional Unit\\', \\'SOLUTION Fuel Efficiency Factor\\', \\'CONVENTIONAL Direct Emissions per Functional Unit\\', \\'SOLUTION Direct Emissions per Functional Unit\\', \\'CONVENTIONAL Indirect CO2 Emissions per Unit\\', \\'SOLUTION Indirect CO2 Emissions per Unit\\', \\'CH4-CO2eq Tons Reduced\\', \\'N2O-CO2eq Tons Reduced\\', \\'CONVENTIONAL Revenue per Functional Unit\\', \\'SOLUTION Revenue per Functional Unit\\', \\'CONVENTIONAL Milk Yield\\', \\'SOLUTION Increased Milk Yield\\'])'"
     ]
    }
   ],
   "source": [
    "# factory.one_solution_scenarios loads a single solution, by name.  It returns a constructor that can construct scenario objects\n",
    "# for this solution, and a list of the scenario names.\n",
    "\n",
    "constructor, scenarios = factory.one_solution_scenarios(\"improvedlivestockfeed\")"
   ]
  },
  {
   "cell_type": "code",
   "execution_count": null,
   "id": "2e0ec7e7",
   "metadata": {},
   "outputs": [],
   "source": [
    "# What scenarios did we get?\n",
    "\n",
    "scenarios"
   ]
  },
  {
   "cell_type": "code",
   "execution_count": null,
   "id": "b4691325",
   "metadata": {
    "scrolled": false
   },
   "outputs": [],
   "source": [
    "# Let's build the 2nd one\n",
    "\n",
    "myscenario = constructor(scenarios[1])"
   ]
  },
  {
   "cell_type": "code",
   "execution_count": null,
   "id": "1580f413",
   "metadata": {
    "scrolled": false
   },
   "outputs": [],
   "source": [
    "# %debug is your friend.\n",
    "\n",
    "%debug"
   ]
  },
  {
   "cell_type": "markdown",
   "id": "c1f68f8e",
   "metadata": {},
   "source": [
    "## Look at some results\n",
    "\n",
    "TODO: it would be nice put some examples below, for example showing a little graph of something."
   ]
  },
  {
   "cell_type": "code",
   "execution_count": null,
   "id": "5048d179",
   "metadata": {
    "scrolled": true
   },
   "outputs": [],
   "source": [
    "myscenario.c2.co2_mmt_reduced()"
   ]
  },
  {
   "cell_type": "markdown",
   "id": "eccb2e77",
   "metadata": {},
   "source": [
    "## Create Test Results\n",
    "\n",
    "**This step requires the Excel application, and thus only can be run on Windows or Mac.**\n",
    "\n",
    "Create a clean temporary directory to generate the test set in.  Put (a copy of) your Excel spreadsheet in that directory.\n",
    "\n",
    "Follow the instructions in `tools/CREATING_EXPECTED_ZIP.md` to create the CSV files in that directory."
   ]
  },
  {
   "cell_type": "code",
   "execution_count": null,
   "id": "42f46dfd",
   "metadata": {},
   "outputs": [],
   "source": [
    "# Run the VB macros first!\n",
    "\n",
    "# Assemble the resulting csv files into the expected_zip file\n",
    "\n",
    "csvdirectory = Path(\"C:\\\\Working\\\\temp\")\n",
    "cez.create_expected_zip(csvdirectory)"
   ]
  },
  {
   "cell_type": "code",
   "execution_count": null,
   "id": "f2e8ea60",
   "metadata": {},
   "outputs": [],
   "source": [
    "# Move the resulting file where it belongs.\n",
    "\n",
    "testdirectory = outdir / \"testdata\"\n",
    "testdirectory.mkdir(exist_ok=True)\n",
    "\n",
    "!cp $csvdirectory/expected.zip $testdirectory/expected.zip"
   ]
  },
  {
   "cell_type": "markdown",
   "id": "698479d4",
   "metadata": {},
   "source": [
    "## Create the Test\n",
    "\n",
    "Now we are going to add your new solution to the testing infrastructure.  In an editor, open the file `tests/test_excel_integration.py`.\n",
    "Scroll down to the bottom, copy one of the test functions there and modify it to fit your new model.  It will look something\n",
    "like the following, where you subsitute `TESTNAME` with a unique name for your test, and `MODULE` with the name of your solution module (which is the same as the name of the directory it is in).\n",
    "\n",
    "```\n",
    "def test_<SOLUTIONNAME>_RRS():\n",
    "    from solution import <MODULE>\n",
    "    zipfilename = str(solutiondir.joinpath(\n",
    "        '<MODULE>', 'testdata', 'expected.zip'))\n",
    "    zip_f = zipfile.ZipFile(file=zipfilename)\n",
    "    for scenario in <MODULE>.scenarios.keys():\n",
    "        obj = <MODULE>.Scenario(scenario=scenario)\n",
    "        verify = RRS_solution_verify_list(obj=obj, zip_f=zip_f)\n",
    "        check_excel_against_object(\n",
    "            obj=obj, zip_f=zip_f, scenario=scenario, verify=verify)\n",
    "```\n",
    "\n",
    "Be sure to note whether your model is an RSS model or a Land model and copy the right kind of test!\n",
    "\n",
    "## Run the Test\n",
    "\n",
    "The following shell command runs the test you just created (swapping in your solution name, of course)"
   ]
  },
  {
   "cell_type": "code",
   "execution_count": null,
   "id": "b883f6a7",
   "metadata": {
    "scrolled": true
   },
   "outputs": [],
   "source": [
    "# You could pytest from the shell, but it is a little more convenient to call the \n",
    "# test function directly:\n",
    "tei.test_Composting_RRS()"
   ]
  },
  {
   "cell_type": "markdown",
   "id": "01e3a48d",
   "metadata": {},
   "source": [
    "If the test throws an exception, you might be tempted to use %debug to look at it. Unfortunately the main location where exceptions get thrown has already lost the context of the error. Instead what you generally have to do is figure out where in the test suite the failure was and add a breakpoint() (also known as import pdb; pdb.set_trace() to old-schoolers) there, then run it again. Hint: the error message will probably contain an Excel range, like B91:C137. This is a good string to search for in test_excel_integration.py.\n",
    "\n",
    "From there, you work your way back to the same questions we were working on above: is this a failure in extraction, model code, the excel workbook, or the test? Rinse and repeat.\n",
    "\n",
    "## Hot off the Press for the Hackathon: Improved Test Control!\n",
    "\n",
    "If you look at the last two solution test definitions in `tests\\test_excel_integration.py`, you will see they have a couple of extra arguments:\n",
    " * `scenario_skip`: if present, an array of scenario indices to skip over\n",
    " * `test_skip`: if present, an array of strings that should match the descriptions of tests to skip\n",
    " * `test_only`: if present, an array of strings such that _only_ tests whose description matches one of them will be executed.\n",
    " \n",
    " So for example, you could skip the second scenario, and only do the 'First Cost' and 'Operating Cost' tests, but skip the first 'First Cost' test, with the following:"
   ]
  },
  {
   "cell_type": "code",
   "execution_count": null,
   "id": "c8f311be",
   "metadata": {},
   "outputs": [],
   "source": [
    "tei.test_WaveAndTidal_RRS(scenario_skip=[1], test_only=['First Cost', 'Operating Cost'], test_skip=['C37:C82'] )"
   ]
  },
  {
   "cell_type": "markdown",
   "id": "2c0e245e",
   "metadata": {},
   "source": [
    "Copy from one of those last two tests and you will be able to control your testing without having to resort to hacks like commenting out tests.\n",
    "\n",
    "\n",
    "# Tips\n",
    "\n",
    "## Don't forget to restart the Jupyter Notebook kernel if you have modified code\n",
    "\n",
    "If you change code you need to either reload the library (the 3nd cell of this notebook) or restart the kernel.\n",
    "\n",
    "## When comparing to Excel, make sure you've loaded the right Scenario\n",
    "\n",
    "On the `ScenarioRecord` tab, cell `B9` shows the currently loaded scenario.  When a workbook is first opened, this is usally empty, meaning you don't know which\n",
    "scenario was last loaded.  Select the scenario you are debugging against from the dropdown, and click on 'Load Scenario'.\n",
    "\n",
    "## Beautifier for Excel Formulas\n",
    "\n",
    "Are you looking at an excel formula with five nested `IF(...` expressions?  Try [https://www.excelformulabeautifier.com/](https://www.excelformulabeautifier.com/).  You're welcome.\n",
    "\n",
    "# You Finished!\n",
    "Did you get a clean test run?  Hurrah!  You've finished this import task.  Project Drawdown thanks you!"
   ]
  },
  {
   "cell_type": "code",
   "execution_count": null,
   "id": "f8bc2d17",
   "metadata": {},
   "outputs": [],
   "source": []
  }
 ],
 "metadata": {
  "interpreter": {
   "hash": "641170e26b916086f6ab8a8498639d254e86adadac2c3bbb49fa49caa88ce61e"
  },
  "kernelspec": {
   "display_name": "Python 3 (ipykernel)",
   "language": "python",
   "name": "python3"
  },
  "language_info": {
   "codemirror_mode": {
    "name": "ipython",
    "version": 3
   },
   "file_extension": ".py",
   "mimetype": "text/x-python",
   "name": "python",
   "nbconvert_exporter": "python",
   "pygments_lexer": "ipython3",
   "version": "3.9.6"
  }
 },
 "nbformat": 4,
 "nbformat_minor": 5
}

{
 "cells": [
  {
   "cell_type": "markdown",
   "source": [
    "# Welcome - Sustainable Clothing\r\n",
    "Process and logging of the investigation on the First Cost numbers in the model.\r\n",
    "On our running of our new test function, we got Assertion Errors: \r\n",
    "\r\n",
    "tei.test_SustainableClothing_RRS(scenario_skip=[1,2], test_only=['First Cost'])\r\n",
    "\r\n",
    "AssertionError: Solution: Sustainable Clothing Scenario: PDS1-8p2050-Dec2020 First Cost E37:E82\r\n",
    "DataFrames differ:\r\n",
    "Err [0][0] : '26452419.4909273' != '942666448.0'\r\n",
    "Err [3][0] : '0.0' != '91882559.49'\r\n",
    "Err [4][0] : '1376218815.4773905' != '198613506.4'\r\n",
    "Err [21][0] : '939340494.2967209' != '1855554523.0'\r\n",
    "Err [24][0] : '1138445062.0572414' != '1230327622.0'\r\n",
    "Err [25][0] : '2596672684.313334' != '1419067375.0'\r\n",
    "Err [42][0] : '4113038096.9045024' != '5029252125.0'\r\n",
    "Err [45][0] : '4778947949.081189' != '4870830509.0'\r\n",
    "\r\n",
    "This will document our investigation and attempts to find and fix what is causing this data discrepancy\r\n",
    "\r\n",
    "<strong>Note: This script is what I was running before I added the hack solution into __init__py to \"fix\" this discrepancy</strong>\r\n",
    "\r\n",
    "## Setup\r\n"
   ],
   "metadata": {}
  },
  {
   "cell_type": "code",
   "execution_count": 1,
   "source": [
    "# This file started of as a copy of our Sustainable Clothing specific Extraction Guide\r\n",
    "# Removed all the extraction related content and code, to just run the test, then start investigation\r\n",
    "\r\n",
    "# Load the libraries\r\n",
    "from tools import solution_xls_extract as sxe\r\n",
    "from tools import create_expected_zip as cez\r\n",
    "from tools import expected_ghost\r\n",
    "from tests import test_excel_integration as tei\r\n",
    "from solution import factory\r\n",
    "from pathlib import Path\r\n",
    "import pandas as pd\r\n",
    "import openpyxl\r\n",
    "import importlib\r\n",
    "\r\n",
    "isDebug = False"
   ],
   "outputs": [],
   "metadata": {}
  },
  {
   "cell_type": "code",
   "execution_count": 2,
   "source": [
    "# %debug is your friend.  If the extraction fails with an exception, jump in and see if anything looks wrong\r\n",
    "\r\n",
    "# %debug"
   ],
   "outputs": [],
   "metadata": {
    "scrolled": false
   }
  },
  {
   "cell_type": "code",
   "execution_count": 3,
   "source": [
    "# factory.one_solution_scenarios loads a single solution, by name.  It returns a constructor that can construct scenario objects\r\n",
    "# for this solution, and a list of the scenario names.\r\n",
    "\r\n",
    "testScenarioIndex = 0 # Can set this to 0 - 4, \r\n",
    "# note, 1 and 2 seem to have a data error, missing the \"soln_pds_adoption_scenarios_included\" section\r\n",
    "\r\n",
    "(constructor,scenarios) = factory.one_solution_scenarios(\"sustainableclothing\")\r\n",
    "\r\n",
    "# What scenarios did we get?\r\n",
    "# scenarios\r\n",
    "\r\n",
    "myscenario = constructor(scenarios[testScenarioIndex])"
   ],
   "outputs": [],
   "metadata": {}
  },
  {
   "cell_type": "code",
   "execution_count": 4,
   "source": [
    "# %debug is your friend.\r\n",
    "\r\n",
    "if isDebug:\r\n",
    "  %debug"
   ],
   "outputs": [],
   "metadata": {
    "scrolled": false
   }
  },
  {
   "cell_type": "markdown",
   "source": [
    "## Look at some results\n",
    "\n",
    "TODO: it would be nice put some examples below, for example showing a little graph of something."
   ],
   "metadata": {}
  },
  {
   "cell_type": "code",
   "execution_count": 5,
   "source": [
    "# See results\r\n",
    "\r\n",
    "dfCo2 = myscenario.c2.co2_mmt_reduced()\r\n",
    "# dfCo2\r\n",
    "# dfCo2.dtypes\r\n",
    "\r\n",
    "# print(myscenario.fc)"
   ],
   "outputs": [],
   "metadata": {
    "scrolled": true
   }
  },
  {
   "cell_type": "code",
   "execution_count": 6,
   "source": [
    "# Plot a basic graph\r\n",
    "dfCo2.loc[2020:2050, 'World'].plot(title=\"World CO2 MMT Reduced by Year\")"
   ],
   "outputs": [
    {
     "output_type": "execute_result",
     "data": {
      "text/plain": [
       "<AxesSubplot:title={'center':'World CO2 MMT Reduced by Year'}, xlabel='Year'>"
      ]
     },
     "metadata": {},
     "execution_count": 6
    },
    {
     "output_type": "display_data",
     "data": {
      "text/plain": [
       "<Figure size 432x288 with 1 Axes>"
      ],
      "image/png": "[encoded data removed]"
     },
     "metadata": {
      "needs_background": "light"
     }
    }
   ],
   "metadata": {}
  },
  {
   "cell_type": "markdown",
   "source": [
    "## Create the Test\n",
    "\n",
    "Now we are going to add your new solution to the testing infrastructure.  In an editor, open the file `tests/test_excel_integration.py`.\n",
    "Scroll down to the bottom, copy one of the test functions there and modify it to fit your new model.  It will look something\n",
    "like the following, where you subsitute `TESTNAME` with a unique name for your test, and `MODULE` with the name of your solution module (which is the same as the name of the directory it is in).\n",
    "\n",
    "```\n",
    "def test_<SOLUTIONNAME>_RRS():\n",
    "    from solution import <MODULE>\n",
    "    zipfilename = str(solutiondir.joinpath(\n",
    "        '<MODULE>', 'testdata', 'expected.zip'))\n",
    "    zip_f = zipfile.ZipFile(file=zipfilename)\n",
    "    for scenario in <MODULE>.scenarios.keys():\n",
    "        obj = <MODULE>.Scenario(scenario=scenario)\n",
    "        verify = RRS_solution_verify_list(obj=obj, zip_f=zip_f)\n",
    "        check_excel_against_object(\n",
    "            obj=obj, zip_f=zip_f, scenario=scenario, verify=verify)\n",
    "```\n",
    "\n",
    "Be sure to note whether your model is an RSS model or a Land model and copy the right kind of test!\n",
    "\n",
    "## Run the Test\n",
    "\n",
    "The following shell command runs the test you just created (swapping in your solution name, of course)"
   ],
   "metadata": {}
  },
  {
   "cell_type": "markdown",
   "source": [
    "If the test throws an exception, you might be tempted to use %debug to look at it. Unfortunately the main location where exceptions get thrown has already lost the context of the error. Instead what you generally have to do is figure out where in the test suite the failure was and add a breakpoint() (also known as import pdb; pdb.set_trace() to old-schoolers) there, then run it again. Hint: the error message will probably contain an Excel range, like B91:C137. This is a good string to search for in test_excel_integration.py.\n",
    "\n",
    "From there, you work your way back to the same questions we were working on above: is this a failure in extraction, model code, the excel workbook, or the test? Rinse and repeat.\n",
    "\n",
    "## Hot off the Press for the Hackathon: Improved Test Control!\n",
    "\n",
    "If you look at the last two solution test definitions in `tests\\test_excel_integration.py`, you will see they have a couple of extra arguments:\n",
    " * `scenario_skip`: if present, an array of scenario indices to skip over\n",
    " * `test_skip`: if present, an array of strings that should match the descriptions of tests to skip\n",
    " * `test_only`: if present, an array of strings such that _only_ tests whose description matches one of them will be executed.\n",
    " \n",
    " So for example, you could skip the second scenario, and only do the 'First Cost' and 'Operating Cost' tests, but skip the first 'First Cost' test, with the following:"
   ],
   "metadata": {}
  },
  {
   "cell_type": "code",
   "execution_count": 7,
   "source": [
    "# Running some tests:\r\n",
    "# Testing all *datapoints?* but skipping the 2 scenarios\r\n",
    "# tei.test_SustainableClothing_RRS(scenario_skip=[1,2])\r\n",
    "'''\r\n",
    "AssertionError: Solution: Sustainable Clothing Scenario: PDS1-8p2050-Dec2020 TAM Data CI50:CM96\r\n",
    "DataFrames differ:\r\n",
    "Err [1][0] : '1.947587154992937e-05' != '1.94759e-05'\r\n",
    "Looks like this is a rounding error\r\n",
    "'''\r\n",
    "\r\n",
    "# Test based off the example, skipping the 2 scenarios, only testing First Cost and Operating Cost, and skipping some test\r\n",
    "# tei.test_SustainableClothing_RRS(scenario_skip=[1,2], test_only=['First Cost', 'Operating Cost'], test_skip=['C37:C82'] )\r\n",
    "\r\n",
    "# Don't skip anything yet, and just test First Cost\r\n",
    "tei.test_SustainableClothing_RRS(scenario_skip=[1,2], test_only=['First Cost'])"
   ],
   "outputs": [
    {
     "output_type": "stream",
     "name": "stdout",
     "text": [
      "Checking PDS1-8p2050-Dec2020\n",
      "TAM Data\n",
      "    **** Skipped 60 tests\n",
      "Helper Tables\n",
      "    **** Skipped 2 tests\n",
      "Emissions Factors\n",
      "    **** Skipped 2 tests\n",
      "Unit Adoption Calculations\n",
      "    **** Skipped 30 tests\n",
      "First Cost\n"
     ]
    },
    {
     "output_type": "error",
     "ename": "AssertionError",
     "evalue": "Solution: Sustainable Clothing Scenario: PDS1-8p2050-Dec2020 First Cost E37:E82\nDataFrames differ:\nErr [3][0] : '0.0' != '91882559.49'\nErr [4][0] : '1376218815.4773905' != '198613506.4'\nErr [24][0] : '1138445062.0572414' != '1230327622.0'\nErr [25][0] : '2596672684.313334' != '1419067375.0'\nErr [45][0] : '4778947949.081189' != '4870830509.0'\n",
     "traceback": [
      "\u001b[1;31m---------------------------------------------------------------------------\u001b[0m",
      "\u001b[1;31mAssertionError\u001b[0m                            Traceback (most recent call last)",
      "\u001b[1;32m~\\AppData\\Local\\Temp/ipykernel_6352/2326532149.py\u001b[0m in \u001b[0;36m<module>\u001b[1;34m\u001b[0m\n\u001b[0;32m     13\u001b[0m \u001b[1;33m\u001b[0m\u001b[0m\n\u001b[0;32m     14\u001b[0m \u001b[1;31m# Don't skip anything yet, and just test First Cost\u001b[0m\u001b[1;33m\u001b[0m\u001b[1;33m\u001b[0m\u001b[1;33m\u001b[0m\u001b[0m\n\u001b[1;32m---> 15\u001b[1;33m \u001b[0mtei\u001b[0m\u001b[1;33m.\u001b[0m\u001b[0mtest_SustainableClothing_RRS\u001b[0m\u001b[1;33m(\u001b[0m\u001b[0mscenario_skip\u001b[0m\u001b[1;33m=\u001b[0m\u001b[1;33m[\u001b[0m\u001b[1;36m1\u001b[0m\u001b[1;33m,\u001b[0m\u001b[1;36m2\u001b[0m\u001b[1;33m]\u001b[0m\u001b[1;33m,\u001b[0m \u001b[0mtest_only\u001b[0m\u001b[1;33m=\u001b[0m\u001b[1;33m[\u001b[0m\u001b[1;34m'First Cost'\u001b[0m\u001b[1;33m]\u001b[0m\u001b[1;33m)\u001b[0m\u001b[1;33m\u001b[0m\u001b[1;33m\u001b[0m\u001b[0m\n\u001b[0m",
      "\u001b[1;32mc:\\Development\\ProjectDrawdown\\solutions\\tests\\test_excel_integration.py\u001b[0m in \u001b[0;36mtest_SustainableClothing_RRS\u001b[1;34m(scenario_skip, test_skip, test_only)\u001b[0m\n\u001b[0;32m   1972\u001b[0m         \u001b[0mobj\u001b[0m \u001b[1;33m=\u001b[0m \u001b[0msustainableclothing\u001b[0m\u001b[1;33m.\u001b[0m\u001b[0mScenario\u001b[0m\u001b[1;33m(\u001b[0m\u001b[0mscenario\u001b[0m\u001b[1;33m=\u001b[0m\u001b[0mscenario\u001b[0m\u001b[1;33m)\u001b[0m\u001b[1;33m\u001b[0m\u001b[1;33m\u001b[0m\u001b[0m\n\u001b[0;32m   1973\u001b[0m         \u001b[0mverify\u001b[0m \u001b[1;33m=\u001b[0m \u001b[0mRRS_solution_verify_list\u001b[0m\u001b[1;33m(\u001b[0m\u001b[0mobj\u001b[0m\u001b[1;33m=\u001b[0m\u001b[0mobj\u001b[0m\u001b[1;33m,\u001b[0m \u001b[0mzip_f\u001b[0m\u001b[1;33m=\u001b[0m\u001b[0mzip_f\u001b[0m\u001b[1;33m)\u001b[0m\u001b[1;33m\u001b[0m\u001b[1;33m\u001b[0m\u001b[0m\n\u001b[1;32m-> 1974\u001b[1;33m         check_excel_against_object(\n\u001b[0m\u001b[0;32m   1975\u001b[0m             obj=obj, zip_f=zip_f, scenario=scenario, verify=verify, test_skip=test_skip, test_only=test_only)\n\u001b[0;32m   1976\u001b[0m \u001b[1;33m\u001b[0m\u001b[0m\n",
      "\u001b[1;32mc:\\Development\\ProjectDrawdown\\solutions\\tests\\test_excel_integration.py\u001b[0m in \u001b[0;36mcheck_excel_against_object\u001b[1;34m(obj, zip_f, scenario, verify, test_skip, test_only)\u001b[0m\n\u001b[0;32m   1019\u001b[0m                 \u001b[0mmask\u001b[0m \u001b[1;33m=\u001b[0m \u001b[0mexpected_mask\u001b[0m\u001b[1;33m\u001b[0m\u001b[1;33m\u001b[0m\u001b[0m\n\u001b[0;32m   1020\u001b[0m \u001b[1;33m\u001b[0m\u001b[0m\n\u001b[1;32m-> 1021\u001b[1;33m             compare_dataframes(actual_df=actual_df, expected_df=expected_df,\n\u001b[0m\u001b[0;32m   1022\u001b[0m                     description=description, mask=mask, absignore=absignore)\n\u001b[0;32m   1023\u001b[0m         \u001b[1;32mif\u001b[0m \u001b[0mskip_count\u001b[0m \u001b[1;33m>\u001b[0m \u001b[1;36m0\u001b[0m\u001b[1;33m:\u001b[0m\u001b[1;33m\u001b[0m\u001b[1;33m\u001b[0m\u001b[0m\n",
      "\u001b[1;32mc:\\Development\\ProjectDrawdown\\solutions\\tests\\test_excel_integration.py\u001b[0m in \u001b[0;36mcompare_dataframes\u001b[1;34m(actual_df, expected_df, description, mask, absignore)\u001b[0m\n\u001b[0;32m    975\u001b[0m                 \u001b[1;32mbreak\u001b[0m\u001b[1;33m\u001b[0m\u001b[1;33m\u001b[0m\u001b[0m\n\u001b[0;32m    976\u001b[0m     \u001b[1;32mif\u001b[0m \u001b[0mmsg\u001b[0m\u001b[1;33m:\u001b[0m\u001b[1;33m\u001b[0m\u001b[1;33m\u001b[0m\u001b[0m\n\u001b[1;32m--> 977\u001b[1;33m         \u001b[1;32mraise\u001b[0m \u001b[0mAssertionError\u001b[0m\u001b[1;33m(\u001b[0m\u001b[0mdescription\u001b[0m \u001b[1;33m+\u001b[0m \u001b[1;34m'\\nDataFrames differ:\\n'\u001b[0m \u001b[1;33m+\u001b[0m \u001b[0mmsg\u001b[0m\u001b[1;33m)\u001b[0m\u001b[1;33m\u001b[0m\u001b[1;33m\u001b[0m\u001b[0m\n\u001b[0m\u001b[0;32m    978\u001b[0m \u001b[1;33m\u001b[0m\u001b[0m\n\u001b[0;32m    979\u001b[0m \u001b[1;33m\u001b[0m\u001b[0m\n",
      "\u001b[1;31mAssertionError\u001b[0m: Solution: Sustainable Clothing Scenario: PDS1-8p2050-Dec2020 First Cost E37:E82\nDataFrames differ:\nErr [3][0] : '0.0' != '91882559.49'\nErr [4][0] : '1376218815.4773905' != '198613506.4'\nErr [24][0] : '1138445062.0572414' != '1230327622.0'\nErr [25][0] : '2596672684.313334' != '1419067375.0'\nErr [45][0] : '4778947949.081189' != '4870830509.0'\n"
     ]
    }
   ],
   "metadata": {}
  },
  {
   "cell_type": "markdown",
   "source": [
    "Copy from one of those last two tests and you will be able to control your testing without having to resort to hacks like commenting out tests.\r\n",
    "\r\n",
    "\r\n",
    "# Tips\r\n",
    "\r\n",
    "## Don't forget to restart the Jupyter Notebook kernel if you have modified code\r\n",
    "\r\n",
    "If you change code you need to either reload the library (the 3nd cell of this notebook) or restart the kernel.\r\n",
    "\r\n",
    "## When comparing to Excel, make sure you've loaded the right Scenario\r\n",
    "\r\n",
    "On the `ScenarioRecord` tab, cell `B9` shows the currently loaded scenario.  When a workbook is first opened, this is usally empty, meaning you don't know which\r\n",
    "scenario was last loaded.  Select the scenario you are debugging against from the dropdown, and click on 'Load Scenario'.\r\n",
    "\r\n",
    "## Beautifier for Excel Formulas\r\n",
    "\r\n",
    "Are you looking at an excel formula with five nested `IF(...` expressions?  Try [https://www.excelformulabeautifier.com/](https://www.excelformulabeautifier.com/).  You're welcome.\r\n"
   ],
   "metadata": {}
  },
  {
   "cell_type": "markdown",
   "source": [
    "# Sustainable Clothing - First Cost Investigation\r\n",
    "\r\n",
    "<div style=\"padding-top:10px\">\r\n",
    "Here are the errors: \r\n",
    "AssertionError: Solution: Sustainable Clothing Scenario: PDS1-8p2050-Dec2020 First Cost E37:E82 <br/>\r\n",
    "DataFrames differ: <br/>\r\n",
    "Err [0][0] : '26452419.4909273' != '942666448.0' <br/>\r\n",
    "Err [3][0] : '0.0' != '91882559.49' <br/>\r\n",
    "Err [4][0] : '1376218815.4773905' != '198613506.4' <br/> \r\n",
    "Err [21][0] : '939340494.2967209' != '1855554523.0' <br/>\r\n",
    "Err [24][0] : '1138445062.0572414' != '1230327622.0' <br/>\r\n",
    "Err [25][0] : '2596672684.313334' != '1419067375.0' <br/>\r\n",
    "Err [42][0] : '4113038096.9045024' != '5029252125.0' <br/>\r\n",
    "Err [45][0] : '4778947949.081189' != '4870830509.0' <br/>\r\n",
    "</div>\r\n",
    "\r\n",
    "<div style=\"padding-top:10px\">\r\n",
    "The Left Column in these Assertions is the First Cost numbers that are coming out of our generated solution, the Python Model (eg. '26452419.4909273') <br/>\r\n",
    "The Right Column in these Assertions is the First Cost numbers that are coming out of our generated test csv files, which should reflect numbers from the Workbook (eg. '942666448.0')\r\n",
    "</div>\r\n",
    "\r\n",
    "<div style=\"padding-top:10px\">\r\n",
    "Investgate what is happening.\r\n",
    "</div>\r\n",
    "\r\n",
    "<br/>\r\n",
    "## First Cost in Excel Workbook / Test CSV\r\n",
    "<div style=\"padding-top:10px\">\r\n",
    "Looking at Sustainable Clothing-RRS.IP-0121MRG_2021.xlsm. Loaded the Dec2020 Scenario in the ScenarioRecord tab to match the Scenario ran for this test (index 0)\r\n",
    "Now Looking at \"First Cost\" tab, and found thexe numbers in the listed E37:E82 Cells. (e.g. E37 = $942,666,448.05, which corresponds to '942666448.0', E40 also matches)\r\n",
    "</div>\r\n",
    "<div style=\"padding-top:10px\">\r\n",
    "This column of cells is \"Annual World First Cost (Solution PDS)\" Data <br/>\r\n",
    "The Formula for this (E37) is <strong>=IF($B$105=\"Y\",B107,MAX(0,D37)*C37)</strong><br/>\r\n",
    "Cell B105 on this sheet is looking at \"Use Factored First Costs\" For \"SOLUTION-PDS\" and this value is <strong>\"N\"</strong><br/>\r\n",
    "Therefore, the calculation of this First Cost number is <strong>MAX(0,D37)*C37</strong><br/>\r\n",
    "C37 = Install Cost per implementation unit (SOLUTION-PDS)<br/>\r\n",
    "D37 = Annual New Implementation Units (SOLUTION-PDS). For this data set, these numbers are all > 0 so it should be this number<br/>\r\n",
    "</div>"
   ],
   "metadata": {}
  },
  {
   "cell_type": "code",
   "execution_count": null,
   "source": [
    "# Sense Check, Scenario 0 - Dec 2020\r\n",
    "# pulled some numbers out of excel and crunch, to see if I'm looking at the right thing\r\n",
    "testCalcE37 = 2757244354.50 * 0.341887\r\n",
    "print(\"testCalcE37: \" +str(testCalcE37))\r\n",
    "# comes out as 942666000.6269414. This is probably right with some rounding\r\n",
    "\r\n",
    "print(\"Annual World First Cost\")\r\n",
    "print(myscenario.fc.soln_pds_annual_world_first_cost().head(5))\r\n",
    "# This is the first cost data being checked (that isn't matching the Excel)\r\n",
    "\r\n",
    "print(\"Install cost per implementation unit\")\r\n",
    "print(myscenario.fc.soln_pds_install_cost_per_iunit().head(5))\r\n",
    "# This seems to be all 2.757244e+09 - which matches the excel\r\n",
    "\r\n",
    "# Checking \"soln_ref_new_iunits_reqd: new implementation units required each year in the Reference scenario, as a DataFrame with columns per region.\"\r\n",
    "print(\"Annual New Implementation Units\")\r\n",
    "print(myscenario.fc.soln_pds_new_iunits_reqd.head())\r\n",
    "# The firstcost.fc.soln_pds_annual_world_first_cost() does the following:\r\n",
    "#   Line 184: result = self.soln_pds_new_iunits_reqd[main_region] * self.soln_pds_install_cost_per_iunit()\r\n",
    "#   This seems right, according to the excel formula\r\n",
    "# Looks like this Annual New Implementation data isn't right, not matching the Excel\r\n"
   ],
   "outputs": [],
   "metadata": {}
  },
  {
   "cell_type": "markdown",
   "source": [
    "# Investigate Annual New Implementation\r\n",
    "\r\n",
    "<div style=\"padding-top:10px\">\r\n",
    "Looks like this data doesn't match the Excel. <br/>\r\n",
    "E.g. in the Excel, Sheet First Cost, Cell D37 has 0.341887 (for World 2015) <br/>\r\n",
    "In our data, it's 0.009594  <br/>\r\n",
    "In the Excel, this data pulls from <strong>='Unit Adoption Calculations'!AH137</strong> which is New Implementation Units Required PDS (inc replacement Units)<br/>\r\n",
    "This cell in the Excel (AH137) uses the formula <strong>=IF('Advanced Controls'!$C$43=\"Yes\",MAX(0,AY137),MAX(0,AY137-AY136)+@IF($AF137>AH$129,IF(@INDEX(C$136:C$181,$AF137-AH$129,0)<=C136,INDEX(AH$137:AH$182,$AF137-AH$129),0),0))</strong><br/>\r\n",
    "</div>\r\n"
   ],
   "metadata": {}
  },
  {
   "cell_type": "code",
   "execution_count": null,
   "source": [
    "# in __init__.py constructor soln_pds_new_iunits_reqd gets pulled in from the UnitAdoption object\r\n",
    "print(\"New implementation units required (includes replacement units)\")\r\n",
    "print(myscenario.ua.soln_pds_new_iunits_reqd().head())\r\n",
    "# Yep, here same it is the wrong number for World 2015\r\n",
    "# This dataset is generated at unitadoption Line 398\r\n",
    "\r\n",
    "# What is the Lifetime replacement year configured in the advanced controls?\r\n",
    "print(\"Lifetime replacement year configured in the advanced controls\")\r\n",
    "print(myscenario.ua.ac.soln_lifetime_replacement_rounded)\r\n",
    "\r\n",
    "#The above calculated from these:\r\n",
    "print(\"ac.soln_lifetime_capacity\")\r\n",
    "print(myscenario.ua.ac.soln_lifetime_capacity)\r\n",
    "\r\n",
    "print(\"ac.soln_avg_annual_use\")\r\n",
    "print(myscenario.ua.ac.soln_avg_annual_use)\r\n",
    "#These seem right according to Workbook Advanced Controls Cell E98 and F98"
   ],
   "outputs": [],
   "metadata": {}
  },
  {
   "cell_type": "code",
   "execution_count": null,
   "source": [
    "# Time to dig deeper into the formula in the Workbook:\r\n",
    "'''\r\n",
    "=IF(\r\n",
    "    'Advanced Controls'!$C$43 = \"Yes\",   # This is No, so ignore\r\n",
    "    MAX(\r\n",
    "        0,\r\n",
    "        AY137\r\n",
    "    ),\r\n",
    "    MAX(\r\n",
    "        0,                                # AY137 = Total Solution Implementation units Required PDS for 2015\r\n",
    "        AY137 - AY136                     # AY136 is the previous year value from above. in data, 2015 = 0.39 and 2014 = 0.05\r\n",
    "    ) +\r\n",
    "    IF(\r\n",
    "        $AF137 > AH$129,                  # AF col is some sort of year counter from 2015? so AF137 = 0 , but then int counts upwards\r\n",
    "        IF(                               # AH129 is another reference to Lifetime Replacement in years, which is 20 in the sheet\r\n",
    "            INDEX(                        # Therefore this whole if doesn't happen\r\n",
    "                C$136:C$181,\r\n",
    "                $AF137 - AH$129,\r\n",
    "                0\r\n",
    "            ) <= C136,\r\n",
    "            INDEX(\r\n",
    "                AH$137:AH$182,\r\n",
    "                $AF137 - AH$129\r\n",
    "            ),\r\n",
    "            0\r\n",
    "        ),\r\n",
    "        0                                 # This returns a 0\r\n",
    "    )                                     \r\n",
    ")                                         \r\n",
    "# Meaning this formula should, in this case, basically be:\r\n",
    "# Total Solution Implementation units Required PDS, 2015 value - 2014 value (which is why it comes out to a value like 0.34 for 2015)\r\n",
    "'''\r\n",
    "\r\n",
    "# Now time to dig into the Python Model\r\n",
    "print(\"ua.repeated_cost_for_iunits\")\r\n",
    "print(myscenario.ua.repeated_cost_for_iunits)\r\n",
    "# Should reflect the No from the sheet - this is right\r\n",
    "\r\n",
    "totalIUnitsDF = myscenario.ua.soln_pds_tot_iunits_reqd().diff().clip(lower=0).iloc[1:]  \r\n",
    "\r\n",
    "print(\"Total iunits required each year.\")\r\n",
    "print(myscenario.ua.soln_pds_tot_iunits_reqd().head())\r\n",
    "print(\"Total iunits required each year - Diff and Clipped\")\r\n",
    "print(totalIUnitsDF.head())\r\n",
    "# Here I see a number for 2015 that looks like the wrong number coming out\r\n",
    "\r\n",
    "# Diff(): Calculates the difference of a Dataframe element compared with another element in the Dataframe (default is element in previous row).\r\n",
    "# Clip(lower=0): Trim values at input threshold(s). So I think this will just make sure anything < 0 is set to 0\r\n",
    "\r\n",
    "# this Total Solution Implementation units Required PDS in the sheet (AH137)\r\n",
    "# is =C136/$AH$128\r\n",
    "# C136 = Functional Units Utilitized = Helper Tables Tab C92\r\n",
    "# AH128: Average Annual Capacity per implementation unit = 1"
   ],
   "outputs": [],
   "metadata": {}
  },
  {
   "cell_type": "markdown",
   "source": [
    "# Investigate Functional Units Utilised\r\n",
    "\r\n",
    "<div style=\"padding-top:10px\">\r\n",
    "Note: In that unitadoption.soln_pds_new_iunits_reqd(), forget about the loop code dealing with replacement years, that's for data in the future, not affected\r\n",
    "These number's we're looking at now.\r\n",
    "</div>\r\n",
    "<div style=\"padding-top:10px\">\r\n",
    "The formula for the table in the Helper Table, C92, is this beast<br/>\r\n",
    "<strong>=IFERROR(MIN(IF('Advanced Controls'!$F278=\"Y-PDS\",$C28,IF($B$81=\"Y\",SUM(D92:H92),IF($F$79=1,IF($H$79=\"Linear\",FORECAST($B92,C$85:C$86,$B$85:$B$86),IF($H$80=\"This Model\",'S-Curve Adoption'!B25,'S-Curve Adoption'!B131)),IF($H$81=\"Existing Adoption Prognostications\",'Adoption Data'!B674,IF($K$79=\"Customized S-Curve Adoption\",'S-Curve Adoption'!B323,IF($K$80=\"Fully Customized PDS\",'Custom PDS Adoption'!B26,)))))),'Unit Adoption Calculations'!B70),\"\")</strong>\r\n",
    "</div>\r\n",
    "\r\n"
   ],
   "metadata": {}
  },
  {
   "cell_type": "code",
   "execution_count": null,
   "source": [
    "print(\"ac.soln_avg_annual_use\")\r\n",
    "print(myscenario.ac.soln_avg_annual_use)\r\n",
    "\r\n",
    "# in python, ua.soln_pds_tot_iunits_reqd is basically just ua.soln_pds_funits_adopted (since avg annual use is 1)\r\n",
    "# This is passed into the Unit Adoption Constructor in in __init__py Line: 232, which is initialized from HelperTables, line 216\r\n",
    "print(\"ua.soln_pds_funits_adopted\")\r\n",
    "print(myscenario.ua.soln_pds_funits_adopted.head())\r\n",
    "\r\n",
    "print(\"HelperTables F Units Adopted\")\r\n",
    "print(myscenario.ht.soln_pds_funits_adopted().head())\r\n",
    "\r\n",
    "print(\"Advanced Controls Adoption Basis\")\r\n",
    "print(myscenario.ac.soln_pds_adoption_basis)\r\n",
    "\r\n",
    "print(\"HelperTables Adoption Data per region\")\r\n",
    "print(myscenario.ht.pds_adoption_data_per_region.head())\r\n",
    "# This data is passed into the constructor in __init__py Line: 187,\r\n",
    "\r\n",
    "print(\"Adoption Data per region, 2014 onwards\")\r\n",
    "print(myscenario.pds_ca.adoption_data_per_region().loc[2014:].head())\r\n",
    "\r\n",
    "# Without understanding too much of the data... this still looks okay, re-examining what we are loading\r\n"
   ],
   "outputs": [],
   "metadata": {}
  },
  {
   "cell_type": "markdown",
   "source": [
    "# Looking at Total Solution Implementation units Required PDS Number for 2014\r\n",
    "\r\n",
    "<div style=\"padding-top:10px\">\r\n",
    "Looking again at the worksheet, I believe I've found the issue.<br/>\r\n",
    "In the Sheet, Tab <strong>Unit Adoption Calculations</strong>, which is a table starting at AY134. This table column in AY is basically pulling from the table starting at C134, which in turn is pulling from the table in Tab <strong>Helper Tables</strong> starting at C90. <br/>\r\n",
    "While there is usually a formula for this C column, the data for 2014 in C91 is pulling from cell C85, which ultimately seems to be an sourced from an Adoption % 2018 number Set in the Tab <strong>Advanced Controls</strong> in C61.<br/>\r\n",
    "I don't see this value in the scenario <strong>ac</strong> so in this case I will just hardcode it into the __init__.py\r\n",
    "</div>"
   ],
   "metadata": {}
  },
  {
   "cell_type": "code",
   "execution_count": null,
   "source": [
    "# At this Point, amended __init__.py to set the World 2014 Custom PDS Adoption value to:\r\n",
    "# Value from Advanced Controls C61 is 0.050691647\r\n",
    "print(myscenario.ht.pds_adoption_data_per_region.head())"
   ],
   "outputs": [],
   "metadata": {}
  },
  {
   "cell_type": "markdown",
   "source": [
    "# 1 Error Fixed!\r\n",
    "Rerunning the solution and test in Sustainable_Clothing.ipynb, this has fixed the 1st [0][0] data error in First Cost. Progress!\r\n",
    "\r\n",
    "Now looking at the remainder of the Assertion errors for First Cost\r\n"
   ],
   "metadata": {}
  },
  {
   "cell_type": "code",
   "execution_count": 14,
   "source": [
    "print(myscenario.scenario)\r\n",
    "\r\n",
    "# Coming back to here: in __init__.py constructor soln_pds_new_iunits_reqd gets pulled in from the UnitAdoption object, the Test Asserts 2018 and 2019 data is wrong\r\n",
    "# This should match in the Excel Unit Adoption Calculations, Table at AH136\r\n",
    "# So the numbers at AH140 and AH141 don't match this data (2018 and 2019), for example\r\n",
    "print(\"New implementation units required (includes replacement units)\")\r\n",
    "print(myscenario.ua.soln_pds_new_iunits_reqd().head(10))\r\n",
    "\r\n",
    "print(\"Total iunits required each year.\")\r\n",
    "print(myscenario.ua.soln_pds_tot_iunits_reqd().head())\r\n",
    "\r\n",
    "# This is what's being used at line 412 of unitadoption.py to return ua.soln_pds_new_iunits_reqd()\r\n",
    "totalIUnitsDF = myscenario.ua.soln_pds_tot_iunits_reqd().diff().clip(lower=0).iloc[1:]  \r\n",
    "print(\"Total iunits required each year - Diff and Clipped\")\r\n",
    "print(totalIUnitsDF.head())\r\n",
    "\r\n",
    "# Looking at this number for 2018 - This is our Adoption in 2018 number. Looks like somewhere in code, in the Model somewhere, is probably overwriting the number\r\n",
    "# read in from the Total Solution Implementation Units Required PDS (Unit Adoption Calculations AY140) and overwriting it with this number from Advanced Calculations C61\r\n",
    "# Putting in a hardcoded fix into __init__.py with the number from the sheet, but note, this will need to be scenario specific\r\n",
    "# 2018 from file should be 0.477787\r\n",
    "print(\"ua.soln_pds_funits_adopted\")\r\n",
    "print(myscenario.ua.soln_pds_funits_adopted.head())\r\n",
    "print(myscenario.ua.soln_pds_funits_adopted.loc[2018, \"World\"])\r\n",
    "\r\n",
    "print(\"ht.soln_pds_funits_adopted\")\r\n",
    "print(myscenario.ht.soln_pds_funits_adopted)\r\n"
   ],
   "outputs": [
    {
     "output_type": "stream",
     "name": "stdout",
     "text": [
      "PDS1-8p2050-Dec2020\n",
      "New implementation units required (includes replacement units)\n",
      "         World  OECD90  Eastern Europe  Asia (Sans Japan)  Middle East and Africa  Latin America  China  India  EU  USA\n",
      "Year                                                                                                                   \n",
      "2015  0.341887     NaN             NaN                NaN                     NaN            NaN    NaN    NaN NaN  NaN\n",
      "2016  0.019363     NaN             NaN                NaN                     NaN            NaN    NaN    NaN NaN  NaN\n",
      "2017  0.032520     NaN             NaN                NaN                     NaN            NaN    NaN    NaN NaN  NaN\n",
      "2018  0.000000     NaN             NaN                NaN                     NaN            NaN    NaN    NaN NaN  NaN\n",
      "2019  0.499128     NaN             NaN                NaN                     NaN            NaN    NaN    NaN NaN  NaN\n",
      "2020  0.000000     NaN             NaN                NaN                     NaN            NaN    NaN    NaN NaN  NaN\n",
      "2021  0.076826     NaN             NaN                NaN                     NaN            NaN    NaN    NaN NaN  NaN\n",
      "2022  0.087317     NaN             NaN                NaN                     NaN            NaN    NaN    NaN NaN  NaN\n",
      "2023  0.098938     NaN             NaN                NaN                     NaN            NaN    NaN    NaN NaN  NaN\n",
      "2024  0.101753     NaN             NaN                NaN                     NaN            NaN    NaN    NaN NaN  NaN\n",
      "Total iunits required each year.\n",
      "         World  OECD90  Eastern Europe  Asia (Sans Japan)  Middle East and Africa  Latin America  China  India   EU  USA\n",
      "Year                                                                                                                    \n",
      "2014  0.050692     NaN             NaN                NaN                     NaN            NaN    NaN    NaN  NaN  NaN\n",
      "2015  0.392579     NaN             NaN                NaN                     NaN            NaN    NaN    NaN  NaN  NaN\n",
      "2016  0.411942     NaN             NaN                NaN                     NaN            NaN    NaN    NaN  NaN  NaN\n",
      "2017  0.444463     NaN             NaN                NaN                     NaN            NaN    NaN    NaN  NaN  NaN\n",
      "2018  0.050692     0.0             0.0                0.0                     0.0            0.0    0.0    0.0  0.0  0.0\n",
      "Total iunits required each year - Diff and Clipped\n",
      "         World  OECD90  Eastern Europe  Asia (Sans Japan)  Middle East and Africa  Latin America  China  India  EU  USA\n",
      "Year                                                                                                                   \n",
      "2015  0.341887     NaN             NaN                NaN                     NaN            NaN    NaN    NaN NaN  NaN\n",
      "2016  0.019363     NaN             NaN                NaN                     NaN            NaN    NaN    NaN NaN  NaN\n",
      "2017  0.032520     NaN             NaN                NaN                     NaN            NaN    NaN    NaN NaN  NaN\n",
      "2018  0.000000     NaN             NaN                NaN                     NaN            NaN    NaN    NaN NaN  NaN\n",
      "2019  0.499128     NaN             NaN                NaN                     NaN            NaN    NaN    NaN NaN  NaN\n",
      "ua.soln_pds_funits_adopted\n",
      "         World  OECD90  Eastern Europe  Asia (Sans Japan)  Middle East and Africa  Latin America  China  India   EU  USA\n",
      "Year                                                                                                                    \n",
      "2014  0.050692     NaN             NaN                NaN                     NaN            NaN    NaN    NaN  NaN  NaN\n",
      "2015  0.392579     NaN             NaN                NaN                     NaN            NaN    NaN    NaN  NaN  NaN\n",
      "2016  0.411942     NaN             NaN                NaN                     NaN            NaN    NaN    NaN  NaN  NaN\n",
      "2017  0.444463     NaN             NaN                NaN                     NaN            NaN    NaN    NaN  NaN  NaN\n",
      "2018  0.477787     0.0             0.0                0.0                     0.0            0.0    0.0    0.0  0.0  0.0\n",
      "0.477787\n",
      "ht.soln_pds_funits_adopted\n",
      "<bound method HelperTables.soln_pds_funits_adopted of <model.helpertables.HelperTables object at 0x00000258450C3EE0>>\n"
     ]
    }
   ],
   "metadata": {}
  },
  {
   "cell_type": "markdown",
   "source": [
    "\r\n",
    "# You Finished!\r\n",
    "Did you get a clean test run?  Hurrah!  You've finished this import task.  Project Drawdown thanks you!"
   ],
   "metadata": {}
  }
 ],
 "metadata": {
  "interpreter": {
   "hash": "a1c06c75df55f9518a2e4db6ce3b8ca21fb7e457d427684d07afebc061061d6a"
  },
  "kernelspec": {
   "name": "python3",
   "display_name": "Python 3.9.5 64-bit"
  },
  "language_info": {
   "codemirror_mode": {
    "name": "ipython",
    "version": 3
   },
   "file_extension": ".py",
   "mimetype": "text/x-python",
   "name": "python",
   "nbconvert_exporter": "python",
   "pygments_lexer": "ipython3",
   "version": "3.9.5"
  }
 },
 "nbformat": 4,
 "nbformat_minor": 5
}